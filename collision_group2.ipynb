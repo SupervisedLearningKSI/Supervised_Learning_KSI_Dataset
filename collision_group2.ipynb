{
 "cells": [
  {
   "cell_type": "markdown",
   "metadata": {},
   "source": [
    "## Supervised Learning (Sec. 001)\n",
    "#### Group 2</br>\n",
    "\n",
    "- Mehreen Abdul Rahman</br>\n",
    "- Bruno Cantanhede Morgado</br>\n",
    "- Ankit Mehra</br>\n",
    "- Ayesha Mohammed Azim Shaikh</br>\n",
    "- Prashant Sharma</br>"
   ]
  },
  {
   "cell_type": "code",
   "execution_count": 270,
   "metadata": {},
   "outputs": [],
   "source": [
    "# Initial imports\n",
    "import numpy as np\n",
    "import pandas as pd\n",
    "import time\n",
    "import math\n",
    "from sklearn.impute import SimpleImputer\n",
    "from sklearn.pipeline import Pipeline\n",
    "from sklearn.preprocessing import OneHotEncoder, StandardScaler\n",
    "from sklearn.compose import ColumnTransformer\n",
    "from sklearn.tree import DecisionTreeClassifier\n",
    "from sklearn.tree import export_graphviz\n",
    "from sklearn.svm import SVC\n",
    "from sklearn.linear_model import LogisticRegression\n",
    "from sklearn.model_selection import cross_val_score, cross_val_predict, GridSearchCV, RandomizedSearchCV, train_test_split\n",
    "from sklearn.metrics import confusion_matrix, classification_report, accuracy_score\n",
    "from sklearn.ensemble import RandomForestClassifier\n",
    "from sklearn.feature_selection import SelectFromModel\n",
    "import matplotlib.pyplot as plt\n",
    "%matplotlib inline\n",
    "import seaborn as sns\n",
    "import os"
   ]
  },
  {
   "cell_type": "code",
   "execution_count": 271,
   "metadata": {},
   "outputs": [],
   "source": [
    "# Helper Function to plot confusion Matrix\n",
    "def plot_confusion_matrix(confusion_matrix, y_limit: list, model:str, color_map: str):\n",
    "    #Plot the confusion Matrix\n",
    "    fig, ax = plt.subplots(figsize=(10,6))\n",
    "    title = f'Confusion matrix: {model}'\n",
    "    # create heatmap\n",
    "    sns.heatmap(confusion_matrix, annot = True, cmap = color_map ,fmt='g')\n",
    "    ax.xaxis.set_label_position(\"top\")\n",
    "    ax.set_ylim(y_limit)\n",
    "    ax.xaxis.set_ticklabels(['0','1'])\n",
    "    ax.yaxis.set_ticklabels(['0','1'])\n",
    "    plt.title(title, fontsize=20, pad=10.0)\n",
    "    plt.ylabel('Actual label', fontsize='large')\n",
    "    plt.xlabel('Predicted label', fontsize='large')\n",
    "    plt.tight_layout()"
   ]
  },
  {
   "cell_type": "code",
   "execution_count": 272,
   "metadata": {},
   "outputs": [],
   "source": [
    "# Load the KSi Dataset\n",
    "df_ksi = pd.read_csv('KSI.csv')"
   ]
  },
  {
   "cell_type": "code",
   "execution_count": 273,
   "metadata": {},
   "outputs": [],
   "source": [
    "# Display all the columns\n",
    "pd.set_option('display.max_columns', None)"
   ]
  },
  {
   "cell_type": "code",
   "execution_count": 274,
   "metadata": {},
   "outputs": [
    {
     "data": {
      "text/html": [
       "<div>\n",
       "<style scoped>\n",
       "    .dataframe tbody tr th:only-of-type {\n",
       "        vertical-align: middle;\n",
       "    }\n",
       "\n",
       "    .dataframe tbody tr th {\n",
       "        vertical-align: top;\n",
       "    }\n",
       "\n",
       "    .dataframe thead th {\n",
       "        text-align: right;\n",
       "    }\n",
       "</style>\n",
       "<table border=\"1\" class=\"dataframe\">\n",
       "  <thead>\n",
       "    <tr style=\"text-align: right;\">\n",
       "      <th></th>\n",
       "      <th>X</th>\n",
       "      <th>Y</th>\n",
       "      <th>INDEX_</th>\n",
       "      <th>ACCNUM</th>\n",
       "      <th>YEAR</th>\n",
       "      <th>DATE</th>\n",
       "      <th>TIME</th>\n",
       "      <th>HOUR</th>\n",
       "      <th>STREET1</th>\n",
       "      <th>STREET2</th>\n",
       "      <th>OFFSET</th>\n",
       "      <th>ROAD_CLASS</th>\n",
       "      <th>DISTRICT</th>\n",
       "      <th>WARDNUM</th>\n",
       "      <th>DIVISION</th>\n",
       "      <th>LATITUDE</th>\n",
       "      <th>LONGITUDE</th>\n",
       "      <th>LOCCOORD</th>\n",
       "      <th>ACCLOC</th>\n",
       "      <th>TRAFFCTL</th>\n",
       "      <th>VISIBILITY</th>\n",
       "      <th>LIGHT</th>\n",
       "      <th>RDSFCOND</th>\n",
       "      <th>ACCLASS</th>\n",
       "      <th>IMPACTYPE</th>\n",
       "      <th>INVTYPE</th>\n",
       "      <th>INVAGE</th>\n",
       "      <th>INJURY</th>\n",
       "      <th>FATAL_NO</th>\n",
       "      <th>INITDIR</th>\n",
       "      <th>VEHTYPE</th>\n",
       "      <th>MANOEUVER</th>\n",
       "      <th>DRIVACT</th>\n",
       "      <th>DRIVCOND</th>\n",
       "      <th>PEDTYPE</th>\n",
       "      <th>PEDACT</th>\n",
       "      <th>PEDCOND</th>\n",
       "      <th>CYCLISTYPE</th>\n",
       "      <th>CYCACT</th>\n",
       "      <th>CYCCOND</th>\n",
       "      <th>PEDESTRIAN</th>\n",
       "      <th>CYCLIST</th>\n",
       "      <th>AUTOMOBILE</th>\n",
       "      <th>MOTORCYCLE</th>\n",
       "      <th>TRUCK</th>\n",
       "      <th>TRSN_CITY_VEH</th>\n",
       "      <th>EMERG_VEH</th>\n",
       "      <th>PASSENGER</th>\n",
       "      <th>SPEEDING</th>\n",
       "      <th>AG_DRIV</th>\n",
       "      <th>REDLIGHT</th>\n",
       "      <th>ALCOHOL</th>\n",
       "      <th>DISABILITY</th>\n",
       "      <th>POLICE_DIVISION</th>\n",
       "      <th>HOOD_ID</th>\n",
       "      <th>NEIGHBOURHOOD</th>\n",
       "      <th>ObjectId</th>\n",
       "    </tr>\n",
       "  </thead>\n",
       "  <tbody>\n",
       "    <tr>\n",
       "      <th>0</th>\n",
       "      <td>-8.844611e+06</td>\n",
       "      <td>5.412414e+06</td>\n",
       "      <td>3387730</td>\n",
       "      <td>892658</td>\n",
       "      <td>2006</td>\n",
       "      <td>2006/03/11 05:00:00+00</td>\n",
       "      <td>852</td>\n",
       "      <td>8</td>\n",
       "      <td>BLOOR ST W</td>\n",
       "      <td>DUNDAS ST W</td>\n",
       "      <td>&lt;Null&gt;</td>\n",
       "      <td>Major Arterial</td>\n",
       "      <td>Toronto and East York</td>\n",
       "      <td>4</td>\n",
       "      <td>11</td>\n",
       "      <td>43.656345</td>\n",
       "      <td>-79.452490</td>\n",
       "      <td>Intersection</td>\n",
       "      <td>At Intersection</td>\n",
       "      <td>Traffic Signal</td>\n",
       "      <td>Clear</td>\n",
       "      <td>Daylight</td>\n",
       "      <td>Dry</td>\n",
       "      <td>Fatal</td>\n",
       "      <td>Pedestrian Collisions</td>\n",
       "      <td>Driver</td>\n",
       "      <td>unknown</td>\n",
       "      <td>None</td>\n",
       "      <td>&lt;Null&gt;</td>\n",
       "      <td>South</td>\n",
       "      <td>Automobile, Station Wagon</td>\n",
       "      <td>Turning Left</td>\n",
       "      <td>Failed to Yield Right of Way</td>\n",
       "      <td>Unknown</td>\n",
       "      <td>&lt;Null&gt;</td>\n",
       "      <td>&lt;Null&gt;</td>\n",
       "      <td>&lt;Null&gt;</td>\n",
       "      <td>&lt;Null&gt;</td>\n",
       "      <td>&lt;Null&gt;</td>\n",
       "      <td>&lt;Null&gt;</td>\n",
       "      <td>Yes</td>\n",
       "      <td>&lt;Null&gt;</td>\n",
       "      <td>Yes</td>\n",
       "      <td>&lt;Null&gt;</td>\n",
       "      <td>&lt;Null&gt;</td>\n",
       "      <td>&lt;Null&gt;</td>\n",
       "      <td>&lt;Null&gt;</td>\n",
       "      <td>&lt;Null&gt;</td>\n",
       "      <td>&lt;Null&gt;</td>\n",
       "      <td>Yes</td>\n",
       "      <td>&lt;Null&gt;</td>\n",
       "      <td>&lt;Null&gt;</td>\n",
       "      <td>&lt;Null&gt;</td>\n",
       "      <td>D11</td>\n",
       "      <td>88</td>\n",
       "      <td>High Park North (88)</td>\n",
       "      <td>1</td>\n",
       "    </tr>\n",
       "    <tr>\n",
       "      <th>1</th>\n",
       "      <td>-8.844611e+06</td>\n",
       "      <td>5.412414e+06</td>\n",
       "      <td>3387731</td>\n",
       "      <td>892658</td>\n",
       "      <td>2006</td>\n",
       "      <td>2006/03/11 05:00:00+00</td>\n",
       "      <td>852</td>\n",
       "      <td>8</td>\n",
       "      <td>BLOOR ST W</td>\n",
       "      <td>DUNDAS ST W</td>\n",
       "      <td>&lt;Null&gt;</td>\n",
       "      <td>Major Arterial</td>\n",
       "      <td>Toronto and East York</td>\n",
       "      <td>4</td>\n",
       "      <td>11</td>\n",
       "      <td>43.656345</td>\n",
       "      <td>-79.452490</td>\n",
       "      <td>Intersection</td>\n",
       "      <td>At Intersection</td>\n",
       "      <td>Traffic Signal</td>\n",
       "      <td>Clear</td>\n",
       "      <td>Daylight</td>\n",
       "      <td>Dry</td>\n",
       "      <td>Fatal</td>\n",
       "      <td>Pedestrian Collisions</td>\n",
       "      <td>Pedestrian</td>\n",
       "      <td>65 to 69</td>\n",
       "      <td>Fatal</td>\n",
       "      <td>&lt;Null&gt;</td>\n",
       "      <td>North</td>\n",
       "      <td>Other</td>\n",
       "      <td>&lt;Null&gt;</td>\n",
       "      <td>&lt;Null&gt;</td>\n",
       "      <td>&lt;Null&gt;</td>\n",
       "      <td>Vehicle turns left while ped crosses with ROW ...</td>\n",
       "      <td>Crossing with right of way</td>\n",
       "      <td>Unknown</td>\n",
       "      <td>&lt;Null&gt;</td>\n",
       "      <td>&lt;Null&gt;</td>\n",
       "      <td>&lt;Null&gt;</td>\n",
       "      <td>Yes</td>\n",
       "      <td>&lt;Null&gt;</td>\n",
       "      <td>Yes</td>\n",
       "      <td>&lt;Null&gt;</td>\n",
       "      <td>&lt;Null&gt;</td>\n",
       "      <td>&lt;Null&gt;</td>\n",
       "      <td>&lt;Null&gt;</td>\n",
       "      <td>&lt;Null&gt;</td>\n",
       "      <td>&lt;Null&gt;</td>\n",
       "      <td>Yes</td>\n",
       "      <td>&lt;Null&gt;</td>\n",
       "      <td>&lt;Null&gt;</td>\n",
       "      <td>&lt;Null&gt;</td>\n",
       "      <td>D11</td>\n",
       "      <td>88</td>\n",
       "      <td>High Park North (88)</td>\n",
       "      <td>2</td>\n",
       "    </tr>\n",
       "    <tr>\n",
       "      <th>2</th>\n",
       "      <td>-8.816480e+06</td>\n",
       "      <td>5.434843e+06</td>\n",
       "      <td>3388101</td>\n",
       "      <td>892810</td>\n",
       "      <td>2006</td>\n",
       "      <td>2006/03/11 05:00:00+00</td>\n",
       "      <td>915</td>\n",
       "      <td>9</td>\n",
       "      <td>MORNINGSIDE AVE</td>\n",
       "      <td>SHEPPARD AVE E</td>\n",
       "      <td>&lt;Null&gt;</td>\n",
       "      <td>Major Arterial</td>\n",
       "      <td>Scarborough</td>\n",
       "      <td>25</td>\n",
       "      <td>42</td>\n",
       "      <td>43.801943</td>\n",
       "      <td>-79.199786</td>\n",
       "      <td>Intersection</td>\n",
       "      <td>At Intersection</td>\n",
       "      <td>Traffic Signal</td>\n",
       "      <td>Clear</td>\n",
       "      <td>Daylight</td>\n",
       "      <td>Dry</td>\n",
       "      <td>Fatal</td>\n",
       "      <td>Turning Movement</td>\n",
       "      <td>Motorcycle Driver</td>\n",
       "      <td>45 to 49</td>\n",
       "      <td>Fatal</td>\n",
       "      <td>&lt;Null&gt;</td>\n",
       "      <td>East</td>\n",
       "      <td>Motorcycle</td>\n",
       "      <td>Turning Right</td>\n",
       "      <td>Disobeyed Traffic Control</td>\n",
       "      <td>Unknown</td>\n",
       "      <td>&lt;Null&gt;</td>\n",
       "      <td>&lt;Null&gt;</td>\n",
       "      <td>&lt;Null&gt;</td>\n",
       "      <td>&lt;Null&gt;</td>\n",
       "      <td>&lt;Null&gt;</td>\n",
       "      <td>&lt;Null&gt;</td>\n",
       "      <td>&lt;Null&gt;</td>\n",
       "      <td>&lt;Null&gt;</td>\n",
       "      <td>Yes</td>\n",
       "      <td>Yes</td>\n",
       "      <td>&lt;Null&gt;</td>\n",
       "      <td>&lt;Null&gt;</td>\n",
       "      <td>&lt;Null&gt;</td>\n",
       "      <td>&lt;Null&gt;</td>\n",
       "      <td>&lt;Null&gt;</td>\n",
       "      <td>Yes</td>\n",
       "      <td>Yes</td>\n",
       "      <td>&lt;Null&gt;</td>\n",
       "      <td>&lt;Null&gt;</td>\n",
       "      <td>D42</td>\n",
       "      <td>131</td>\n",
       "      <td>Rouge (131)</td>\n",
       "      <td>3</td>\n",
       "    </tr>\n",
       "    <tr>\n",
       "      <th>3</th>\n",
       "      <td>-8.816480e+06</td>\n",
       "      <td>5.434843e+06</td>\n",
       "      <td>3388102</td>\n",
       "      <td>892810</td>\n",
       "      <td>2006</td>\n",
       "      <td>2006/03/11 05:00:00+00</td>\n",
       "      <td>915</td>\n",
       "      <td>9</td>\n",
       "      <td>MORNINGSIDE AVE</td>\n",
       "      <td>SHEPPARD AVE E</td>\n",
       "      <td>&lt;Null&gt;</td>\n",
       "      <td>Major Arterial</td>\n",
       "      <td>Scarborough</td>\n",
       "      <td>25</td>\n",
       "      <td>42</td>\n",
       "      <td>43.801943</td>\n",
       "      <td>-79.199786</td>\n",
       "      <td>Intersection</td>\n",
       "      <td>At Intersection</td>\n",
       "      <td>Traffic Signal</td>\n",
       "      <td>Clear</td>\n",
       "      <td>Daylight</td>\n",
       "      <td>Dry</td>\n",
       "      <td>Fatal</td>\n",
       "      <td>Turning Movement</td>\n",
       "      <td>Driver</td>\n",
       "      <td>unknown</td>\n",
       "      <td>None</td>\n",
       "      <td>&lt;Null&gt;</td>\n",
       "      <td>South</td>\n",
       "      <td>Automobile, Station Wagon</td>\n",
       "      <td>Going Ahead</td>\n",
       "      <td>Driving Properly</td>\n",
       "      <td>Unknown</td>\n",
       "      <td>&lt;Null&gt;</td>\n",
       "      <td>&lt;Null&gt;</td>\n",
       "      <td>&lt;Null&gt;</td>\n",
       "      <td>&lt;Null&gt;</td>\n",
       "      <td>&lt;Null&gt;</td>\n",
       "      <td>&lt;Null&gt;</td>\n",
       "      <td>&lt;Null&gt;</td>\n",
       "      <td>&lt;Null&gt;</td>\n",
       "      <td>Yes</td>\n",
       "      <td>Yes</td>\n",
       "      <td>&lt;Null&gt;</td>\n",
       "      <td>&lt;Null&gt;</td>\n",
       "      <td>&lt;Null&gt;</td>\n",
       "      <td>&lt;Null&gt;</td>\n",
       "      <td>&lt;Null&gt;</td>\n",
       "      <td>Yes</td>\n",
       "      <td>Yes</td>\n",
       "      <td>&lt;Null&gt;</td>\n",
       "      <td>&lt;Null&gt;</td>\n",
       "      <td>D42</td>\n",
       "      <td>131</td>\n",
       "      <td>Rouge (131)</td>\n",
       "      <td>4</td>\n",
       "    </tr>\n",
       "    <tr>\n",
       "      <th>4</th>\n",
       "      <td>-8.822759e+06</td>\n",
       "      <td>5.424516e+06</td>\n",
       "      <td>3387793</td>\n",
       "      <td>892682</td>\n",
       "      <td>2006</td>\n",
       "      <td>2006/03/12 05:00:00+00</td>\n",
       "      <td>240</td>\n",
       "      <td>2</td>\n",
       "      <td>EGLINTON AVE E</td>\n",
       "      <td>COMMONWEALTH AVE</td>\n",
       "      <td>&lt;Null&gt;</td>\n",
       "      <td>Major Arterial</td>\n",
       "      <td>Scarborough</td>\n",
       "      <td>21,20</td>\n",
       "      <td>41</td>\n",
       "      <td>43.734945</td>\n",
       "      <td>-79.256190</td>\n",
       "      <td>Mid-Block</td>\n",
       "      <td>&lt;Null&gt;</td>\n",
       "      <td>No Control</td>\n",
       "      <td>Clear</td>\n",
       "      <td>Dark</td>\n",
       "      <td>Dry</td>\n",
       "      <td>Fatal</td>\n",
       "      <td>Pedestrian Collisions</td>\n",
       "      <td>Driver</td>\n",
       "      <td>25 to 29</td>\n",
       "      <td>None</td>\n",
       "      <td>&lt;Null&gt;</td>\n",
       "      <td>West</td>\n",
       "      <td>Automobile, Station Wagon</td>\n",
       "      <td>Going Ahead</td>\n",
       "      <td>Other</td>\n",
       "      <td>Ability Impaired, Alcohol</td>\n",
       "      <td>&lt;Null&gt;</td>\n",
       "      <td>&lt;Null&gt;</td>\n",
       "      <td>&lt;Null&gt;</td>\n",
       "      <td>&lt;Null&gt;</td>\n",
       "      <td>&lt;Null&gt;</td>\n",
       "      <td>&lt;Null&gt;</td>\n",
       "      <td>Yes</td>\n",
       "      <td>&lt;Null&gt;</td>\n",
       "      <td>Yes</td>\n",
       "      <td>&lt;Null&gt;</td>\n",
       "      <td>&lt;Null&gt;</td>\n",
       "      <td>&lt;Null&gt;</td>\n",
       "      <td>&lt;Null&gt;</td>\n",
       "      <td>&lt;Null&gt;</td>\n",
       "      <td>&lt;Null&gt;</td>\n",
       "      <td>&lt;Null&gt;</td>\n",
       "      <td>&lt;Null&gt;</td>\n",
       "      <td>Yes</td>\n",
       "      <td>&lt;Null&gt;</td>\n",
       "      <td>D41</td>\n",
       "      <td>138</td>\n",
       "      <td>Eglinton East (138)</td>\n",
       "      <td>5</td>\n",
       "    </tr>\n",
       "  </tbody>\n",
       "</table>\n",
       "</div>"
      ],
      "text/plain": [
       "              X             Y   INDEX_  ACCNUM  YEAR                    DATE  \\\n",
       "0 -8.844611e+06  5.412414e+06  3387730  892658  2006  2006/03/11 05:00:00+00   \n",
       "1 -8.844611e+06  5.412414e+06  3387731  892658  2006  2006/03/11 05:00:00+00   \n",
       "2 -8.816480e+06  5.434843e+06  3388101  892810  2006  2006/03/11 05:00:00+00   \n",
       "3 -8.816480e+06  5.434843e+06  3388102  892810  2006  2006/03/11 05:00:00+00   \n",
       "4 -8.822759e+06  5.424516e+06  3387793  892682  2006  2006/03/12 05:00:00+00   \n",
       "\n",
       "   TIME  HOUR          STREET1           STREET2  OFFSET      ROAD_CLASS  \\\n",
       "0   852     8       BLOOR ST W       DUNDAS ST W  <Null>  Major Arterial   \n",
       "1   852     8       BLOOR ST W       DUNDAS ST W  <Null>  Major Arterial   \n",
       "2   915     9  MORNINGSIDE AVE    SHEPPARD AVE E  <Null>  Major Arterial   \n",
       "3   915     9  MORNINGSIDE AVE    SHEPPARD AVE E  <Null>  Major Arterial   \n",
       "4   240     2   EGLINTON AVE E  COMMONWEALTH AVE  <Null>  Major Arterial   \n",
       "\n",
       "                DISTRICT WARDNUM DIVISION   LATITUDE  LONGITUDE      LOCCOORD  \\\n",
       "0  Toronto and East York       4       11  43.656345 -79.452490  Intersection   \n",
       "1  Toronto and East York       4       11  43.656345 -79.452490  Intersection   \n",
       "2            Scarborough      25       42  43.801943 -79.199786  Intersection   \n",
       "3            Scarborough      25       42  43.801943 -79.199786  Intersection   \n",
       "4            Scarborough   21,20       41  43.734945 -79.256190     Mid-Block   \n",
       "\n",
       "            ACCLOC        TRAFFCTL VISIBILITY     LIGHT RDSFCOND ACCLASS  \\\n",
       "0  At Intersection  Traffic Signal      Clear  Daylight      Dry   Fatal   \n",
       "1  At Intersection  Traffic Signal      Clear  Daylight      Dry   Fatal   \n",
       "2  At Intersection  Traffic Signal      Clear  Daylight      Dry   Fatal   \n",
       "3  At Intersection  Traffic Signal      Clear  Daylight      Dry   Fatal   \n",
       "4           <Null>      No Control      Clear      Dark      Dry   Fatal   \n",
       "\n",
       "               IMPACTYPE            INVTYPE    INVAGE INJURY FATAL_NO INITDIR  \\\n",
       "0  Pedestrian Collisions             Driver   unknown   None   <Null>   South   \n",
       "1  Pedestrian Collisions         Pedestrian  65 to 69  Fatal   <Null>   North   \n",
       "2       Turning Movement  Motorcycle Driver  45 to 49  Fatal   <Null>    East   \n",
       "3       Turning Movement             Driver   unknown   None   <Null>   South   \n",
       "4  Pedestrian Collisions             Driver  25 to 29   None   <Null>    West   \n",
       "\n",
       "                     VEHTYPE      MANOEUVER                       DRIVACT  \\\n",
       "0  Automobile, Station Wagon   Turning Left  Failed to Yield Right of Way   \n",
       "1                      Other         <Null>                        <Null>   \n",
       "2                 Motorcycle  Turning Right     Disobeyed Traffic Control   \n",
       "3  Automobile, Station Wagon    Going Ahead              Driving Properly   \n",
       "4  Automobile, Station Wagon    Going Ahead                         Other   \n",
       "\n",
       "                    DRIVCOND  \\\n",
       "0                    Unknown   \n",
       "1                     <Null>   \n",
       "2                    Unknown   \n",
       "3                    Unknown   \n",
       "4  Ability Impaired, Alcohol   \n",
       "\n",
       "                                             PEDTYPE  \\\n",
       "0                                             <Null>   \n",
       "1  Vehicle turns left while ped crosses with ROW ...   \n",
       "2                                             <Null>   \n",
       "3                                             <Null>   \n",
       "4                                             <Null>   \n",
       "\n",
       "                       PEDACT  PEDCOND CYCLISTYPE  CYCACT CYCCOND PEDESTRIAN  \\\n",
       "0                      <Null>   <Null>     <Null>  <Null>  <Null>        Yes   \n",
       "1  Crossing with right of way  Unknown     <Null>  <Null>  <Null>        Yes   \n",
       "2                      <Null>   <Null>     <Null>  <Null>  <Null>     <Null>   \n",
       "3                      <Null>   <Null>     <Null>  <Null>  <Null>     <Null>   \n",
       "4                      <Null>   <Null>     <Null>  <Null>  <Null>        Yes   \n",
       "\n",
       "  CYCLIST AUTOMOBILE MOTORCYCLE   TRUCK TRSN_CITY_VEH EMERG_VEH PASSENGER  \\\n",
       "0  <Null>        Yes     <Null>  <Null>        <Null>    <Null>    <Null>   \n",
       "1  <Null>        Yes     <Null>  <Null>        <Null>    <Null>    <Null>   \n",
       "2  <Null>        Yes        Yes  <Null>        <Null>    <Null>    <Null>   \n",
       "3  <Null>        Yes        Yes  <Null>        <Null>    <Null>    <Null>   \n",
       "4  <Null>        Yes     <Null>  <Null>        <Null>    <Null>    <Null>   \n",
       "\n",
       "  SPEEDING AG_DRIV REDLIGHT ALCOHOL DISABILITY POLICE_DIVISION  HOOD_ID  \\\n",
       "0   <Null>     Yes   <Null>  <Null>     <Null>             D11       88   \n",
       "1   <Null>     Yes   <Null>  <Null>     <Null>             D11       88   \n",
       "2   <Null>     Yes      Yes  <Null>     <Null>             D42      131   \n",
       "3   <Null>     Yes      Yes  <Null>     <Null>             D42      131   \n",
       "4   <Null>  <Null>   <Null>     Yes     <Null>             D41      138   \n",
       "\n",
       "          NEIGHBOURHOOD  ObjectId  \n",
       "0  High Park North (88)         1  \n",
       "1  High Park North (88)         2  \n",
       "2           Rouge (131)         3  \n",
       "3           Rouge (131)         4  \n",
       "4   Eglinton East (138)         5  "
      ]
     },
     "execution_count": 274,
     "metadata": {},
     "output_type": "execute_result"
    }
   ],
   "source": [
    "# Inspect the initial five rows of the dataset\n",
    "df_ksi.head()"
   ]
  },
  {
   "cell_type": "code",
   "execution_count": 275,
   "metadata": {},
   "outputs": [
    {
     "data": {
      "text/html": [
       "<div>\n",
       "<style scoped>\n",
       "    .dataframe tbody tr th:only-of-type {\n",
       "        vertical-align: middle;\n",
       "    }\n",
       "\n",
       "    .dataframe tbody tr th {\n",
       "        vertical-align: top;\n",
       "    }\n",
       "\n",
       "    .dataframe thead th {\n",
       "        text-align: right;\n",
       "    }\n",
       "</style>\n",
       "<table border=\"1\" class=\"dataframe\">\n",
       "  <thead>\n",
       "    <tr style=\"text-align: right;\">\n",
       "      <th></th>\n",
       "      <th>X</th>\n",
       "      <th>Y</th>\n",
       "      <th>INDEX_</th>\n",
       "      <th>ACCNUM</th>\n",
       "      <th>YEAR</th>\n",
       "      <th>DATE</th>\n",
       "      <th>TIME</th>\n",
       "      <th>HOUR</th>\n",
       "      <th>STREET1</th>\n",
       "      <th>STREET2</th>\n",
       "      <th>OFFSET</th>\n",
       "      <th>ROAD_CLASS</th>\n",
       "      <th>DISTRICT</th>\n",
       "      <th>WARDNUM</th>\n",
       "      <th>DIVISION</th>\n",
       "      <th>LATITUDE</th>\n",
       "      <th>LONGITUDE</th>\n",
       "      <th>LOCCOORD</th>\n",
       "      <th>ACCLOC</th>\n",
       "      <th>TRAFFCTL</th>\n",
       "      <th>VISIBILITY</th>\n",
       "      <th>LIGHT</th>\n",
       "      <th>RDSFCOND</th>\n",
       "      <th>ACCLASS</th>\n",
       "      <th>IMPACTYPE</th>\n",
       "      <th>INVTYPE</th>\n",
       "      <th>INVAGE</th>\n",
       "      <th>INJURY</th>\n",
       "      <th>FATAL_NO</th>\n",
       "      <th>INITDIR</th>\n",
       "      <th>VEHTYPE</th>\n",
       "      <th>MANOEUVER</th>\n",
       "      <th>DRIVACT</th>\n",
       "      <th>DRIVCOND</th>\n",
       "      <th>PEDTYPE</th>\n",
       "      <th>PEDACT</th>\n",
       "      <th>PEDCOND</th>\n",
       "      <th>CYCLISTYPE</th>\n",
       "      <th>CYCACT</th>\n",
       "      <th>CYCCOND</th>\n",
       "      <th>PEDESTRIAN</th>\n",
       "      <th>CYCLIST</th>\n",
       "      <th>AUTOMOBILE</th>\n",
       "      <th>MOTORCYCLE</th>\n",
       "      <th>TRUCK</th>\n",
       "      <th>TRSN_CITY_VEH</th>\n",
       "      <th>EMERG_VEH</th>\n",
       "      <th>PASSENGER</th>\n",
       "      <th>SPEEDING</th>\n",
       "      <th>AG_DRIV</th>\n",
       "      <th>REDLIGHT</th>\n",
       "      <th>ALCOHOL</th>\n",
       "      <th>DISABILITY</th>\n",
       "      <th>POLICE_DIVISION</th>\n",
       "      <th>HOOD_ID</th>\n",
       "      <th>NEIGHBOURHOOD</th>\n",
       "      <th>ObjectId</th>\n",
       "    </tr>\n",
       "  </thead>\n",
       "  <tbody>\n",
       "    <tr>\n",
       "      <th>16855</th>\n",
       "      <td>-8.820837e+06</td>\n",
       "      <td>5.421411e+06</td>\n",
       "      <td>81509784</td>\n",
       "      <td>1636966</td>\n",
       "      <td>2020</td>\n",
       "      <td>2020/08/30 04:00:00+00</td>\n",
       "      <td>1340</td>\n",
       "      <td>13</td>\n",
       "      <td>BRIMLEY RD</td>\n",
       "      <td>BARKDENE HILLS</td>\n",
       "      <td>50 m South of</td>\n",
       "      <td>&lt;Null&gt;</td>\n",
       "      <td>&lt;Null&gt;</td>\n",
       "      <td>&lt;Null&gt;</td>\n",
       "      <td>&lt;Null&gt;</td>\n",
       "      <td>43.714793</td>\n",
       "      <td>-79.238926</td>\n",
       "      <td>Mid-Block</td>\n",
       "      <td>Non Intersection</td>\n",
       "      <td>No Control</td>\n",
       "      <td>Clear</td>\n",
       "      <td>Daylight</td>\n",
       "      <td>Dry</td>\n",
       "      <td>Non-Fatal Injury</td>\n",
       "      <td>Cyclist Collisions</td>\n",
       "      <td>Cyclist</td>\n",
       "      <td>25 to 29</td>\n",
       "      <td>Major</td>\n",
       "      <td>&lt;Null&gt;</td>\n",
       "      <td>North</td>\n",
       "      <td>Bicycle</td>\n",
       "      <td>Going Ahead</td>\n",
       "      <td>&lt;Null&gt;</td>\n",
       "      <td>&lt;Null&gt;</td>\n",
       "      <td>&lt;Null&gt;</td>\n",
       "      <td>&lt;Null&gt;</td>\n",
       "      <td>&lt;Null&gt;</td>\n",
       "      <td>&lt;Null&gt;</td>\n",
       "      <td>Driving Properly</td>\n",
       "      <td>Normal</td>\n",
       "      <td>&lt;Null&gt;</td>\n",
       "      <td>Yes</td>\n",
       "      <td>Yes</td>\n",
       "      <td>&lt;Null&gt;</td>\n",
       "      <td>&lt;Null&gt;</td>\n",
       "      <td>&lt;Null&gt;</td>\n",
       "      <td>&lt;Null&gt;</td>\n",
       "      <td>&lt;Null&gt;</td>\n",
       "      <td>&lt;Null&gt;</td>\n",
       "      <td>Yes</td>\n",
       "      <td>&lt;Null&gt;</td>\n",
       "      <td>&lt;Null&gt;</td>\n",
       "      <td>&lt;Null&gt;</td>\n",
       "      <td>D41</td>\n",
       "      <td>123</td>\n",
       "      <td>Cliffcrest (123)</td>\n",
       "      <td>16856</td>\n",
       "    </tr>\n",
       "    <tr>\n",
       "      <th>16856</th>\n",
       "      <td>-8.820068e+06</td>\n",
       "      <td>5.425334e+06</td>\n",
       "      <td>81505452</td>\n",
       "      <td>1650701</td>\n",
       "      <td>2020</td>\n",
       "      <td>2020/09/01 04:00:00+00</td>\n",
       "      <td>1205</td>\n",
       "      <td>12</td>\n",
       "      <td>EGLINTON AVE E</td>\n",
       "      <td>BELLAMY RD N</td>\n",
       "      <td>&lt;Null&gt;</td>\n",
       "      <td>Major Arterial</td>\n",
       "      <td>Scarborough</td>\n",
       "      <td>21,20</td>\n",
       "      <td>43</td>\n",
       "      <td>43.740256</td>\n",
       "      <td>-79.232021</td>\n",
       "      <td>Intersection</td>\n",
       "      <td>At Intersection</td>\n",
       "      <td>Traffic Signal</td>\n",
       "      <td>Clear</td>\n",
       "      <td>Daylight</td>\n",
       "      <td>Dry</td>\n",
       "      <td>Non-Fatal Injury</td>\n",
       "      <td>Turning Movement</td>\n",
       "      <td>Driver</td>\n",
       "      <td>65 to 69</td>\n",
       "      <td>None</td>\n",
       "      <td>&lt;Null&gt;</td>\n",
       "      <td>East</td>\n",
       "      <td>Automobile, Station Wagon</td>\n",
       "      <td>Turning Left</td>\n",
       "      <td>Failed to Yield Right of Way</td>\n",
       "      <td>Inattentive</td>\n",
       "      <td>&lt;Null&gt;</td>\n",
       "      <td>&lt;Null&gt;</td>\n",
       "      <td>&lt;Null&gt;</td>\n",
       "      <td>&lt;Null&gt;</td>\n",
       "      <td>&lt;Null&gt;</td>\n",
       "      <td>&lt;Null&gt;</td>\n",
       "      <td>&lt;Null&gt;</td>\n",
       "      <td>&lt;Null&gt;</td>\n",
       "      <td>Yes</td>\n",
       "      <td>&lt;Null&gt;</td>\n",
       "      <td>&lt;Null&gt;</td>\n",
       "      <td>&lt;Null&gt;</td>\n",
       "      <td>&lt;Null&gt;</td>\n",
       "      <td>Yes</td>\n",
       "      <td>&lt;Null&gt;</td>\n",
       "      <td>Yes</td>\n",
       "      <td>&lt;Null&gt;</td>\n",
       "      <td>&lt;Null&gt;</td>\n",
       "      <td>&lt;Null&gt;</td>\n",
       "      <td>D43</td>\n",
       "      <td>138</td>\n",
       "      <td>Eglinton East (138)</td>\n",
       "      <td>16857</td>\n",
       "    </tr>\n",
       "    <tr>\n",
       "      <th>16857</th>\n",
       "      <td>-8.820068e+06</td>\n",
       "      <td>5.425334e+06</td>\n",
       "      <td>81505453</td>\n",
       "      <td>1650701</td>\n",
       "      <td>2020</td>\n",
       "      <td>2020/09/01 04:00:00+00</td>\n",
       "      <td>1205</td>\n",
       "      <td>12</td>\n",
       "      <td>EGLINTON AVE E</td>\n",
       "      <td>BELLAMY RD N</td>\n",
       "      <td>&lt;Null&gt;</td>\n",
       "      <td>Major Arterial</td>\n",
       "      <td>Scarborough</td>\n",
       "      <td>21,20</td>\n",
       "      <td>43</td>\n",
       "      <td>43.740256</td>\n",
       "      <td>-79.232021</td>\n",
       "      <td>Intersection</td>\n",
       "      <td>At Intersection</td>\n",
       "      <td>Traffic Signal</td>\n",
       "      <td>Clear</td>\n",
       "      <td>Daylight</td>\n",
       "      <td>Dry</td>\n",
       "      <td>Non-Fatal Injury</td>\n",
       "      <td>Turning Movement</td>\n",
       "      <td>Driver</td>\n",
       "      <td>30 to 34</td>\n",
       "      <td>Minor</td>\n",
       "      <td>&lt;Null&gt;</td>\n",
       "      <td>West</td>\n",
       "      <td>Automobile, Station Wagon</td>\n",
       "      <td>Going Ahead</td>\n",
       "      <td>Driving Properly</td>\n",
       "      <td>Normal</td>\n",
       "      <td>&lt;Null&gt;</td>\n",
       "      <td>&lt;Null&gt;</td>\n",
       "      <td>&lt;Null&gt;</td>\n",
       "      <td>&lt;Null&gt;</td>\n",
       "      <td>&lt;Null&gt;</td>\n",
       "      <td>&lt;Null&gt;</td>\n",
       "      <td>&lt;Null&gt;</td>\n",
       "      <td>&lt;Null&gt;</td>\n",
       "      <td>Yes</td>\n",
       "      <td>&lt;Null&gt;</td>\n",
       "      <td>&lt;Null&gt;</td>\n",
       "      <td>&lt;Null&gt;</td>\n",
       "      <td>&lt;Null&gt;</td>\n",
       "      <td>Yes</td>\n",
       "      <td>&lt;Null&gt;</td>\n",
       "      <td>Yes</td>\n",
       "      <td>&lt;Null&gt;</td>\n",
       "      <td>&lt;Null&gt;</td>\n",
       "      <td>&lt;Null&gt;</td>\n",
       "      <td>D43</td>\n",
       "      <td>138</td>\n",
       "      <td>Eglinton East (138)</td>\n",
       "      <td>16858</td>\n",
       "    </tr>\n",
       "    <tr>\n",
       "      <th>16858</th>\n",
       "      <td>-8.820068e+06</td>\n",
       "      <td>5.425334e+06</td>\n",
       "      <td>81505454</td>\n",
       "      <td>1650701</td>\n",
       "      <td>2020</td>\n",
       "      <td>2020/09/01 04:00:00+00</td>\n",
       "      <td>1205</td>\n",
       "      <td>12</td>\n",
       "      <td>EGLINTON AVE E</td>\n",
       "      <td>BELLAMY RD N</td>\n",
       "      <td>&lt;Null&gt;</td>\n",
       "      <td>Major Arterial</td>\n",
       "      <td>Scarborough</td>\n",
       "      <td>21,20</td>\n",
       "      <td>43</td>\n",
       "      <td>43.740256</td>\n",
       "      <td>-79.232021</td>\n",
       "      <td>Intersection</td>\n",
       "      <td>At Intersection</td>\n",
       "      <td>Traffic Signal</td>\n",
       "      <td>Clear</td>\n",
       "      <td>Daylight</td>\n",
       "      <td>Dry</td>\n",
       "      <td>Non-Fatal Injury</td>\n",
       "      <td>Turning Movement</td>\n",
       "      <td>Passenger</td>\n",
       "      <td>10 to 14</td>\n",
       "      <td>Major</td>\n",
       "      <td>&lt;Null&gt;</td>\n",
       "      <td>&lt;Null&gt;</td>\n",
       "      <td>&lt;Null&gt;</td>\n",
       "      <td>&lt;Null&gt;</td>\n",
       "      <td>&lt;Null&gt;</td>\n",
       "      <td>&lt;Null&gt;</td>\n",
       "      <td>&lt;Null&gt;</td>\n",
       "      <td>&lt;Null&gt;</td>\n",
       "      <td>&lt;Null&gt;</td>\n",
       "      <td>&lt;Null&gt;</td>\n",
       "      <td>&lt;Null&gt;</td>\n",
       "      <td>&lt;Null&gt;</td>\n",
       "      <td>&lt;Null&gt;</td>\n",
       "      <td>&lt;Null&gt;</td>\n",
       "      <td>Yes</td>\n",
       "      <td>&lt;Null&gt;</td>\n",
       "      <td>&lt;Null&gt;</td>\n",
       "      <td>&lt;Null&gt;</td>\n",
       "      <td>&lt;Null&gt;</td>\n",
       "      <td>Yes</td>\n",
       "      <td>&lt;Null&gt;</td>\n",
       "      <td>Yes</td>\n",
       "      <td>&lt;Null&gt;</td>\n",
       "      <td>&lt;Null&gt;</td>\n",
       "      <td>&lt;Null&gt;</td>\n",
       "      <td>D43</td>\n",
       "      <td>138</td>\n",
       "      <td>Eglinton East (138)</td>\n",
       "      <td>16859</td>\n",
       "    </tr>\n",
       "    <tr>\n",
       "      <th>16859</th>\n",
       "      <td>-8.842562e+06</td>\n",
       "      <td>5.412998e+06</td>\n",
       "      <td>81509748</td>\n",
       "      <td>1650875</td>\n",
       "      <td>2020</td>\n",
       "      <td>2020/09/01 04:00:00+00</td>\n",
       "      <td>1238</td>\n",
       "      <td>12</td>\n",
       "      <td>BLOOR ST W</td>\n",
       "      <td>GLADSTONE AVE</td>\n",
       "      <td>9 m South of</td>\n",
       "      <td>&lt;Null&gt;</td>\n",
       "      <td>&lt;Null&gt;</td>\n",
       "      <td>&lt;Null&gt;</td>\n",
       "      <td>&lt;Null&gt;</td>\n",
       "      <td>43.660144</td>\n",
       "      <td>-79.434086</td>\n",
       "      <td>Mid-Block</td>\n",
       "      <td>Non Intersection</td>\n",
       "      <td>No Control</td>\n",
       "      <td>Clear</td>\n",
       "      <td>Daylight</td>\n",
       "      <td>Dry</td>\n",
       "      <td>Non-Fatal Injury</td>\n",
       "      <td>Cyclist Collisions</td>\n",
       "      <td>Driver</td>\n",
       "      <td>50 to 54</td>\n",
       "      <td>None</td>\n",
       "      <td>&lt;Null&gt;</td>\n",
       "      <td>East</td>\n",
       "      <td>Automobile, Station Wagon</td>\n",
       "      <td>Slowing or Stopping</td>\n",
       "      <td>Improper Lane Change</td>\n",
       "      <td>Normal</td>\n",
       "      <td>&lt;Null&gt;</td>\n",
       "      <td>&lt;Null&gt;</td>\n",
       "      <td>&lt;Null&gt;</td>\n",
       "      <td>&lt;Null&gt;</td>\n",
       "      <td>&lt;Null&gt;</td>\n",
       "      <td>&lt;Null&gt;</td>\n",
       "      <td>&lt;Null&gt;</td>\n",
       "      <td>Yes</td>\n",
       "      <td>Yes</td>\n",
       "      <td>&lt;Null&gt;</td>\n",
       "      <td>&lt;Null&gt;</td>\n",
       "      <td>&lt;Null&gt;</td>\n",
       "      <td>&lt;Null&gt;</td>\n",
       "      <td>&lt;Null&gt;</td>\n",
       "      <td>&lt;Null&gt;</td>\n",
       "      <td>&lt;Null&gt;</td>\n",
       "      <td>&lt;Null&gt;</td>\n",
       "      <td>&lt;Null&gt;</td>\n",
       "      <td>&lt;Null&gt;</td>\n",
       "      <td>D14</td>\n",
       "      <td>93</td>\n",
       "      <td>Dovercourt-Wallace Emerson-Junction (93)</td>\n",
       "      <td>16860</td>\n",
       "    </tr>\n",
       "  </tbody>\n",
       "</table>\n",
       "</div>"
      ],
      "text/plain": [
       "                  X             Y    INDEX_   ACCNUM  YEAR  \\\n",
       "16855 -8.820837e+06  5.421411e+06  81509784  1636966  2020   \n",
       "16856 -8.820068e+06  5.425334e+06  81505452  1650701  2020   \n",
       "16857 -8.820068e+06  5.425334e+06  81505453  1650701  2020   \n",
       "16858 -8.820068e+06  5.425334e+06  81505454  1650701  2020   \n",
       "16859 -8.842562e+06  5.412998e+06  81509748  1650875  2020   \n",
       "\n",
       "                         DATE  TIME  HOUR         STREET1         STREET2  \\\n",
       "16855  2020/08/30 04:00:00+00  1340    13      BRIMLEY RD  BARKDENE HILLS   \n",
       "16856  2020/09/01 04:00:00+00  1205    12  EGLINTON AVE E    BELLAMY RD N   \n",
       "16857  2020/09/01 04:00:00+00  1205    12  EGLINTON AVE E    BELLAMY RD N   \n",
       "16858  2020/09/01 04:00:00+00  1205    12  EGLINTON AVE E    BELLAMY RD N   \n",
       "16859  2020/09/01 04:00:00+00  1238    12      BLOOR ST W   GLADSTONE AVE   \n",
       "\n",
       "              OFFSET      ROAD_CLASS     DISTRICT WARDNUM DIVISION   LATITUDE  \\\n",
       "16855  50 m South of          <Null>       <Null>  <Null>   <Null>  43.714793   \n",
       "16856         <Null>  Major Arterial  Scarborough   21,20       43  43.740256   \n",
       "16857         <Null>  Major Arterial  Scarborough   21,20       43  43.740256   \n",
       "16858         <Null>  Major Arterial  Scarborough   21,20       43  43.740256   \n",
       "16859   9 m South of          <Null>       <Null>  <Null>   <Null>  43.660144   \n",
       "\n",
       "       LONGITUDE      LOCCOORD            ACCLOC        TRAFFCTL VISIBILITY  \\\n",
       "16855 -79.238926     Mid-Block  Non Intersection      No Control      Clear   \n",
       "16856 -79.232021  Intersection   At Intersection  Traffic Signal      Clear   \n",
       "16857 -79.232021  Intersection   At Intersection  Traffic Signal      Clear   \n",
       "16858 -79.232021  Intersection   At Intersection  Traffic Signal      Clear   \n",
       "16859 -79.434086     Mid-Block  Non Intersection      No Control      Clear   \n",
       "\n",
       "          LIGHT RDSFCOND           ACCLASS           IMPACTYPE    INVTYPE  \\\n",
       "16855  Daylight      Dry  Non-Fatal Injury  Cyclist Collisions    Cyclist   \n",
       "16856  Daylight      Dry  Non-Fatal Injury    Turning Movement     Driver   \n",
       "16857  Daylight      Dry  Non-Fatal Injury    Turning Movement     Driver   \n",
       "16858  Daylight      Dry  Non-Fatal Injury    Turning Movement  Passenger   \n",
       "16859  Daylight      Dry  Non-Fatal Injury  Cyclist Collisions     Driver   \n",
       "\n",
       "         INVAGE INJURY FATAL_NO INITDIR                    VEHTYPE  \\\n",
       "16855  25 to 29  Major   <Null>   North                    Bicycle   \n",
       "16856  65 to 69   None   <Null>    East  Automobile, Station Wagon   \n",
       "16857  30 to 34  Minor   <Null>    West  Automobile, Station Wagon   \n",
       "16858  10 to 14  Major   <Null>  <Null>                     <Null>   \n",
       "16859  50 to 54   None   <Null>    East  Automobile, Station Wagon   \n",
       "\n",
       "                 MANOEUVER                       DRIVACT     DRIVCOND PEDTYPE  \\\n",
       "16855          Going Ahead                        <Null>       <Null>  <Null>   \n",
       "16856         Turning Left  Failed to Yield Right of Way  Inattentive  <Null>   \n",
       "16857          Going Ahead              Driving Properly       Normal  <Null>   \n",
       "16858               <Null>                        <Null>       <Null>  <Null>   \n",
       "16859  Slowing or Stopping          Improper Lane Change       Normal  <Null>   \n",
       "\n",
       "       PEDACT PEDCOND CYCLISTYPE            CYCACT CYCCOND PEDESTRIAN CYCLIST  \\\n",
       "16855  <Null>  <Null>     <Null>  Driving Properly  Normal     <Null>     Yes   \n",
       "16856  <Null>  <Null>     <Null>            <Null>  <Null>     <Null>  <Null>   \n",
       "16857  <Null>  <Null>     <Null>            <Null>  <Null>     <Null>  <Null>   \n",
       "16858  <Null>  <Null>     <Null>            <Null>  <Null>     <Null>  <Null>   \n",
       "16859  <Null>  <Null>     <Null>            <Null>  <Null>     <Null>     Yes   \n",
       "\n",
       "      AUTOMOBILE MOTORCYCLE   TRUCK TRSN_CITY_VEH EMERG_VEH PASSENGER  \\\n",
       "16855        Yes     <Null>  <Null>        <Null>    <Null>    <Null>   \n",
       "16856        Yes     <Null>  <Null>        <Null>    <Null>       Yes   \n",
       "16857        Yes     <Null>  <Null>        <Null>    <Null>       Yes   \n",
       "16858        Yes     <Null>  <Null>        <Null>    <Null>       Yes   \n",
       "16859        Yes     <Null>  <Null>        <Null>    <Null>    <Null>   \n",
       "\n",
       "      SPEEDING AG_DRIV REDLIGHT ALCOHOL DISABILITY POLICE_DIVISION  HOOD_ID  \\\n",
       "16855   <Null>     Yes   <Null>  <Null>     <Null>             D41      123   \n",
       "16856   <Null>     Yes   <Null>  <Null>     <Null>             D43      138   \n",
       "16857   <Null>     Yes   <Null>  <Null>     <Null>             D43      138   \n",
       "16858   <Null>     Yes   <Null>  <Null>     <Null>             D43      138   \n",
       "16859   <Null>  <Null>   <Null>  <Null>     <Null>             D14       93   \n",
       "\n",
       "                                  NEIGHBOURHOOD  ObjectId  \n",
       "16855                          Cliffcrest (123)     16856  \n",
       "16856                       Eglinton East (138)     16857  \n",
       "16857                       Eglinton East (138)     16858  \n",
       "16858                       Eglinton East (138)     16859  \n",
       "16859  Dovercourt-Wallace Emerson-Junction (93)     16860  "
      ]
     },
     "execution_count": 275,
     "metadata": {},
     "output_type": "execute_result"
    }
   ],
   "source": [
    "# Inspect the last 5 rows\n",
    "df_ksi.tail()"
   ]
  },
  {
   "cell_type": "code",
   "execution_count": 276,
   "metadata": {},
   "outputs": [
    {
     "name": "stdout",
     "output_type": "stream",
     "text": [
      "<class 'pandas.core.frame.DataFrame'>\n",
      "RangeIndex: 16860 entries, 0 to 16859\n",
      "Data columns (total 57 columns):\n",
      " #   Column           Non-Null Count  Dtype  \n",
      "---  ------           --------------  -----  \n",
      " 0   X                16860 non-null  float64\n",
      " 1   Y                16860 non-null  float64\n",
      " 2   INDEX_           16860 non-null  int64  \n",
      " 3   ACCNUM           16860 non-null  int64  \n",
      " 4   YEAR             16860 non-null  int64  \n",
      " 5   DATE             16860 non-null  object \n",
      " 6   TIME             16860 non-null  int64  \n",
      " 7   HOUR             16860 non-null  int64  \n",
      " 8   STREET1          16860 non-null  object \n",
      " 9   STREET2          16860 non-null  object \n",
      " 10  OFFSET           16860 non-null  object \n",
      " 11  ROAD_CLASS       16860 non-null  object \n",
      " 12  DISTRICT         16860 non-null  object \n",
      " 13  WARDNUM          16860 non-null  object \n",
      " 14  DIVISION         16860 non-null  object \n",
      " 15  LATITUDE         16860 non-null  float64\n",
      " 16  LONGITUDE        16860 non-null  float64\n",
      " 17  LOCCOORD         16860 non-null  object \n",
      " 18  ACCLOC           16860 non-null  object \n",
      " 19  TRAFFCTL         16860 non-null  object \n",
      " 20  VISIBILITY       16860 non-null  object \n",
      " 21  LIGHT            16860 non-null  object \n",
      " 22  RDSFCOND         16860 non-null  object \n",
      " 23  ACCLASS          16860 non-null  object \n",
      " 24  IMPACTYPE        16860 non-null  object \n",
      " 25  INVTYPE          16860 non-null  object \n",
      " 26  INVAGE           16860 non-null  object \n",
      " 27  INJURY           16860 non-null  object \n",
      " 28  FATAL_NO         16860 non-null  object \n",
      " 29  INITDIR          16860 non-null  object \n",
      " 30  VEHTYPE          16860 non-null  object \n",
      " 31  MANOEUVER        16860 non-null  object \n",
      " 32  DRIVACT          16860 non-null  object \n",
      " 33  DRIVCOND         16860 non-null  object \n",
      " 34  PEDTYPE          16860 non-null  object \n",
      " 35  PEDACT           16860 non-null  object \n",
      " 36  PEDCOND          16860 non-null  object \n",
      " 37  CYCLISTYPE       16860 non-null  object \n",
      " 38  CYCACT           16860 non-null  object \n",
      " 39  CYCCOND          16860 non-null  object \n",
      " 40  PEDESTRIAN       16860 non-null  object \n",
      " 41  CYCLIST          16860 non-null  object \n",
      " 42  AUTOMOBILE       16860 non-null  object \n",
      " 43  MOTORCYCLE       16860 non-null  object \n",
      " 44  TRUCK            16860 non-null  object \n",
      " 45  TRSN_CITY_VEH    16860 non-null  object \n",
      " 46  EMERG_VEH        16860 non-null  object \n",
      " 47  PASSENGER        16860 non-null  object \n",
      " 48  SPEEDING         16860 non-null  object \n",
      " 49  AG_DRIV          16860 non-null  object \n",
      " 50  REDLIGHT         16860 non-null  object \n",
      " 51  ALCOHOL          16860 non-null  object \n",
      " 52  DISABILITY       16860 non-null  object \n",
      " 53  POLICE_DIVISION  16860 non-null  object \n",
      " 54  HOOD_ID          16860 non-null  int64  \n",
      " 55  NEIGHBOURHOOD    16860 non-null  object \n",
      " 56  ObjectId         16860 non-null  int64  \n",
      "dtypes: float64(4), int64(7), object(46)\n",
      "memory usage: 7.3+ MB\n"
     ]
    }
   ],
   "source": [
    "# Get a summary of the dataset\n",
    "df_ksi.info()"
   ]
  },
  {
   "cell_type": "markdown",
   "metadata": {},
   "source": [
    "`The info() method suggests that the dataset is integral and that there are no missing values\n",
    "We see below that i isn't exactly the case`"
   ]
  },
  {
   "cell_type": "code",
   "execution_count": 277,
   "metadata": {},
   "outputs": [
    {
     "data": {
      "text/plain": [
       "'<Null>'"
      ]
     },
     "execution_count": 277,
     "metadata": {},
     "output_type": "execute_result"
    }
   ],
   "source": [
    "# Null values are informed as strings\n",
    "df_ksi['OFFSET'][0]"
   ]
  },
  {
   "cell_type": "code",
   "execution_count": 278,
   "metadata": {},
   "outputs": [
    {
     "data": {
      "text/plain": [
       "str"
      ]
     },
     "execution_count": 278,
     "metadata": {},
     "output_type": "execute_result"
    }
   ],
   "source": [
    "type(df_ksi['OFFSET'][0])"
   ]
  },
  {
   "cell_type": "code",
   "execution_count": 279,
   "metadata": {},
   "outputs": [],
   "source": [
    "# Set all \"<Null>\" strings to NaN\n",
    "df_ksi = df_ksi.replace('<Null>', np.nan, regex = True)"
   ]
  },
  {
   "cell_type": "code",
   "execution_count": 280,
   "metadata": {},
   "outputs": [
    {
     "name": "stdout",
     "output_type": "stream",
     "text": [
      "<class 'pandas.core.frame.DataFrame'>\n",
      "RangeIndex: 16860 entries, 0 to 16859\n",
      "Data columns (total 57 columns):\n",
      " #   Column           Non-Null Count  Dtype  \n",
      "---  ------           --------------  -----  \n",
      " 0   X                16860 non-null  float64\n",
      " 1   Y                16860 non-null  float64\n",
      " 2   INDEX_           16860 non-null  int64  \n",
      " 3   ACCNUM           16860 non-null  int64  \n",
      " 4   YEAR             16860 non-null  int64  \n",
      " 5   DATE             16860 non-null  object \n",
      " 6   TIME             16860 non-null  int64  \n",
      " 7   HOUR             16860 non-null  int64  \n",
      " 8   STREET1          16860 non-null  object \n",
      " 9   STREET2          15350 non-null  object \n",
      " 10  OFFSET           2746 non-null   object \n",
      " 11  ROAD_CLASS       16363 non-null  object \n",
      " 12  DISTRICT         16719 non-null  object \n",
      " 13  WARDNUM          16664 non-null  object \n",
      " 14  DIVISION         16664 non-null  object \n",
      " 15  LATITUDE         16860 non-null  float64\n",
      " 16  LONGITUDE        16860 non-null  float64\n",
      " 17  LOCCOORD         16755 non-null  object \n",
      " 18  ACCLOC           11410 non-null  object \n",
      " 19  TRAFFCTL         16831 non-null  object \n",
      " 20  VISIBILITY       16842 non-null  object \n",
      " 21  LIGHT            16860 non-null  object \n",
      " 22  RDSFCOND         16837 non-null  object \n",
      " 23  ACCLASS          16860 non-null  object \n",
      " 24  IMPACTYPE        16856 non-null  object \n",
      " 25  INVTYPE          16848 non-null  object \n",
      " 26  INVAGE           16860 non-null  object \n",
      " 27  INJURY           15248 non-null  object \n",
      " 28  FATAL_NO         713 non-null    object \n",
      " 29  INITDIR          11966 non-null  object \n",
      " 30  VEHTYPE          14047 non-null  object \n",
      " 31  MANOEUVER        9627 non-null   object \n",
      " 32  DRIVACT          8462 non-null   object \n",
      " 33  DRIVCOND         8464 non-null   object \n",
      " 34  PEDTYPE          2786 non-null   object \n",
      " 35  PEDACT           2779 non-null   object \n",
      " 36  PEDCOND          2835 non-null   object \n",
      " 37  CYCLISTYPE       700 non-null    object \n",
      " 38  CYCACT           707 non-null    object \n",
      " 39  CYCCOND          706 non-null    object \n",
      " 40  PEDESTRIAN       6827 non-null   object \n",
      " 41  CYCLIST          1779 non-null   object \n",
      " 42  AUTOMOBILE       15308 non-null  object \n",
      " 43  MOTORCYCLE       1384 non-null   object \n",
      " 44  TRUCK            1042 non-null   object \n",
      " 45  TRSN_CITY_VEH    1011 non-null   object \n",
      " 46  EMERG_VEH        31 non-null     object \n",
      " 47  PASSENGER        6362 non-null   object \n",
      " 48  SPEEDING         2285 non-null   object \n",
      " 49  AG_DRIV          8703 non-null   object \n",
      " 50  REDLIGHT         1409 non-null   object \n",
      " 51  ALCOHOL          739 non-null    object \n",
      " 52  DISABILITY       468 non-null    object \n",
      " 53  POLICE_DIVISION  16860 non-null  object \n",
      " 54  HOOD_ID          16860 non-null  int64  \n",
      " 55  NEIGHBOURHOOD    16860 non-null  object \n",
      " 56  ObjectId         16860 non-null  int64  \n",
      "dtypes: float64(4), int64(7), object(46)\n",
      "memory usage: 7.3+ MB\n"
     ]
    }
   ],
   "source": [
    "df_ksi.info()"
   ]
  },
  {
   "cell_type": "code",
   "execution_count": 281,
   "metadata": {},
   "outputs": [
    {
     "data": {
      "image/png": "[encoded data removed]",
      "text/plain": [
       "<Figure size 2016x1080 with 1 Axes>"
      ]
     },
     "metadata": {},
     "output_type": "display_data"
    }
   ],
   "source": [
    "sns.set(rc={\"figure.figsize\":(28, 15)})\n",
    "sns.heatmap(df_ksi.isna(),yticklabels=False,cbar=False,cmap='viridis')\n",
    "plt.xticks(rotation = 45)\n",
    "plt.show()"
   ]
  },
  {
   "cell_type": "code",
   "execution_count": 282,
   "metadata": {},
   "outputs": [],
   "source": [
    "# Move target class to the last position in the dataframe\n",
    "new_cols = ['X', 'Y', 'INDEX_', 'ACCNUM', 'YEAR', 'DATE', 'TIME', 'HOUR', 'STREET1',\n",
    "       'STREET2', 'OFFSET', 'ROAD_CLASS', 'DISTRICT', 'WARDNUM', 'DIVISION',\n",
    "       'LATITUDE', 'LONGITUDE', 'LOCCOORD', 'ACCLOC', 'TRAFFCTL', 'VISIBILITY',\n",
    "       'LIGHT', 'RDSFCOND', 'IMPACTYPE', 'INVTYPE', 'INVAGE',\n",
    "       'INJURY', 'FATAL_NO', 'INITDIR', 'VEHTYPE', 'MANOEUVER', 'DRIVACT',\n",
    "       'DRIVCOND', 'PEDTYPE', 'PEDACT', 'PEDCOND', 'CYCLISTYPE', 'CYCACT',\n",
    "       'CYCCOND', 'PEDESTRIAN', 'CYCLIST', 'AUTOMOBILE', 'MOTORCYCLE', 'TRUCK',\n",
    "       'TRSN_CITY_VEH', 'EMERG_VEH', 'PASSENGER', 'SPEEDING', 'AG_DRIV',\n",
    "       'REDLIGHT', 'ALCOHOL', 'DISABILITY', 'POLICE_DIVISION', 'HOOD_ID',\n",
    "       'NEIGHBOURHOOD', 'ObjectId', 'ACCLASS']\n",
    "df_ksi = df_ksi.reindex(columns = new_cols)"
   ]
  },
  {
   "cell_type": "code",
   "execution_count": 283,
   "metadata": {},
   "outputs": [
    {
     "data": {
      "text/plain": [
       "Index(['X', 'Y', 'INDEX_', 'ACCNUM', 'YEAR', 'DATE', 'TIME', 'HOUR', 'STREET1',\n",
       "       'STREET2', 'OFFSET', 'ROAD_CLASS', 'DISTRICT', 'WARDNUM', 'DIVISION',\n",
       "       'LATITUDE', 'LONGITUDE', 'LOCCOORD', 'ACCLOC', 'TRAFFCTL', 'VISIBILITY',\n",
       "       'LIGHT', 'RDSFCOND', 'IMPACTYPE', 'INVTYPE', 'INVAGE', 'INJURY',\n",
       "       'FATAL_NO', 'INITDIR', 'VEHTYPE', 'MANOEUVER', 'DRIVACT', 'DRIVCOND',\n",
       "       'PEDTYPE', 'PEDACT', 'PEDCOND', 'CYCLISTYPE', 'CYCACT', 'CYCCOND',\n",
       "       'PEDESTRIAN', 'CYCLIST', 'AUTOMOBILE', 'MOTORCYCLE', 'TRUCK',\n",
       "       'TRSN_CITY_VEH', 'EMERG_VEH', 'PASSENGER', 'SPEEDING', 'AG_DRIV',\n",
       "       'REDLIGHT', 'ALCOHOL', 'DISABILITY', 'POLICE_DIVISION', 'HOOD_ID',\n",
       "       'NEIGHBOURHOOD', 'ObjectId', 'ACCLASS'],\n",
       "      dtype='object')"
      ]
     },
     "execution_count": 283,
     "metadata": {},
     "output_type": "execute_result"
    }
   ],
   "source": [
    "df_ksi.columns"
   ]
  },
  {
   "cell_type": "code",
   "execution_count": 284,
   "metadata": {},
   "outputs": [],
   "source": [
    "# Number of columns in the dataset\n",
    "num_columns = len(df_ksi.columns)"
   ]
  },
  {
   "cell_type": "code",
   "execution_count": 285,
   "metadata": {},
   "outputs": [],
   "source": [
    "# Number of columns that contain at least one missing value\n",
    "num_missing_val_columns = len(df_ksi.isna().sum()[df_ksi.isna().sum()>0])"
   ]
  },
  {
   "cell_type": "markdown",
   "metadata": {},
   "source": [
    "### Columns and their respective numbers of missing values"
   ]
  },
  {
   "cell_type": "code",
   "execution_count": 286,
   "metadata": {},
   "outputs": [
    {
     "data": {
      "text/plain": [
       "STREET2           1510\n",
       "OFFSET           14114\n",
       "ROAD_CLASS         497\n",
       "DISTRICT           141\n",
       "WARDNUM            196\n",
       "DIVISION           196\n",
       "LOCCOORD           105\n",
       "ACCLOC            5450\n",
       "TRAFFCTL            29\n",
       "VISIBILITY          18\n",
       "RDSFCOND            23\n",
       "IMPACTYPE            4\n",
       "INVTYPE             12\n",
       "INJURY            1612\n",
       "FATAL_NO         16147\n",
       "INITDIR           4894\n",
       "VEHTYPE           2813\n",
       "MANOEUVER         7233\n",
       "DRIVACT           8398\n",
       "DRIVCOND          8396\n",
       "PEDTYPE          14074\n",
       "PEDACT           14081\n",
       "PEDCOND          14025\n",
       "CYCLISTYPE       16160\n",
       "CYCACT           16153\n",
       "CYCCOND          16154\n",
       "PEDESTRIAN       10033\n",
       "CYCLIST          15081\n",
       "AUTOMOBILE        1552\n",
       "MOTORCYCLE       15476\n",
       "TRUCK            15818\n",
       "TRSN_CITY_VEH    15849\n",
       "EMERG_VEH        16829\n",
       "PASSENGER        10498\n",
       "SPEEDING         14575\n",
       "AG_DRIV           8157\n",
       "REDLIGHT         15451\n",
       "ALCOHOL          16121\n",
       "DISABILITY       16392\n",
       "dtype: int64"
      ]
     },
     "execution_count": 286,
     "metadata": {},
     "output_type": "execute_result"
    }
   ],
   "source": [
    "df_ksi.isna().sum()[df_ksi.isna().sum()>0]"
   ]
  },
  {
   "cell_type": "code",
   "execution_count": 289,
   "metadata": {},
   "outputs": [
    {
     "name": "stdout",
     "output_type": "stream",
     "text": [
      "68.42% have at least one missing value\n"
     ]
    }
   ],
   "source": [
    "# Proportion of columns with ate least one missing value\n",
    "print(f'{round((num_missing_val_columns / num_columns)*100,2)}% have at least one missing value')"
   ]
  },
  {
   "cell_type": "code",
   "execution_count": 290,
   "metadata": {},
   "outputs": [],
   "source": [
    "df_ksi.drop(['X', 'Y', 'INDEX_'], axis = 1, inplace = True)"
   ]
  },
  {
   "cell_type": "markdown",
   "metadata": {},
   "source": [
    "`Drop X and Y since they are a different scale for latitude and longitude\n",
    "INDEX_ is also dropped for it's lack of statistical value.`"
   ]
  },
  {
   "cell_type": "code",
   "execution_count": 291,
   "metadata": {},
   "outputs": [
    {
     "data": {
      "text/html": [
       "<div>\n",
       "<style scoped>\n",
       "    .dataframe tbody tr th:only-of-type {\n",
       "        vertical-align: middle;\n",
       "    }\n",
       "\n",
       "    .dataframe tbody tr th {\n",
       "        vertical-align: top;\n",
       "    }\n",
       "\n",
       "    .dataframe thead th {\n",
       "        text-align: right;\n",
       "    }\n",
       "</style>\n",
       "<table border=\"1\" class=\"dataframe\">\n",
       "  <thead>\n",
       "    <tr style=\"text-align: right;\">\n",
       "      <th></th>\n",
       "      <th>ACCNUM</th>\n",
       "      <th>YEAR</th>\n",
       "      <th>DATE</th>\n",
       "      <th>TIME</th>\n",
       "      <th>HOUR</th>\n",
       "      <th>STREET1</th>\n",
       "      <th>STREET2</th>\n",
       "      <th>OFFSET</th>\n",
       "      <th>ROAD_CLASS</th>\n",
       "      <th>DISTRICT</th>\n",
       "      <th>WARDNUM</th>\n",
       "      <th>DIVISION</th>\n",
       "      <th>LATITUDE</th>\n",
       "      <th>LONGITUDE</th>\n",
       "      <th>LOCCOORD</th>\n",
       "      <th>ACCLOC</th>\n",
       "      <th>TRAFFCTL</th>\n",
       "      <th>VISIBILITY</th>\n",
       "      <th>LIGHT</th>\n",
       "      <th>RDSFCOND</th>\n",
       "      <th>IMPACTYPE</th>\n",
       "      <th>INVTYPE</th>\n",
       "      <th>INVAGE</th>\n",
       "      <th>INJURY</th>\n",
       "      <th>FATAL_NO</th>\n",
       "      <th>INITDIR</th>\n",
       "      <th>VEHTYPE</th>\n",
       "      <th>MANOEUVER</th>\n",
       "      <th>DRIVACT</th>\n",
       "      <th>DRIVCOND</th>\n",
       "      <th>PEDTYPE</th>\n",
       "      <th>PEDACT</th>\n",
       "      <th>PEDCOND</th>\n",
       "      <th>CYCLISTYPE</th>\n",
       "      <th>CYCACT</th>\n",
       "      <th>CYCCOND</th>\n",
       "      <th>PEDESTRIAN</th>\n",
       "      <th>CYCLIST</th>\n",
       "      <th>AUTOMOBILE</th>\n",
       "      <th>MOTORCYCLE</th>\n",
       "      <th>TRUCK</th>\n",
       "      <th>TRSN_CITY_VEH</th>\n",
       "      <th>EMERG_VEH</th>\n",
       "      <th>PASSENGER</th>\n",
       "      <th>SPEEDING</th>\n",
       "      <th>AG_DRIV</th>\n",
       "      <th>REDLIGHT</th>\n",
       "      <th>ALCOHOL</th>\n",
       "      <th>DISABILITY</th>\n",
       "      <th>POLICE_DIVISION</th>\n",
       "      <th>HOOD_ID</th>\n",
       "      <th>NEIGHBOURHOOD</th>\n",
       "      <th>ObjectId</th>\n",
       "      <th>ACCLASS</th>\n",
       "    </tr>\n",
       "  </thead>\n",
       "  <tbody>\n",
       "    <tr>\n",
       "      <th>0</th>\n",
       "      <td>892658</td>\n",
       "      <td>2006</td>\n",
       "      <td>2006/03/11 05:00:00+00</td>\n",
       "      <td>852</td>\n",
       "      <td>8</td>\n",
       "      <td>BLOOR ST W</td>\n",
       "      <td>DUNDAS ST W</td>\n",
       "      <td>NaN</td>\n",
       "      <td>Major Arterial</td>\n",
       "      <td>Toronto and East York</td>\n",
       "      <td>4</td>\n",
       "      <td>11</td>\n",
       "      <td>43.656345</td>\n",
       "      <td>-79.452490</td>\n",
       "      <td>Intersection</td>\n",
       "      <td>At Intersection</td>\n",
       "      <td>Traffic Signal</td>\n",
       "      <td>Clear</td>\n",
       "      <td>Daylight</td>\n",
       "      <td>Dry</td>\n",
       "      <td>Pedestrian Collisions</td>\n",
       "      <td>Driver</td>\n",
       "      <td>unknown</td>\n",
       "      <td>None</td>\n",
       "      <td>NaN</td>\n",
       "      <td>South</td>\n",
       "      <td>Automobile, Station Wagon</td>\n",
       "      <td>Turning Left</td>\n",
       "      <td>Failed to Yield Right of Way</td>\n",
       "      <td>Unknown</td>\n",
       "      <td>NaN</td>\n",
       "      <td>NaN</td>\n",
       "      <td>NaN</td>\n",
       "      <td>NaN</td>\n",
       "      <td>NaN</td>\n",
       "      <td>NaN</td>\n",
       "      <td>Yes</td>\n",
       "      <td>NaN</td>\n",
       "      <td>Yes</td>\n",
       "      <td>NaN</td>\n",
       "      <td>NaN</td>\n",
       "      <td>NaN</td>\n",
       "      <td>NaN</td>\n",
       "      <td>NaN</td>\n",
       "      <td>NaN</td>\n",
       "      <td>Yes</td>\n",
       "      <td>NaN</td>\n",
       "      <td>NaN</td>\n",
       "      <td>NaN</td>\n",
       "      <td>D11</td>\n",
       "      <td>88</td>\n",
       "      <td>High Park North (88)</td>\n",
       "      <td>1</td>\n",
       "      <td>Fatal</td>\n",
       "    </tr>\n",
       "    <tr>\n",
       "      <th>1</th>\n",
       "      <td>892658</td>\n",
       "      <td>2006</td>\n",
       "      <td>2006/03/11 05:00:00+00</td>\n",
       "      <td>852</td>\n",
       "      <td>8</td>\n",
       "      <td>BLOOR ST W</td>\n",
       "      <td>DUNDAS ST W</td>\n",
       "      <td>NaN</td>\n",
       "      <td>Major Arterial</td>\n",
       "      <td>Toronto and East York</td>\n",
       "      <td>4</td>\n",
       "      <td>11</td>\n",
       "      <td>43.656345</td>\n",
       "      <td>-79.452490</td>\n",
       "      <td>Intersection</td>\n",
       "      <td>At Intersection</td>\n",
       "      <td>Traffic Signal</td>\n",
       "      <td>Clear</td>\n",
       "      <td>Daylight</td>\n",
       "      <td>Dry</td>\n",
       "      <td>Pedestrian Collisions</td>\n",
       "      <td>Pedestrian</td>\n",
       "      <td>65 to 69</td>\n",
       "      <td>Fatal</td>\n",
       "      <td>NaN</td>\n",
       "      <td>North</td>\n",
       "      <td>Other</td>\n",
       "      <td>NaN</td>\n",
       "      <td>NaN</td>\n",
       "      <td>NaN</td>\n",
       "      <td>Vehicle turns left while ped crosses with ROW ...</td>\n",
       "      <td>Crossing with right of way</td>\n",
       "      <td>Unknown</td>\n",
       "      <td>NaN</td>\n",
       "      <td>NaN</td>\n",
       "      <td>NaN</td>\n",
       "      <td>Yes</td>\n",
       "      <td>NaN</td>\n",
       "      <td>Yes</td>\n",
       "      <td>NaN</td>\n",
       "      <td>NaN</td>\n",
       "      <td>NaN</td>\n",
       "      <td>NaN</td>\n",
       "      <td>NaN</td>\n",
       "      <td>NaN</td>\n",
       "      <td>Yes</td>\n",
       "      <td>NaN</td>\n",
       "      <td>NaN</td>\n",
       "      <td>NaN</td>\n",
       "      <td>D11</td>\n",
       "      <td>88</td>\n",
       "      <td>High Park North (88)</td>\n",
       "      <td>2</td>\n",
       "      <td>Fatal</td>\n",
       "    </tr>\n",
       "    <tr>\n",
       "      <th>2</th>\n",
       "      <td>892810</td>\n",
       "      <td>2006</td>\n",
       "      <td>2006/03/11 05:00:00+00</td>\n",
       "      <td>915</td>\n",
       "      <td>9</td>\n",
       "      <td>MORNINGSIDE AVE</td>\n",
       "      <td>SHEPPARD AVE E</td>\n",
       "      <td>NaN</td>\n",
       "      <td>Major Arterial</td>\n",
       "      <td>Scarborough</td>\n",
       "      <td>25</td>\n",
       "      <td>42</td>\n",
       "      <td>43.801943</td>\n",
       "      <td>-79.199786</td>\n",
       "      <td>Intersection</td>\n",
       "      <td>At Intersection</td>\n",
       "      <td>Traffic Signal</td>\n",
       "      <td>Clear</td>\n",
       "      <td>Daylight</td>\n",
       "      <td>Dry</td>\n",
       "      <td>Turning Movement</td>\n",
       "      <td>Motorcycle Driver</td>\n",
       "      <td>45 to 49</td>\n",
       "      <td>Fatal</td>\n",
       "      <td>NaN</td>\n",
       "      <td>East</td>\n",
       "      <td>Motorcycle</td>\n",
       "      <td>Turning Right</td>\n",
       "      <td>Disobeyed Traffic Control</td>\n",
       "      <td>Unknown</td>\n",
       "      <td>NaN</td>\n",
       "      <td>NaN</td>\n",
       "      <td>NaN</td>\n",
       "      <td>NaN</td>\n",
       "      <td>NaN</td>\n",
       "      <td>NaN</td>\n",
       "      <td>NaN</td>\n",
       "      <td>NaN</td>\n",
       "      <td>Yes</td>\n",
       "      <td>Yes</td>\n",
       "      <td>NaN</td>\n",
       "      <td>NaN</td>\n",
       "      <td>NaN</td>\n",
       "      <td>NaN</td>\n",
       "      <td>NaN</td>\n",
       "      <td>Yes</td>\n",
       "      <td>Yes</td>\n",
       "      <td>NaN</td>\n",
       "      <td>NaN</td>\n",
       "      <td>D42</td>\n",
       "      <td>131</td>\n",
       "      <td>Rouge (131)</td>\n",
       "      <td>3</td>\n",
       "      <td>Fatal</td>\n",
       "    </tr>\n",
       "    <tr>\n",
       "      <th>3</th>\n",
       "      <td>892810</td>\n",
       "      <td>2006</td>\n",
       "      <td>2006/03/11 05:00:00+00</td>\n",
       "      <td>915</td>\n",
       "      <td>9</td>\n",
       "      <td>MORNINGSIDE AVE</td>\n",
       "      <td>SHEPPARD AVE E</td>\n",
       "      <td>NaN</td>\n",
       "      <td>Major Arterial</td>\n",
       "      <td>Scarborough</td>\n",
       "      <td>25</td>\n",
       "      <td>42</td>\n",
       "      <td>43.801943</td>\n",
       "      <td>-79.199786</td>\n",
       "      <td>Intersection</td>\n",
       "      <td>At Intersection</td>\n",
       "      <td>Traffic Signal</td>\n",
       "      <td>Clear</td>\n",
       "      <td>Daylight</td>\n",
       "      <td>Dry</td>\n",
       "      <td>Turning Movement</td>\n",
       "      <td>Driver</td>\n",
       "      <td>unknown</td>\n",
       "      <td>None</td>\n",
       "      <td>NaN</td>\n",
       "      <td>South</td>\n",
       "      <td>Automobile, Station Wagon</td>\n",
       "      <td>Going Ahead</td>\n",
       "      <td>Driving Properly</td>\n",
       "      <td>Unknown</td>\n",
       "      <td>NaN</td>\n",
       "      <td>NaN</td>\n",
       "      <td>NaN</td>\n",
       "      <td>NaN</td>\n",
       "      <td>NaN</td>\n",
       "      <td>NaN</td>\n",
       "      <td>NaN</td>\n",
       "      <td>NaN</td>\n",
       "      <td>Yes</td>\n",
       "      <td>Yes</td>\n",
       "      <td>NaN</td>\n",
       "      <td>NaN</td>\n",
       "      <td>NaN</td>\n",
       "      <td>NaN</td>\n",
       "      <td>NaN</td>\n",
       "      <td>Yes</td>\n",
       "      <td>Yes</td>\n",
       "      <td>NaN</td>\n",
       "      <td>NaN</td>\n",
       "      <td>D42</td>\n",
       "      <td>131</td>\n",
       "      <td>Rouge (131)</td>\n",
       "      <td>4</td>\n",
       "      <td>Fatal</td>\n",
       "    </tr>\n",
       "    <tr>\n",
       "      <th>4</th>\n",
       "      <td>892682</td>\n",
       "      <td>2006</td>\n",
       "      <td>2006/03/12 05:00:00+00</td>\n",
       "      <td>240</td>\n",
       "      <td>2</td>\n",
       "      <td>EGLINTON AVE E</td>\n",
       "      <td>COMMONWEALTH AVE</td>\n",
       "      <td>NaN</td>\n",
       "      <td>Major Arterial</td>\n",
       "      <td>Scarborough</td>\n",
       "      <td>21,20</td>\n",
       "      <td>41</td>\n",
       "      <td>43.734945</td>\n",
       "      <td>-79.256190</td>\n",
       "      <td>Mid-Block</td>\n",
       "      <td>NaN</td>\n",
       "      <td>No Control</td>\n",
       "      <td>Clear</td>\n",
       "      <td>Dark</td>\n",
       "      <td>Dry</td>\n",
       "      <td>Pedestrian Collisions</td>\n",
       "      <td>Driver</td>\n",
       "      <td>25 to 29</td>\n",
       "      <td>None</td>\n",
       "      <td>NaN</td>\n",
       "      <td>West</td>\n",
       "      <td>Automobile, Station Wagon</td>\n",
       "      <td>Going Ahead</td>\n",
       "      <td>Other</td>\n",
       "      <td>Ability Impaired, Alcohol</td>\n",
       "      <td>NaN</td>\n",
       "      <td>NaN</td>\n",
       "      <td>NaN</td>\n",
       "      <td>NaN</td>\n",
       "      <td>NaN</td>\n",
       "      <td>NaN</td>\n",
       "      <td>Yes</td>\n",
       "      <td>NaN</td>\n",
       "      <td>Yes</td>\n",
       "      <td>NaN</td>\n",
       "      <td>NaN</td>\n",
       "      <td>NaN</td>\n",
       "      <td>NaN</td>\n",
       "      <td>NaN</td>\n",
       "      <td>NaN</td>\n",
       "      <td>NaN</td>\n",
       "      <td>NaN</td>\n",
       "      <td>Yes</td>\n",
       "      <td>NaN</td>\n",
       "      <td>D41</td>\n",
       "      <td>138</td>\n",
       "      <td>Eglinton East (138)</td>\n",
       "      <td>5</td>\n",
       "      <td>Fatal</td>\n",
       "    </tr>\n",
       "  </tbody>\n",
       "</table>\n",
       "</div>"
      ],
      "text/plain": [
       "   ACCNUM  YEAR                    DATE  TIME  HOUR          STREET1  \\\n",
       "0  892658  2006  2006/03/11 05:00:00+00   852     8       BLOOR ST W   \n",
       "1  892658  2006  2006/03/11 05:00:00+00   852     8       BLOOR ST W   \n",
       "2  892810  2006  2006/03/11 05:00:00+00   915     9  MORNINGSIDE AVE   \n",
       "3  892810  2006  2006/03/11 05:00:00+00   915     9  MORNINGSIDE AVE   \n",
       "4  892682  2006  2006/03/12 05:00:00+00   240     2   EGLINTON AVE E   \n",
       "\n",
       "            STREET2 OFFSET      ROAD_CLASS               DISTRICT WARDNUM  \\\n",
       "0       DUNDAS ST W    NaN  Major Arterial  Toronto and East York       4   \n",
       "1       DUNDAS ST W    NaN  Major Arterial  Toronto and East York       4   \n",
       "2    SHEPPARD AVE E    NaN  Major Arterial            Scarborough      25   \n",
       "3    SHEPPARD AVE E    NaN  Major Arterial            Scarborough      25   \n",
       "4  COMMONWEALTH AVE    NaN  Major Arterial            Scarborough   21,20   \n",
       "\n",
       "  DIVISION   LATITUDE  LONGITUDE      LOCCOORD           ACCLOC  \\\n",
       "0       11  43.656345 -79.452490  Intersection  At Intersection   \n",
       "1       11  43.656345 -79.452490  Intersection  At Intersection   \n",
       "2       42  43.801943 -79.199786  Intersection  At Intersection   \n",
       "3       42  43.801943 -79.199786  Intersection  At Intersection   \n",
       "4       41  43.734945 -79.256190     Mid-Block              NaN   \n",
       "\n",
       "         TRAFFCTL VISIBILITY     LIGHT RDSFCOND              IMPACTYPE  \\\n",
       "0  Traffic Signal      Clear  Daylight      Dry  Pedestrian Collisions   \n",
       "1  Traffic Signal      Clear  Daylight      Dry  Pedestrian Collisions   \n",
       "2  Traffic Signal      Clear  Daylight      Dry       Turning Movement   \n",
       "3  Traffic Signal      Clear  Daylight      Dry       Turning Movement   \n",
       "4      No Control      Clear      Dark      Dry  Pedestrian Collisions   \n",
       "\n",
       "             INVTYPE    INVAGE INJURY FATAL_NO INITDIR  \\\n",
       "0             Driver   unknown   None      NaN   South   \n",
       "1         Pedestrian  65 to 69  Fatal      NaN   North   \n",
       "2  Motorcycle Driver  45 to 49  Fatal      NaN    East   \n",
       "3             Driver   unknown   None      NaN   South   \n",
       "4             Driver  25 to 29   None      NaN    West   \n",
       "\n",
       "                     VEHTYPE      MANOEUVER                       DRIVACT  \\\n",
       "0  Automobile, Station Wagon   Turning Left  Failed to Yield Right of Way   \n",
       "1                      Other            NaN                           NaN   \n",
       "2                 Motorcycle  Turning Right     Disobeyed Traffic Control   \n",
       "3  Automobile, Station Wagon    Going Ahead              Driving Properly   \n",
       "4  Automobile, Station Wagon    Going Ahead                         Other   \n",
       "\n",
       "                    DRIVCOND  \\\n",
       "0                    Unknown   \n",
       "1                        NaN   \n",
       "2                    Unknown   \n",
       "3                    Unknown   \n",
       "4  Ability Impaired, Alcohol   \n",
       "\n",
       "                                             PEDTYPE  \\\n",
       "0                                                NaN   \n",
       "1  Vehicle turns left while ped crosses with ROW ...   \n",
       "2                                                NaN   \n",
       "3                                                NaN   \n",
       "4                                                NaN   \n",
       "\n",
       "                       PEDACT  PEDCOND CYCLISTYPE CYCACT CYCCOND PEDESTRIAN  \\\n",
       "0                         NaN      NaN        NaN    NaN     NaN        Yes   \n",
       "1  Crossing with right of way  Unknown        NaN    NaN     NaN        Yes   \n",
       "2                         NaN      NaN        NaN    NaN     NaN        NaN   \n",
       "3                         NaN      NaN        NaN    NaN     NaN        NaN   \n",
       "4                         NaN      NaN        NaN    NaN     NaN        Yes   \n",
       "\n",
       "  CYCLIST AUTOMOBILE MOTORCYCLE TRUCK TRSN_CITY_VEH EMERG_VEH PASSENGER  \\\n",
       "0     NaN        Yes        NaN   NaN           NaN       NaN       NaN   \n",
       "1     NaN        Yes        NaN   NaN           NaN       NaN       NaN   \n",
       "2     NaN        Yes        Yes   NaN           NaN       NaN       NaN   \n",
       "3     NaN        Yes        Yes   NaN           NaN       NaN       NaN   \n",
       "4     NaN        Yes        NaN   NaN           NaN       NaN       NaN   \n",
       "\n",
       "  SPEEDING AG_DRIV REDLIGHT ALCOHOL DISABILITY POLICE_DIVISION  HOOD_ID  \\\n",
       "0      NaN     Yes      NaN     NaN        NaN             D11       88   \n",
       "1      NaN     Yes      NaN     NaN        NaN             D11       88   \n",
       "2      NaN     Yes      Yes     NaN        NaN             D42      131   \n",
       "3      NaN     Yes      Yes     NaN        NaN             D42      131   \n",
       "4      NaN     NaN      NaN     Yes        NaN             D41      138   \n",
       "\n",
       "          NEIGHBOURHOOD  ObjectId ACCLASS  \n",
       "0  High Park North (88)         1   Fatal  \n",
       "1  High Park North (88)         2   Fatal  \n",
       "2           Rouge (131)         3   Fatal  \n",
       "3           Rouge (131)         4   Fatal  \n",
       "4   Eglinton East (138)         5   Fatal  "
      ]
     },
     "execution_count": 291,
     "metadata": {},
     "output_type": "execute_result"
    }
   ],
   "source": [
    "df_ksi.head()"
   ]
  },
  {
   "cell_type": "markdown",
   "metadata": {},
   "source": [
    "`The DATE column is split into DAY, MONTH, AND YEAR. The latter is dropped`"
   ]
  },
  {
   "cell_type": "code",
   "execution_count": 292,
   "metadata": {},
   "outputs": [],
   "source": [
    "df_ksi['DATE'] = pd.to_datetime(df_ksi['DATE'], format = '%Y/%m/%d %H:%M:%S')"
   ]
  },
  {
   "cell_type": "code",
   "execution_count": 293,
   "metadata": {},
   "outputs": [],
   "source": [
    "df_ksi.insert(1, 'MONTH', df_ksi['DATE'].dt.month)"
   ]
  },
  {
   "cell_type": "code",
   "execution_count": 294,
   "metadata": {},
   "outputs": [],
   "source": [
    "df_ksi.insert(2, 'DAY', df_ksi['DATE'].dt.day)"
   ]
  },
  {
   "cell_type": "code",
   "execution_count": 295,
   "metadata": {},
   "outputs": [],
   "source": [
    "df_ksi.drop(['YEAR', 'DATE', 'HOUR'], axis = 1, inplace = True)"
   ]
  },
  {
   "cell_type": "code",
   "execution_count": 297,
   "metadata": {},
   "outputs": [
    {
     "data": {
      "text/plain": [
       "10 m North of     45\n",
       "5 m South of      42\n",
       "10 m South of     37\n",
       "10 m West of      36\n",
       "20 m North of     34\n",
       "                  ..\n",
       "220 m South of     1\n",
       "350 m North of     1\n",
       "338 m West of      1\n",
       "20 m North         1\n",
       "458 m West of      1\n",
       "Name: OFFSET, Length: 419, dtype: int64"
      ]
     },
     "execution_count": 297,
     "metadata": {},
     "output_type": "execute_result"
    }
   ],
   "source": [
    "df_ksi.OFFSET.value_counts()"
   ]
  },
  {
   "cell_type": "code",
   "execution_count": 298,
   "metadata": {},
   "outputs": [
    {
     "data": {
      "text/plain": [
       "0.837129300118624"
      ]
     },
     "execution_count": 298,
     "metadata": {},
     "output_type": "execute_result"
    }
   ],
   "source": [
    "df_ksi.OFFSET.isna().sum() /len(df_ksi.OFFSET)"
   ]
  },
  {
   "cell_type": "code",
   "execution_count": 299,
   "metadata": {},
   "outputs": [],
   "source": [
    "# Drop ACCNUM and OFFSET to reduce model complexity. \n",
    "df_ksi.drop(['ACCNUM','OFFSET'], axis = 1, inplace = True)"
   ]
  },
  {
   "cell_type": "code",
   "execution_count": 300,
   "metadata": {},
   "outputs": [],
   "source": [
    "# Switch all NaN values in Road_Class\n",
    "df_ksi.ROAD_CLASS.replace(to_replace = np.nan, value = 'Road Type Unavailable', inplace = True)"
   ]
  },
  {
   "cell_type": "code",
   "execution_count": 301,
   "metadata": {},
   "outputs": [
    {
     "data": {
      "text/plain": [
       "Major Arterial           11976\n",
       "Minor Arterial            2598\n",
       "Collector                  929\n",
       "Local                      761\n",
       "Road Type Unavailable      497\n",
       "Expressway                  52\n",
       "Other                       25\n",
       "Laneway                     10\n",
       "Pending                      7\n",
       "Expressway Ramp              4\n",
       "Major Arterial Ramp          1\n",
       "Name: ROAD_CLASS, dtype: int64"
      ]
     },
     "execution_count": 301,
     "metadata": {},
     "output_type": "execute_result"
    }
   ],
   "source": [
    "df_ksi.ROAD_CLASS.value_counts()"
   ]
  },
  {
   "cell_type": "code",
   "execution_count": 302,
   "metadata": {},
   "outputs": [
    {
     "data": {
      "text/plain": [
       "Toronto and East York    5617\n",
       "Etobicoke York           3884\n",
       "Scarborough              3798\n",
       "North York               3343\n",
       "Toronto East York          77\n",
       "Name: DISTRICT, dtype: int64"
      ]
     },
     "execution_count": 302,
     "metadata": {},
     "output_type": "execute_result"
    }
   ],
   "source": [
    "df_ksi.DISTRICT.value_counts()"
   ]
  },
  {
   "cell_type": "code",
   "execution_count": 303,
   "metadata": {},
   "outputs": [],
   "source": [
    "# Merge 'Toronto East York' with 'Toronto and East York' \n",
    "df_ksi.DISTRICT.replace(to_replace = 'Toronto East York', value = 'Toronto and East York', inplace = True)"
   ]
  },
  {
   "cell_type": "code",
   "execution_count": 304,
   "metadata": {},
   "outputs": [],
   "source": [
    "# Replace NaN\n",
    "df_ksi.DISTRICT.replace(to_replace = np.nan, value = 'District_Not_Informed', inplace = True)"
   ]
  },
  {
   "cell_type": "code",
   "execution_count": 305,
   "metadata": {},
   "outputs": [],
   "source": [
    "# Drop 'WARDNUM' and 'DIVISION,' since their intrinsic values overlap with\n",
    "# other columns that better inidcate location of the accident\n",
    "df_ksi.drop(['WARDNUM', 'DIVISION'], axis = 1, inplace = True)"
   ]
  },
  {
   "cell_type": "code",
   "execution_count": 306,
   "metadata": {},
   "outputs": [
    {
     "data": {
      "text/plain": [
       "array(['D11', 'D42', 'D41', 'D14', 'D23', 'D51', 'D32', 'D31', 'D43',\n",
       "       'D12', 'D55', 'D13', 'D52', 'D54', 'D33', 'D22', 'D53'],\n",
       "      dtype=object)"
      ]
     },
     "execution_count": 306,
     "metadata": {},
     "output_type": "execute_result"
    }
   ],
   "source": [
    "df_ksi.POLICE_DIVISION.unique()"
   ]
  },
  {
   "cell_type": "code",
   "execution_count": 307,
   "metadata": {},
   "outputs": [
    {
     "data": {
      "image/png": "[encoded data removed]",
      "text/plain": [
       "<Figure size 2016x1080 with 2 Axes>"
      ]
     },
     "metadata": {},
     "output_type": "display_data"
    }
   ],
   "source": [
    "# Pearson's Correlation\n",
    "sns.heatmap(df_ksi.corr(method = 'pearson'), annot = True, cmap = 'viridis')\n",
    "plt.show()"
   ]
  },
  {
   "cell_type": "code",
   "execution_count": 37,
   "metadata": {},
   "outputs": [
    {
     "data": {
      "text/plain": [
       "Index(['MONTH', 'DAY', 'TIME', 'STREET1', 'STREET2', 'ROAD_CLASS', 'DISTRICT',\n",
       "       'LATITUDE', 'LONGITUDE', 'LOCCOORD', 'ACCLOC', 'TRAFFCTL', 'VISIBILITY',\n",
       "       'LIGHT', 'RDSFCOND', 'IMPACTYPE', 'INVTYPE', 'INVAGE', 'INJURY',\n",
       "       'FATAL_NO', 'INITDIR', 'VEHTYPE', 'MANOEUVER', 'DRIVACT', 'DRIVCOND',\n",
       "       'PEDTYPE', 'PEDACT', 'PEDCOND', 'CYCLISTYPE', 'CYCACT', 'CYCCOND',\n",
       "       'PEDESTRIAN', 'CYCLIST', 'AUTOMOBILE', 'MOTORCYCLE', 'TRUCK',\n",
       "       'TRSN_CITY_VEH', 'EMERG_VEH', 'PASSENGER', 'SPEEDING', 'AG_DRIV',\n",
       "       'REDLIGHT', 'ALCOHOL', 'DISABILITY', 'POLICE_DIVISION', 'HOOD_ID',\n",
       "       'NEIGHBOURHOOD', 'ObjectId', 'ACCLASS'],\n",
       "      dtype='object')"
      ]
     },
     "execution_count": 37,
     "metadata": {},
     "output_type": "execute_result"
    }
   ],
   "source": [
    "df_ksi.columns"
   ]
  },
  {
   "cell_type": "code",
   "execution_count": 308,
   "metadata": {},
   "outputs": [
    {
     "data": {
      "text/html": [
       "<div>\n",
       "<style scoped>\n",
       "    .dataframe tbody tr th:only-of-type {\n",
       "        vertical-align: middle;\n",
       "    }\n",
       "\n",
       "    .dataframe tbody tr th {\n",
       "        vertical-align: top;\n",
       "    }\n",
       "\n",
       "    .dataframe thead th {\n",
       "        text-align: right;\n",
       "    }\n",
       "</style>\n",
       "<table border=\"1\" class=\"dataframe\">\n",
       "  <thead>\n",
       "    <tr style=\"text-align: right;\">\n",
       "      <th></th>\n",
       "      <th>ACCLOC</th>\n",
       "      <th>LOCCOORD</th>\n",
       "    </tr>\n",
       "  </thead>\n",
       "  <tbody>\n",
       "    <tr>\n",
       "      <th>0</th>\n",
       "      <td>At Intersection</td>\n",
       "      <td>Intersection</td>\n",
       "    </tr>\n",
       "    <tr>\n",
       "      <th>1</th>\n",
       "      <td>At Intersection</td>\n",
       "      <td>Intersection</td>\n",
       "    </tr>\n",
       "    <tr>\n",
       "      <th>2</th>\n",
       "      <td>At Intersection</td>\n",
       "      <td>Intersection</td>\n",
       "    </tr>\n",
       "    <tr>\n",
       "      <th>3</th>\n",
       "      <td>At Intersection</td>\n",
       "      <td>Intersection</td>\n",
       "    </tr>\n",
       "    <tr>\n",
       "      <th>4</th>\n",
       "      <td>NaN</td>\n",
       "      <td>Mid-Block</td>\n",
       "    </tr>\n",
       "    <tr>\n",
       "      <th>...</th>\n",
       "      <td>...</td>\n",
       "      <td>...</td>\n",
       "    </tr>\n",
       "    <tr>\n",
       "      <th>16855</th>\n",
       "      <td>Non Intersection</td>\n",
       "      <td>Mid-Block</td>\n",
       "    </tr>\n",
       "    <tr>\n",
       "      <th>16856</th>\n",
       "      <td>At Intersection</td>\n",
       "      <td>Intersection</td>\n",
       "    </tr>\n",
       "    <tr>\n",
       "      <th>16857</th>\n",
       "      <td>At Intersection</td>\n",
       "      <td>Intersection</td>\n",
       "    </tr>\n",
       "    <tr>\n",
       "      <th>16858</th>\n",
       "      <td>At Intersection</td>\n",
       "      <td>Intersection</td>\n",
       "    </tr>\n",
       "    <tr>\n",
       "      <th>16859</th>\n",
       "      <td>Non Intersection</td>\n",
       "      <td>Mid-Block</td>\n",
       "    </tr>\n",
       "  </tbody>\n",
       "</table>\n",
       "<p>16860 rows × 2 columns</p>\n",
       "</div>"
      ],
      "text/plain": [
       "                 ACCLOC      LOCCOORD\n",
       "0       At Intersection  Intersection\n",
       "1       At Intersection  Intersection\n",
       "2       At Intersection  Intersection\n",
       "3       At Intersection  Intersection\n",
       "4                   NaN     Mid-Block\n",
       "...                 ...           ...\n",
       "16855  Non Intersection     Mid-Block\n",
       "16856   At Intersection  Intersection\n",
       "16857   At Intersection  Intersection\n",
       "16858   At Intersection  Intersection\n",
       "16859  Non Intersection     Mid-Block\n",
       "\n",
       "[16860 rows x 2 columns]"
      ]
     },
     "execution_count": 308,
     "metadata": {},
     "output_type": "execute_result"
    }
   ],
   "source": [
    "# Analyze the similarites between these two columns\n",
    "df_ksi[['ACCLOC', 'LOCCOORD']]"
   ]
  },
  {
   "cell_type": "code",
   "execution_count": 309,
   "metadata": {},
   "outputs": [
    {
     "data": {
      "text/plain": [
       "ACCLOC      5450\n",
       "LOCCOORD     105\n",
       "dtype: int64"
      ]
     },
     "execution_count": 309,
     "metadata": {},
     "output_type": "execute_result"
    }
   ],
   "source": [
    "# ACCLOC has a much larger number of NaN than LOCCOORD\n",
    "df_ksi[['ACCLOC', 'LOCCOORD']].isna().sum()"
   ]
  },
  {
   "cell_type": "markdown",
   "metadata": {},
   "source": [
    "`Whenever LOCCORD has an NaN value and ACCLOC does note, we'll fill\n",
    "the first column with the values from the latter`"
   ]
  },
  {
   "cell_type": "code",
   "execution_count": 310,
   "metadata": {},
   "outputs": [],
   "source": [
    "#Fill NaN values in LOCCOORD with correspondent values in ACCLOC\n",
    "df_ksi['LOCCOORD'].fillna(df_ksi.ACCLOC[df_ksi['LOCCOORD'].isna()], inplace=True)"
   ]
  },
  {
   "cell_type": "code",
   "execution_count": 311,
   "metadata": {},
   "outputs": [
    {
     "data": {
      "text/plain": [
       "89"
      ]
     },
     "execution_count": 311,
     "metadata": {},
     "output_type": "execute_result"
    }
   ],
   "source": [
    "# 16 LOCCORD's NaN values filled with values from ACCLOC\n",
    "df_ksi.LOCCOORD.isna().sum()"
   ]
  },
  {
   "cell_type": "code",
   "execution_count": 312,
   "metadata": {},
   "outputs": [
    {
     "data": {
      "text/plain": [
       "Intersection                           11141\n",
       "Mid-Block                               5598\n",
       "At/Near Private Drive                     14\n",
       "Exit Ramp Westbound                        5\n",
       "Mid-Block (Abnormal)                       4\n",
       "Exit Ramp Southbound                       3\n",
       "Entrance Ramp Westbound                    2\n",
       "Park, Private Property, Public Lane        2\n",
       "Overpass or Bridge                         2\n",
       "Name: LOCCOORD, dtype: int64"
      ]
     },
     "execution_count": 312,
     "metadata": {},
     "output_type": "execute_result"
    }
   ],
   "source": [
    "df_ksi.LOCCOORD.value_counts()"
   ]
  },
  {
   "cell_type": "code",
   "execution_count": 313,
   "metadata": {},
   "outputs": [],
   "source": [
    "# Replace NaN values\n",
    "df_ksi.LOCCOORD.replace(to_replace = np.nan, value = 'Loccoord_Not_Informed', inplace = True)"
   ]
  },
  {
   "cell_type": "code",
   "execution_count": 314,
   "metadata": {},
   "outputs": [],
   "source": [
    "df_ksi.drop('ACCLOC', axis = 1, inplace = True)"
   ]
  },
  {
   "cell_type": "code",
   "execution_count": 315,
   "metadata": {},
   "outputs": [
    {
     "data": {
      "text/plain": [
       "29"
      ]
     },
     "execution_count": 315,
     "metadata": {},
     "output_type": "execute_result"
    }
   ],
   "source": [
    "df_ksi.TRAFFCTL.isna().sum()"
   ]
  },
  {
   "cell_type": "code",
   "execution_count": 316,
   "metadata": {},
   "outputs": [
    {
     "data": {
      "text/plain": [
       "No Control              8092\n",
       "Traffic Signal          7104\n",
       "Stop Sign               1295\n",
       "Pedestrian Crossover     195\n",
       "Traffic Controller       104\n",
       "Yield Sign                16\n",
       "Streetcar (Stop for)      16\n",
       "Traffic Gate               5\n",
       "School Guard               2\n",
       "Police Control             2\n",
       "Name: TRAFFCTL, dtype: int64"
      ]
     },
     "execution_count": 316,
     "metadata": {},
     "output_type": "execute_result"
    }
   ],
   "source": [
    "# Traffic control seems to be relevant for our predictive model\n",
    "df_ksi.TRAFFCTL.value_counts()"
   ]
  },
  {
   "cell_type": "code",
   "execution_count": 317,
   "metadata": {},
   "outputs": [],
   "source": [
    "# Replace NaN values\n",
    "df_ksi.TRAFFCTL.replace(to_replace = np.nan, value = 'Traffctl_Not_Informed', inplace = True)"
   ]
  },
  {
   "cell_type": "code",
   "execution_count": 318,
   "metadata": {},
   "outputs": [
    {
     "data": {
      "text/plain": [
       "18"
      ]
     },
     "execution_count": 318,
     "metadata": {},
     "output_type": "execute_result"
    }
   ],
   "source": [
    "df_ksi.VISIBILITY.isna().sum()"
   ]
  },
  {
   "cell_type": "code",
   "execution_count": 319,
   "metadata": {},
   "outputs": [],
   "source": [
    "# Merge 'Other and NaN into a new category'\n",
    "df_ksi.VISIBILITY.replace(to_replace = ['Other', np.nan], value = 'Other_Visibility', inplace = True)"
   ]
  },
  {
   "cell_type": "code",
   "execution_count": 321,
   "metadata": {},
   "outputs": [
    {
     "data": {
      "text/plain": [
       "Clear                     14476\n",
       "Rain                       1819\n",
       "Snow                        332\n",
       "Other_Visibility            117\n",
       "Fog, Mist, Smoke, Dust       46\n",
       "Freezing Rain                43\n",
       "Drifting Snow                19\n",
       "Strong wind                   8\n",
       "Name: VISIBILITY, dtype: int64"
      ]
     },
     "execution_count": 321,
     "metadata": {},
     "output_type": "execute_result"
    }
   ],
   "source": [
    "df_ksi.VISIBILITY.value_counts()"
   ]
  },
  {
   "cell_type": "code",
   "execution_count": 322,
   "metadata": {},
   "outputs": [
    {
     "data": {
      "text/plain": [
       "Dry                      13435\n",
       "Wet                       2870\n",
       "Other_Road_Conditions      170\n",
       "Loose Snow                 166\n",
       "Slush                       96\n",
       "Ice                         73\n",
       "Packed Snow                 42\n",
       "Loose Sand or Gravel         7\n",
       "Spilled liquid               1\n",
       "Name: RDSFCOND, dtype: int64"
      ]
     },
     "execution_count": 322,
     "metadata": {},
     "output_type": "execute_result"
    }
   ],
   "source": [
    "df_ksi.RDSFCOND.value_counts()"
   ]
  },
  {
   "cell_type": "code",
   "execution_count": 323,
   "metadata": {},
   "outputs": [
    {
     "data": {
      "text/plain": [
       "0"
      ]
     },
     "execution_count": 323,
     "metadata": {},
     "output_type": "execute_result"
    }
   ],
   "source": [
    "df_ksi.RDSFCOND.isna().sum()"
   ]
  },
  {
   "cell_type": "code",
   "execution_count": 324,
   "metadata": {},
   "outputs": [],
   "source": [
    "# Merge 'Other' and NaN into 'Other_Road_Conditions'\n",
    "df_ksi.RDSFCOND.replace(to_replace = ['Other', np.nan], value = 'Other_Road_Conditions', inplace = True)"
   ]
  },
  {
   "cell_type": "code",
   "execution_count": 325,
   "metadata": {},
   "outputs": [
    {
     "data": {
      "text/plain": [
       "Dry                      13435\n",
       "Wet                       2870\n",
       "Other_Road_Conditions      170\n",
       "Loose Snow                 166\n",
       "Slush                       96\n",
       "Ice                         73\n",
       "Packed Snow                 42\n",
       "Loose Sand or Gravel         7\n",
       "Spilled liquid               1\n",
       "Name: RDSFCOND, dtype: int64"
      ]
     },
     "execution_count": 325,
     "metadata": {},
     "output_type": "execute_result"
    }
   ],
   "source": [
    "df_ksi.RDSFCOND.value_counts()"
   ]
  },
  {
   "cell_type": "code",
   "execution_count": 326,
   "metadata": {},
   "outputs": [],
   "source": [
    "# Merge 'Other' and NaN into 'Other_Impact_Type'\n",
    "df_ksi.IMPACTYPE.replace(to_replace = ['Other', np.nan], value = 'Other_Impact_Type', inplace = True)"
   ]
  },
  {
   "cell_type": "code",
   "execution_count": 327,
   "metadata": {},
   "outputs": [
    {
     "data": {
      "text/plain": [
       "Pedestrian Collisions     6811\n",
       "Turning Movement          2552\n",
       "Cyclist Collisions        1674\n",
       "Rear End                  1602\n",
       "SMV Other                 1312\n",
       "Angle                     1206\n",
       "Approaching                870\n",
       "Sideswipe                  466\n",
       "Other_Impact_Type          186\n",
       "SMV Unattended Vehicle     181\n",
       "Name: IMPACTYPE, dtype: int64"
      ]
     },
     "execution_count": 327,
     "metadata": {},
     "output_type": "execute_result"
    }
   ],
   "source": [
    "df_ksi.IMPACTYPE.value_counts()"
   ]
  },
  {
   "cell_type": "code",
   "execution_count": 328,
   "metadata": {},
   "outputs": [
    {
     "data": {
      "text/plain": [
       "Driver                  7618\n",
       "Pedestrian              2871\n",
       "Passenger               2543\n",
       "Vehicle Owner           1636\n",
       "Cyclist                  726\n",
       "Motorcycle Driver        607\n",
       "Truck Driver             316\n",
       "Other Property Owner     257\n",
       "Other                    174\n",
       "Motorcycle Passenger      32\n",
       "Moped Driver              27\n",
       "Driver - Not Hit          17\n",
       "Wheelchair                13\n",
       "In-Line Skater             5\n",
       "Trailer Owner              2\n",
       "Cyclist Passenger          2\n",
       "Pedestrian - Not Hit       1\n",
       "Witness                    1\n",
       "Name: INVTYPE, dtype: int64"
      ]
     },
     "execution_count": 328,
     "metadata": {},
     "output_type": "execute_result"
    }
   ],
   "source": [
    "df_ksi.INVTYPE.value_counts()"
   ]
  },
  {
   "cell_type": "code",
   "execution_count": 329,
   "metadata": {},
   "outputs": [],
   "source": [
    "# Drop Involvement type, since it seems to overlap with other features' information \n",
    "df_ksi.drop('INVTYPE', axis = 1, inplace = True)"
   ]
  },
  {
   "cell_type": "code",
   "execution_count": 330,
   "metadata": {},
   "outputs": [
    {
     "data": {
      "text/plain": [
       "None       6406\n",
       "Major      5668\n",
       "Minor      1311\n",
       "Minimal    1042\n",
       "Fatal       821\n",
       "Name: INJURY, dtype: int64"
      ]
     },
     "execution_count": 330,
     "metadata": {},
     "output_type": "execute_result"
    }
   ],
   "source": [
    "df_ksi.INJURY.value_counts()"
   ]
  },
  {
   "cell_type": "code",
   "execution_count": 331,
   "metadata": {},
   "outputs": [
    {
     "data": {
      "text/plain": [
       "1612"
      ]
     },
     "execution_count": 331,
     "metadata": {},
     "output_type": "execute_result"
    }
   ],
   "source": [
    "df_ksi.INJURY.isna().sum()"
   ]
  },
  {
   "cell_type": "code",
   "execution_count": 332,
   "metadata": {},
   "outputs": [],
   "source": [
    "# Inkury also seems to be relevant\n",
    "df_ksi.INJURY.replace(to_replace = np.nan, value = 'Injury_Not_Disclosed', inplace = True)"
   ]
  },
  {
   "cell_type": "code",
   "execution_count": 333,
   "metadata": {},
   "outputs": [
    {
     "data": {
      "text/plain": [
       "16147"
      ]
     },
     "execution_count": 333,
     "metadata": {},
     "output_type": "execute_result"
    }
   ],
   "source": [
    "df_ksi.FATAL_NO.isna().sum()"
   ]
  },
  {
   "cell_type": "code",
   "execution_count": 334,
   "metadata": {},
   "outputs": [],
   "source": [
    "# Fatal number is merely an identifier\n",
    "df_ksi.drop('FATAL_NO', axis = 1, inplace = True)"
   ]
  },
  {
   "cell_type": "code",
   "execution_count": 335,
   "metadata": {},
   "outputs": [
    {
     "data": {
      "text/plain": [
       "East       3010\n",
       "West       2900\n",
       "North      2813\n",
       "South      2809\n",
       "Unknown     434\n",
       "Name: INITDIR, dtype: int64"
      ]
     },
     "execution_count": 335,
     "metadata": {},
     "output_type": "execute_result"
    }
   ],
   "source": [
    "df_ksi.INITDIR.value_counts()"
   ]
  },
  {
   "cell_type": "code",
   "execution_count": 336,
   "metadata": {},
   "outputs": [
    {
     "data": {
      "text/plain": [
       "4894"
      ]
     },
     "execution_count": 336,
     "metadata": {},
     "output_type": "execute_result"
    }
   ],
   "source": [
    "df_ksi.INITDIR.isna().sum()"
   ]
  },
  {
   "cell_type": "code",
   "execution_count": 337,
   "metadata": {},
   "outputs": [],
   "source": [
    "# Drop 'INITDIR' to reduce dimension and model complexity\n",
    "df_ksi.drop('INITDIR', axis = 1, inplace = True)"
   ]
  },
  {
   "cell_type": "code",
   "execution_count": 338,
   "metadata": {},
   "outputs": [
    {
     "data": {
      "text/plain": [
       "Automobile, Station Wagon           6890\n",
       "Other                               4746\n",
       "Bicycle                              722\n",
       "Motorcycle                           608\n",
       "Municipal Transit Bus (TTC)          249\n",
       "Pick Up Truck                        179\n",
       "Truck - Open                         175\n",
       "Passenger Van                        118\n",
       "Delivery Van                          72\n",
       "Truck - Closed (Blazer, etc)          60\n",
       "Street Car                            42\n",
       "Truck - Dump                          34\n",
       "Truck-Tractor                         33\n",
       "Taxi                                  28\n",
       "Moped                                 22\n",
       "Truck (other)                         13\n",
       "Bus (Other) (Go Bus, Gray Coach)      13\n",
       "Truck - Tank                          10\n",
       "Intercity Bus                         10\n",
       "School Bus                             5\n",
       "Police Vehicle                         4\n",
       "Construction Equipment                 4\n",
       "Tow Truck                              4\n",
       "Fire Vehicle                           3\n",
       "Other Emergency Vehicle                1\n",
       "Off Road - 2 Wheels                    1\n",
       "Truck - Car Carrier                    1\n",
       "Name: VEHTYPE, dtype: int64"
      ]
     },
     "execution_count": 338,
     "metadata": {},
     "output_type": "execute_result"
    }
   ],
   "source": [
    "df_ksi.VEHTYPE.value_counts()"
   ]
  },
  {
   "cell_type": "code",
   "execution_count": 339,
   "metadata": {},
   "outputs": [],
   "source": [
    "# Drop 'VEHTYPE' to reduce dimensions and model complexity\n",
    "# The most relevant information contained here is replicated in other columns\n",
    "df_ksi.drop('VEHTYPE', axis = 1, inplace = True)"
   ]
  },
  {
   "cell_type": "code",
   "execution_count": 340,
   "metadata": {},
   "outputs": [
    {
     "data": {
      "text/plain": [
       "7233"
      ]
     },
     "execution_count": 340,
     "metadata": {},
     "output_type": "execute_result"
    }
   ],
   "source": [
    "df_ksi.MANOEUVER.isna().sum()"
   ]
  },
  {
   "cell_type": "code",
   "execution_count": 341,
   "metadata": {},
   "outputs": [
    {
     "data": {
      "text/plain": [
       "Going Ahead                            5694\n",
       "Turning Left                           1630\n",
       "Stopped                                 576\n",
       "Turning Right                           432\n",
       "Slowing or Stopping                     249\n",
       "Changing Lanes                          203\n",
       "Other                                   176\n",
       "Parked                                  175\n",
       "Unknown                                 120\n",
       "Reversing                               113\n",
       "Making U Turn                            99\n",
       "Overtaking                               87\n",
       "Pulling Away from Shoulder or Curb       38\n",
       "Merging                                  17\n",
       "Pulling Onto Shoulder or towardCurb      14\n",
       "Disabled                                  4\n",
       "Name: MANOEUVER, dtype: int64"
      ]
     },
     "execution_count": 341,
     "metadata": {},
     "output_type": "execute_result"
    }
   ],
   "source": [
    "df_ksi.MANOEUVER.value_counts()"
   ]
  },
  {
   "cell_type": "code",
   "execution_count": 342,
   "metadata": {},
   "outputs": [],
   "source": [
    "# Drop 'MANOUVER' to reduce dimensions and model complexity\n",
    "df_ksi.drop('MANOEUVER', axis = 1, inplace = True)"
   ]
  },
  {
   "cell_type": "code",
   "execution_count": 343,
   "metadata": {},
   "outputs": [],
   "source": [
    "# Driver Action seems relevant\n",
    "df_ksi.DRIVACT.replace(to_replace = ['Other', np.nan], value = 'Other_Driver_Action', inplace = True)"
   ]
  },
  {
   "cell_type": "code",
   "execution_count": 344,
   "metadata": {},
   "outputs": [
    {
     "data": {
      "text/plain": [
       "Normal                                5407\n",
       "Inattentive                           1412\n",
       "Unknown                                988\n",
       "Medical or Physical Disability         166\n",
       "Had Been Drinking                      152\n",
       "Ability Impaired, Alcohol Over .08     120\n",
       "Ability Impaired, Alcohol              111\n",
       "Fatigue                                 48\n",
       "Other                                   43\n",
       "Ability Impaired, Drugs                 17\n",
       "Name: DRIVCOND, dtype: int64"
      ]
     },
     "execution_count": 344,
     "metadata": {},
     "output_type": "execute_result"
    }
   ],
   "source": [
    "# Driver Condition also seems relevant\n",
    "df_ksi.DRIVCOND.value_counts()"
   ]
  },
  {
   "cell_type": "code",
   "execution_count": 345,
   "metadata": {},
   "outputs": [
    {
     "data": {
      "text/plain": [
       "8396"
      ]
     },
     "execution_count": 345,
     "metadata": {},
     "output_type": "execute_result"
    }
   ],
   "source": [
    "df_ksi.DRIVCOND.isna().sum()"
   ]
  },
  {
   "cell_type": "code",
   "execution_count": 346,
   "metadata": {},
   "outputs": [],
   "source": [
    "df_ksi.DRIVCOND.replace(to_replace = ['Unknown', 'Other', np.nan], value = 'Driver_Condition_Unkown', inplace = True)"
   ]
  },
  {
   "cell_type": "code",
   "execution_count": 347,
   "metadata": {},
   "outputs": [
    {
     "data": {
      "text/plain": [
       "14074"
      ]
     },
     "execution_count": 347,
     "metadata": {},
     "output_type": "execute_result"
    }
   ],
   "source": [
    "df_ksi.PEDTYPE.isna().sum()"
   ]
  },
  {
   "cell_type": "code",
   "execution_count": 348,
   "metadata": {},
   "outputs": [],
   "source": [
    "# Drop 'PEDTYPE' to reduce dimensions and model complexity\n",
    "df_ksi.drop('PEDTYPE', axis = 1, inplace = True)"
   ]
  },
  {
   "cell_type": "code",
   "execution_count": 82,
   "metadata": {},
   "outputs": [
    {
     "data": {
      "text/plain": [
       "14081"
      ]
     },
     "execution_count": 82,
     "metadata": {},
     "output_type": "execute_result"
    }
   ],
   "source": [
    "df_ksi.PEDACT.isna().sum()"
   ]
  },
  {
   "cell_type": "code",
   "execution_count": 83,
   "metadata": {},
   "outputs": [
    {
     "data": {
      "text/plain": [
       "Crossing with right of way               873\n",
       "Crossing, no Traffic Control             647\n",
       "Crossing without right of way            383\n",
       "On Sidewalk or Shoulder                  233\n",
       "Running onto Roadway                     207\n",
       "Other                                    205\n",
       "Crossing, Pedestrian Crossover            58\n",
       "Person Getting on/off Vehicle             36\n",
       "Coming From Behind Parked Vehicle         33\n",
       "Walking on Roadway with Traffic           31\n",
       "Playing or Working on Highway             24\n",
       "Walking on Roadway Against Traffic        20\n",
       "Crossing marked crosswalk without ROW     15\n",
       "Pushing/Working on Vehicle                12\n",
       "Person Getting on/off School Bus           2\n",
       "Name: PEDACT, dtype: int64"
      ]
     },
     "execution_count": 83,
     "metadata": {},
     "output_type": "execute_result"
    }
   ],
   "source": [
    "df_ksi.PEDACT.value_counts()"
   ]
  },
  {
   "cell_type": "code",
   "execution_count": 349,
   "metadata": {},
   "outputs": [],
   "source": [
    "# Drop 'PEDACT' to reduce dimensions and model complexity\n",
    "df_ksi.drop('PEDACT', axis = 1, inplace = True)"
   ]
  },
  {
   "cell_type": "code",
   "execution_count": 85,
   "metadata": {},
   "outputs": [
    {
     "data": {
      "text/plain": [
       "Normal                                1597\n",
       "Inattentive                            496\n",
       "Unknown                                355\n",
       "Had Been Drinking                      205\n",
       "Medical or Physical Disability          66\n",
       "Other                                   56\n",
       "Ability Impaired, Alcohol               38\n",
       "Ability Impaired, Alcohol Over .80      12\n",
       "Ability Impaired, Drugs                  8\n",
       "Fatigue                                  2\n",
       "Name: PEDCOND, dtype: int64"
      ]
     },
     "execution_count": 85,
     "metadata": {},
     "output_type": "execute_result"
    }
   ],
   "source": [
    "df_ksi.PEDCOND.value_counts()"
   ]
  },
  {
   "cell_type": "code",
   "execution_count": 86,
   "metadata": {},
   "outputs": [
    {
     "data": {
      "text/plain": [
       "14025"
      ]
     },
     "execution_count": 86,
     "metadata": {},
     "output_type": "execute_result"
    }
   ],
   "source": [
    "df_ksi.PEDCOND.isna().sum()"
   ]
  },
  {
   "cell_type": "code",
   "execution_count": 350,
   "metadata": {},
   "outputs": [],
   "source": [
    "# Drop 'PEDCOND' to reduce dimensions and model complexity\n",
    "df_ksi.drop('PEDCOND', axis = 1, inplace = True)"
   ]
  },
  {
   "cell_type": "code",
   "execution_count": 88,
   "metadata": {},
   "outputs": [
    {
     "data": {
      "text/plain": [
       "Motorist turned left across cyclists path.                                                       119\n",
       "Cyclist without ROW rides into path of motorist at inter, lnwy, dwy-Cyclist not turn.            106\n",
       "Cyclist and Driver travelling in same direction. One vehicle sideswipes the other.                96\n",
       "Cyclist and Driver travelling in same direction. One vehicle rear-ended the other.                51\n",
       "Cyclist struck opened vehicle door                                                                50\n",
       "Motorist without ROW drives into path of cyclist at inter, lnwy, dwy-Driver not turn.             50\n",
       "Motorist turns right at non-signal Inter.(stop, yield, no cont.,and dwy) and strikes cyclist.     41\n",
       "Cyclist turned left across motorists path.                                                        38\n",
       "Motorist turning right on green or amber at signalized intersection strikes cyclist.              33\n",
       "Motorist turning right on red at signalized intersection strikes cyclist.                         26\n",
       "Insufficient information (to determine cyclist crash type).                                       21\n",
       "Cyclist strikes pedestrian.                                                                       15\n",
       "Cyclist loses control and strikes object (pole, ttc track)                                        13\n",
       "Motorist makes u-turn in-front of cyclist.                                                         8\n",
       "Cyclist strikes a parked vehicle.                                                                  8\n",
       "Cyclist turns right across motorists path                                                          5\n",
       "Motorist reversing struck cyclist.                                                                 5\n",
       "Cyclist rode off sidewalk into road at midblock.                                                   4\n",
       "Cyclist falls off bike - no contact with motorist.                                                 4\n",
       "Motorist loses control and strikes cyclist.                                                        3\n",
       "Cyclist makes u-turn in-front of driver.                                                           2\n",
       "Cyclist struck at PXO(cyclist either travel in same dir. as veh. or ride across xwalk)             2\n",
       "Name: CYCLISTYPE, dtype: int64"
      ]
     },
     "execution_count": 88,
     "metadata": {},
     "output_type": "execute_result"
    }
   ],
   "source": [
    "df_ksi.CYCLISTYPE.value_counts()"
   ]
  },
  {
   "cell_type": "code",
   "execution_count": 89,
   "metadata": {},
   "outputs": [
    {
     "data": {
      "text/plain": [
       "16160"
      ]
     },
     "execution_count": 89,
     "metadata": {},
     "output_type": "execute_result"
    }
   ],
   "source": [
    "df_ksi.CYCLISTYPE.isna().sum()"
   ]
  },
  {
   "cell_type": "code",
   "execution_count": 351,
   "metadata": {},
   "outputs": [],
   "source": [
    "# Drop 'CYCLISTYPE' to reduce dimensions and model complexity\n",
    "df_ksi.drop('CYCLISTYPE', axis = 1, inplace = True)"
   ]
  },
  {
   "cell_type": "code",
   "execution_count": 91,
   "metadata": {},
   "outputs": [
    {
     "data": {
      "text/plain": [
       "Driving Properly                385\n",
       "Disobeyed Traffic Control        79\n",
       "Other                            69\n",
       "Failed to Yield Right of Way     59\n",
       "Lost control                     35\n",
       "Improper Turn                    24\n",
       "Improper Lane Change             21\n",
       "Improper Passing                 19\n",
       "Speed too Fast For Condition      8\n",
       "Following too Close               4\n",
       "Wrong Way on One Way Road         4\n",
       "Name: CYCACT, dtype: int64"
      ]
     },
     "execution_count": 91,
     "metadata": {},
     "output_type": "execute_result"
    }
   ],
   "source": [
    "df_ksi.CYCACT.value_counts()"
   ]
  },
  {
   "cell_type": "code",
   "execution_count": 352,
   "metadata": {},
   "outputs": [
    {
     "data": {
      "text/plain": [
       "16153"
      ]
     },
     "execution_count": 352,
     "metadata": {},
     "output_type": "execute_result"
    }
   ],
   "source": [
    "df_ksi.CYCACT.isna().sum()"
   ]
  },
  {
   "cell_type": "code",
   "execution_count": 353,
   "metadata": {},
   "outputs": [],
   "source": [
    "# Drop 'CYCACT' to reduce dimensions and model complexity\n",
    "df_ksi.drop('CYCACT', axis = 1, inplace = True)"
   ]
  },
  {
   "cell_type": "code",
   "execution_count": 95,
   "metadata": {},
   "outputs": [
    {
     "data": {
      "text/plain": [
       "16154"
      ]
     },
     "execution_count": 95,
     "metadata": {},
     "output_type": "execute_result"
    }
   ],
   "source": [
    "df_ksi.CYCCOND.isna().sum()"
   ]
  },
  {
   "cell_type": "code",
   "execution_count": 354,
   "metadata": {},
   "outputs": [
    {
     "data": {
      "text/plain": [
       "Normal                                488\n",
       "Inattentive                           100\n",
       "Unknown                                70\n",
       "Had Been Drinking                      27\n",
       "Other                                   9\n",
       "Ability Impaired, Alcohol               4\n",
       "Medical or Physical Disability          3\n",
       "Ability Impaired, Drugs                 2\n",
       "Fatigue                                 2\n",
       "Ability Impaired, Alcohol Over .80      1\n",
       "Name: CYCCOND, dtype: int64"
      ]
     },
     "execution_count": 354,
     "metadata": {},
     "output_type": "execute_result"
    }
   ],
   "source": [
    "df_ksi.CYCCOND.value_counts()"
   ]
  },
  {
   "cell_type": "code",
   "execution_count": 355,
   "metadata": {},
   "outputs": [],
   "source": [
    "# Drop 'CYCCOND' due to the number of NaN values and to reduce model complexity\n",
    "df_ksi.drop('CYCCOND', axis = 1, inplace = True)"
   ]
  },
  {
   "cell_type": "markdown",
   "metadata": {},
   "source": [
    "### Keep the categories of those involved in the accident"
   ]
  },
  {
   "cell_type": "code",
   "execution_count": 97,
   "metadata": {},
   "outputs": [
    {
     "data": {
      "text/plain": [
       "10033"
      ]
     },
     "execution_count": 97,
     "metadata": {},
     "output_type": "execute_result"
    }
   ],
   "source": [
    "df_ksi.PEDESTRIAN.isna().sum()"
   ]
  },
  {
   "cell_type": "code",
   "execution_count": 98,
   "metadata": {},
   "outputs": [
    {
     "data": {
      "text/plain": [
       "Yes    6827\n",
       "Name: PEDESTRIAN, dtype: int64"
      ]
     },
     "execution_count": 98,
     "metadata": {},
     "output_type": "execute_result"
    }
   ],
   "source": [
    "df_ksi.PEDESTRIAN.value_counts()"
   ]
  },
  {
   "cell_type": "code",
   "execution_count": 99,
   "metadata": {},
   "outputs": [],
   "source": [
    "df_ksi.PEDESTRIAN = df_ksi.PEDESTRIAN.map({'Yes': 1,\n",
    "                                          np.nan: 0})"
   ]
  },
  {
   "cell_type": "code",
   "execution_count": 100,
   "metadata": {},
   "outputs": [
    {
     "data": {
      "text/plain": [
       "15081"
      ]
     },
     "execution_count": 100,
     "metadata": {},
     "output_type": "execute_result"
    }
   ],
   "source": [
    "df_ksi.CYCLIST.isna().sum()"
   ]
  },
  {
   "cell_type": "code",
   "execution_count": 101,
   "metadata": {},
   "outputs": [],
   "source": [
    "df_ksi.CYCLIST = df_ksi.CYCLIST.map({'Yes': 1,\n",
    "                                          np.nan: 0})"
   ]
  },
  {
   "cell_type": "code",
   "execution_count": 102,
   "metadata": {},
   "outputs": [
    {
     "data": {
      "text/plain": [
       "1552"
      ]
     },
     "execution_count": 102,
     "metadata": {},
     "output_type": "execute_result"
    }
   ],
   "source": [
    "df_ksi.AUTOMOBILE.isna().sum()"
   ]
  },
  {
   "cell_type": "code",
   "execution_count": 103,
   "metadata": {},
   "outputs": [
    {
     "data": {
      "text/plain": [
       "Yes    15308\n",
       "Name: AUTOMOBILE, dtype: int64"
      ]
     },
     "execution_count": 103,
     "metadata": {},
     "output_type": "execute_result"
    }
   ],
   "source": [
    "df_ksi.AUTOMOBILE.value_counts()"
   ]
  },
  {
   "cell_type": "code",
   "execution_count": 104,
   "metadata": {},
   "outputs": [],
   "source": [
    "df_ksi.AUTOMOBILE = df_ksi.AUTOMOBILE.map({'Yes': 1,\n",
    "                                          np.nan: 0})"
   ]
  },
  {
   "cell_type": "code",
   "execution_count": 105,
   "metadata": {},
   "outputs": [
    {
     "data": {
      "text/plain": [
       "Yes    1384\n",
       "Name: MOTORCYCLE, dtype: int64"
      ]
     },
     "execution_count": 105,
     "metadata": {},
     "output_type": "execute_result"
    }
   ],
   "source": [
    "df_ksi.MOTORCYCLE.value_counts()"
   ]
  },
  {
   "cell_type": "code",
   "execution_count": 106,
   "metadata": {},
   "outputs": [],
   "source": [
    "df_ksi.MOTORCYCLE = df_ksi.MOTORCYCLE.map({'Yes': 1,\n",
    "                                          np.nan: 0})"
   ]
  },
  {
   "cell_type": "code",
   "execution_count": 107,
   "metadata": {},
   "outputs": [
    {
     "data": {
      "text/plain": [
       "15818"
      ]
     },
     "execution_count": 107,
     "metadata": {},
     "output_type": "execute_result"
    }
   ],
   "source": [
    "df_ksi.TRUCK.isna().sum()"
   ]
  },
  {
   "cell_type": "code",
   "execution_count": 108,
   "metadata": {},
   "outputs": [
    {
     "data": {
      "text/plain": [
       "Yes    1042\n",
       "Name: TRUCK, dtype: int64"
      ]
     },
     "execution_count": 108,
     "metadata": {},
     "output_type": "execute_result"
    }
   ],
   "source": [
    "df_ksi.TRUCK.value_counts()"
   ]
  },
  {
   "cell_type": "code",
   "execution_count": 109,
   "metadata": {},
   "outputs": [],
   "source": [
    "df_ksi.TRUCK = df_ksi.TRUCK.map({'Yes': 1,\n",
    "                                np.nan: 0})"
   ]
  },
  {
   "cell_type": "code",
   "execution_count": 111,
   "metadata": {},
   "outputs": [
    {
     "data": {
      "text/plain": [
       "15849"
      ]
     },
     "execution_count": 111,
     "metadata": {},
     "output_type": "execute_result"
    }
   ],
   "source": [
    "df_ksi.TRSN_CITY_VEH.isna().sum()"
   ]
  },
  {
   "cell_type": "code",
   "execution_count": 112,
   "metadata": {},
   "outputs": [
    {
     "data": {
      "text/plain": [
       "Yes    1011\n",
       "Name: TRSN_CITY_VEH, dtype: int64"
      ]
     },
     "execution_count": 112,
     "metadata": {},
     "output_type": "execute_result"
    }
   ],
   "source": [
    "df_ksi.TRSN_CITY_VEH.value_counts()"
   ]
  },
  {
   "cell_type": "code",
   "execution_count": 113,
   "metadata": {},
   "outputs": [],
   "source": [
    "df_ksi.TRSN_CITY_VEH = df_ksi.TRSN_CITY_VEH.map({'Yes': 1,\n",
    "                                                np.nan: 0})"
   ]
  },
  {
   "cell_type": "code",
   "execution_count": 114,
   "metadata": {},
   "outputs": [
    {
     "data": {
      "text/plain": [
       "16829"
      ]
     },
     "execution_count": 114,
     "metadata": {},
     "output_type": "execute_result"
    }
   ],
   "source": [
    "df_ksi.EMERG_VEH.isna().sum()"
   ]
  },
  {
   "cell_type": "code",
   "execution_count": 115,
   "metadata": {},
   "outputs": [
    {
     "data": {
      "text/plain": [
       "Yes    31\n",
       "Name: EMERG_VEH, dtype: int64"
      ]
     },
     "execution_count": 115,
     "metadata": {},
     "output_type": "execute_result"
    }
   ],
   "source": [
    "df_ksi.EMERG_VEH.value_counts()"
   ]
  },
  {
   "cell_type": "code",
   "execution_count": 116,
   "metadata": {},
   "outputs": [],
   "source": [
    "df_ksi.EMERG_VEH = df_ksi.EMERG_VEH.map({'Yes': 1,\n",
    "                                        np.nan: 0})"
   ]
  },
  {
   "cell_type": "code",
   "execution_count": 117,
   "metadata": {},
   "outputs": [
    {
     "data": {
      "text/plain": [
       "Yes    6362\n",
       "Name: PASSENGER, dtype: int64"
      ]
     },
     "execution_count": 117,
     "metadata": {},
     "output_type": "execute_result"
    }
   ],
   "source": [
    "df_ksi.PASSENGER.value_counts()"
   ]
  },
  {
   "cell_type": "code",
   "execution_count": 118,
   "metadata": {},
   "outputs": [
    {
     "data": {
      "text/plain": [
       "10498"
      ]
     },
     "execution_count": 118,
     "metadata": {},
     "output_type": "execute_result"
    }
   ],
   "source": [
    "df_ksi.PASSENGER.isna().sum()"
   ]
  },
  {
   "cell_type": "code",
   "execution_count": 119,
   "metadata": {},
   "outputs": [],
   "source": [
    "df_ksi.PASSENGER = df_ksi.PASSENGER.map({'Yes': 1,\n",
    "                                        np.nan: 0})"
   ]
  },
  {
   "cell_type": "code",
   "execution_count": 120,
   "metadata": {},
   "outputs": [
    {
     "data": {
      "text/plain": [
       "0    10498\n",
       "1     6362\n",
       "Name: PASSENGER, dtype: int64"
      ]
     },
     "execution_count": 120,
     "metadata": {},
     "output_type": "execute_result"
    }
   ],
   "source": [
    "df_ksi.PASSENGER.value_counts()"
   ]
  },
  {
   "cell_type": "markdown",
   "metadata": {},
   "source": [
    "### Speeding, Agressive, red light, and alcohol driving seem empirically important for our model"
   ]
  },
  {
   "cell_type": "code",
   "execution_count": 121,
   "metadata": {},
   "outputs": [
    {
     "data": {
      "text/plain": [
       "Yes    2285\n",
       "Name: SPEEDING, dtype: int64"
      ]
     },
     "execution_count": 121,
     "metadata": {},
     "output_type": "execute_result"
    }
   ],
   "source": [
    "df_ksi.SPEEDING.value_counts()"
   ]
  },
  {
   "cell_type": "code",
   "execution_count": 122,
   "metadata": {},
   "outputs": [],
   "source": [
    "df_ksi.SPEEDING = df_ksi.SPEEDING.map({'Yes': 1,\n",
    "                                        np.nan: 0})"
   ]
  },
  {
   "cell_type": "code",
   "execution_count": 123,
   "metadata": {},
   "outputs": [
    {
     "data": {
      "text/plain": [
       "Yes    8703\n",
       "Name: AG_DRIV, dtype: int64"
      ]
     },
     "execution_count": 123,
     "metadata": {},
     "output_type": "execute_result"
    }
   ],
   "source": [
    "df_ksi.AG_DRIV.value_counts()"
   ]
  },
  {
   "cell_type": "code",
   "execution_count": 124,
   "metadata": {},
   "outputs": [],
   "source": [
    "df_ksi.AG_DRIV = df_ksi.AG_DRIV.map({'Yes': 1,\n",
    "                                    np.nan: 0})"
   ]
  },
  {
   "cell_type": "code",
   "execution_count": 125,
   "metadata": {},
   "outputs": [
    {
     "data": {
      "text/plain": [
       "1    8703\n",
       "0    8157\n",
       "Name: AG_DRIV, dtype: int64"
      ]
     },
     "execution_count": 125,
     "metadata": {},
     "output_type": "execute_result"
    }
   ],
   "source": [
    "df_ksi.AG_DRIV.value_counts()"
   ]
  },
  {
   "cell_type": "code",
   "execution_count": 126,
   "metadata": {},
   "outputs": [
    {
     "data": {
      "text/plain": [
       "Yes    1409\n",
       "Name: REDLIGHT, dtype: int64"
      ]
     },
     "execution_count": 126,
     "metadata": {},
     "output_type": "execute_result"
    }
   ],
   "source": [
    "df_ksi.REDLIGHT.value_counts()"
   ]
  },
  {
   "cell_type": "code",
   "execution_count": 127,
   "metadata": {},
   "outputs": [],
   "source": [
    "df_ksi.REDLIGHT = df_ksi.REDLIGHT.map({'Yes': 1,\n",
    "                                        np.nan: 0})"
   ]
  },
  {
   "cell_type": "code",
   "execution_count": 128,
   "metadata": {},
   "outputs": [
    {
     "data": {
      "text/plain": [
       "Yes    739\n",
       "Name: ALCOHOL, dtype: int64"
      ]
     },
     "execution_count": 128,
     "metadata": {},
     "output_type": "execute_result"
    }
   ],
   "source": [
    "df_ksi.ALCOHOL.value_counts()"
   ]
  },
  {
   "cell_type": "code",
   "execution_count": 129,
   "metadata": {},
   "outputs": [],
   "source": [
    "df_ksi.ALCOHOL = df_ksi.ALCOHOL.map({'Yes': 1,\n",
    "                                    np.nan: 0})"
   ]
  },
  {
   "cell_type": "code",
   "execution_count": 130,
   "metadata": {},
   "outputs": [
    {
     "data": {
      "text/plain": [
       "Yes    468\n",
       "Name: DISABILITY, dtype: int64"
      ]
     },
     "execution_count": 130,
     "metadata": {},
     "output_type": "execute_result"
    }
   ],
   "source": [
    "df_ksi.DISABILITY.value_counts()"
   ]
  },
  {
   "cell_type": "code",
   "execution_count": 131,
   "metadata": {},
   "outputs": [],
   "source": [
    "df_ksi.DISABILITY = df_ksi.DISABILITY.map({'Yes': 1,\n",
    "                                           np.nan: 0})"
   ]
  },
  {
   "cell_type": "code",
   "execution_count": 132,
   "metadata": {},
   "outputs": [
    {
     "data": {
      "text/plain": [
       "D42    1664\n",
       "D41    1297\n",
       "D22    1202\n",
       "D32    1193\n",
       "D23    1164\n",
       "D14    1163\n",
       "D43    1024\n",
       "D52     947\n",
       "D51     883\n",
       "D31     878\n",
       "D53     877\n",
       "D33     851\n",
       "D55     816\n",
       "D11     809\n",
       "D13     794\n",
       "D12     737\n",
       "D54     561\n",
       "Name: POLICE_DIVISION, dtype: int64"
      ]
     },
     "execution_count": 132,
     "metadata": {},
     "output_type": "execute_result"
    }
   ],
   "source": [
    "df_ksi.POLICE_DIVISION.value_counts()"
   ]
  },
  {
   "cell_type": "code",
   "execution_count": 133,
   "metadata": {},
   "outputs": [
    {
     "data": {
      "text/plain": [
       "77     646\n",
       "1      515\n",
       "76     394\n",
       "131    378\n",
       "137    369\n",
       "      ... \n",
       "67      25\n",
       "105     24\n",
       "140     21\n",
       "29      20\n",
       "114     13\n",
       "Name: HOOD_ID, Length: 140, dtype: int64"
      ]
     },
     "execution_count": 133,
     "metadata": {},
     "output_type": "execute_result"
    }
   ],
   "source": [
    "df_ksi.HOOD_ID.value_counts()"
   ]
  },
  {
   "cell_type": "code",
   "execution_count": 134,
   "metadata": {},
   "outputs": [
    {
     "data": {
      "text/plain": [
       "Waterfront Communities-The Island (77)    646\n",
       "West Humber-Clairville (1)                515\n",
       "Bay Street Corridor (76)                  394\n",
       "Rouge (131)                               378\n",
       "Woburn (137)                              369\n",
       "                                         ... \n",
       "Playter Estates-Danforth (67)              25\n",
       "Lawrence Park North (105)                  24\n",
       "Guildwood (140)                            21\n",
       "Maple Leaf (29)                            20\n",
       "Lambton Baby Point (114)                   13\n",
       "Name: NEIGHBOURHOOD, Length: 140, dtype: int64"
      ]
     },
     "execution_count": 134,
     "metadata": {},
     "output_type": "execute_result"
    }
   ],
   "source": [
    "df_ksi.NEIGHBOURHOOD.value_counts()"
   ]
  },
  {
   "cell_type": "code",
   "execution_count": 356,
   "metadata": {},
   "outputs": [],
   "source": [
    "# Drop these location columns and IDs to simplify the model\n",
    "df_ksi.drop(['HOOD_ID','ObjectId', 'POLICE_DIVISION', 'NEIGHBOURHOOD'], axis = 1, inplace = True)"
   ]
  },
  {
   "cell_type": "code",
   "execution_count": 357,
   "metadata": {},
   "outputs": [
    {
     "name": "stdout",
     "output_type": "stream",
     "text": [
      "<class 'pandas.core.frame.DataFrame'>\n",
      "RangeIndex: 16860 entries, 0 to 16859\n",
      "Data columns (total 33 columns):\n",
      " #   Column         Non-Null Count  Dtype  \n",
      "---  ------         --------------  -----  \n",
      " 0   MONTH          16860 non-null  int64  \n",
      " 1   DAY            16860 non-null  int64  \n",
      " 2   TIME           16860 non-null  int64  \n",
      " 3   STREET1        16860 non-null  object \n",
      " 4   STREET2        15350 non-null  object \n",
      " 5   ROAD_CLASS     16860 non-null  object \n",
      " 6   DISTRICT       16860 non-null  object \n",
      " 7   LATITUDE       16860 non-null  float64\n",
      " 8   LONGITUDE      16860 non-null  float64\n",
      " 9   LOCCOORD       16860 non-null  object \n",
      " 10  TRAFFCTL       16860 non-null  object \n",
      " 11  VISIBILITY     16860 non-null  object \n",
      " 12  LIGHT          16860 non-null  object \n",
      " 13  RDSFCOND       16860 non-null  object \n",
      " 14  IMPACTYPE      16860 non-null  object \n",
      " 15  INVAGE         16860 non-null  object \n",
      " 16  INJURY         16860 non-null  object \n",
      " 17  DRIVACT        16860 non-null  object \n",
      " 18  DRIVCOND       16860 non-null  object \n",
      " 19  PEDESTRIAN     6827 non-null   object \n",
      " 20  CYCLIST        1779 non-null   object \n",
      " 21  AUTOMOBILE     15308 non-null  object \n",
      " 22  MOTORCYCLE     1384 non-null   object \n",
      " 23  TRUCK          1042 non-null   object \n",
      " 24  TRSN_CITY_VEH  1011 non-null   object \n",
      " 25  EMERG_VEH      31 non-null     object \n",
      " 26  PASSENGER      6362 non-null   object \n",
      " 27  SPEEDING       2285 non-null   object \n",
      " 28  AG_DRIV        8703 non-null   object \n",
      " 29  REDLIGHT       1409 non-null   object \n",
      " 30  ALCOHOL        739 non-null    object \n",
      " 31  DISABILITY     468 non-null    object \n",
      " 32  ACCLASS        16860 non-null  object \n",
      "dtypes: float64(2), int64(3), object(28)\n",
      "memory usage: 4.2+ MB\n"
     ]
    }
   ],
   "source": [
    "# All columns are now integral\n",
    "df_ksi.info()"
   ]
  },
  {
   "cell_type": "code",
   "execution_count": 358,
   "metadata": {},
   "outputs": [],
   "source": [
    "# Create a copy of the dataset to prepare for transformation\n",
    "df_pipeline = df_ksi.copy()"
   ]
  },
  {
   "cell_type": "code",
   "execution_count": 359,
   "metadata": {},
   "outputs": [
    {
     "data": {
      "text/html": [
       "<div>\n",
       "<style scoped>\n",
       "    .dataframe tbody tr th:only-of-type {\n",
       "        vertical-align: middle;\n",
       "    }\n",
       "\n",
       "    .dataframe tbody tr th {\n",
       "        vertical-align: top;\n",
       "    }\n",
       "\n",
       "    .dataframe thead th {\n",
       "        text-align: right;\n",
       "    }\n",
       "</style>\n",
       "<table border=\"1\" class=\"dataframe\">\n",
       "  <thead>\n",
       "    <tr style=\"text-align: right;\">\n",
       "      <th></th>\n",
       "      <th>MONTH</th>\n",
       "      <th>DAY</th>\n",
       "      <th>TIME</th>\n",
       "      <th>STREET1</th>\n",
       "      <th>STREET2</th>\n",
       "      <th>ROAD_CLASS</th>\n",
       "      <th>DISTRICT</th>\n",
       "      <th>LATITUDE</th>\n",
       "      <th>LONGITUDE</th>\n",
       "      <th>LOCCOORD</th>\n",
       "      <th>TRAFFCTL</th>\n",
       "      <th>VISIBILITY</th>\n",
       "      <th>LIGHT</th>\n",
       "      <th>RDSFCOND</th>\n",
       "      <th>IMPACTYPE</th>\n",
       "      <th>INVAGE</th>\n",
       "      <th>INJURY</th>\n",
       "      <th>DRIVACT</th>\n",
       "      <th>DRIVCOND</th>\n",
       "      <th>PEDESTRIAN</th>\n",
       "      <th>CYCLIST</th>\n",
       "      <th>AUTOMOBILE</th>\n",
       "      <th>MOTORCYCLE</th>\n",
       "      <th>TRUCK</th>\n",
       "      <th>TRSN_CITY_VEH</th>\n",
       "      <th>EMERG_VEH</th>\n",
       "      <th>PASSENGER</th>\n",
       "      <th>SPEEDING</th>\n",
       "      <th>AG_DRIV</th>\n",
       "      <th>REDLIGHT</th>\n",
       "      <th>ALCOHOL</th>\n",
       "      <th>DISABILITY</th>\n",
       "      <th>ACCLASS</th>\n",
       "    </tr>\n",
       "  </thead>\n",
       "  <tbody>\n",
       "    <tr>\n",
       "      <th>0</th>\n",
       "      <td>3</td>\n",
       "      <td>11</td>\n",
       "      <td>852</td>\n",
       "      <td>BLOOR ST W</td>\n",
       "      <td>DUNDAS ST W</td>\n",
       "      <td>Major Arterial</td>\n",
       "      <td>Toronto and East York</td>\n",
       "      <td>43.656345</td>\n",
       "      <td>-79.452490</td>\n",
       "      <td>Intersection</td>\n",
       "      <td>Traffic Signal</td>\n",
       "      <td>Clear</td>\n",
       "      <td>Daylight</td>\n",
       "      <td>Dry</td>\n",
       "      <td>Pedestrian Collisions</td>\n",
       "      <td>unknown</td>\n",
       "      <td>None</td>\n",
       "      <td>Failed to Yield Right of Way</td>\n",
       "      <td>Driver_Condition_Unkown</td>\n",
       "      <td>Yes</td>\n",
       "      <td>NaN</td>\n",
       "      <td>Yes</td>\n",
       "      <td>NaN</td>\n",
       "      <td>NaN</td>\n",
       "      <td>NaN</td>\n",
       "      <td>NaN</td>\n",
       "      <td>NaN</td>\n",
       "      <td>NaN</td>\n",
       "      <td>Yes</td>\n",
       "      <td>NaN</td>\n",
       "      <td>NaN</td>\n",
       "      <td>NaN</td>\n",
       "      <td>Fatal</td>\n",
       "    </tr>\n",
       "    <tr>\n",
       "      <th>1</th>\n",
       "      <td>3</td>\n",
       "      <td>11</td>\n",
       "      <td>852</td>\n",
       "      <td>BLOOR ST W</td>\n",
       "      <td>DUNDAS ST W</td>\n",
       "      <td>Major Arterial</td>\n",
       "      <td>Toronto and East York</td>\n",
       "      <td>43.656345</td>\n",
       "      <td>-79.452490</td>\n",
       "      <td>Intersection</td>\n",
       "      <td>Traffic Signal</td>\n",
       "      <td>Clear</td>\n",
       "      <td>Daylight</td>\n",
       "      <td>Dry</td>\n",
       "      <td>Pedestrian Collisions</td>\n",
       "      <td>65 to 69</td>\n",
       "      <td>Fatal</td>\n",
       "      <td>Other_Driver_Action</td>\n",
       "      <td>Driver_Condition_Unkown</td>\n",
       "      <td>Yes</td>\n",
       "      <td>NaN</td>\n",
       "      <td>Yes</td>\n",
       "      <td>NaN</td>\n",
       "      <td>NaN</td>\n",
       "      <td>NaN</td>\n",
       "      <td>NaN</td>\n",
       "      <td>NaN</td>\n",
       "      <td>NaN</td>\n",
       "      <td>Yes</td>\n",
       "      <td>NaN</td>\n",
       "      <td>NaN</td>\n",
       "      <td>NaN</td>\n",
       "      <td>Fatal</td>\n",
       "    </tr>\n",
       "    <tr>\n",
       "      <th>2</th>\n",
       "      <td>3</td>\n",
       "      <td>11</td>\n",
       "      <td>915</td>\n",
       "      <td>MORNINGSIDE AVE</td>\n",
       "      <td>SHEPPARD AVE E</td>\n",
       "      <td>Major Arterial</td>\n",
       "      <td>Scarborough</td>\n",
       "      <td>43.801943</td>\n",
       "      <td>-79.199786</td>\n",
       "      <td>Intersection</td>\n",
       "      <td>Traffic Signal</td>\n",
       "      <td>Clear</td>\n",
       "      <td>Daylight</td>\n",
       "      <td>Dry</td>\n",
       "      <td>Turning Movement</td>\n",
       "      <td>45 to 49</td>\n",
       "      <td>Fatal</td>\n",
       "      <td>Disobeyed Traffic Control</td>\n",
       "      <td>Driver_Condition_Unkown</td>\n",
       "      <td>NaN</td>\n",
       "      <td>NaN</td>\n",
       "      <td>Yes</td>\n",
       "      <td>Yes</td>\n",
       "      <td>NaN</td>\n",
       "      <td>NaN</td>\n",
       "      <td>NaN</td>\n",
       "      <td>NaN</td>\n",
       "      <td>NaN</td>\n",
       "      <td>Yes</td>\n",
       "      <td>Yes</td>\n",
       "      <td>NaN</td>\n",
       "      <td>NaN</td>\n",
       "      <td>Fatal</td>\n",
       "    </tr>\n",
       "    <tr>\n",
       "      <th>3</th>\n",
       "      <td>3</td>\n",
       "      <td>11</td>\n",
       "      <td>915</td>\n",
       "      <td>MORNINGSIDE AVE</td>\n",
       "      <td>SHEPPARD AVE E</td>\n",
       "      <td>Major Arterial</td>\n",
       "      <td>Scarborough</td>\n",
       "      <td>43.801943</td>\n",
       "      <td>-79.199786</td>\n",
       "      <td>Intersection</td>\n",
       "      <td>Traffic Signal</td>\n",
       "      <td>Clear</td>\n",
       "      <td>Daylight</td>\n",
       "      <td>Dry</td>\n",
       "      <td>Turning Movement</td>\n",
       "      <td>unknown</td>\n",
       "      <td>None</td>\n",
       "      <td>Driving Properly</td>\n",
       "      <td>Driver_Condition_Unkown</td>\n",
       "      <td>NaN</td>\n",
       "      <td>NaN</td>\n",
       "      <td>Yes</td>\n",
       "      <td>Yes</td>\n",
       "      <td>NaN</td>\n",
       "      <td>NaN</td>\n",
       "      <td>NaN</td>\n",
       "      <td>NaN</td>\n",
       "      <td>NaN</td>\n",
       "      <td>Yes</td>\n",
       "      <td>Yes</td>\n",
       "      <td>NaN</td>\n",
       "      <td>NaN</td>\n",
       "      <td>Fatal</td>\n",
       "    </tr>\n",
       "    <tr>\n",
       "      <th>4</th>\n",
       "      <td>3</td>\n",
       "      <td>12</td>\n",
       "      <td>240</td>\n",
       "      <td>EGLINTON AVE E</td>\n",
       "      <td>COMMONWEALTH AVE</td>\n",
       "      <td>Major Arterial</td>\n",
       "      <td>Scarborough</td>\n",
       "      <td>43.734945</td>\n",
       "      <td>-79.256190</td>\n",
       "      <td>Mid-Block</td>\n",
       "      <td>No Control</td>\n",
       "      <td>Clear</td>\n",
       "      <td>Dark</td>\n",
       "      <td>Dry</td>\n",
       "      <td>Pedestrian Collisions</td>\n",
       "      <td>25 to 29</td>\n",
       "      <td>None</td>\n",
       "      <td>Other_Driver_Action</td>\n",
       "      <td>Ability Impaired, Alcohol</td>\n",
       "      <td>Yes</td>\n",
       "      <td>NaN</td>\n",
       "      <td>Yes</td>\n",
       "      <td>NaN</td>\n",
       "      <td>NaN</td>\n",
       "      <td>NaN</td>\n",
       "      <td>NaN</td>\n",
       "      <td>NaN</td>\n",
       "      <td>NaN</td>\n",
       "      <td>NaN</td>\n",
       "      <td>NaN</td>\n",
       "      <td>Yes</td>\n",
       "      <td>NaN</td>\n",
       "      <td>Fatal</td>\n",
       "    </tr>\n",
       "  </tbody>\n",
       "</table>\n",
       "</div>"
      ],
      "text/plain": [
       "   MONTH  DAY  TIME          STREET1           STREET2      ROAD_CLASS  \\\n",
       "0      3   11   852       BLOOR ST W       DUNDAS ST W  Major Arterial   \n",
       "1      3   11   852       BLOOR ST W       DUNDAS ST W  Major Arterial   \n",
       "2      3   11   915  MORNINGSIDE AVE    SHEPPARD AVE E  Major Arterial   \n",
       "3      3   11   915  MORNINGSIDE AVE    SHEPPARD AVE E  Major Arterial   \n",
       "4      3   12   240   EGLINTON AVE E  COMMONWEALTH AVE  Major Arterial   \n",
       "\n",
       "                DISTRICT   LATITUDE  LONGITUDE      LOCCOORD        TRAFFCTL  \\\n",
       "0  Toronto and East York  43.656345 -79.452490  Intersection  Traffic Signal   \n",
       "1  Toronto and East York  43.656345 -79.452490  Intersection  Traffic Signal   \n",
       "2            Scarborough  43.801943 -79.199786  Intersection  Traffic Signal   \n",
       "3            Scarborough  43.801943 -79.199786  Intersection  Traffic Signal   \n",
       "4            Scarborough  43.734945 -79.256190     Mid-Block      No Control   \n",
       "\n",
       "  VISIBILITY     LIGHT RDSFCOND              IMPACTYPE    INVAGE INJURY  \\\n",
       "0      Clear  Daylight      Dry  Pedestrian Collisions   unknown   None   \n",
       "1      Clear  Daylight      Dry  Pedestrian Collisions  65 to 69  Fatal   \n",
       "2      Clear  Daylight      Dry       Turning Movement  45 to 49  Fatal   \n",
       "3      Clear  Daylight      Dry       Turning Movement   unknown   None   \n",
       "4      Clear      Dark      Dry  Pedestrian Collisions  25 to 29   None   \n",
       "\n",
       "                        DRIVACT                   DRIVCOND PEDESTRIAN CYCLIST  \\\n",
       "0  Failed to Yield Right of Way    Driver_Condition_Unkown        Yes     NaN   \n",
       "1           Other_Driver_Action    Driver_Condition_Unkown        Yes     NaN   \n",
       "2     Disobeyed Traffic Control    Driver_Condition_Unkown        NaN     NaN   \n",
       "3              Driving Properly    Driver_Condition_Unkown        NaN     NaN   \n",
       "4           Other_Driver_Action  Ability Impaired, Alcohol        Yes     NaN   \n",
       "\n",
       "  AUTOMOBILE MOTORCYCLE TRUCK TRSN_CITY_VEH EMERG_VEH PASSENGER SPEEDING  \\\n",
       "0        Yes        NaN   NaN           NaN       NaN       NaN      NaN   \n",
       "1        Yes        NaN   NaN           NaN       NaN       NaN      NaN   \n",
       "2        Yes        Yes   NaN           NaN       NaN       NaN      NaN   \n",
       "3        Yes        Yes   NaN           NaN       NaN       NaN      NaN   \n",
       "4        Yes        NaN   NaN           NaN       NaN       NaN      NaN   \n",
       "\n",
       "  AG_DRIV REDLIGHT ALCOHOL DISABILITY ACCLASS  \n",
       "0     Yes      NaN     NaN        NaN   Fatal  \n",
       "1     Yes      NaN     NaN        NaN   Fatal  \n",
       "2     Yes      Yes     NaN        NaN   Fatal  \n",
       "3     Yes      Yes     NaN        NaN   Fatal  \n",
       "4     NaN      NaN     Yes        NaN   Fatal  "
      ]
     },
     "execution_count": 359,
     "metadata": {},
     "output_type": "execute_result"
    }
   ],
   "source": [
    "df_pipeline.head()"
   ]
  },
  {
   "cell_type": "code",
   "execution_count": 360,
   "metadata": {},
   "outputs": [],
   "source": [
    "# Categorical Features\n",
    "df_categorical = df_pipeline.select_dtypes(include = ['object']).drop('ACCLASS', axis = 1)"
   ]
  },
  {
   "cell_type": "code",
   "execution_count": 361,
   "metadata": {},
   "outputs": [],
   "source": [
    "# Numeric Features\n",
    "df_numeric = df_pipeline[['MONTH', 'DAY', 'TIME', 'LATITUDE', 'LONGITUDE']]"
   ]
  },
  {
   "cell_type": "code",
   "execution_count": 199,
   "metadata": {},
   "outputs": [
    {
     "data": {
      "text/html": [
       "<div>\n",
       "<style scoped>\n",
       "    .dataframe tbody tr th:only-of-type {\n",
       "        vertical-align: middle;\n",
       "    }\n",
       "\n",
       "    .dataframe tbody tr th {\n",
       "        vertical-align: top;\n",
       "    }\n",
       "\n",
       "    .dataframe thead th {\n",
       "        text-align: right;\n",
       "    }\n",
       "</style>\n",
       "<table border=\"1\" class=\"dataframe\">\n",
       "  <thead>\n",
       "    <tr style=\"text-align: right;\">\n",
       "      <th></th>\n",
       "      <th>STREET1</th>\n",
       "      <th>STREET2</th>\n",
       "      <th>ROAD_CLASS</th>\n",
       "      <th>DISTRICT</th>\n",
       "      <th>LOCCOORD</th>\n",
       "      <th>TRAFFCTL</th>\n",
       "      <th>VISIBILITY</th>\n",
       "      <th>LIGHT</th>\n",
       "      <th>RDSFCOND</th>\n",
       "      <th>IMPACTYPE</th>\n",
       "      <th>INVAGE</th>\n",
       "      <th>INJURY</th>\n",
       "      <th>DRIVACT</th>\n",
       "      <th>DRIVCOND</th>\n",
       "    </tr>\n",
       "  </thead>\n",
       "  <tbody>\n",
       "    <tr>\n",
       "      <th>0</th>\n",
       "      <td>BLOOR ST W</td>\n",
       "      <td>DUNDAS ST W</td>\n",
       "      <td>Major Arterial</td>\n",
       "      <td>Toronto and East York</td>\n",
       "      <td>Intersection</td>\n",
       "      <td>Traffic Signal</td>\n",
       "      <td>Clear</td>\n",
       "      <td>Daylight</td>\n",
       "      <td>Dry</td>\n",
       "      <td>Pedestrian Collisions</td>\n",
       "      <td>unknown</td>\n",
       "      <td>None</td>\n",
       "      <td>Failed to Yield Right of Way</td>\n",
       "      <td>Driver_Condition_Unkown</td>\n",
       "    </tr>\n",
       "    <tr>\n",
       "      <th>1</th>\n",
       "      <td>BLOOR ST W</td>\n",
       "      <td>DUNDAS ST W</td>\n",
       "      <td>Major Arterial</td>\n",
       "      <td>Toronto and East York</td>\n",
       "      <td>Intersection</td>\n",
       "      <td>Traffic Signal</td>\n",
       "      <td>Clear</td>\n",
       "      <td>Daylight</td>\n",
       "      <td>Dry</td>\n",
       "      <td>Pedestrian Collisions</td>\n",
       "      <td>65 to 69</td>\n",
       "      <td>Fatal</td>\n",
       "      <td>Other_Driver_Action</td>\n",
       "      <td>Driver_Condition_Unkown</td>\n",
       "    </tr>\n",
       "    <tr>\n",
       "      <th>2</th>\n",
       "      <td>MORNINGSIDE AVE</td>\n",
       "      <td>SHEPPARD AVE E</td>\n",
       "      <td>Major Arterial</td>\n",
       "      <td>Scarborough</td>\n",
       "      <td>Intersection</td>\n",
       "      <td>Traffic Signal</td>\n",
       "      <td>Clear</td>\n",
       "      <td>Daylight</td>\n",
       "      <td>Dry</td>\n",
       "      <td>Turning Movement</td>\n",
       "      <td>45 to 49</td>\n",
       "      <td>Fatal</td>\n",
       "      <td>Disobeyed Traffic Control</td>\n",
       "      <td>Driver_Condition_Unkown</td>\n",
       "    </tr>\n",
       "    <tr>\n",
       "      <th>3</th>\n",
       "      <td>MORNINGSIDE AVE</td>\n",
       "      <td>SHEPPARD AVE E</td>\n",
       "      <td>Major Arterial</td>\n",
       "      <td>Scarborough</td>\n",
       "      <td>Intersection</td>\n",
       "      <td>Traffic Signal</td>\n",
       "      <td>Clear</td>\n",
       "      <td>Daylight</td>\n",
       "      <td>Dry</td>\n",
       "      <td>Turning Movement</td>\n",
       "      <td>unknown</td>\n",
       "      <td>None</td>\n",
       "      <td>Driving Properly</td>\n",
       "      <td>Driver_Condition_Unkown</td>\n",
       "    </tr>\n",
       "    <tr>\n",
       "      <th>4</th>\n",
       "      <td>EGLINTON AVE E</td>\n",
       "      <td>COMMONWEALTH AVE</td>\n",
       "      <td>Major Arterial</td>\n",
       "      <td>Scarborough</td>\n",
       "      <td>Mid-Block</td>\n",
       "      <td>No Control</td>\n",
       "      <td>Clear</td>\n",
       "      <td>Dark</td>\n",
       "      <td>Dry</td>\n",
       "      <td>Pedestrian Collisions</td>\n",
       "      <td>25 to 29</td>\n",
       "      <td>None</td>\n",
       "      <td>Other_Driver_Action</td>\n",
       "      <td>Ability Impaired, Alcohol</td>\n",
       "    </tr>\n",
       "  </tbody>\n",
       "</table>\n",
       "</div>"
      ],
      "text/plain": [
       "           STREET1           STREET2      ROAD_CLASS               DISTRICT  \\\n",
       "0       BLOOR ST W       DUNDAS ST W  Major Arterial  Toronto and East York   \n",
       "1       BLOOR ST W       DUNDAS ST W  Major Arterial  Toronto and East York   \n",
       "2  MORNINGSIDE AVE    SHEPPARD AVE E  Major Arterial            Scarborough   \n",
       "3  MORNINGSIDE AVE    SHEPPARD AVE E  Major Arterial            Scarborough   \n",
       "4   EGLINTON AVE E  COMMONWEALTH AVE  Major Arterial            Scarborough   \n",
       "\n",
       "       LOCCOORD        TRAFFCTL VISIBILITY     LIGHT RDSFCOND  \\\n",
       "0  Intersection  Traffic Signal      Clear  Daylight      Dry   \n",
       "1  Intersection  Traffic Signal      Clear  Daylight      Dry   \n",
       "2  Intersection  Traffic Signal      Clear  Daylight      Dry   \n",
       "3  Intersection  Traffic Signal      Clear  Daylight      Dry   \n",
       "4     Mid-Block      No Control      Clear      Dark      Dry   \n",
       "\n",
       "               IMPACTYPE    INVAGE INJURY                       DRIVACT  \\\n",
       "0  Pedestrian Collisions   unknown   None  Failed to Yield Right of Way   \n",
       "1  Pedestrian Collisions  65 to 69  Fatal           Other_Driver_Action   \n",
       "2       Turning Movement  45 to 49  Fatal     Disobeyed Traffic Control   \n",
       "3       Turning Movement   unknown   None              Driving Properly   \n",
       "4  Pedestrian Collisions  25 to 29   None           Other_Driver_Action   \n",
       "\n",
       "                    DRIVCOND  \n",
       "0    Driver_Condition_Unkown  \n",
       "1    Driver_Condition_Unkown  \n",
       "2    Driver_Condition_Unkown  \n",
       "3    Driver_Condition_Unkown  \n",
       "4  Ability Impaired, Alcohol  "
      ]
     },
     "execution_count": 199,
     "metadata": {},
     "output_type": "execute_result"
    }
   ],
   "source": [
    "df_categorical.head()"
   ]
  },
  {
   "cell_type": "code",
   "execution_count": 200,
   "metadata": {},
   "outputs": [
    {
     "data": {
      "text/html": [
       "<div>\n",
       "<style scoped>\n",
       "    .dataframe tbody tr th:only-of-type {\n",
       "        vertical-align: middle;\n",
       "    }\n",
       "\n",
       "    .dataframe tbody tr th {\n",
       "        vertical-align: top;\n",
       "    }\n",
       "\n",
       "    .dataframe thead th {\n",
       "        text-align: right;\n",
       "    }\n",
       "</style>\n",
       "<table border=\"1\" class=\"dataframe\">\n",
       "  <thead>\n",
       "    <tr style=\"text-align: right;\">\n",
       "      <th></th>\n",
       "      <th>MONTH</th>\n",
       "      <th>DAY</th>\n",
       "      <th>TIME</th>\n",
       "      <th>LATITUDE</th>\n",
       "      <th>LONGITUDE</th>\n",
       "    </tr>\n",
       "  </thead>\n",
       "  <tbody>\n",
       "    <tr>\n",
       "      <th>0</th>\n",
       "      <td>3</td>\n",
       "      <td>11</td>\n",
       "      <td>852</td>\n",
       "      <td>43.656345</td>\n",
       "      <td>-79.452490</td>\n",
       "    </tr>\n",
       "    <tr>\n",
       "      <th>1</th>\n",
       "      <td>3</td>\n",
       "      <td>11</td>\n",
       "      <td>852</td>\n",
       "      <td>43.656345</td>\n",
       "      <td>-79.452490</td>\n",
       "    </tr>\n",
       "    <tr>\n",
       "      <th>2</th>\n",
       "      <td>3</td>\n",
       "      <td>11</td>\n",
       "      <td>915</td>\n",
       "      <td>43.801943</td>\n",
       "      <td>-79.199786</td>\n",
       "    </tr>\n",
       "    <tr>\n",
       "      <th>3</th>\n",
       "      <td>3</td>\n",
       "      <td>11</td>\n",
       "      <td>915</td>\n",
       "      <td>43.801943</td>\n",
       "      <td>-79.199786</td>\n",
       "    </tr>\n",
       "    <tr>\n",
       "      <th>4</th>\n",
       "      <td>3</td>\n",
       "      <td>12</td>\n",
       "      <td>240</td>\n",
       "      <td>43.734945</td>\n",
       "      <td>-79.256190</td>\n",
       "    </tr>\n",
       "  </tbody>\n",
       "</table>\n",
       "</div>"
      ],
      "text/plain": [
       "   MONTH  DAY  TIME   LATITUDE  LONGITUDE\n",
       "0      3   11   852  43.656345 -79.452490\n",
       "1      3   11   852  43.656345 -79.452490\n",
       "2      3   11   915  43.801943 -79.199786\n",
       "3      3   11   915  43.801943 -79.199786\n",
       "4      3   12   240  43.734945 -79.256190"
      ]
     },
     "execution_count": 200,
     "metadata": {},
     "output_type": "execute_result"
    }
   ],
   "source": [
    "df_numeric.head()"
   ]
  },
  {
   "cell_type": "code",
   "execution_count": 362,
   "metadata": {},
   "outputs": [],
   "source": [
    "# Reduce the target variable to two classes\n",
    "df_pipeline.ACCLASS.replace(to_replace = ['Property Damage Only', 'Non-Fatal Injury'], value = 'Non-Fatal', inplace = True)"
   ]
  },
  {
   "cell_type": "code",
   "execution_count": 363,
   "metadata": {},
   "outputs": [
    {
     "data": {
      "text/plain": [
       "Non-Fatal    14563\n",
       "Fatal         2297\n",
       "Name: ACCLASS, dtype: int64"
      ]
     },
     "execution_count": 363,
     "metadata": {},
     "output_type": "execute_result"
    }
   ],
   "source": [
    "df_pipeline.ACCLASS.value_counts()"
   ]
  },
  {
   "cell_type": "code",
   "execution_count": 364,
   "metadata": {},
   "outputs": [],
   "source": [
    "# Convert the dependent variable to numeric\n",
    "classification = pd.get_dummies(df_pipeline['ACCLASS'])\n",
    "df_pipeline = pd.concat([df_pipeline, classification], axis = 1)\n",
    "df_pipeline.drop('ACCLASS', axis = 1, inplace = True)"
   ]
  },
  {
   "cell_type": "code",
   "execution_count": 365,
   "metadata": {},
   "outputs": [],
   "source": [
    "df_pipeline.drop('Non-Fatal', axis = 1, inplace = True)"
   ]
  },
  {
   "cell_type": "code",
   "execution_count": 366,
   "metadata": {},
   "outputs": [
    {
     "data": {
      "image/png": "[encoded data removed]",
      "text/plain": [
       "<Figure size 2016x1080 with 2 Axes>"
      ]
     },
     "metadata": {},
     "output_type": "display_data"
    }
   ],
   "source": [
    "sns.heatmap(df_ksi.corr(method = 'pearson'), annot = True, cmap = 'viridis')\n",
    "plt.xticks(rotation = 45)\n",
    "plt.show()"
   ]
  },
  {
   "cell_type": "code",
   "execution_count": 367,
   "metadata": {},
   "outputs": [],
   "source": [
    "# Instantiate the encoder\n",
    "encoder = OneHotEncoder(drop = 'first', handle_unknown='ignore')"
   ]
  },
  {
   "cell_type": "code",
   "execution_count": 368,
   "metadata": {},
   "outputs": [],
   "source": [
    "# ColumnTransformer\n",
    "num_attributes = df_numeric.columns\n",
    "cat_attributes = df_categorical.columns\n",
    "transformer = ColumnTransformer([\n",
    "    ('encoder', OneHotEncoder(drop = 'first', handle_unknown='ignore'), cat_attributes),\n",
    "    ('standardizer', StandardScaler(), num_attributes)],\n",
    "    remainder='passthrough',\n",
    "    verbose_feature_names_out=False)"
   ]
  },
  {
   "cell_type": "code",
   "execution_count": 369,
   "metadata": {},
   "outputs": [
    {
     "data": {
      "text/plain": [
       "[('encoder',\n",
       "  OneHotEncoder(drop='first', handle_unknown='ignore'),\n",
       "  Index(['STREET1', 'STREET2', 'ROAD_CLASS', 'DISTRICT', 'LOCCOORD', 'TRAFFCTL',\n",
       "         'VISIBILITY', 'LIGHT', 'RDSFCOND', 'IMPACTYPE', 'INVAGE', 'INJURY',\n",
       "         'DRIVACT', 'DRIVCOND', 'PEDESTRIAN', 'CYCLIST', 'AUTOMOBILE',\n",
       "         'MOTORCYCLE', 'TRUCK', 'TRSN_CITY_VEH', 'EMERG_VEH', 'PASSENGER',\n",
       "         'SPEEDING', 'AG_DRIV', 'REDLIGHT', 'ALCOHOL', 'DISABILITY'],\n",
       "        dtype='object')),\n",
       " ('standardizer',\n",
       "  StandardScaler(),\n",
       "  Index(['MONTH', 'DAY', 'TIME', 'LATITUDE', 'LONGITUDE'], dtype='object'))]"
      ]
     },
     "execution_count": 369,
     "metadata": {},
     "output_type": "execute_result"
    }
   ],
   "source": [
    "transformer.transformers"
   ]
  },
  {
   "cell_type": "code",
   "execution_count": 370,
   "metadata": {},
   "outputs": [],
   "source": [
    "# Features and Target\n",
    "features = df_pipeline.drop('Fatal', axis = 1)\n",
    "target = df_pipeline.Fatal"
   ]
  },
  {
   "cell_type": "code",
   "execution_count": 371,
   "metadata": {},
   "outputs": [],
   "source": [
    "# Split into Training and Test\n",
    "X_train, X_test, y_train, y_test = train_test_split(features, target, test_size=0.20, random_state = 98)"
   ]
  },
  {
   "cell_type": "code",
   "execution_count": 372,
   "metadata": {},
   "outputs": [],
   "source": [
    "# Instantiate a default Support Vector Classifier\n",
    "svc = SVC()"
   ]
  },
  {
   "cell_type": "code",
   "execution_count": 373,
   "metadata": {},
   "outputs": [],
   "source": [
    "# Pipeline Object to streamline the process\n",
    "pipeline_svc = Pipeline([\n",
    "    ('col_transformer', transformer),\n",
    "    ('svc', svc)\n",
    "    ])"
   ]
  },
  {
   "cell_type": "code",
   "execution_count": 374,
   "metadata": {},
   "outputs": [
    {
     "data": {
      "text/plain": [
       "Pipeline(steps=[('col_transformer',\n",
       "                 ColumnTransformer(remainder='passthrough',\n",
       "                                   transformers=[('encoder',\n",
       "                                                  OneHotEncoder(drop='first',\n",
       "                                                                handle_unknown='ignore'),\n",
       "                                                  Index(['STREET1', 'STREET2', 'ROAD_CLASS', 'DISTRICT', 'LOCCOORD', 'TRAFFCTL',\n",
       "       'VISIBILITY', 'LIGHT', 'RDSFCOND', 'IMPACTYPE', 'INVAGE', 'INJURY',\n",
       "       'DRIVACT', 'DRIVCOND', 'PEDESTRIAN', 'CYCLIST', 'AUTOMOBILE',\n",
       "       'MOTORCYCLE', 'TRUCK', 'TRSN_CITY_VEH', 'EMERG_VEH', 'PASSENGER',\n",
       "       'SPEEDING', 'AG_DRIV', 'REDLIGHT', 'ALCOHOL', 'DISABILITY'],\n",
       "      dtype='object')),\n",
       "                                                 ('standardizer',\n",
       "                                                  StandardScaler(),\n",
       "                                                  Index(['MONTH', 'DAY', 'TIME', 'LATITUDE', 'LONGITUDE'], dtype='object'))],\n",
       "                                   verbose_feature_names_out=False)),\n",
       "                ('svc', SVC())])"
      ]
     },
     "execution_count": 374,
     "metadata": {},
     "output_type": "execute_result"
    }
   ],
   "source": [
    "pipeline_svc.fit(X_train, y_train)"
   ]
  },
  {
   "cell_type": "code",
   "execution_count": 375,
   "metadata": {},
   "outputs": [
    {
     "name": "stderr",
     "output_type": "stream",
     "text": [
      "[Parallel(n_jobs=-1)]: Using backend LokyBackend with 12 concurrent workers.\n",
      "/Users/brunomorgado/Dropbox/Bruno_Morgado/Education/Mac_Education/Centennial_College/Fourth_Semester/Supervised_learning/Team_Project/Traffic_collision_Group_2_Section_1_COMP247Project/conda-env/lib/python3.9/site-packages/sklearn/preprocessing/_encoders.py:170: UserWarning: Found unknown categories in columns [0, 1, 8] during transform. These unknown categories will be encoded as all zeros\n",
      "  warnings.warn(\n",
      "/Users/brunomorgado/Dropbox/Bruno_Morgado/Education/Mac_Education/Centennial_College/Fourth_Semester/Supervised_learning/Team_Project/Traffic_collision_Group_2_Section_1_COMP247Project/conda-env/lib/python3.9/site-packages/sklearn/preprocessing/_encoders.py:170: UserWarning: Found unknown categories in columns [0, 1] during transform. These unknown categories will be encoded as all zeros\n",
      "  warnings.warn(\n",
      "/Users/brunomorgado/Dropbox/Bruno_Morgado/Education/Mac_Education/Centennial_College/Fourth_Semester/Supervised_learning/Team_Project/Traffic_collision_Group_2_Section_1_COMP247Project/conda-env/lib/python3.9/site-packages/sklearn/preprocessing/_encoders.py:170: UserWarning: Found unknown categories in columns [0, 1] during transform. These unknown categories will be encoded as all zeros\n",
      "  warnings.warn(\n",
      "/Users/brunomorgado/Dropbox/Bruno_Morgado/Education/Mac_Education/Centennial_College/Fourth_Semester/Supervised_learning/Team_Project/Traffic_collision_Group_2_Section_1_COMP247Project/conda-env/lib/python3.9/site-packages/sklearn/preprocessing/_encoders.py:170: UserWarning: Found unknown categories in columns [0, 1, 5] during transform. These unknown categories will be encoded as all zeros\n",
      "  warnings.warn(\n",
      "/Users/brunomorgado/Dropbox/Bruno_Morgado/Education/Mac_Education/Centennial_College/Fourth_Semester/Supervised_learning/Team_Project/Traffic_collision_Group_2_Section_1_COMP247Project/conda-env/lib/python3.9/site-packages/sklearn/preprocessing/_encoders.py:170: UserWarning: Found unknown categories in columns [0, 1, 5] during transform. These unknown categories will be encoded as all zeros\n",
      "  warnings.warn(\n",
      "/Users/brunomorgado/Dropbox/Bruno_Morgado/Education/Mac_Education/Centennial_College/Fourth_Semester/Supervised_learning/Team_Project/Traffic_collision_Group_2_Section_1_COMP247Project/conda-env/lib/python3.9/site-packages/sklearn/preprocessing/_encoders.py:170: UserWarning: Found unknown categories in columns [0, 1] during transform. These unknown categories will be encoded as all zeros\n",
      "  warnings.warn(\n",
      "/Users/brunomorgado/Dropbox/Bruno_Morgado/Education/Mac_Education/Centennial_College/Fourth_Semester/Supervised_learning/Team_Project/Traffic_collision_Group_2_Section_1_COMP247Project/conda-env/lib/python3.9/site-packages/sklearn/preprocessing/_encoders.py:170: UserWarning: Found unknown categories in columns [0, 1, 2] during transform. These unknown categories will be encoded as all zeros\n",
      "  warnings.warn(\n",
      "/Users/brunomorgado/Dropbox/Bruno_Morgado/Education/Mac_Education/Centennial_College/Fourth_Semester/Supervised_learning/Team_Project/Traffic_collision_Group_2_Section_1_COMP247Project/conda-env/lib/python3.9/site-packages/sklearn/preprocessing/_encoders.py:170: UserWarning: Found unknown categories in columns [0, 1] during transform. These unknown categories will be encoded as all zeros\n",
      "  warnings.warn(\n",
      "/Users/brunomorgado/Dropbox/Bruno_Morgado/Education/Mac_Education/Centennial_College/Fourth_Semester/Supervised_learning/Team_Project/Traffic_collision_Group_2_Section_1_COMP247Project/conda-env/lib/python3.9/site-packages/sklearn/preprocessing/_encoders.py:170: UserWarning: Found unknown categories in columns [0, 1] during transform. These unknown categories will be encoded as all zeros\n",
      "  warnings.warn(\n",
      "/Users/brunomorgado/Dropbox/Bruno_Morgado/Education/Mac_Education/Centennial_College/Fourth_Semester/Supervised_learning/Team_Project/Traffic_collision_Group_2_Section_1_COMP247Project/conda-env/lib/python3.9/site-packages/sklearn/preprocessing/_encoders.py:170: UserWarning: Found unknown categories in columns [0, 1] during transform. These unknown categories will be encoded as all zeros\n",
      "  warnings.warn(\n",
      "[Parallel(n_jobs=-1)]: Done  10 out of  10 | elapsed:  2.2min finished\n"
     ]
    }
   ],
   "source": [
    "scores = cross_val_score(pipeline_svc,\n",
    "                        X_train,\n",
    "                        y_train,\n",
    "                        cv=10,\n",
    "                        n_jobs=-1,\n",
    "                        verbose=1)"
   ]
  },
  {
   "cell_type": "code",
   "execution_count": 376,
   "metadata": {},
   "outputs": [
    {
     "name": "stdout",
     "output_type": "stream",
     "text": [
      "[0.91549296 0.91030393 0.91401038 0.91178651 0.91104522 0.92587102\n",
      " 0.9199407  0.91697554 0.91617211 0.91543027]\n"
     ]
    }
   ],
   "source": [
    "print(scores)"
   ]
  },
  {
   "cell_type": "code",
   "execution_count": 377,
   "metadata": {},
   "outputs": [
    {
     "name": "stdout",
     "output_type": "stream",
     "text": [
      "0.9157028615547729\n"
     ]
    }
   ],
   "source": [
    "print(scores.mean())"
   ]
  },
  {
   "cell_type": "code",
   "execution_count": 378,
   "metadata": {},
   "outputs": [
    {
     "name": "stderr",
     "output_type": "stream",
     "text": [
      "/Users/brunomorgado/Dropbox/Bruno_Morgado/Education/Mac_Education/Centennial_College/Fourth_Semester/Supervised_learning/Team_Project/Traffic_collision_Group_2_Section_1_COMP247Project/conda-env/lib/python3.9/site-packages/sklearn/preprocessing/_encoders.py:170: UserWarning: Found unknown categories in columns [0, 1] during transform. These unknown categories will be encoded as all zeros\n",
      "  warnings.warn(\n"
     ]
    }
   ],
   "source": [
    "# Predictions\n",
    "y_pred_svc = pipeline_svc.predict(X_test)"
   ]
  },
  {
   "cell_type": "code",
   "execution_count": 379,
   "metadata": {},
   "outputs": [],
   "source": [
    "cm = confusion_matrix(y_test, y_pred_svc)"
   ]
  },
  {
   "cell_type": "code",
   "execution_count": 380,
   "metadata": {},
   "outputs": [
    {
     "data": {
      "image/png": "[encoded data removed]",
      "text/plain": [
       "<Figure size 720x432 with 2 Axes>"
      ]
     },
     "metadata": {},
     "output_type": "display_data"
    }
   ],
   "source": [
    "plot_confusion_matrix(cm, [0,2], 'SVC - rbf', 'PuBu')"
   ]
  },
  {
   "cell_type": "code",
   "execution_count": 381,
   "metadata": {},
   "outputs": [
    {
     "name": "stdout",
     "output_type": "stream",
     "text": [
      "              precision    recall  f1-score   support\n",
      "\n",
      "           0       0.92      1.00      0.96      2910\n",
      "           1       1.00      0.43      0.60       462\n",
      "\n",
      "    accuracy                           0.92      3372\n",
      "   macro avg       0.96      0.72      0.78      3372\n",
      "weighted avg       0.93      0.92      0.91      3372\n",
      "\n"
     ]
    }
   ],
   "source": [
    "print(classification_report(y_test, y_pred_svc))"
   ]
  },
  {
   "cell_type": "markdown",
   "metadata": {},
   "source": [
    "precision means what percentage of the positive predictions made were actually correct.\n",
    "\n",
    "`TP/(TP+FP)`\n",
    "\n",
    "Recall in simple terms means, what percentage of actual positive predictions were correctly classified by the classifier.\n",
    "\n",
    "`TP/(TP+FN)`\n",
    "\n",
    "F1 score can also be described as the harmonic mean or weighted average of precision and recall.\n",
    "\n",
    "`2x((precision x recall) / (precision + recall))`"
   ]
  },
  {
   "cell_type": "code",
   "execution_count": 382,
   "metadata": {},
   "outputs": [],
   "source": [
    "# Dictionary with parameters names (str) as keys and lists of parameter settings to try as values.\n",
    "param_grid = {'svc__kernel': ['linear', 'rbf', 'poly'],\n",
    "              'svc__C': [0.01, 0.1, 1, 10, 100],\n",
    "              'svc__gamma': [0.01, 0.03, 0.1, 0.3, 1.0, 3.0],\n",
    "              'svc__degree': [2, 3]}"
   ]
  },
  {
   "cell_type": "code",
   "execution_count": 383,
   "metadata": {},
   "outputs": [],
   "source": [
    "# Create a GridSearchCV object\n",
    "grid_search_svc = GridSearchCV(estimator = pipeline_svc,\n",
    "                                 param_grid = param_grid,\n",
    "                                 scoring = 'accuracy',\n",
    "                                 refit = True,\n",
    "                                 n_jobs = -1,\n",
    "                                 verbose = 3)"
   ]
  },
  {
   "cell_type": "code",
   "execution_count": 384,
   "metadata": {},
   "outputs": [],
   "source": [
    "# Get the start time\n",
    "start = time.perf_counter()"
   ]
  },
  {
   "cell_type": "code",
   "execution_count": null,
   "metadata": {},
   "outputs": [
    {
     "name": "stdout",
     "output_type": "stream",
     "text": [
      "Fitting 5 folds for each of 180 candidates, totalling 900 fits\n"
     ]
    },
    {
     "name": "stderr",
     "output_type": "stream",
     "text": [
      "/Users/brunomorgado/Dropbox/Bruno_Morgado/Education/Mac_Education/Centennial_College/Fourth_Semester/Supervised_learning/Team_Project/Traffic_collision_Group_2_Section_1_COMP247Project/conda-env/lib/python3.9/site-packages/sklearn/preprocessing/_encoders.py:170: UserWarning: Found unknown categories in columns [0, 1, 8] during transform. These unknown categories will be encoded as all zeros\n",
      "  warnings.warn(\n",
      "/Users/brunomorgado/Dropbox/Bruno_Morgado/Education/Mac_Education/Centennial_College/Fourth_Semester/Supervised_learning/Team_Project/Traffic_collision_Group_2_Section_1_COMP247Project/conda-env/lib/python3.9/site-packages/sklearn/preprocessing/_encoders.py:170: UserWarning: Found unknown categories in columns [0, 1, 5] during transform. These unknown categories will be encoded as all zeros\n",
      "  warnings.warn(\n",
      "/Users/brunomorgado/Dropbox/Bruno_Morgado/Education/Mac_Education/Centennial_College/Fourth_Semester/Supervised_learning/Team_Project/Traffic_collision_Group_2_Section_1_COMP247Project/conda-env/lib/python3.9/site-packages/sklearn/preprocessing/_encoders.py:170: UserWarning: Found unknown categories in columns [0, 1, 5] during transform. These unknown categories will be encoded as all zeros\n",
      "  warnings.warn(\n",
      "/Users/brunomorgado/Dropbox/Bruno_Morgado/Education/Mac_Education/Centennial_College/Fourth_Semester/Supervised_learning/Team_Project/Traffic_collision_Group_2_Section_1_COMP247Project/conda-env/lib/python3.9/site-packages/sklearn/preprocessing/_encoders.py:170: UserWarning: Found unknown categories in columns [0, 1] during transform. These unknown categories will be encoded as all zeros\n",
      "  warnings.warn(\n",
      "/Users/brunomorgado/Dropbox/Bruno_Morgado/Education/Mac_Education/Centennial_College/Fourth_Semester/Supervised_learning/Team_Project/Traffic_collision_Group_2_Section_1_COMP247Project/conda-env/lib/python3.9/site-packages/sklearn/preprocessing/_encoders.py:170: UserWarning: Found unknown categories in columns [0, 1, 5] during transform. These unknown categories will be encoded as all zeros\n",
      "  warnings.warn(\n",
      "/Users/brunomorgado/Dropbox/Bruno_Morgado/Education/Mac_Education/Centennial_College/Fourth_Semester/Supervised_learning/Team_Project/Traffic_collision_Group_2_Section_1_COMP247Project/conda-env/lib/python3.9/site-packages/sklearn/preprocessing/_encoders.py:170: UserWarning: Found unknown categories in columns [0, 1, 2] during transform. These unknown categories will be encoded as all zeros\n",
      "  warnings.warn(\n",
      "/Users/brunomorgado/Dropbox/Bruno_Morgado/Education/Mac_Education/Centennial_College/Fourth_Semester/Supervised_learning/Team_Project/Traffic_collision_Group_2_Section_1_COMP247Project/conda-env/lib/python3.9/site-packages/sklearn/preprocessing/_encoders.py:170: UserWarning: Found unknown categories in columns [0, 1] during transform. These unknown categories will be encoded as all zeros\n",
      "  warnings.warn(\n",
      "/Users/brunomorgado/Dropbox/Bruno_Morgado/Education/Mac_Education/Centennial_College/Fourth_Semester/Supervised_learning/Team_Project/Traffic_collision_Group_2_Section_1_COMP247Project/conda-env/lib/python3.9/site-packages/sklearn/preprocessing/_encoders.py:170: UserWarning: Found unknown categories in columns [0, 1, 5] during transform. These unknown categories will be encoded as all zeros\n",
      "  warnings.warn(\n",
      "/Users/brunomorgado/Dropbox/Bruno_Morgado/Education/Mac_Education/Centennial_College/Fourth_Semester/Supervised_learning/Team_Project/Traffic_collision_Group_2_Section_1_COMP247Project/conda-env/lib/python3.9/site-packages/sklearn/preprocessing/_encoders.py:170: UserWarning: Found unknown categories in columns [0, 1, 5] during transform. These unknown categories will be encoded as all zeros\n",
      "  warnings.warn(\n",
      "/Users/brunomorgado/Dropbox/Bruno_Morgado/Education/Mac_Education/Centennial_College/Fourth_Semester/Supervised_learning/Team_Project/Traffic_collision_Group_2_Section_1_COMP247Project/conda-env/lib/python3.9/site-packages/sklearn/preprocessing/_encoders.py:170: UserWarning: Found unknown categories in columns [0, 1, 2] during transform. These unknown categories will be encoded as all zeros\n",
      "  warnings.warn(\n",
      "/Users/brunomorgado/Dropbox/Bruno_Morgado/Education/Mac_Education/Centennial_College/Fourth_Semester/Supervised_learning/Team_Project/Traffic_collision_Group_2_Section_1_COMP247Project/conda-env/lib/python3.9/site-packages/sklearn/preprocessing/_encoders.py:170: UserWarning: Found unknown categories in columns [0, 1, 8] during transform. These unknown categories will be encoded as all zeros\n",
      "  warnings.warn(\n",
      "/Users/brunomorgado/Dropbox/Bruno_Morgado/Education/Mac_Education/Centennial_College/Fourth_Semester/Supervised_learning/Team_Project/Traffic_collision_Group_2_Section_1_COMP247Project/conda-env/lib/python3.9/site-packages/sklearn/preprocessing/_encoders.py:170: UserWarning: Found unknown categories in columns [0, 1, 8] during transform. These unknown categories will be encoded as all zeros\n",
      "  warnings.warn(\n",
      "/Users/brunomorgado/Dropbox/Bruno_Morgado/Education/Mac_Education/Centennial_College/Fourth_Semester/Supervised_learning/Team_Project/Traffic_collision_Group_2_Section_1_COMP247Project/conda-env/lib/python3.9/site-packages/sklearn/preprocessing/_encoders.py:170: UserWarning: Found unknown categories in columns [0, 1] during transform. These unknown categories will be encoded as all zeros\n",
      "  warnings.warn(\n",
      "/Users/brunomorgado/Dropbox/Bruno_Morgado/Education/Mac_Education/Centennial_College/Fourth_Semester/Supervised_learning/Team_Project/Traffic_collision_Group_2_Section_1_COMP247Project/conda-env/lib/python3.9/site-packages/sklearn/preprocessing/_encoders.py:170: UserWarning: Found unknown categories in columns [0, 1, 5] during transform. These unknown categories will be encoded as all zeros\n",
      "  warnings.warn(\n",
      "/Users/brunomorgado/Dropbox/Bruno_Morgado/Education/Mac_Education/Centennial_College/Fourth_Semester/Supervised_learning/Team_Project/Traffic_collision_Group_2_Section_1_COMP247Project/conda-env/lib/python3.9/site-packages/sklearn/preprocessing/_encoders.py:170: UserWarning: Found unknown categories in columns [0, 1, 2] during transform. These unknown categories will be encoded as all zeros\n",
      "  warnings.warn(\n",
      "/Users/brunomorgado/Dropbox/Bruno_Morgado/Education/Mac_Education/Centennial_College/Fourth_Semester/Supervised_learning/Team_Project/Traffic_collision_Group_2_Section_1_COMP247Project/conda-env/lib/python3.9/site-packages/sklearn/preprocessing/_encoders.py:170: UserWarning: Found unknown categories in columns [0, 1, 8] during transform. These unknown categories will be encoded as all zeros\n",
      "  warnings.warn(\n",
      "/Users/brunomorgado/Dropbox/Bruno_Morgado/Education/Mac_Education/Centennial_College/Fourth_Semester/Supervised_learning/Team_Project/Traffic_collision_Group_2_Section_1_COMP247Project/conda-env/lib/python3.9/site-packages/sklearn/preprocessing/_encoders.py:170: UserWarning: Found unknown categories in columns [0, 1, 5] during transform. These unknown categories will be encoded as all zeros\n",
      "  warnings.warn(\n",
      "/Users/brunomorgado/Dropbox/Bruno_Morgado/Education/Mac_Education/Centennial_College/Fourth_Semester/Supervised_learning/Team_Project/Traffic_collision_Group_2_Section_1_COMP247Project/conda-env/lib/python3.9/site-packages/sklearn/preprocessing/_encoders.py:170: UserWarning: Found unknown categories in columns [0, 1] during transform. These unknown categories will be encoded as all zeros\n",
      "  warnings.warn(\n",
      "/Users/brunomorgado/Dropbox/Bruno_Morgado/Education/Mac_Education/Centennial_College/Fourth_Semester/Supervised_learning/Team_Project/Traffic_collision_Group_2_Section_1_COMP247Project/conda-env/lib/python3.9/site-packages/sklearn/preprocessing/_encoders.py:170: UserWarning: Found unknown categories in columns [0, 1, 8] during transform. These unknown categories will be encoded as all zeros\n",
      "  warnings.warn(\n",
      "/Users/brunomorgado/Dropbox/Bruno_Morgado/Education/Mac_Education/Centennial_College/Fourth_Semester/Supervised_learning/Team_Project/Traffic_collision_Group_2_Section_1_COMP247Project/conda-env/lib/python3.9/site-packages/sklearn/preprocessing/_encoders.py:170: UserWarning: Found unknown categories in columns [0, 1, 5] during transform. These unknown categories will be encoded as all zeros\n",
      "  warnings.warn(\n"
     ]
    },
    {
     "name": "stderr",
     "output_type": "stream",
     "text": [
      "/Users/brunomorgado/Dropbox/Bruno_Morgado/Education/Mac_Education/Centennial_College/Fourth_Semester/Supervised_learning/Team_Project/Traffic_collision_Group_2_Section_1_COMP247Project/conda-env/lib/python3.9/site-packages/sklearn/preprocessing/_encoders.py:170: UserWarning: Found unknown categories in columns [0, 1, 5] during transform. These unknown categories will be encoded as all zeros\n",
      "  warnings.warn(\n",
      "/Users/brunomorgado/Dropbox/Bruno_Morgado/Education/Mac_Education/Centennial_College/Fourth_Semester/Supervised_learning/Team_Project/Traffic_collision_Group_2_Section_1_COMP247Project/conda-env/lib/python3.9/site-packages/sklearn/preprocessing/_encoders.py:170: UserWarning: Found unknown categories in columns [0, 1, 2] during transform. These unknown categories will be encoded as all zeros\n",
      "  warnings.warn(\n",
      "/Users/brunomorgado/Dropbox/Bruno_Morgado/Education/Mac_Education/Centennial_College/Fourth_Semester/Supervised_learning/Team_Project/Traffic_collision_Group_2_Section_1_COMP247Project/conda-env/lib/python3.9/site-packages/sklearn/preprocessing/_encoders.py:170: UserWarning: Found unknown categories in columns [0, 1] during transform. These unknown categories will be encoded as all zeros\n",
      "  warnings.warn(\n",
      "/Users/brunomorgado/Dropbox/Bruno_Morgado/Education/Mac_Education/Centennial_College/Fourth_Semester/Supervised_learning/Team_Project/Traffic_collision_Group_2_Section_1_COMP247Project/conda-env/lib/python3.9/site-packages/sklearn/preprocessing/_encoders.py:170: UserWarning: Found unknown categories in columns [0, 1, 5] during transform. These unknown categories will be encoded as all zeros\n",
      "  warnings.warn(\n",
      "/Users/brunomorgado/Dropbox/Bruno_Morgado/Education/Mac_Education/Centennial_College/Fourth_Semester/Supervised_learning/Team_Project/Traffic_collision_Group_2_Section_1_COMP247Project/conda-env/lib/python3.9/site-packages/sklearn/preprocessing/_encoders.py:170: UserWarning: Found unknown categories in columns [0, 1, 8] during transform. These unknown categories will be encoded as all zeros\n",
      "  warnings.warn(\n",
      "/Users/brunomorgado/Dropbox/Bruno_Morgado/Education/Mac_Education/Centennial_College/Fourth_Semester/Supervised_learning/Team_Project/Traffic_collision_Group_2_Section_1_COMP247Project/conda-env/lib/python3.9/site-packages/sklearn/preprocessing/_encoders.py:170: UserWarning: Found unknown categories in columns [0, 1, 2] during transform. These unknown categories will be encoded as all zeros\n",
      "  warnings.warn(\n",
      "/Users/brunomorgado/Dropbox/Bruno_Morgado/Education/Mac_Education/Centennial_College/Fourth_Semester/Supervised_learning/Team_Project/Traffic_collision_Group_2_Section_1_COMP247Project/conda-env/lib/python3.9/site-packages/sklearn/preprocessing/_encoders.py:170: UserWarning: Found unknown categories in columns [0, 1, 5] during transform. These unknown categories will be encoded as all zeros\n",
      "  warnings.warn(\n",
      "/Users/brunomorgado/Dropbox/Bruno_Morgado/Education/Mac_Education/Centennial_College/Fourth_Semester/Supervised_learning/Team_Project/Traffic_collision_Group_2_Section_1_COMP247Project/conda-env/lib/python3.9/site-packages/sklearn/preprocessing/_encoders.py:170: UserWarning: Found unknown categories in columns [0, 1, 5] during transform. These unknown categories will be encoded as all zeros\n",
      "  warnings.warn(\n",
      "/Users/brunomorgado/Dropbox/Bruno_Morgado/Education/Mac_Education/Centennial_College/Fourth_Semester/Supervised_learning/Team_Project/Traffic_collision_Group_2_Section_1_COMP247Project/conda-env/lib/python3.9/site-packages/sklearn/preprocessing/_encoders.py:170: UserWarning: Found unknown categories in columns [0, 1, 2] during transform. These unknown categories will be encoded as all zeros\n",
      "  warnings.warn(\n",
      "/Users/brunomorgado/Dropbox/Bruno_Morgado/Education/Mac_Education/Centennial_College/Fourth_Semester/Supervised_learning/Team_Project/Traffic_collision_Group_2_Section_1_COMP247Project/conda-env/lib/python3.9/site-packages/sklearn/preprocessing/_encoders.py:170: UserWarning: Found unknown categories in columns [0, 1] during transform. These unknown categories will be encoded as all zeros\n",
      "  warnings.warn(\n",
      "/Users/brunomorgado/Dropbox/Bruno_Morgado/Education/Mac_Education/Centennial_College/Fourth_Semester/Supervised_learning/Team_Project/Traffic_collision_Group_2_Section_1_COMP247Project/conda-env/lib/python3.9/site-packages/sklearn/preprocessing/_encoders.py:170: UserWarning: Found unknown categories in columns [0, 1, 8] during transform. These unknown categories will be encoded as all zeros\n",
      "  warnings.warn(\n",
      "/Users/brunomorgado/Dropbox/Bruno_Morgado/Education/Mac_Education/Centennial_College/Fourth_Semester/Supervised_learning/Team_Project/Traffic_collision_Group_2_Section_1_COMP247Project/conda-env/lib/python3.9/site-packages/sklearn/preprocessing/_encoders.py:170: UserWarning: Found unknown categories in columns [0, 1, 5] during transform. These unknown categories will be encoded as all zeros\n",
      "  warnings.warn(\n",
      "/Users/brunomorgado/Dropbox/Bruno_Morgado/Education/Mac_Education/Centennial_College/Fourth_Semester/Supervised_learning/Team_Project/Traffic_collision_Group_2_Section_1_COMP247Project/conda-env/lib/python3.9/site-packages/sklearn/preprocessing/_encoders.py:170: UserWarning: Found unknown categories in columns [0, 1] during transform. These unknown categories will be encoded as all zeros\n",
      "  warnings.warn(\n",
      "/Users/brunomorgado/Dropbox/Bruno_Morgado/Education/Mac_Education/Centennial_College/Fourth_Semester/Supervised_learning/Team_Project/Traffic_collision_Group_2_Section_1_COMP247Project/conda-env/lib/python3.9/site-packages/sklearn/preprocessing/_encoders.py:170: UserWarning: Found unknown categories in columns [0, 1, 5] during transform. These unknown categories will be encoded as all zeros\n",
      "  warnings.warn(\n",
      "/Users/brunomorgado/Dropbox/Bruno_Morgado/Education/Mac_Education/Centennial_College/Fourth_Semester/Supervised_learning/Team_Project/Traffic_collision_Group_2_Section_1_COMP247Project/conda-env/lib/python3.9/site-packages/sklearn/preprocessing/_encoders.py:170: UserWarning: Found unknown categories in columns [0, 1, 2] during transform. These unknown categories will be encoded as all zeros\n",
      "  warnings.warn(\n",
      "/Users/brunomorgado/Dropbox/Bruno_Morgado/Education/Mac_Education/Centennial_College/Fourth_Semester/Supervised_learning/Team_Project/Traffic_collision_Group_2_Section_1_COMP247Project/conda-env/lib/python3.9/site-packages/sklearn/preprocessing/_encoders.py:170: UserWarning: Found unknown categories in columns [0, 1, 8] during transform. These unknown categories will be encoded as all zeros\n",
      "  warnings.warn(\n",
      "/Users/brunomorgado/Dropbox/Bruno_Morgado/Education/Mac_Education/Centennial_College/Fourth_Semester/Supervised_learning/Team_Project/Traffic_collision_Group_2_Section_1_COMP247Project/conda-env/lib/python3.9/site-packages/sklearn/preprocessing/_encoders.py:170: UserWarning: Found unknown categories in columns [0, 1, 5] during transform. These unknown categories will be encoded as all zeros\n",
      "  warnings.warn(\n",
      "/Users/brunomorgado/Dropbox/Bruno_Morgado/Education/Mac_Education/Centennial_College/Fourth_Semester/Supervised_learning/Team_Project/Traffic_collision_Group_2_Section_1_COMP247Project/conda-env/lib/python3.9/site-packages/sklearn/preprocessing/_encoders.py:170: UserWarning: Found unknown categories in columns [0, 1] during transform. These unknown categories will be encoded as all zeros\n",
      "  warnings.warn(\n",
      "/Users/brunomorgado/Dropbox/Bruno_Morgado/Education/Mac_Education/Centennial_College/Fourth_Semester/Supervised_learning/Team_Project/Traffic_collision_Group_2_Section_1_COMP247Project/conda-env/lib/python3.9/site-packages/sklearn/preprocessing/_encoders.py:170: UserWarning: Found unknown categories in columns [0, 1, 5] during transform. These unknown categories will be encoded as all zeros\n",
      "  warnings.warn(\n",
      "/Users/brunomorgado/Dropbox/Bruno_Morgado/Education/Mac_Education/Centennial_College/Fourth_Semester/Supervised_learning/Team_Project/Traffic_collision_Group_2_Section_1_COMP247Project/conda-env/lib/python3.9/site-packages/sklearn/preprocessing/_encoders.py:170: UserWarning: Found unknown categories in columns [0, 1, 8] during transform. These unknown categories will be encoded as all zeros\n",
      "  warnings.warn(\n"
     ]
    },
    {
     "name": "stderr",
     "output_type": "stream",
     "text": [
      "/Users/brunomorgado/Dropbox/Bruno_Morgado/Education/Mac_Education/Centennial_College/Fourth_Semester/Supervised_learning/Team_Project/Traffic_collision_Group_2_Section_1_COMP247Project/conda-env/lib/python3.9/site-packages/sklearn/preprocessing/_encoders.py:170: UserWarning: Found unknown categories in columns [0, 1, 5] during transform. These unknown categories will be encoded as all zeros\n",
      "  warnings.warn(\n",
      "/Users/brunomorgado/Dropbox/Bruno_Morgado/Education/Mac_Education/Centennial_College/Fourth_Semester/Supervised_learning/Team_Project/Traffic_collision_Group_2_Section_1_COMP247Project/conda-env/lib/python3.9/site-packages/sklearn/preprocessing/_encoders.py:170: UserWarning: Found unknown categories in columns [0, 1] during transform. These unknown categories will be encoded as all zeros\n",
      "  warnings.warn(\n",
      "/Users/brunomorgado/Dropbox/Bruno_Morgado/Education/Mac_Education/Centennial_College/Fourth_Semester/Supervised_learning/Team_Project/Traffic_collision_Group_2_Section_1_COMP247Project/conda-env/lib/python3.9/site-packages/sklearn/preprocessing/_encoders.py:170: UserWarning: Found unknown categories in columns [0, 1, 5] during transform. These unknown categories will be encoded as all zeros\n",
      "  warnings.warn(\n",
      "/Users/brunomorgado/Dropbox/Bruno_Morgado/Education/Mac_Education/Centennial_College/Fourth_Semester/Supervised_learning/Team_Project/Traffic_collision_Group_2_Section_1_COMP247Project/conda-env/lib/python3.9/site-packages/sklearn/preprocessing/_encoders.py:170: UserWarning: Found unknown categories in columns [0, 1, 2] during transform. These unknown categories will be encoded as all zeros\n",
      "  warnings.warn(\n",
      "/Users/brunomorgado/Dropbox/Bruno_Morgado/Education/Mac_Education/Centennial_College/Fourth_Semester/Supervised_learning/Team_Project/Traffic_collision_Group_2_Section_1_COMP247Project/conda-env/lib/python3.9/site-packages/sklearn/preprocessing/_encoders.py:170: UserWarning: Found unknown categories in columns [0, 1, 8] during transform. These unknown categories will be encoded as all zeros\n",
      "  warnings.warn(\n",
      "/Users/brunomorgado/Dropbox/Bruno_Morgado/Education/Mac_Education/Centennial_College/Fourth_Semester/Supervised_learning/Team_Project/Traffic_collision_Group_2_Section_1_COMP247Project/conda-env/lib/python3.9/site-packages/sklearn/preprocessing/_encoders.py:170: UserWarning: Found unknown categories in columns [0, 1, 2] during transform. These unknown categories will be encoded as all zeros\n",
      "  warnings.warn(\n",
      "/Users/brunomorgado/Dropbox/Bruno_Morgado/Education/Mac_Education/Centennial_College/Fourth_Semester/Supervised_learning/Team_Project/Traffic_collision_Group_2_Section_1_COMP247Project/conda-env/lib/python3.9/site-packages/sklearn/preprocessing/_encoders.py:170: UserWarning: Found unknown categories in columns [0, 1, 5] during transform. These unknown categories will be encoded as all zeros\n",
      "  warnings.warn(\n",
      "/Users/brunomorgado/Dropbox/Bruno_Morgado/Education/Mac_Education/Centennial_College/Fourth_Semester/Supervised_learning/Team_Project/Traffic_collision_Group_2_Section_1_COMP247Project/conda-env/lib/python3.9/site-packages/sklearn/preprocessing/_encoders.py:170: UserWarning: Found unknown categories in columns [0, 1] during transform. These unknown categories will be encoded as all zeros\n",
      "  warnings.warn(\n",
      "/Users/brunomorgado/Dropbox/Bruno_Morgado/Education/Mac_Education/Centennial_College/Fourth_Semester/Supervised_learning/Team_Project/Traffic_collision_Group_2_Section_1_COMP247Project/conda-env/lib/python3.9/site-packages/sklearn/preprocessing/_encoders.py:170: UserWarning: Found unknown categories in columns [0, 1, 5] during transform. These unknown categories will be encoded as all zeros\n",
      "  warnings.warn(\n",
      "/Users/brunomorgado/Dropbox/Bruno_Morgado/Education/Mac_Education/Centennial_College/Fourth_Semester/Supervised_learning/Team_Project/Traffic_collision_Group_2_Section_1_COMP247Project/conda-env/lib/python3.9/site-packages/sklearn/preprocessing/_encoders.py:170: UserWarning: Found unknown categories in columns [0, 1, 2] during transform. These unknown categories will be encoded as all zeros\n",
      "  warnings.warn(\n",
      "/Users/brunomorgado/Dropbox/Bruno_Morgado/Education/Mac_Education/Centennial_College/Fourth_Semester/Supervised_learning/Team_Project/Traffic_collision_Group_2_Section_1_COMP247Project/conda-env/lib/python3.9/site-packages/sklearn/preprocessing/_encoders.py:170: UserWarning: Found unknown categories in columns [0, 1, 8] during transform. These unknown categories will be encoded as all zeros\n",
      "  warnings.warn(\n",
      "/Users/brunomorgado/Dropbox/Bruno_Morgado/Education/Mac_Education/Centennial_College/Fourth_Semester/Supervised_learning/Team_Project/Traffic_collision_Group_2_Section_1_COMP247Project/conda-env/lib/python3.9/site-packages/sklearn/preprocessing/_encoders.py:170: UserWarning: Found unknown categories in columns [0, 1, 5] during transform. These unknown categories will be encoded as all zeros\n",
      "  warnings.warn(\n",
      "/Users/brunomorgado/Dropbox/Bruno_Morgado/Education/Mac_Education/Centennial_College/Fourth_Semester/Supervised_learning/Team_Project/Traffic_collision_Group_2_Section_1_COMP247Project/conda-env/lib/python3.9/site-packages/sklearn/preprocessing/_encoders.py:170: UserWarning: Found unknown categories in columns [0, 1] during transform. These unknown categories will be encoded as all zeros\n",
      "  warnings.warn(\n",
      "/Users/brunomorgado/Dropbox/Bruno_Morgado/Education/Mac_Education/Centennial_College/Fourth_Semester/Supervised_learning/Team_Project/Traffic_collision_Group_2_Section_1_COMP247Project/conda-env/lib/python3.9/site-packages/sklearn/preprocessing/_encoders.py:170: UserWarning: Found unknown categories in columns [0, 1, 5] during transform. These unknown categories will be encoded as all zeros\n",
      "  warnings.warn(\n",
      "/Users/brunomorgado/Dropbox/Bruno_Morgado/Education/Mac_Education/Centennial_College/Fourth_Semester/Supervised_learning/Team_Project/Traffic_collision_Group_2_Section_1_COMP247Project/conda-env/lib/python3.9/site-packages/sklearn/preprocessing/_encoders.py:170: UserWarning: Found unknown categories in columns [0, 1, 2] during transform. These unknown categories will be encoded as all zeros\n",
      "  warnings.warn(\n",
      "/Users/brunomorgado/Dropbox/Bruno_Morgado/Education/Mac_Education/Centennial_College/Fourth_Semester/Supervised_learning/Team_Project/Traffic_collision_Group_2_Section_1_COMP247Project/conda-env/lib/python3.9/site-packages/sklearn/preprocessing/_encoders.py:170: UserWarning: Found unknown categories in columns [0, 1, 8] during transform. These unknown categories will be encoded as all zeros\n",
      "  warnings.warn(\n",
      "/Users/brunomorgado/Dropbox/Bruno_Morgado/Education/Mac_Education/Centennial_College/Fourth_Semester/Supervised_learning/Team_Project/Traffic_collision_Group_2_Section_1_COMP247Project/conda-env/lib/python3.9/site-packages/sklearn/preprocessing/_encoders.py:170: UserWarning: Found unknown categories in columns [0, 1, 5] during transform. These unknown categories will be encoded as all zeros\n",
      "  warnings.warn(\n",
      "/Users/brunomorgado/Dropbox/Bruno_Morgado/Education/Mac_Education/Centennial_College/Fourth_Semester/Supervised_learning/Team_Project/Traffic_collision_Group_2_Section_1_COMP247Project/conda-env/lib/python3.9/site-packages/sklearn/preprocessing/_encoders.py:170: UserWarning: Found unknown categories in columns [0, 1] during transform. These unknown categories will be encoded as all zeros\n",
      "  warnings.warn(\n",
      "/Users/brunomorgado/Dropbox/Bruno_Morgado/Education/Mac_Education/Centennial_College/Fourth_Semester/Supervised_learning/Team_Project/Traffic_collision_Group_2_Section_1_COMP247Project/conda-env/lib/python3.9/site-packages/sklearn/preprocessing/_encoders.py:170: UserWarning: Found unknown categories in columns [0, 1, 5] during transform. These unknown categories will be encoded as all zeros\n",
      "  warnings.warn(\n",
      "/Users/brunomorgado/Dropbox/Bruno_Morgado/Education/Mac_Education/Centennial_College/Fourth_Semester/Supervised_learning/Team_Project/Traffic_collision_Group_2_Section_1_COMP247Project/conda-env/lib/python3.9/site-packages/sklearn/preprocessing/_encoders.py:170: UserWarning: Found unknown categories in columns [0, 1, 2] during transform. These unknown categories will be encoded as all zeros\n",
      "  warnings.warn(\n"
     ]
    },
    {
     "name": "stderr",
     "output_type": "stream",
     "text": [
      "/Users/brunomorgado/Dropbox/Bruno_Morgado/Education/Mac_Education/Centennial_College/Fourth_Semester/Supervised_learning/Team_Project/Traffic_collision_Group_2_Section_1_COMP247Project/conda-env/lib/python3.9/site-packages/sklearn/preprocessing/_encoders.py:170: UserWarning: Found unknown categories in columns [0, 1, 8] during transform. These unknown categories will be encoded as all zeros\n",
      "  warnings.warn(\n",
      "/Users/brunomorgado/Dropbox/Bruno_Morgado/Education/Mac_Education/Centennial_College/Fourth_Semester/Supervised_learning/Team_Project/Traffic_collision_Group_2_Section_1_COMP247Project/conda-env/lib/python3.9/site-packages/sklearn/preprocessing/_encoders.py:170: UserWarning: Found unknown categories in columns [0, 1, 5] during transform. These unknown categories will be encoded as all zeros\n",
      "  warnings.warn(\n",
      "/Users/brunomorgado/Dropbox/Bruno_Morgado/Education/Mac_Education/Centennial_College/Fourth_Semester/Supervised_learning/Team_Project/Traffic_collision_Group_2_Section_1_COMP247Project/conda-env/lib/python3.9/site-packages/sklearn/preprocessing/_encoders.py:170: UserWarning: Found unknown categories in columns [0, 1] during transform. These unknown categories will be encoded as all zeros\n",
      "  warnings.warn(\n",
      "/Users/brunomorgado/Dropbox/Bruno_Morgado/Education/Mac_Education/Centennial_College/Fourth_Semester/Supervised_learning/Team_Project/Traffic_collision_Group_2_Section_1_COMP247Project/conda-env/lib/python3.9/site-packages/sklearn/preprocessing/_encoders.py:170: UserWarning: Found unknown categories in columns [0, 1, 5] during transform. These unknown categories will be encoded as all zeros\n",
      "  warnings.warn(\n",
      "/Users/brunomorgado/Dropbox/Bruno_Morgado/Education/Mac_Education/Centennial_College/Fourth_Semester/Supervised_learning/Team_Project/Traffic_collision_Group_2_Section_1_COMP247Project/conda-env/lib/python3.9/site-packages/sklearn/preprocessing/_encoders.py:170: UserWarning: Found unknown categories in columns [0, 1, 2] during transform. These unknown categories will be encoded as all zeros\n",
      "  warnings.warn(\n",
      "/Users/brunomorgado/Dropbox/Bruno_Morgado/Education/Mac_Education/Centennial_College/Fourth_Semester/Supervised_learning/Team_Project/Traffic_collision_Group_2_Section_1_COMP247Project/conda-env/lib/python3.9/site-packages/sklearn/preprocessing/_encoders.py:170: UserWarning: Found unknown categories in columns [0, 1, 8] during transform. These unknown categories will be encoded as all zeros\n",
      "  warnings.warn(\n",
      "/Users/brunomorgado/Dropbox/Bruno_Morgado/Education/Mac_Education/Centennial_College/Fourth_Semester/Supervised_learning/Team_Project/Traffic_collision_Group_2_Section_1_COMP247Project/conda-env/lib/python3.9/site-packages/sklearn/preprocessing/_encoders.py:170: UserWarning: Found unknown categories in columns [0, 1, 5] during transform. These unknown categories will be encoded as all zeros\n",
      "  warnings.warn(\n",
      "/Users/brunomorgado/Dropbox/Bruno_Morgado/Education/Mac_Education/Centennial_College/Fourth_Semester/Supervised_learning/Team_Project/Traffic_collision_Group_2_Section_1_COMP247Project/conda-env/lib/python3.9/site-packages/sklearn/preprocessing/_encoders.py:170: UserWarning: Found unknown categories in columns [0, 1, 8] during transform. These unknown categories will be encoded as all zeros\n",
      "  warnings.warn(\n",
      "/Users/brunomorgado/Dropbox/Bruno_Morgado/Education/Mac_Education/Centennial_College/Fourth_Semester/Supervised_learning/Team_Project/Traffic_collision_Group_2_Section_1_COMP247Project/conda-env/lib/python3.9/site-packages/sklearn/preprocessing/_encoders.py:170: UserWarning: Found unknown categories in columns [0, 1, 5] during transform. These unknown categories will be encoded as all zeros\n",
      "  warnings.warn(\n",
      "/Users/brunomorgado/Dropbox/Bruno_Morgado/Education/Mac_Education/Centennial_College/Fourth_Semester/Supervised_learning/Team_Project/Traffic_collision_Group_2_Section_1_COMP247Project/conda-env/lib/python3.9/site-packages/sklearn/preprocessing/_encoders.py:170: UserWarning: Found unknown categories in columns [0, 1] during transform. These unknown categories will be encoded as all zeros\n",
      "  warnings.warn(\n",
      "/Users/brunomorgado/Dropbox/Bruno_Morgado/Education/Mac_Education/Centennial_College/Fourth_Semester/Supervised_learning/Team_Project/Traffic_collision_Group_2_Section_1_COMP247Project/conda-env/lib/python3.9/site-packages/sklearn/preprocessing/_encoders.py:170: UserWarning: Found unknown categories in columns [0, 1, 2] during transform. These unknown categories will be encoded as all zeros\n",
      "  warnings.warn(\n",
      "/Users/brunomorgado/Dropbox/Bruno_Morgado/Education/Mac_Education/Centennial_College/Fourth_Semester/Supervised_learning/Team_Project/Traffic_collision_Group_2_Section_1_COMP247Project/conda-env/lib/python3.9/site-packages/sklearn/preprocessing/_encoders.py:170: UserWarning: Found unknown categories in columns [0, 1, 5] during transform. These unknown categories will be encoded as all zeros\n",
      "  warnings.warn(\n",
      "/Users/brunomorgado/Dropbox/Bruno_Morgado/Education/Mac_Education/Centennial_College/Fourth_Semester/Supervised_learning/Team_Project/Traffic_collision_Group_2_Section_1_COMP247Project/conda-env/lib/python3.9/site-packages/sklearn/preprocessing/_encoders.py:170: UserWarning: Found unknown categories in columns [0, 1] during transform. These unknown categories will be encoded as all zeros\n",
      "  warnings.warn(\n",
      "/Users/brunomorgado/Dropbox/Bruno_Morgado/Education/Mac_Education/Centennial_College/Fourth_Semester/Supervised_learning/Team_Project/Traffic_collision_Group_2_Section_1_COMP247Project/conda-env/lib/python3.9/site-packages/sklearn/preprocessing/_encoders.py:170: UserWarning: Found unknown categories in columns [0, 1, 5] during transform. These unknown categories will be encoded as all zeros\n",
      "  warnings.warn(\n",
      "/Users/brunomorgado/Dropbox/Bruno_Morgado/Education/Mac_Education/Centennial_College/Fourth_Semester/Supervised_learning/Team_Project/Traffic_collision_Group_2_Section_1_COMP247Project/conda-env/lib/python3.9/site-packages/sklearn/preprocessing/_encoders.py:170: UserWarning: Found unknown categories in columns [0, 1, 8] during transform. These unknown categories will be encoded as all zeros\n",
      "  warnings.warn(\n",
      "/Users/brunomorgado/Dropbox/Bruno_Morgado/Education/Mac_Education/Centennial_College/Fourth_Semester/Supervised_learning/Team_Project/Traffic_collision_Group_2_Section_1_COMP247Project/conda-env/lib/python3.9/site-packages/sklearn/preprocessing/_encoders.py:170: UserWarning: Found unknown categories in columns [0, 1, 2] during transform. These unknown categories will be encoded as all zeros\n",
      "  warnings.warn(\n",
      "/Users/brunomorgado/Dropbox/Bruno_Morgado/Education/Mac_Education/Centennial_College/Fourth_Semester/Supervised_learning/Team_Project/Traffic_collision_Group_2_Section_1_COMP247Project/conda-env/lib/python3.9/site-packages/sklearn/preprocessing/_encoders.py:170: UserWarning: Found unknown categories in columns [0, 1, 5] during transform. These unknown categories will be encoded as all zeros\n",
      "  warnings.warn(\n",
      "/Users/brunomorgado/Dropbox/Bruno_Morgado/Education/Mac_Education/Centennial_College/Fourth_Semester/Supervised_learning/Team_Project/Traffic_collision_Group_2_Section_1_COMP247Project/conda-env/lib/python3.9/site-packages/sklearn/preprocessing/_encoders.py:170: UserWarning: Found unknown categories in columns [0, 1] during transform. These unknown categories will be encoded as all zeros\n",
      "  warnings.warn(\n",
      "/Users/brunomorgado/Dropbox/Bruno_Morgado/Education/Mac_Education/Centennial_College/Fourth_Semester/Supervised_learning/Team_Project/Traffic_collision_Group_2_Section_1_COMP247Project/conda-env/lib/python3.9/site-packages/sklearn/preprocessing/_encoders.py:170: UserWarning: Found unknown categories in columns [0, 1, 5] during transform. These unknown categories will be encoded as all zeros\n",
      "  warnings.warn(\n",
      "/Users/brunomorgado/Dropbox/Bruno_Morgado/Education/Mac_Education/Centennial_College/Fourth_Semester/Supervised_learning/Team_Project/Traffic_collision_Group_2_Section_1_COMP247Project/conda-env/lib/python3.9/site-packages/sklearn/preprocessing/_encoders.py:170: UserWarning: Found unknown categories in columns [0, 1, 2] during transform. These unknown categories will be encoded as all zeros\n",
      "  warnings.warn(\n"
     ]
    },
    {
     "name": "stderr",
     "output_type": "stream",
     "text": [
      "/Users/brunomorgado/Dropbox/Bruno_Morgado/Education/Mac_Education/Centennial_College/Fourth_Semester/Supervised_learning/Team_Project/Traffic_collision_Group_2_Section_1_COMP247Project/conda-env/lib/python3.9/site-packages/sklearn/preprocessing/_encoders.py:170: UserWarning: Found unknown categories in columns [0, 1, 8] during transform. These unknown categories will be encoded as all zeros\n",
      "  warnings.warn(\n",
      "/Users/brunomorgado/Dropbox/Bruno_Morgado/Education/Mac_Education/Centennial_College/Fourth_Semester/Supervised_learning/Team_Project/Traffic_collision_Group_2_Section_1_COMP247Project/conda-env/lib/python3.9/site-packages/sklearn/preprocessing/_encoders.py:170: UserWarning: Found unknown categories in columns [0, 1, 5] during transform. These unknown categories will be encoded as all zeros\n",
      "  warnings.warn(\n",
      "/Users/brunomorgado/Dropbox/Bruno_Morgado/Education/Mac_Education/Centennial_College/Fourth_Semester/Supervised_learning/Team_Project/Traffic_collision_Group_2_Section_1_COMP247Project/conda-env/lib/python3.9/site-packages/sklearn/preprocessing/_encoders.py:170: UserWarning: Found unknown categories in columns [0, 1] during transform. These unknown categories will be encoded as all zeros\n",
      "  warnings.warn(\n",
      "/Users/brunomorgado/Dropbox/Bruno_Morgado/Education/Mac_Education/Centennial_College/Fourth_Semester/Supervised_learning/Team_Project/Traffic_collision_Group_2_Section_1_COMP247Project/conda-env/lib/python3.9/site-packages/sklearn/preprocessing/_encoders.py:170: UserWarning: Found unknown categories in columns [0, 1, 5] during transform. These unknown categories will be encoded as all zeros\n",
      "  warnings.warn(\n",
      "/Users/brunomorgado/Dropbox/Bruno_Morgado/Education/Mac_Education/Centennial_College/Fourth_Semester/Supervised_learning/Team_Project/Traffic_collision_Group_2_Section_1_COMP247Project/conda-env/lib/python3.9/site-packages/sklearn/preprocessing/_encoders.py:170: UserWarning: Found unknown categories in columns [0, 1, 8] during transform. These unknown categories will be encoded as all zeros\n",
      "  warnings.warn(\n",
      "/Users/brunomorgado/Dropbox/Bruno_Morgado/Education/Mac_Education/Centennial_College/Fourth_Semester/Supervised_learning/Team_Project/Traffic_collision_Group_2_Section_1_COMP247Project/conda-env/lib/python3.9/site-packages/sklearn/preprocessing/_encoders.py:170: UserWarning: Found unknown categories in columns [0, 1] during transform. These unknown categories will be encoded as all zeros\n",
      "  warnings.warn(\n",
      "/Users/brunomorgado/Dropbox/Bruno_Morgado/Education/Mac_Education/Centennial_College/Fourth_Semester/Supervised_learning/Team_Project/Traffic_collision_Group_2_Section_1_COMP247Project/conda-env/lib/python3.9/site-packages/sklearn/preprocessing/_encoders.py:170: UserWarning: Found unknown categories in columns [0, 1, 5] during transform. These unknown categories will be encoded as all zeros\n",
      "  warnings.warn(\n",
      "/Users/brunomorgado/Dropbox/Bruno_Morgado/Education/Mac_Education/Centennial_College/Fourth_Semester/Supervised_learning/Team_Project/Traffic_collision_Group_2_Section_1_COMP247Project/conda-env/lib/python3.9/site-packages/sklearn/preprocessing/_encoders.py:170: UserWarning: Found unknown categories in columns [0, 1, 5] during transform. These unknown categories will be encoded as all zeros\n",
      "  warnings.warn(\n",
      "/Users/brunomorgado/Dropbox/Bruno_Morgado/Education/Mac_Education/Centennial_College/Fourth_Semester/Supervised_learning/Team_Project/Traffic_collision_Group_2_Section_1_COMP247Project/conda-env/lib/python3.9/site-packages/sklearn/preprocessing/_encoders.py:170: UserWarning: Found unknown categories in columns [0, 1, 8] during transform. These unknown categories will be encoded as all zeros\n",
      "  warnings.warn(\n",
      "/Users/brunomorgado/Dropbox/Bruno_Morgado/Education/Mac_Education/Centennial_College/Fourth_Semester/Supervised_learning/Team_Project/Traffic_collision_Group_2_Section_1_COMP247Project/conda-env/lib/python3.9/site-packages/sklearn/preprocessing/_encoders.py:170: UserWarning: Found unknown categories in columns [0, 1, 2] during transform. These unknown categories will be encoded as all zeros\n",
      "  warnings.warn(\n",
      "/Users/brunomorgado/Dropbox/Bruno_Morgado/Education/Mac_Education/Centennial_College/Fourth_Semester/Supervised_learning/Team_Project/Traffic_collision_Group_2_Section_1_COMP247Project/conda-env/lib/python3.9/site-packages/sklearn/preprocessing/_encoders.py:170: UserWarning: Found unknown categories in columns [0, 1, 2] during transform. These unknown categories will be encoded as all zeros\n",
      "  warnings.warn(\n",
      "/Users/brunomorgado/Dropbox/Bruno_Morgado/Education/Mac_Education/Centennial_College/Fourth_Semester/Supervised_learning/Team_Project/Traffic_collision_Group_2_Section_1_COMP247Project/conda-env/lib/python3.9/site-packages/sklearn/preprocessing/_encoders.py:170: UserWarning: Found unknown categories in columns [0, 1, 5] during transform. These unknown categories will be encoded as all zeros\n",
      "  warnings.warn(\n",
      "/Users/brunomorgado/Dropbox/Bruno_Morgado/Education/Mac_Education/Centennial_College/Fourth_Semester/Supervised_learning/Team_Project/Traffic_collision_Group_2_Section_1_COMP247Project/conda-env/lib/python3.9/site-packages/sklearn/preprocessing/_encoders.py:170: UserWarning: Found unknown categories in columns [0, 1] during transform. These unknown categories will be encoded as all zeros\n",
      "  warnings.warn(\n",
      "/Users/brunomorgado/Dropbox/Bruno_Morgado/Education/Mac_Education/Centennial_College/Fourth_Semester/Supervised_learning/Team_Project/Traffic_collision_Group_2_Section_1_COMP247Project/conda-env/lib/python3.9/site-packages/sklearn/preprocessing/_encoders.py:170: UserWarning: Found unknown categories in columns [0, 1, 8] during transform. These unknown categories will be encoded as all zeros\n",
      "  warnings.warn(\n",
      "/Users/brunomorgado/Dropbox/Bruno_Morgado/Education/Mac_Education/Centennial_College/Fourth_Semester/Supervised_learning/Team_Project/Traffic_collision_Group_2_Section_1_COMP247Project/conda-env/lib/python3.9/site-packages/sklearn/preprocessing/_encoders.py:170: UserWarning: Found unknown categories in columns [0, 1, 5] during transform. These unknown categories will be encoded as all zeros\n",
      "  warnings.warn(\n",
      "/Users/brunomorgado/Dropbox/Bruno_Morgado/Education/Mac_Education/Centennial_College/Fourth_Semester/Supervised_learning/Team_Project/Traffic_collision_Group_2_Section_1_COMP247Project/conda-env/lib/python3.9/site-packages/sklearn/preprocessing/_encoders.py:170: UserWarning: Found unknown categories in columns [0, 1, 5] during transform. These unknown categories will be encoded as all zeros\n",
      "  warnings.warn(\n",
      "/Users/brunomorgado/Dropbox/Bruno_Morgado/Education/Mac_Education/Centennial_College/Fourth_Semester/Supervised_learning/Team_Project/Traffic_collision_Group_2_Section_1_COMP247Project/conda-env/lib/python3.9/site-packages/sklearn/preprocessing/_encoders.py:170: UserWarning: Found unknown categories in columns [0, 1, 2] during transform. These unknown categories will be encoded as all zeros\n",
      "  warnings.warn(\n",
      "/Users/brunomorgado/Dropbox/Bruno_Morgado/Education/Mac_Education/Centennial_College/Fourth_Semester/Supervised_learning/Team_Project/Traffic_collision_Group_2_Section_1_COMP247Project/conda-env/lib/python3.9/site-packages/sklearn/preprocessing/_encoders.py:170: UserWarning: Found unknown categories in columns [0, 1] during transform. These unknown categories will be encoded as all zeros\n",
      "  warnings.warn(\n",
      "/Users/brunomorgado/Dropbox/Bruno_Morgado/Education/Mac_Education/Centennial_College/Fourth_Semester/Supervised_learning/Team_Project/Traffic_collision_Group_2_Section_1_COMP247Project/conda-env/lib/python3.9/site-packages/sklearn/preprocessing/_encoders.py:170: UserWarning: Found unknown categories in columns [0, 1, 5] during transform. These unknown categories will be encoded as all zeros\n",
      "  warnings.warn(\n",
      "/Users/brunomorgado/Dropbox/Bruno_Morgado/Education/Mac_Education/Centennial_College/Fourth_Semester/Supervised_learning/Team_Project/Traffic_collision_Group_2_Section_1_COMP247Project/conda-env/lib/python3.9/site-packages/sklearn/preprocessing/_encoders.py:170: UserWarning: Found unknown categories in columns [0, 1, 2] during transform. These unknown categories will be encoded as all zeros\n",
      "  warnings.warn(\n"
     ]
    },
    {
     "name": "stderr",
     "output_type": "stream",
     "text": [
      "/Users/brunomorgado/Dropbox/Bruno_Morgado/Education/Mac_Education/Centennial_College/Fourth_Semester/Supervised_learning/Team_Project/Traffic_collision_Group_2_Section_1_COMP247Project/conda-env/lib/python3.9/site-packages/sklearn/preprocessing/_encoders.py:170: UserWarning: Found unknown categories in columns [0, 1, 8] during transform. These unknown categories will be encoded as all zeros\n",
      "  warnings.warn(\n",
      "/Users/brunomorgado/Dropbox/Bruno_Morgado/Education/Mac_Education/Centennial_College/Fourth_Semester/Supervised_learning/Team_Project/Traffic_collision_Group_2_Section_1_COMP247Project/conda-env/lib/python3.9/site-packages/sklearn/preprocessing/_encoders.py:170: UserWarning: Found unknown categories in columns [0, 1, 5] during transform. These unknown categories will be encoded as all zeros\n",
      "  warnings.warn(\n",
      "/Users/brunomorgado/Dropbox/Bruno_Morgado/Education/Mac_Education/Centennial_College/Fourth_Semester/Supervised_learning/Team_Project/Traffic_collision_Group_2_Section_1_COMP247Project/conda-env/lib/python3.9/site-packages/sklearn/preprocessing/_encoders.py:170: UserWarning: Found unknown categories in columns [0, 1] during transform. These unknown categories will be encoded as all zeros\n",
      "  warnings.warn(\n",
      "/Users/brunomorgado/Dropbox/Bruno_Morgado/Education/Mac_Education/Centennial_College/Fourth_Semester/Supervised_learning/Team_Project/Traffic_collision_Group_2_Section_1_COMP247Project/conda-env/lib/python3.9/site-packages/sklearn/preprocessing/_encoders.py:170: UserWarning: Found unknown categories in columns [0, 1, 5] during transform. These unknown categories will be encoded as all zeros\n",
      "  warnings.warn(\n",
      "/Users/brunomorgado/Dropbox/Bruno_Morgado/Education/Mac_Education/Centennial_College/Fourth_Semester/Supervised_learning/Team_Project/Traffic_collision_Group_2_Section_1_COMP247Project/conda-env/lib/python3.9/site-packages/sklearn/preprocessing/_encoders.py:170: UserWarning: Found unknown categories in columns [0, 1, 2] during transform. These unknown categories will be encoded as all zeros\n",
      "  warnings.warn(\n",
      "/Users/brunomorgado/Dropbox/Bruno_Morgado/Education/Mac_Education/Centennial_College/Fourth_Semester/Supervised_learning/Team_Project/Traffic_collision_Group_2_Section_1_COMP247Project/conda-env/lib/python3.9/site-packages/sklearn/preprocessing/_encoders.py:170: UserWarning: Found unknown categories in columns [0, 1, 8] during transform. These unknown categories will be encoded as all zeros\n",
      "  warnings.warn(\n",
      "/Users/brunomorgado/Dropbox/Bruno_Morgado/Education/Mac_Education/Centennial_College/Fourth_Semester/Supervised_learning/Team_Project/Traffic_collision_Group_2_Section_1_COMP247Project/conda-env/lib/python3.9/site-packages/sklearn/preprocessing/_encoders.py:170: UserWarning: Found unknown categories in columns [0, 1, 5] during transform. These unknown categories will be encoded as all zeros\n",
      "  warnings.warn(\n",
      "/Users/brunomorgado/Dropbox/Bruno_Morgado/Education/Mac_Education/Centennial_College/Fourth_Semester/Supervised_learning/Team_Project/Traffic_collision_Group_2_Section_1_COMP247Project/conda-env/lib/python3.9/site-packages/sklearn/preprocessing/_encoders.py:170: UserWarning: Found unknown categories in columns [0, 1] during transform. These unknown categories will be encoded as all zeros\n",
      "  warnings.warn(\n",
      "/Users/brunomorgado/Dropbox/Bruno_Morgado/Education/Mac_Education/Centennial_College/Fourth_Semester/Supervised_learning/Team_Project/Traffic_collision_Group_2_Section_1_COMP247Project/conda-env/lib/python3.9/site-packages/sklearn/preprocessing/_encoders.py:170: UserWarning: Found unknown categories in columns [0, 1, 5] during transform. These unknown categories will be encoded as all zeros\n",
      "  warnings.warn(\n",
      "/Users/brunomorgado/Dropbox/Bruno_Morgado/Education/Mac_Education/Centennial_College/Fourth_Semester/Supervised_learning/Team_Project/Traffic_collision_Group_2_Section_1_COMP247Project/conda-env/lib/python3.9/site-packages/sklearn/preprocessing/_encoders.py:170: UserWarning: Found unknown categories in columns [0, 1, 8] during transform. These unknown categories will be encoded as all zeros\n",
      "  warnings.warn(\n",
      "/Users/brunomorgado/Dropbox/Bruno_Morgado/Education/Mac_Education/Centennial_College/Fourth_Semester/Supervised_learning/Team_Project/Traffic_collision_Group_2_Section_1_COMP247Project/conda-env/lib/python3.9/site-packages/sklearn/preprocessing/_encoders.py:170: UserWarning: Found unknown categories in columns [0, 1, 2] during transform. These unknown categories will be encoded as all zeros\n",
      "  warnings.warn(\n",
      "/Users/brunomorgado/Dropbox/Bruno_Morgado/Education/Mac_Education/Centennial_College/Fourth_Semester/Supervised_learning/Team_Project/Traffic_collision_Group_2_Section_1_COMP247Project/conda-env/lib/python3.9/site-packages/sklearn/preprocessing/_encoders.py:170: UserWarning: Found unknown categories in columns [0, 1, 5] during transform. These unknown categories will be encoded as all zeros\n",
      "  warnings.warn(\n",
      "/Users/brunomorgado/Dropbox/Bruno_Morgado/Education/Mac_Education/Centennial_College/Fourth_Semester/Supervised_learning/Team_Project/Traffic_collision_Group_2_Section_1_COMP247Project/conda-env/lib/python3.9/site-packages/sklearn/preprocessing/_encoders.py:170: UserWarning: Found unknown categories in columns [0, 1] during transform. These unknown categories will be encoded as all zeros\n",
      "  warnings.warn(\n",
      "/Users/brunomorgado/Dropbox/Bruno_Morgado/Education/Mac_Education/Centennial_College/Fourth_Semester/Supervised_learning/Team_Project/Traffic_collision_Group_2_Section_1_COMP247Project/conda-env/lib/python3.9/site-packages/sklearn/preprocessing/_encoders.py:170: UserWarning: Found unknown categories in columns [0, 1, 5] during transform. These unknown categories will be encoded as all zeros\n",
      "  warnings.warn(\n",
      "/Users/brunomorgado/Dropbox/Bruno_Morgado/Education/Mac_Education/Centennial_College/Fourth_Semester/Supervised_learning/Team_Project/Traffic_collision_Group_2_Section_1_COMP247Project/conda-env/lib/python3.9/site-packages/sklearn/preprocessing/_encoders.py:170: UserWarning: Found unknown categories in columns [0, 1, 2] during transform. These unknown categories will be encoded as all zeros\n",
      "  warnings.warn(\n",
      "/Users/brunomorgado/Dropbox/Bruno_Morgado/Education/Mac_Education/Centennial_College/Fourth_Semester/Supervised_learning/Team_Project/Traffic_collision_Group_2_Section_1_COMP247Project/conda-env/lib/python3.9/site-packages/sklearn/preprocessing/_encoders.py:170: UserWarning: Found unknown categories in columns [0, 1, 8] during transform. These unknown categories will be encoded as all zeros\n",
      "  warnings.warn(\n",
      "/Users/brunomorgado/Dropbox/Bruno_Morgado/Education/Mac_Education/Centennial_College/Fourth_Semester/Supervised_learning/Team_Project/Traffic_collision_Group_2_Section_1_COMP247Project/conda-env/lib/python3.9/site-packages/sklearn/preprocessing/_encoders.py:170: UserWarning: Found unknown categories in columns [0, 1, 5] during transform. These unknown categories will be encoded as all zeros\n",
      "  warnings.warn(\n",
      "/Users/brunomorgado/Dropbox/Bruno_Morgado/Education/Mac_Education/Centennial_College/Fourth_Semester/Supervised_learning/Team_Project/Traffic_collision_Group_2_Section_1_COMP247Project/conda-env/lib/python3.9/site-packages/sklearn/preprocessing/_encoders.py:170: UserWarning: Found unknown categories in columns [0, 1] during transform. These unknown categories will be encoded as all zeros\n",
      "  warnings.warn(\n",
      "/Users/brunomorgado/Dropbox/Bruno_Morgado/Education/Mac_Education/Centennial_College/Fourth_Semester/Supervised_learning/Team_Project/Traffic_collision_Group_2_Section_1_COMP247Project/conda-env/lib/python3.9/site-packages/sklearn/preprocessing/_encoders.py:170: UserWarning: Found unknown categories in columns [0, 1, 5] during transform. These unknown categories will be encoded as all zeros\n",
      "  warnings.warn(\n",
      "/Users/brunomorgado/Dropbox/Bruno_Morgado/Education/Mac_Education/Centennial_College/Fourth_Semester/Supervised_learning/Team_Project/Traffic_collision_Group_2_Section_1_COMP247Project/conda-env/lib/python3.9/site-packages/sklearn/preprocessing/_encoders.py:170: UserWarning: Found unknown categories in columns [0, 1, 2] during transform. These unknown categories will be encoded as all zeros\n",
      "  warnings.warn(\n"
     ]
    },
    {
     "name": "stderr",
     "output_type": "stream",
     "text": [
      "/Users/brunomorgado/Dropbox/Bruno_Morgado/Education/Mac_Education/Centennial_College/Fourth_Semester/Supervised_learning/Team_Project/Traffic_collision_Group_2_Section_1_COMP247Project/conda-env/lib/python3.9/site-packages/sklearn/preprocessing/_encoders.py:170: UserWarning: Found unknown categories in columns [0, 1, 8] during transform. These unknown categories will be encoded as all zeros\n",
      "  warnings.warn(\n",
      "/Users/brunomorgado/Dropbox/Bruno_Morgado/Education/Mac_Education/Centennial_College/Fourth_Semester/Supervised_learning/Team_Project/Traffic_collision_Group_2_Section_1_COMP247Project/conda-env/lib/python3.9/site-packages/sklearn/preprocessing/_encoders.py:170: UserWarning: Found unknown categories in columns [0, 1, 5] during transform. These unknown categories will be encoded as all zeros\n",
      "  warnings.warn(\n",
      "/Users/brunomorgado/Dropbox/Bruno_Morgado/Education/Mac_Education/Centennial_College/Fourth_Semester/Supervised_learning/Team_Project/Traffic_collision_Group_2_Section_1_COMP247Project/conda-env/lib/python3.9/site-packages/sklearn/preprocessing/_encoders.py:170: UserWarning: Found unknown categories in columns [0, 1] during transform. These unknown categories will be encoded as all zeros\n",
      "  warnings.warn(\n",
      "/Users/brunomorgado/Dropbox/Bruno_Morgado/Education/Mac_Education/Centennial_College/Fourth_Semester/Supervised_learning/Team_Project/Traffic_collision_Group_2_Section_1_COMP247Project/conda-env/lib/python3.9/site-packages/sklearn/preprocessing/_encoders.py:170: UserWarning: Found unknown categories in columns [0, 1, 5] during transform. These unknown categories will be encoded as all zeros\n",
      "  warnings.warn(\n",
      "/Users/brunomorgado/Dropbox/Bruno_Morgado/Education/Mac_Education/Centennial_College/Fourth_Semester/Supervised_learning/Team_Project/Traffic_collision_Group_2_Section_1_COMP247Project/conda-env/lib/python3.9/site-packages/sklearn/preprocessing/_encoders.py:170: UserWarning: Found unknown categories in columns [0, 1, 2] during transform. These unknown categories will be encoded as all zeros\n",
      "  warnings.warn(\n",
      "/Users/brunomorgado/Dropbox/Bruno_Morgado/Education/Mac_Education/Centennial_College/Fourth_Semester/Supervised_learning/Team_Project/Traffic_collision_Group_2_Section_1_COMP247Project/conda-env/lib/python3.9/site-packages/sklearn/preprocessing/_encoders.py:170: UserWarning: Found unknown categories in columns [0, 1, 8] during transform. These unknown categories will be encoded as all zeros\n",
      "  warnings.warn(\n",
      "/Users/brunomorgado/Dropbox/Bruno_Morgado/Education/Mac_Education/Centennial_College/Fourth_Semester/Supervised_learning/Team_Project/Traffic_collision_Group_2_Section_1_COMP247Project/conda-env/lib/python3.9/site-packages/sklearn/preprocessing/_encoders.py:170: UserWarning: Found unknown categories in columns [0, 1, 5] during transform. These unknown categories will be encoded as all zeros\n",
      "  warnings.warn(\n",
      "/Users/brunomorgado/Dropbox/Bruno_Morgado/Education/Mac_Education/Centennial_College/Fourth_Semester/Supervised_learning/Team_Project/Traffic_collision_Group_2_Section_1_COMP247Project/conda-env/lib/python3.9/site-packages/sklearn/preprocessing/_encoders.py:170: UserWarning: Found unknown categories in columns [0, 1] during transform. These unknown categories will be encoded as all zeros\n",
      "  warnings.warn(\n",
      "/Users/brunomorgado/Dropbox/Bruno_Morgado/Education/Mac_Education/Centennial_College/Fourth_Semester/Supervised_learning/Team_Project/Traffic_collision_Group_2_Section_1_COMP247Project/conda-env/lib/python3.9/site-packages/sklearn/preprocessing/_encoders.py:170: UserWarning: Found unknown categories in columns [0, 1, 5] during transform. These unknown categories will be encoded as all zeros\n",
      "  warnings.warn(\n",
      "/Users/brunomorgado/Dropbox/Bruno_Morgado/Education/Mac_Education/Centennial_College/Fourth_Semester/Supervised_learning/Team_Project/Traffic_collision_Group_2_Section_1_COMP247Project/conda-env/lib/python3.9/site-packages/sklearn/preprocessing/_encoders.py:170: UserWarning: Found unknown categories in columns [0, 1, 2] during transform. These unknown categories will be encoded as all zeros\n",
      "  warnings.warn(\n",
      "/Users/brunomorgado/Dropbox/Bruno_Morgado/Education/Mac_Education/Centennial_College/Fourth_Semester/Supervised_learning/Team_Project/Traffic_collision_Group_2_Section_1_COMP247Project/conda-env/lib/python3.9/site-packages/sklearn/preprocessing/_encoders.py:170: UserWarning: Found unknown categories in columns [0, 1, 8] during transform. These unknown categories will be encoded as all zeros\n",
      "  warnings.warn(\n",
      "/Users/brunomorgado/Dropbox/Bruno_Morgado/Education/Mac_Education/Centennial_College/Fourth_Semester/Supervised_learning/Team_Project/Traffic_collision_Group_2_Section_1_COMP247Project/conda-env/lib/python3.9/site-packages/sklearn/preprocessing/_encoders.py:170: UserWarning: Found unknown categories in columns [0, 1, 8] during transform. These unknown categories will be encoded as all zeros\n",
      "  warnings.warn(\n",
      "/Users/brunomorgado/Dropbox/Bruno_Morgado/Education/Mac_Education/Centennial_College/Fourth_Semester/Supervised_learning/Team_Project/Traffic_collision_Group_2_Section_1_COMP247Project/conda-env/lib/python3.9/site-packages/sklearn/preprocessing/_encoders.py:170: UserWarning: Found unknown categories in columns [0, 1, 5] during transform. These unknown categories will be encoded as all zeros\n",
      "  warnings.warn(\n",
      "/Users/brunomorgado/Dropbox/Bruno_Morgado/Education/Mac_Education/Centennial_College/Fourth_Semester/Supervised_learning/Team_Project/Traffic_collision_Group_2_Section_1_COMP247Project/conda-env/lib/python3.9/site-packages/sklearn/preprocessing/_encoders.py:170: UserWarning: Found unknown categories in columns [0, 1] during transform. These unknown categories will be encoded as all zeros\n",
      "  warnings.warn(\n",
      "/Users/brunomorgado/Dropbox/Bruno_Morgado/Education/Mac_Education/Centennial_College/Fourth_Semester/Supervised_learning/Team_Project/Traffic_collision_Group_2_Section_1_COMP247Project/conda-env/lib/python3.9/site-packages/sklearn/preprocessing/_encoders.py:170: UserWarning: Found unknown categories in columns [0, 1, 5] during transform. These unknown categories will be encoded as all zeros\n",
      "  warnings.warn(\n",
      "/Users/brunomorgado/Dropbox/Bruno_Morgado/Education/Mac_Education/Centennial_College/Fourth_Semester/Supervised_learning/Team_Project/Traffic_collision_Group_2_Section_1_COMP247Project/conda-env/lib/python3.9/site-packages/sklearn/preprocessing/_encoders.py:170: UserWarning: Found unknown categories in columns [0, 1, 2] during transform. These unknown categories will be encoded as all zeros\n",
      "  warnings.warn(\n",
      "/Users/brunomorgado/Dropbox/Bruno_Morgado/Education/Mac_Education/Centennial_College/Fourth_Semester/Supervised_learning/Team_Project/Traffic_collision_Group_2_Section_1_COMP247Project/conda-env/lib/python3.9/site-packages/sklearn/preprocessing/_encoders.py:170: UserWarning: Found unknown categories in columns [0, 1, 5] during transform. These unknown categories will be encoded as all zeros\n",
      "  warnings.warn(\n",
      "/Users/brunomorgado/Dropbox/Bruno_Morgado/Education/Mac_Education/Centennial_College/Fourth_Semester/Supervised_learning/Team_Project/Traffic_collision_Group_2_Section_1_COMP247Project/conda-env/lib/python3.9/site-packages/sklearn/preprocessing/_encoders.py:170: UserWarning: Found unknown categories in columns [0, 1] during transform. These unknown categories will be encoded as all zeros\n",
      "  warnings.warn(\n",
      "/Users/brunomorgado/Dropbox/Bruno_Morgado/Education/Mac_Education/Centennial_College/Fourth_Semester/Supervised_learning/Team_Project/Traffic_collision_Group_2_Section_1_COMP247Project/conda-env/lib/python3.9/site-packages/sklearn/preprocessing/_encoders.py:170: UserWarning: Found unknown categories in columns [0, 1, 5] during transform. These unknown categories will be encoded as all zeros\n",
      "  warnings.warn(\n",
      "/Users/brunomorgado/Dropbox/Bruno_Morgado/Education/Mac_Education/Centennial_College/Fourth_Semester/Supervised_learning/Team_Project/Traffic_collision_Group_2_Section_1_COMP247Project/conda-env/lib/python3.9/site-packages/sklearn/preprocessing/_encoders.py:170: UserWarning: Found unknown categories in columns [0, 1, 2] during transform. These unknown categories will be encoded as all zeros\n",
      "  warnings.warn(\n"
     ]
    },
    {
     "name": "stderr",
     "output_type": "stream",
     "text": [
      "/Users/brunomorgado/Dropbox/Bruno_Morgado/Education/Mac_Education/Centennial_College/Fourth_Semester/Supervised_learning/Team_Project/Traffic_collision_Group_2_Section_1_COMP247Project/conda-env/lib/python3.9/site-packages/sklearn/preprocessing/_encoders.py:170: UserWarning: Found unknown categories in columns [0, 1, 8] during transform. These unknown categories will be encoded as all zeros\n",
      "  warnings.warn(\n",
      "/Users/brunomorgado/Dropbox/Bruno_Morgado/Education/Mac_Education/Centennial_College/Fourth_Semester/Supervised_learning/Team_Project/Traffic_collision_Group_2_Section_1_COMP247Project/conda-env/lib/python3.9/site-packages/sklearn/preprocessing/_encoders.py:170: UserWarning: Found unknown categories in columns [0, 1, 5] during transform. These unknown categories will be encoded as all zeros\n",
      "  warnings.warn(\n",
      "/Users/brunomorgado/Dropbox/Bruno_Morgado/Education/Mac_Education/Centennial_College/Fourth_Semester/Supervised_learning/Team_Project/Traffic_collision_Group_2_Section_1_COMP247Project/conda-env/lib/python3.9/site-packages/sklearn/preprocessing/_encoders.py:170: UserWarning: Found unknown categories in columns [0, 1] during transform. These unknown categories will be encoded as all zeros\n",
      "  warnings.warn(\n",
      "/Users/brunomorgado/Dropbox/Bruno_Morgado/Education/Mac_Education/Centennial_College/Fourth_Semester/Supervised_learning/Team_Project/Traffic_collision_Group_2_Section_1_COMP247Project/conda-env/lib/python3.9/site-packages/sklearn/preprocessing/_encoders.py:170: UserWarning: Found unknown categories in columns [0, 1, 8] during transform. These unknown categories will be encoded as all zeros\n",
      "  warnings.warn(\n",
      "/Users/brunomorgado/Dropbox/Bruno_Morgado/Education/Mac_Education/Centennial_College/Fourth_Semester/Supervised_learning/Team_Project/Traffic_collision_Group_2_Section_1_COMP247Project/conda-env/lib/python3.9/site-packages/sklearn/preprocessing/_encoders.py:170: UserWarning: Found unknown categories in columns [0, 1, 5] during transform. These unknown categories will be encoded as all zeros\n",
      "  warnings.warn(\n",
      "/Users/brunomorgado/Dropbox/Bruno_Morgado/Education/Mac_Education/Centennial_College/Fourth_Semester/Supervised_learning/Team_Project/Traffic_collision_Group_2_Section_1_COMP247Project/conda-env/lib/python3.9/site-packages/sklearn/preprocessing/_encoders.py:170: UserWarning: Found unknown categories in columns [0, 1] during transform. These unknown categories will be encoded as all zeros\n",
      "  warnings.warn(\n",
      "/Users/brunomorgado/Dropbox/Bruno_Morgado/Education/Mac_Education/Centennial_College/Fourth_Semester/Supervised_learning/Team_Project/Traffic_collision_Group_2_Section_1_COMP247Project/conda-env/lib/python3.9/site-packages/sklearn/preprocessing/_encoders.py:170: UserWarning: Found unknown categories in columns [0, 1, 5] during transform. These unknown categories will be encoded as all zeros\n",
      "  warnings.warn(\n",
      "/Users/brunomorgado/Dropbox/Bruno_Morgado/Education/Mac_Education/Centennial_College/Fourth_Semester/Supervised_learning/Team_Project/Traffic_collision_Group_2_Section_1_COMP247Project/conda-env/lib/python3.9/site-packages/sklearn/preprocessing/_encoders.py:170: UserWarning: Found unknown categories in columns [0, 1, 5] during transform. These unknown categories will be encoded as all zeros\n",
      "  warnings.warn(\n",
      "/Users/brunomorgado/Dropbox/Bruno_Morgado/Education/Mac_Education/Centennial_College/Fourth_Semester/Supervised_learning/Team_Project/Traffic_collision_Group_2_Section_1_COMP247Project/conda-env/lib/python3.9/site-packages/sklearn/preprocessing/_encoders.py:170: UserWarning: Found unknown categories in columns [0, 1, 2] during transform. These unknown categories will be encoded as all zeros\n",
      "  warnings.warn(\n",
      "/Users/brunomorgado/Dropbox/Bruno_Morgado/Education/Mac_Education/Centennial_College/Fourth_Semester/Supervised_learning/Team_Project/Traffic_collision_Group_2_Section_1_COMP247Project/conda-env/lib/python3.9/site-packages/sklearn/preprocessing/_encoders.py:170: UserWarning: Found unknown categories in columns [0, 1, 2] during transform. These unknown categories will be encoded as all zeros\n",
      "  warnings.warn(\n",
      "/Users/brunomorgado/Dropbox/Bruno_Morgado/Education/Mac_Education/Centennial_College/Fourth_Semester/Supervised_learning/Team_Project/Traffic_collision_Group_2_Section_1_COMP247Project/conda-env/lib/python3.9/site-packages/sklearn/preprocessing/_encoders.py:170: UserWarning: Found unknown categories in columns [0, 1, 8] during transform. These unknown categories will be encoded as all zeros\n",
      "  warnings.warn(\n",
      "/Users/brunomorgado/Dropbox/Bruno_Morgado/Education/Mac_Education/Centennial_College/Fourth_Semester/Supervised_learning/Team_Project/Traffic_collision_Group_2_Section_1_COMP247Project/conda-env/lib/python3.9/site-packages/sklearn/preprocessing/_encoders.py:170: UserWarning: Found unknown categories in columns [0, 1, 5] during transform. These unknown categories will be encoded as all zeros\n",
      "  warnings.warn(\n",
      "/Users/brunomorgado/Dropbox/Bruno_Morgado/Education/Mac_Education/Centennial_College/Fourth_Semester/Supervised_learning/Team_Project/Traffic_collision_Group_2_Section_1_COMP247Project/conda-env/lib/python3.9/site-packages/sklearn/preprocessing/_encoders.py:170: UserWarning: Found unknown categories in columns [0, 1] during transform. These unknown categories will be encoded as all zeros\n",
      "  warnings.warn(\n",
      "/Users/brunomorgado/Dropbox/Bruno_Morgado/Education/Mac_Education/Centennial_College/Fourth_Semester/Supervised_learning/Team_Project/Traffic_collision_Group_2_Section_1_COMP247Project/conda-env/lib/python3.9/site-packages/sklearn/preprocessing/_encoders.py:170: UserWarning: Found unknown categories in columns [0, 1, 5] during transform. These unknown categories will be encoded as all zeros\n",
      "  warnings.warn(\n",
      "/Users/brunomorgado/Dropbox/Bruno_Morgado/Education/Mac_Education/Centennial_College/Fourth_Semester/Supervised_learning/Team_Project/Traffic_collision_Group_2_Section_1_COMP247Project/conda-env/lib/python3.9/site-packages/sklearn/preprocessing/_encoders.py:170: UserWarning: Found unknown categories in columns [0, 1, 2] during transform. These unknown categories will be encoded as all zeros\n",
      "  warnings.warn(\n",
      "/Users/brunomorgado/Dropbox/Bruno_Morgado/Education/Mac_Education/Centennial_College/Fourth_Semester/Supervised_learning/Team_Project/Traffic_collision_Group_2_Section_1_COMP247Project/conda-env/lib/python3.9/site-packages/sklearn/preprocessing/_encoders.py:170: UserWarning: Found unknown categories in columns [0, 1, 8] during transform. These unknown categories will be encoded as all zeros\n",
      "  warnings.warn(\n",
      "/Users/brunomorgado/Dropbox/Bruno_Morgado/Education/Mac_Education/Centennial_College/Fourth_Semester/Supervised_learning/Team_Project/Traffic_collision_Group_2_Section_1_COMP247Project/conda-env/lib/python3.9/site-packages/sklearn/preprocessing/_encoders.py:170: UserWarning: Found unknown categories in columns [0, 1, 5] during transform. These unknown categories will be encoded as all zeros\n",
      "  warnings.warn(\n",
      "/Users/brunomorgado/Dropbox/Bruno_Morgado/Education/Mac_Education/Centennial_College/Fourth_Semester/Supervised_learning/Team_Project/Traffic_collision_Group_2_Section_1_COMP247Project/conda-env/lib/python3.9/site-packages/sklearn/preprocessing/_encoders.py:170: UserWarning: Found unknown categories in columns [0, 1] during transform. These unknown categories will be encoded as all zeros\n",
      "  warnings.warn(\n",
      "/Users/brunomorgado/Dropbox/Bruno_Morgado/Education/Mac_Education/Centennial_College/Fourth_Semester/Supervised_learning/Team_Project/Traffic_collision_Group_2_Section_1_COMP247Project/conda-env/lib/python3.9/site-packages/sklearn/preprocessing/_encoders.py:170: UserWarning: Found unknown categories in columns [0, 1, 5] during transform. These unknown categories will be encoded as all zeros\n",
      "  warnings.warn(\n",
      "/Users/brunomorgado/Dropbox/Bruno_Morgado/Education/Mac_Education/Centennial_College/Fourth_Semester/Supervised_learning/Team_Project/Traffic_collision_Group_2_Section_1_COMP247Project/conda-env/lib/python3.9/site-packages/sklearn/preprocessing/_encoders.py:170: UserWarning: Found unknown categories in columns [0, 1, 8] during transform. These unknown categories will be encoded as all zeros\n",
      "  warnings.warn(\n"
     ]
    },
    {
     "name": "stderr",
     "output_type": "stream",
     "text": [
      "/Users/brunomorgado/Dropbox/Bruno_Morgado/Education/Mac_Education/Centennial_College/Fourth_Semester/Supervised_learning/Team_Project/Traffic_collision_Group_2_Section_1_COMP247Project/conda-env/lib/python3.9/site-packages/sklearn/preprocessing/_encoders.py:170: UserWarning: Found unknown categories in columns [0, 1, 5] during transform. These unknown categories will be encoded as all zeros\n",
      "  warnings.warn(\n",
      "/Users/brunomorgado/Dropbox/Bruno_Morgado/Education/Mac_Education/Centennial_College/Fourth_Semester/Supervised_learning/Team_Project/Traffic_collision_Group_2_Section_1_COMP247Project/conda-env/lib/python3.9/site-packages/sklearn/preprocessing/_encoders.py:170: UserWarning: Found unknown categories in columns [0, 1] during transform. These unknown categories will be encoded as all zeros\n",
      "  warnings.warn(\n",
      "/Users/brunomorgado/Dropbox/Bruno_Morgado/Education/Mac_Education/Centennial_College/Fourth_Semester/Supervised_learning/Team_Project/Traffic_collision_Group_2_Section_1_COMP247Project/conda-env/lib/python3.9/site-packages/sklearn/preprocessing/_encoders.py:170: UserWarning: Found unknown categories in columns [0, 1, 5] during transform. These unknown categories will be encoded as all zeros\n",
      "  warnings.warn(\n",
      "/Users/brunomorgado/Dropbox/Bruno_Morgado/Education/Mac_Education/Centennial_College/Fourth_Semester/Supervised_learning/Team_Project/Traffic_collision_Group_2_Section_1_COMP247Project/conda-env/lib/python3.9/site-packages/sklearn/preprocessing/_encoders.py:170: UserWarning: Found unknown categories in columns [0, 1, 2] during transform. These unknown categories will be encoded as all zeros\n",
      "  warnings.warn(\n",
      "/Users/brunomorgado/Dropbox/Bruno_Morgado/Education/Mac_Education/Centennial_College/Fourth_Semester/Supervised_learning/Team_Project/Traffic_collision_Group_2_Section_1_COMP247Project/conda-env/lib/python3.9/site-packages/sklearn/preprocessing/_encoders.py:170: UserWarning: Found unknown categories in columns [0, 1, 8] during transform. These unknown categories will be encoded as all zeros\n",
      "  warnings.warn(\n",
      "/Users/brunomorgado/Dropbox/Bruno_Morgado/Education/Mac_Education/Centennial_College/Fourth_Semester/Supervised_learning/Team_Project/Traffic_collision_Group_2_Section_1_COMP247Project/conda-env/lib/python3.9/site-packages/sklearn/preprocessing/_encoders.py:170: UserWarning: Found unknown categories in columns [0, 1, 5] during transform. These unknown categories will be encoded as all zeros\n",
      "  warnings.warn(\n",
      "/Users/brunomorgado/Dropbox/Bruno_Morgado/Education/Mac_Education/Centennial_College/Fourth_Semester/Supervised_learning/Team_Project/Traffic_collision_Group_2_Section_1_COMP247Project/conda-env/lib/python3.9/site-packages/sklearn/preprocessing/_encoders.py:170: UserWarning: Found unknown categories in columns [0, 1, 2] during transform. These unknown categories will be encoded as all zeros\n",
      "  warnings.warn(\n",
      "/Users/brunomorgado/Dropbox/Bruno_Morgado/Education/Mac_Education/Centennial_College/Fourth_Semester/Supervised_learning/Team_Project/Traffic_collision_Group_2_Section_1_COMP247Project/conda-env/lib/python3.9/site-packages/sklearn/preprocessing/_encoders.py:170: UserWarning: Found unknown categories in columns [0, 1] during transform. These unknown categories will be encoded as all zeros\n",
      "  warnings.warn(\n",
      "/Users/brunomorgado/Dropbox/Bruno_Morgado/Education/Mac_Education/Centennial_College/Fourth_Semester/Supervised_learning/Team_Project/Traffic_collision_Group_2_Section_1_COMP247Project/conda-env/lib/python3.9/site-packages/sklearn/preprocessing/_encoders.py:170: UserWarning: Found unknown categories in columns [0, 1, 5] during transform. These unknown categories will be encoded as all zeros\n",
      "  warnings.warn(\n",
      "/Users/brunomorgado/Dropbox/Bruno_Morgado/Education/Mac_Education/Centennial_College/Fourth_Semester/Supervised_learning/Team_Project/Traffic_collision_Group_2_Section_1_COMP247Project/conda-env/lib/python3.9/site-packages/sklearn/preprocessing/_encoders.py:170: UserWarning: Found unknown categories in columns [0, 1, 2] during transform. These unknown categories will be encoded as all zeros\n",
      "  warnings.warn(\n",
      "/Users/brunomorgado/Dropbox/Bruno_Morgado/Education/Mac_Education/Centennial_College/Fourth_Semester/Supervised_learning/Team_Project/Traffic_collision_Group_2_Section_1_COMP247Project/conda-env/lib/python3.9/site-packages/sklearn/preprocessing/_encoders.py:170: UserWarning: Found unknown categories in columns [0, 1, 8] during transform. These unknown categories will be encoded as all zeros\n",
      "  warnings.warn(\n",
      "/Users/brunomorgado/Dropbox/Bruno_Morgado/Education/Mac_Education/Centennial_College/Fourth_Semester/Supervised_learning/Team_Project/Traffic_collision_Group_2_Section_1_COMP247Project/conda-env/lib/python3.9/site-packages/sklearn/preprocessing/_encoders.py:170: UserWarning: Found unknown categories in columns [0, 1, 8] during transform. These unknown categories will be encoded as all zeros\n",
      "  warnings.warn(\n",
      "/Users/brunomorgado/Dropbox/Bruno_Morgado/Education/Mac_Education/Centennial_College/Fourth_Semester/Supervised_learning/Team_Project/Traffic_collision_Group_2_Section_1_COMP247Project/conda-env/lib/python3.9/site-packages/sklearn/preprocessing/_encoders.py:170: UserWarning: Found unknown categories in columns [0, 1, 5] during transform. These unknown categories will be encoded as all zeros\n",
      "  warnings.warn(\n",
      "/Users/brunomorgado/Dropbox/Bruno_Morgado/Education/Mac_Education/Centennial_College/Fourth_Semester/Supervised_learning/Team_Project/Traffic_collision_Group_2_Section_1_COMP247Project/conda-env/lib/python3.9/site-packages/sklearn/preprocessing/_encoders.py:170: UserWarning: Found unknown categories in columns [0, 1] during transform. These unknown categories will be encoded as all zeros\n",
      "  warnings.warn(\n",
      "/Users/brunomorgado/Dropbox/Bruno_Morgado/Education/Mac_Education/Centennial_College/Fourth_Semester/Supervised_learning/Team_Project/Traffic_collision_Group_2_Section_1_COMP247Project/conda-env/lib/python3.9/site-packages/sklearn/preprocessing/_encoders.py:170: UserWarning: Found unknown categories in columns [0, 1, 5] during transform. These unknown categories will be encoded as all zeros\n",
      "  warnings.warn(\n",
      "/Users/brunomorgado/Dropbox/Bruno_Morgado/Education/Mac_Education/Centennial_College/Fourth_Semester/Supervised_learning/Team_Project/Traffic_collision_Group_2_Section_1_COMP247Project/conda-env/lib/python3.9/site-packages/sklearn/preprocessing/_encoders.py:170: UserWarning: Found unknown categories in columns [0, 1, 2] during transform. These unknown categories will be encoded as all zeros\n",
      "  warnings.warn(\n",
      "/Users/brunomorgado/Dropbox/Bruno_Morgado/Education/Mac_Education/Centennial_College/Fourth_Semester/Supervised_learning/Team_Project/Traffic_collision_Group_2_Section_1_COMP247Project/conda-env/lib/python3.9/site-packages/sklearn/preprocessing/_encoders.py:170: UserWarning: Found unknown categories in columns [0, 1, 5] during transform. These unknown categories will be encoded as all zeros\n",
      "  warnings.warn(\n",
      "/Users/brunomorgado/Dropbox/Bruno_Morgado/Education/Mac_Education/Centennial_College/Fourth_Semester/Supervised_learning/Team_Project/Traffic_collision_Group_2_Section_1_COMP247Project/conda-env/lib/python3.9/site-packages/sklearn/preprocessing/_encoders.py:170: UserWarning: Found unknown categories in columns [0, 1] during transform. These unknown categories will be encoded as all zeros\n",
      "  warnings.warn(\n",
      "/Users/brunomorgado/Dropbox/Bruno_Morgado/Education/Mac_Education/Centennial_College/Fourth_Semester/Supervised_learning/Team_Project/Traffic_collision_Group_2_Section_1_COMP247Project/conda-env/lib/python3.9/site-packages/sklearn/preprocessing/_encoders.py:170: UserWarning: Found unknown categories in columns [0, 1, 5] during transform. These unknown categories will be encoded as all zeros\n",
      "  warnings.warn(\n",
      "/Users/brunomorgado/Dropbox/Bruno_Morgado/Education/Mac_Education/Centennial_College/Fourth_Semester/Supervised_learning/Team_Project/Traffic_collision_Group_2_Section_1_COMP247Project/conda-env/lib/python3.9/site-packages/sklearn/preprocessing/_encoders.py:170: UserWarning: Found unknown categories in columns [0, 1, 8] during transform. These unknown categories will be encoded as all zeros\n",
      "  warnings.warn(\n"
     ]
    },
    {
     "name": "stderr",
     "output_type": "stream",
     "text": [
      "/Users/brunomorgado/Dropbox/Bruno_Morgado/Education/Mac_Education/Centennial_College/Fourth_Semester/Supervised_learning/Team_Project/Traffic_collision_Group_2_Section_1_COMP247Project/conda-env/lib/python3.9/site-packages/sklearn/preprocessing/_encoders.py:170: UserWarning: Found unknown categories in columns [0, 1, 2] during transform. These unknown categories will be encoded as all zeros\n",
      "  warnings.warn(\n",
      "/Users/brunomorgado/Dropbox/Bruno_Morgado/Education/Mac_Education/Centennial_College/Fourth_Semester/Supervised_learning/Team_Project/Traffic_collision_Group_2_Section_1_COMP247Project/conda-env/lib/python3.9/site-packages/sklearn/preprocessing/_encoders.py:170: UserWarning: Found unknown categories in columns [0, 1, 5] during transform. These unknown categories will be encoded as all zeros\n",
      "  warnings.warn(\n",
      "/Users/brunomorgado/Dropbox/Bruno_Morgado/Education/Mac_Education/Centennial_College/Fourth_Semester/Supervised_learning/Team_Project/Traffic_collision_Group_2_Section_1_COMP247Project/conda-env/lib/python3.9/site-packages/sklearn/preprocessing/_encoders.py:170: UserWarning: Found unknown categories in columns [0, 1] during transform. These unknown categories will be encoded as all zeros\n",
      "  warnings.warn(\n",
      "/Users/brunomorgado/Dropbox/Bruno_Morgado/Education/Mac_Education/Centennial_College/Fourth_Semester/Supervised_learning/Team_Project/Traffic_collision_Group_2_Section_1_COMP247Project/conda-env/lib/python3.9/site-packages/sklearn/preprocessing/_encoders.py:170: UserWarning: Found unknown categories in columns [0, 1, 5] during transform. These unknown categories will be encoded as all zeros\n",
      "  warnings.warn(\n",
      "/Users/brunomorgado/Dropbox/Bruno_Morgado/Education/Mac_Education/Centennial_College/Fourth_Semester/Supervised_learning/Team_Project/Traffic_collision_Group_2_Section_1_COMP247Project/conda-env/lib/python3.9/site-packages/sklearn/preprocessing/_encoders.py:170: UserWarning: Found unknown categories in columns [0, 1, 2] during transform. These unknown categories will be encoded as all zeros\n",
      "  warnings.warn(\n",
      "/Users/brunomorgado/Dropbox/Bruno_Morgado/Education/Mac_Education/Centennial_College/Fourth_Semester/Supervised_learning/Team_Project/Traffic_collision_Group_2_Section_1_COMP247Project/conda-env/lib/python3.9/site-packages/sklearn/preprocessing/_encoders.py:170: UserWarning: Found unknown categories in columns [0, 1, 8] during transform. These unknown categories will be encoded as all zeros\n",
      "  warnings.warn(\n",
      "/Users/brunomorgado/Dropbox/Bruno_Morgado/Education/Mac_Education/Centennial_College/Fourth_Semester/Supervised_learning/Team_Project/Traffic_collision_Group_2_Section_1_COMP247Project/conda-env/lib/python3.9/site-packages/sklearn/preprocessing/_encoders.py:170: UserWarning: Found unknown categories in columns [0, 1, 5] during transform. These unknown categories will be encoded as all zeros\n",
      "  warnings.warn(\n",
      "/Users/brunomorgado/Dropbox/Bruno_Morgado/Education/Mac_Education/Centennial_College/Fourth_Semester/Supervised_learning/Team_Project/Traffic_collision_Group_2_Section_1_COMP247Project/conda-env/lib/python3.9/site-packages/sklearn/preprocessing/_encoders.py:170: UserWarning: Found unknown categories in columns [0, 1] during transform. These unknown categories will be encoded as all zeros\n",
      "  warnings.warn(\n",
      "/Users/brunomorgado/Dropbox/Bruno_Morgado/Education/Mac_Education/Centennial_College/Fourth_Semester/Supervised_learning/Team_Project/Traffic_collision_Group_2_Section_1_COMP247Project/conda-env/lib/python3.9/site-packages/sklearn/preprocessing/_encoders.py:170: UserWarning: Found unknown categories in columns [0, 1, 5] during transform. These unknown categories will be encoded as all zeros\n",
      "  warnings.warn(\n",
      "/Users/brunomorgado/Dropbox/Bruno_Morgado/Education/Mac_Education/Centennial_College/Fourth_Semester/Supervised_learning/Team_Project/Traffic_collision_Group_2_Section_1_COMP247Project/conda-env/lib/python3.9/site-packages/sklearn/preprocessing/_encoders.py:170: UserWarning: Found unknown categories in columns [0, 1, 8] during transform. These unknown categories will be encoded as all zeros\n",
      "  warnings.warn(\n",
      "/Users/brunomorgado/Dropbox/Bruno_Morgado/Education/Mac_Education/Centennial_College/Fourth_Semester/Supervised_learning/Team_Project/Traffic_collision_Group_2_Section_1_COMP247Project/conda-env/lib/python3.9/site-packages/sklearn/preprocessing/_encoders.py:170: UserWarning: Found unknown categories in columns [0, 1, 2] during transform. These unknown categories will be encoded as all zeros\n",
      "  warnings.warn(\n",
      "/Users/brunomorgado/Dropbox/Bruno_Morgado/Education/Mac_Education/Centennial_College/Fourth_Semester/Supervised_learning/Team_Project/Traffic_collision_Group_2_Section_1_COMP247Project/conda-env/lib/python3.9/site-packages/sklearn/preprocessing/_encoders.py:170: UserWarning: Found unknown categories in columns [0, 1, 5] during transform. These unknown categories will be encoded as all zeros\n",
      "  warnings.warn(\n",
      "/Users/brunomorgado/Dropbox/Bruno_Morgado/Education/Mac_Education/Centennial_College/Fourth_Semester/Supervised_learning/Team_Project/Traffic_collision_Group_2_Section_1_COMP247Project/conda-env/lib/python3.9/site-packages/sklearn/preprocessing/_encoders.py:170: UserWarning: Found unknown categories in columns [0, 1] during transform. These unknown categories will be encoded as all zeros\n",
      "  warnings.warn(\n",
      "/Users/brunomorgado/Dropbox/Bruno_Morgado/Education/Mac_Education/Centennial_College/Fourth_Semester/Supervised_learning/Team_Project/Traffic_collision_Group_2_Section_1_COMP247Project/conda-env/lib/python3.9/site-packages/sklearn/preprocessing/_encoders.py:170: UserWarning: Found unknown categories in columns [0, 1, 5] during transform. These unknown categories will be encoded as all zeros\n",
      "  warnings.warn(\n",
      "/Users/brunomorgado/Dropbox/Bruno_Morgado/Education/Mac_Education/Centennial_College/Fourth_Semester/Supervised_learning/Team_Project/Traffic_collision_Group_2_Section_1_COMP247Project/conda-env/lib/python3.9/site-packages/sklearn/preprocessing/_encoders.py:170: UserWarning: Found unknown categories in columns [0, 1, 2] during transform. These unknown categories will be encoded as all zeros\n",
      "  warnings.warn(\n",
      "/Users/brunomorgado/Dropbox/Bruno_Morgado/Education/Mac_Education/Centennial_College/Fourth_Semester/Supervised_learning/Team_Project/Traffic_collision_Group_2_Section_1_COMP247Project/conda-env/lib/python3.9/site-packages/sklearn/preprocessing/_encoders.py:170: UserWarning: Found unknown categories in columns [0, 1, 8] during transform. These unknown categories will be encoded as all zeros\n",
      "  warnings.warn(\n",
      "/Users/brunomorgado/Dropbox/Bruno_Morgado/Education/Mac_Education/Centennial_College/Fourth_Semester/Supervised_learning/Team_Project/Traffic_collision_Group_2_Section_1_COMP247Project/conda-env/lib/python3.9/site-packages/sklearn/preprocessing/_encoders.py:170: UserWarning: Found unknown categories in columns [0, 1, 5] during transform. These unknown categories will be encoded as all zeros\n",
      "  warnings.warn(\n",
      "/Users/brunomorgado/Dropbox/Bruno_Morgado/Education/Mac_Education/Centennial_College/Fourth_Semester/Supervised_learning/Team_Project/Traffic_collision_Group_2_Section_1_COMP247Project/conda-env/lib/python3.9/site-packages/sklearn/preprocessing/_encoders.py:170: UserWarning: Found unknown categories in columns [0, 1] during transform. These unknown categories will be encoded as all zeros\n",
      "  warnings.warn(\n",
      "/Users/brunomorgado/Dropbox/Bruno_Morgado/Education/Mac_Education/Centennial_College/Fourth_Semester/Supervised_learning/Team_Project/Traffic_collision_Group_2_Section_1_COMP247Project/conda-env/lib/python3.9/site-packages/sklearn/preprocessing/_encoders.py:170: UserWarning: Found unknown categories in columns [0, 1, 5] during transform. These unknown categories will be encoded as all zeros\n",
      "  warnings.warn(\n",
      "/Users/brunomorgado/Dropbox/Bruno_Morgado/Education/Mac_Education/Centennial_College/Fourth_Semester/Supervised_learning/Team_Project/Traffic_collision_Group_2_Section_1_COMP247Project/conda-env/lib/python3.9/site-packages/sklearn/preprocessing/_encoders.py:170: UserWarning: Found unknown categories in columns [0, 1, 2] during transform. These unknown categories will be encoded as all zeros\n",
      "  warnings.warn(\n"
     ]
    },
    {
     "name": "stderr",
     "output_type": "stream",
     "text": [
      "/Users/brunomorgado/Dropbox/Bruno_Morgado/Education/Mac_Education/Centennial_College/Fourth_Semester/Supervised_learning/Team_Project/Traffic_collision_Group_2_Section_1_COMP247Project/conda-env/lib/python3.9/site-packages/sklearn/preprocessing/_encoders.py:170: UserWarning: Found unknown categories in columns [0, 1, 8] during transform. These unknown categories will be encoded as all zeros\n",
      "  warnings.warn(\n",
      "/Users/brunomorgado/Dropbox/Bruno_Morgado/Education/Mac_Education/Centennial_College/Fourth_Semester/Supervised_learning/Team_Project/Traffic_collision_Group_2_Section_1_COMP247Project/conda-env/lib/python3.9/site-packages/sklearn/preprocessing/_encoders.py:170: UserWarning: Found unknown categories in columns [0, 1] during transform. These unknown categories will be encoded as all zeros\n",
      "  warnings.warn(\n",
      "/Users/brunomorgado/Dropbox/Bruno_Morgado/Education/Mac_Education/Centennial_College/Fourth_Semester/Supervised_learning/Team_Project/Traffic_collision_Group_2_Section_1_COMP247Project/conda-env/lib/python3.9/site-packages/sklearn/preprocessing/_encoders.py:170: UserWarning: Found unknown categories in columns [0, 1, 5] during transform. These unknown categories will be encoded as all zeros\n",
      "  warnings.warn(\n",
      "/Users/brunomorgado/Dropbox/Bruno_Morgado/Education/Mac_Education/Centennial_College/Fourth_Semester/Supervised_learning/Team_Project/Traffic_collision_Group_2_Section_1_COMP247Project/conda-env/lib/python3.9/site-packages/sklearn/preprocessing/_encoders.py:170: UserWarning: Found unknown categories in columns [0, 1, 5] during transform. These unknown categories will be encoded as all zeros\n",
      "  warnings.warn(\n",
      "/Users/brunomorgado/Dropbox/Bruno_Morgado/Education/Mac_Education/Centennial_College/Fourth_Semester/Supervised_learning/Team_Project/Traffic_collision_Group_2_Section_1_COMP247Project/conda-env/lib/python3.9/site-packages/sklearn/preprocessing/_encoders.py:170: UserWarning: Found unknown categories in columns [0, 1, 2] during transform. These unknown categories will be encoded as all zeros\n",
      "  warnings.warn(\n",
      "/Users/brunomorgado/Dropbox/Bruno_Morgado/Education/Mac_Education/Centennial_College/Fourth_Semester/Supervised_learning/Team_Project/Traffic_collision_Group_2_Section_1_COMP247Project/conda-env/lib/python3.9/site-packages/sklearn/preprocessing/_encoders.py:170: UserWarning: Found unknown categories in columns [0, 1, 8] during transform. These unknown categories will be encoded as all zeros\n",
      "  warnings.warn(\n",
      "/Users/brunomorgado/Dropbox/Bruno_Morgado/Education/Mac_Education/Centennial_College/Fourth_Semester/Supervised_learning/Team_Project/Traffic_collision_Group_2_Section_1_COMP247Project/conda-env/lib/python3.9/site-packages/sklearn/preprocessing/_encoders.py:170: UserWarning: Found unknown categories in columns [0, 1, 5] during transform. These unknown categories will be encoded as all zeros\n",
      "  warnings.warn(\n",
      "/Users/brunomorgado/Dropbox/Bruno_Morgado/Education/Mac_Education/Centennial_College/Fourth_Semester/Supervised_learning/Team_Project/Traffic_collision_Group_2_Section_1_COMP247Project/conda-env/lib/python3.9/site-packages/sklearn/preprocessing/_encoders.py:170: UserWarning: Found unknown categories in columns [0, 1] during transform. These unknown categories will be encoded as all zeros\n",
      "  warnings.warn(\n",
      "/Users/brunomorgado/Dropbox/Bruno_Morgado/Education/Mac_Education/Centennial_College/Fourth_Semester/Supervised_learning/Team_Project/Traffic_collision_Group_2_Section_1_COMP247Project/conda-env/lib/python3.9/site-packages/sklearn/preprocessing/_encoders.py:170: UserWarning: Found unknown categories in columns [0, 1, 5] during transform. These unknown categories will be encoded as all zeros\n",
      "  warnings.warn(\n",
      "/Users/brunomorgado/Dropbox/Bruno_Morgado/Education/Mac_Education/Centennial_College/Fourth_Semester/Supervised_learning/Team_Project/Traffic_collision_Group_2_Section_1_COMP247Project/conda-env/lib/python3.9/site-packages/sklearn/preprocessing/_encoders.py:170: UserWarning: Found unknown categories in columns [0, 1, 2] during transform. These unknown categories will be encoded as all zeros\n",
      "  warnings.warn(\n",
      "/Users/brunomorgado/Dropbox/Bruno_Morgado/Education/Mac_Education/Centennial_College/Fourth_Semester/Supervised_learning/Team_Project/Traffic_collision_Group_2_Section_1_COMP247Project/conda-env/lib/python3.9/site-packages/sklearn/preprocessing/_encoders.py:170: UserWarning: Found unknown categories in columns [0, 1, 8] during transform. These unknown categories will be encoded as all zeros\n",
      "  warnings.warn(\n",
      "/Users/brunomorgado/Dropbox/Bruno_Morgado/Education/Mac_Education/Centennial_College/Fourth_Semester/Supervised_learning/Team_Project/Traffic_collision_Group_2_Section_1_COMP247Project/conda-env/lib/python3.9/site-packages/sklearn/preprocessing/_encoders.py:170: UserWarning: Found unknown categories in columns [0, 1, 5] during transform. These unknown categories will be encoded as all zeros\n",
      "  warnings.warn(\n",
      "/Users/brunomorgado/Dropbox/Bruno_Morgado/Education/Mac_Education/Centennial_College/Fourth_Semester/Supervised_learning/Team_Project/Traffic_collision_Group_2_Section_1_COMP247Project/conda-env/lib/python3.9/site-packages/sklearn/preprocessing/_encoders.py:170: UserWarning: Found unknown categories in columns [0, 1] during transform. These unknown categories will be encoded as all zeros\n",
      "  warnings.warn(\n",
      "/Users/brunomorgado/Dropbox/Bruno_Morgado/Education/Mac_Education/Centennial_College/Fourth_Semester/Supervised_learning/Team_Project/Traffic_collision_Group_2_Section_1_COMP247Project/conda-env/lib/python3.9/site-packages/sklearn/preprocessing/_encoders.py:170: UserWarning: Found unknown categories in columns [0, 1, 2] during transform. These unknown categories will be encoded as all zeros\n",
      "  warnings.warn(\n",
      "/Users/brunomorgado/Dropbox/Bruno_Morgado/Education/Mac_Education/Centennial_College/Fourth_Semester/Supervised_learning/Team_Project/Traffic_collision_Group_2_Section_1_COMP247Project/conda-env/lib/python3.9/site-packages/sklearn/preprocessing/_encoders.py:170: UserWarning: Found unknown categories in columns [0, 1, 5] during transform. These unknown categories will be encoded as all zeros\n",
      "  warnings.warn(\n",
      "/Users/brunomorgado/Dropbox/Bruno_Morgado/Education/Mac_Education/Centennial_College/Fourth_Semester/Supervised_learning/Team_Project/Traffic_collision_Group_2_Section_1_COMP247Project/conda-env/lib/python3.9/site-packages/sklearn/preprocessing/_encoders.py:170: UserWarning: Found unknown categories in columns [0, 1, 8] during transform. These unknown categories will be encoded as all zeros\n",
      "  warnings.warn(\n",
      "/Users/brunomorgado/Dropbox/Bruno_Morgado/Education/Mac_Education/Centennial_College/Fourth_Semester/Supervised_learning/Team_Project/Traffic_collision_Group_2_Section_1_COMP247Project/conda-env/lib/python3.9/site-packages/sklearn/preprocessing/_encoders.py:170: UserWarning: Found unknown categories in columns [0, 1, 5] during transform. These unknown categories will be encoded as all zeros\n",
      "  warnings.warn(\n",
      "/Users/brunomorgado/Dropbox/Bruno_Morgado/Education/Mac_Education/Centennial_College/Fourth_Semester/Supervised_learning/Team_Project/Traffic_collision_Group_2_Section_1_COMP247Project/conda-env/lib/python3.9/site-packages/sklearn/preprocessing/_encoders.py:170: UserWarning: Found unknown categories in columns [0, 1] during transform. These unknown categories will be encoded as all zeros\n",
      "  warnings.warn(\n",
      "/Users/brunomorgado/Dropbox/Bruno_Morgado/Education/Mac_Education/Centennial_College/Fourth_Semester/Supervised_learning/Team_Project/Traffic_collision_Group_2_Section_1_COMP247Project/conda-env/lib/python3.9/site-packages/sklearn/preprocessing/_encoders.py:170: UserWarning: Found unknown categories in columns [0, 1, 5] during transform. These unknown categories will be encoded as all zeros\n",
      "  warnings.warn(\n",
      "/Users/brunomorgado/Dropbox/Bruno_Morgado/Education/Mac_Education/Centennial_College/Fourth_Semester/Supervised_learning/Team_Project/Traffic_collision_Group_2_Section_1_COMP247Project/conda-env/lib/python3.9/site-packages/sklearn/preprocessing/_encoders.py:170: UserWarning: Found unknown categories in columns [0, 1, 2] during transform. These unknown categories will be encoded as all zeros\n",
      "  warnings.warn(\n"
     ]
    },
    {
     "name": "stderr",
     "output_type": "stream",
     "text": [
      "/Users/brunomorgado/Dropbox/Bruno_Morgado/Education/Mac_Education/Centennial_College/Fourth_Semester/Supervised_learning/Team_Project/Traffic_collision_Group_2_Section_1_COMP247Project/conda-env/lib/python3.9/site-packages/sklearn/preprocessing/_encoders.py:170: UserWarning: Found unknown categories in columns [0, 1, 8] during transform. These unknown categories will be encoded as all zeros\n",
      "  warnings.warn(\n",
      "/Users/brunomorgado/Dropbox/Bruno_Morgado/Education/Mac_Education/Centennial_College/Fourth_Semester/Supervised_learning/Team_Project/Traffic_collision_Group_2_Section_1_COMP247Project/conda-env/lib/python3.9/site-packages/sklearn/preprocessing/_encoders.py:170: UserWarning: Found unknown categories in columns [0, 1, 5] during transform. These unknown categories will be encoded as all zeros\n",
      "  warnings.warn(\n",
      "/Users/brunomorgado/Dropbox/Bruno_Morgado/Education/Mac_Education/Centennial_College/Fourth_Semester/Supervised_learning/Team_Project/Traffic_collision_Group_2_Section_1_COMP247Project/conda-env/lib/python3.9/site-packages/sklearn/preprocessing/_encoders.py:170: UserWarning: Found unknown categories in columns [0, 1] during transform. These unknown categories will be encoded as all zeros\n",
      "  warnings.warn(\n",
      "/Users/brunomorgado/Dropbox/Bruno_Morgado/Education/Mac_Education/Centennial_College/Fourth_Semester/Supervised_learning/Team_Project/Traffic_collision_Group_2_Section_1_COMP247Project/conda-env/lib/python3.9/site-packages/sklearn/preprocessing/_encoders.py:170: UserWarning: Found unknown categories in columns [0, 1, 5] during transform. These unknown categories will be encoded as all zeros\n",
      "  warnings.warn(\n",
      "/Users/brunomorgado/Dropbox/Bruno_Morgado/Education/Mac_Education/Centennial_College/Fourth_Semester/Supervised_learning/Team_Project/Traffic_collision_Group_2_Section_1_COMP247Project/conda-env/lib/python3.9/site-packages/sklearn/preprocessing/_encoders.py:170: UserWarning: Found unknown categories in columns [0, 1, 2] during transform. These unknown categories will be encoded as all zeros\n",
      "  warnings.warn(\n",
      "/Users/brunomorgado/Dropbox/Bruno_Morgado/Education/Mac_Education/Centennial_College/Fourth_Semester/Supervised_learning/Team_Project/Traffic_collision_Group_2_Section_1_COMP247Project/conda-env/lib/python3.9/site-packages/sklearn/preprocessing/_encoders.py:170: UserWarning: Found unknown categories in columns [0, 1, 8] during transform. These unknown categories will be encoded as all zeros\n",
      "  warnings.warn(\n",
      "/Users/brunomorgado/Dropbox/Bruno_Morgado/Education/Mac_Education/Centennial_College/Fourth_Semester/Supervised_learning/Team_Project/Traffic_collision_Group_2_Section_1_COMP247Project/conda-env/lib/python3.9/site-packages/sklearn/preprocessing/_encoders.py:170: UserWarning: Found unknown categories in columns [0, 1, 5] during transform. These unknown categories will be encoded as all zeros\n",
      "  warnings.warn(\n",
      "/Users/brunomorgado/Dropbox/Bruno_Morgado/Education/Mac_Education/Centennial_College/Fourth_Semester/Supervised_learning/Team_Project/Traffic_collision_Group_2_Section_1_COMP247Project/conda-env/lib/python3.9/site-packages/sklearn/preprocessing/_encoders.py:170: UserWarning: Found unknown categories in columns [0, 1] during transform. These unknown categories will be encoded as all zeros\n",
      "  warnings.warn(\n",
      "/Users/brunomorgado/Dropbox/Bruno_Morgado/Education/Mac_Education/Centennial_College/Fourth_Semester/Supervised_learning/Team_Project/Traffic_collision_Group_2_Section_1_COMP247Project/conda-env/lib/python3.9/site-packages/sklearn/preprocessing/_encoders.py:170: UserWarning: Found unknown categories in columns [0, 1, 5] during transform. These unknown categories will be encoded as all zeros\n",
      "  warnings.warn(\n",
      "/Users/brunomorgado/Dropbox/Bruno_Morgado/Education/Mac_Education/Centennial_College/Fourth_Semester/Supervised_learning/Team_Project/Traffic_collision_Group_2_Section_1_COMP247Project/conda-env/lib/python3.9/site-packages/sklearn/preprocessing/_encoders.py:170: UserWarning: Found unknown categories in columns [0, 1, 2] during transform. These unknown categories will be encoded as all zeros\n",
      "  warnings.warn(\n",
      "/Users/brunomorgado/Dropbox/Bruno_Morgado/Education/Mac_Education/Centennial_College/Fourth_Semester/Supervised_learning/Team_Project/Traffic_collision_Group_2_Section_1_COMP247Project/conda-env/lib/python3.9/site-packages/sklearn/preprocessing/_encoders.py:170: UserWarning: Found unknown categories in columns [0, 1, 8] during transform. These unknown categories will be encoded as all zeros\n",
      "  warnings.warn(\n",
      "/Users/brunomorgado/Dropbox/Bruno_Morgado/Education/Mac_Education/Centennial_College/Fourth_Semester/Supervised_learning/Team_Project/Traffic_collision_Group_2_Section_1_COMP247Project/conda-env/lib/python3.9/site-packages/sklearn/preprocessing/_encoders.py:170: UserWarning: Found unknown categories in columns [0, 1, 8] during transform. These unknown categories will be encoded as all zeros\n",
      "  warnings.warn(\n",
      "/Users/brunomorgado/Dropbox/Bruno_Morgado/Education/Mac_Education/Centennial_College/Fourth_Semester/Supervised_learning/Team_Project/Traffic_collision_Group_2_Section_1_COMP247Project/conda-env/lib/python3.9/site-packages/sklearn/preprocessing/_encoders.py:170: UserWarning: Found unknown categories in columns [0, 1, 5] during transform. These unknown categories will be encoded as all zeros\n",
      "  warnings.warn(\n",
      "/Users/brunomorgado/Dropbox/Bruno_Morgado/Education/Mac_Education/Centennial_College/Fourth_Semester/Supervised_learning/Team_Project/Traffic_collision_Group_2_Section_1_COMP247Project/conda-env/lib/python3.9/site-packages/sklearn/preprocessing/_encoders.py:170: UserWarning: Found unknown categories in columns [0, 1] during transform. These unknown categories will be encoded as all zeros\n",
      "  warnings.warn(\n",
      "/Users/brunomorgado/Dropbox/Bruno_Morgado/Education/Mac_Education/Centennial_College/Fourth_Semester/Supervised_learning/Team_Project/Traffic_collision_Group_2_Section_1_COMP247Project/conda-env/lib/python3.9/site-packages/sklearn/preprocessing/_encoders.py:170: UserWarning: Found unknown categories in columns [0, 1, 5] during transform. These unknown categories will be encoded as all zeros\n",
      "  warnings.warn(\n",
      "/Users/brunomorgado/Dropbox/Bruno_Morgado/Education/Mac_Education/Centennial_College/Fourth_Semester/Supervised_learning/Team_Project/Traffic_collision_Group_2_Section_1_COMP247Project/conda-env/lib/python3.9/site-packages/sklearn/preprocessing/_encoders.py:170: UserWarning: Found unknown categories in columns [0, 1, 5] during transform. These unknown categories will be encoded as all zeros\n",
      "  warnings.warn(\n",
      "/Users/brunomorgado/Dropbox/Bruno_Morgado/Education/Mac_Education/Centennial_College/Fourth_Semester/Supervised_learning/Team_Project/Traffic_collision_Group_2_Section_1_COMP247Project/conda-env/lib/python3.9/site-packages/sklearn/preprocessing/_encoders.py:170: UserWarning: Found unknown categories in columns [0, 1] during transform. These unknown categories will be encoded as all zeros\n",
      "  warnings.warn(\n",
      "/Users/brunomorgado/Dropbox/Bruno_Morgado/Education/Mac_Education/Centennial_College/Fourth_Semester/Supervised_learning/Team_Project/Traffic_collision_Group_2_Section_1_COMP247Project/conda-env/lib/python3.9/site-packages/sklearn/preprocessing/_encoders.py:170: UserWarning: Found unknown categories in columns [0, 1, 2] during transform. These unknown categories will be encoded as all zeros\n",
      "  warnings.warn(\n",
      "/Users/brunomorgado/Dropbox/Bruno_Morgado/Education/Mac_Education/Centennial_College/Fourth_Semester/Supervised_learning/Team_Project/Traffic_collision_Group_2_Section_1_COMP247Project/conda-env/lib/python3.9/site-packages/sklearn/preprocessing/_encoders.py:170: UserWarning: Found unknown categories in columns [0, 1, 8] during transform. These unknown categories will be encoded as all zeros\n",
      "  warnings.warn(\n",
      "/Users/brunomorgado/Dropbox/Bruno_Morgado/Education/Mac_Education/Centennial_College/Fourth_Semester/Supervised_learning/Team_Project/Traffic_collision_Group_2_Section_1_COMP247Project/conda-env/lib/python3.9/site-packages/sklearn/preprocessing/_encoders.py:170: UserWarning: Found unknown categories in columns [0, 1, 5] during transform. These unknown categories will be encoded as all zeros\n",
      "  warnings.warn(\n",
      "/Users/brunomorgado/Dropbox/Bruno_Morgado/Education/Mac_Education/Centennial_College/Fourth_Semester/Supervised_learning/Team_Project/Traffic_collision_Group_2_Section_1_COMP247Project/conda-env/lib/python3.9/site-packages/sklearn/preprocessing/_encoders.py:170: UserWarning: Found unknown categories in columns [0, 1, 5] during transform. These unknown categories will be encoded as all zeros\n",
      "  warnings.warn(\n"
     ]
    },
    {
     "name": "stderr",
     "output_type": "stream",
     "text": [
      "/Users/brunomorgado/Dropbox/Bruno_Morgado/Education/Mac_Education/Centennial_College/Fourth_Semester/Supervised_learning/Team_Project/Traffic_collision_Group_2_Section_1_COMP247Project/conda-env/lib/python3.9/site-packages/sklearn/preprocessing/_encoders.py:170: UserWarning: Found unknown categories in columns [0, 1, 2] during transform. These unknown categories will be encoded as all zeros\n",
      "  warnings.warn(\n",
      "/Users/brunomorgado/Dropbox/Bruno_Morgado/Education/Mac_Education/Centennial_College/Fourth_Semester/Supervised_learning/Team_Project/Traffic_collision_Group_2_Section_1_COMP247Project/conda-env/lib/python3.9/site-packages/sklearn/preprocessing/_encoders.py:170: UserWarning: Found unknown categories in columns [0, 1] during transform. These unknown categories will be encoded as all zeros\n",
      "  warnings.warn(\n",
      "/Users/brunomorgado/Dropbox/Bruno_Morgado/Education/Mac_Education/Centennial_College/Fourth_Semester/Supervised_learning/Team_Project/Traffic_collision_Group_2_Section_1_COMP247Project/conda-env/lib/python3.9/site-packages/sklearn/preprocessing/_encoders.py:170: UserWarning: Found unknown categories in columns [0, 1, 5] during transform. These unknown categories will be encoded as all zeros\n",
      "  warnings.warn(\n",
      "/Users/brunomorgado/Dropbox/Bruno_Morgado/Education/Mac_Education/Centennial_College/Fourth_Semester/Supervised_learning/Team_Project/Traffic_collision_Group_2_Section_1_COMP247Project/conda-env/lib/python3.9/site-packages/sklearn/preprocessing/_encoders.py:170: UserWarning: Found unknown categories in columns [0, 1, 2] during transform. These unknown categories will be encoded as all zeros\n",
      "  warnings.warn(\n",
      "/Users/brunomorgado/Dropbox/Bruno_Morgado/Education/Mac_Education/Centennial_College/Fourth_Semester/Supervised_learning/Team_Project/Traffic_collision_Group_2_Section_1_COMP247Project/conda-env/lib/python3.9/site-packages/sklearn/preprocessing/_encoders.py:170: UserWarning: Found unknown categories in columns [0, 1, 8] during transform. These unknown categories will be encoded as all zeros\n",
      "  warnings.warn(\n",
      "/Users/brunomorgado/Dropbox/Bruno_Morgado/Education/Mac_Education/Centennial_College/Fourth_Semester/Supervised_learning/Team_Project/Traffic_collision_Group_2_Section_1_COMP247Project/conda-env/lib/python3.9/site-packages/sklearn/preprocessing/_encoders.py:170: UserWarning: Found unknown categories in columns [0, 1, 5] during transform. These unknown categories will be encoded as all zeros\n",
      "  warnings.warn(\n",
      "/Users/brunomorgado/Dropbox/Bruno_Morgado/Education/Mac_Education/Centennial_College/Fourth_Semester/Supervised_learning/Team_Project/Traffic_collision_Group_2_Section_1_COMP247Project/conda-env/lib/python3.9/site-packages/sklearn/preprocessing/_encoders.py:170: UserWarning: Found unknown categories in columns [0, 1] during transform. These unknown categories will be encoded as all zeros\n",
      "  warnings.warn(\n",
      "/Users/brunomorgado/Dropbox/Bruno_Morgado/Education/Mac_Education/Centennial_College/Fourth_Semester/Supervised_learning/Team_Project/Traffic_collision_Group_2_Section_1_COMP247Project/conda-env/lib/python3.9/site-packages/sklearn/preprocessing/_encoders.py:170: UserWarning: Found unknown categories in columns [0, 1, 5] during transform. These unknown categories will be encoded as all zeros\n",
      "  warnings.warn(\n",
      "/Users/brunomorgado/Dropbox/Bruno_Morgado/Education/Mac_Education/Centennial_College/Fourth_Semester/Supervised_learning/Team_Project/Traffic_collision_Group_2_Section_1_COMP247Project/conda-env/lib/python3.9/site-packages/sklearn/preprocessing/_encoders.py:170: UserWarning: Found unknown categories in columns [0, 1, 8] during transform. These unknown categories will be encoded as all zeros\n",
      "  warnings.warn(\n",
      "/Users/brunomorgado/Dropbox/Bruno_Morgado/Education/Mac_Education/Centennial_College/Fourth_Semester/Supervised_learning/Team_Project/Traffic_collision_Group_2_Section_1_COMP247Project/conda-env/lib/python3.9/site-packages/sklearn/preprocessing/_encoders.py:170: UserWarning: Found unknown categories in columns [0, 1, 5] during transform. These unknown categories will be encoded as all zeros\n",
      "  warnings.warn(\n",
      "/Users/brunomorgado/Dropbox/Bruno_Morgado/Education/Mac_Education/Centennial_College/Fourth_Semester/Supervised_learning/Team_Project/Traffic_collision_Group_2_Section_1_COMP247Project/conda-env/lib/python3.9/site-packages/sklearn/preprocessing/_encoders.py:170: UserWarning: Found unknown categories in columns [0, 1] during transform. These unknown categories will be encoded as all zeros\n",
      "  warnings.warn(\n",
      "/Users/brunomorgado/Dropbox/Bruno_Morgado/Education/Mac_Education/Centennial_College/Fourth_Semester/Supervised_learning/Team_Project/Traffic_collision_Group_2_Section_1_COMP247Project/conda-env/lib/python3.9/site-packages/sklearn/preprocessing/_encoders.py:170: UserWarning: Found unknown categories in columns [0, 1, 5] during transform. These unknown categories will be encoded as all zeros\n",
      "  warnings.warn(\n",
      "/Users/brunomorgado/Dropbox/Bruno_Morgado/Education/Mac_Education/Centennial_College/Fourth_Semester/Supervised_learning/Team_Project/Traffic_collision_Group_2_Section_1_COMP247Project/conda-env/lib/python3.9/site-packages/sklearn/preprocessing/_encoders.py:170: UserWarning: Found unknown categories in columns [0, 1, 2] during transform. These unknown categories will be encoded as all zeros\n",
      "  warnings.warn(\n",
      "/Users/brunomorgado/Dropbox/Bruno_Morgado/Education/Mac_Education/Centennial_College/Fourth_Semester/Supervised_learning/Team_Project/Traffic_collision_Group_2_Section_1_COMP247Project/conda-env/lib/python3.9/site-packages/sklearn/preprocessing/_encoders.py:170: UserWarning: Found unknown categories in columns [0, 1, 2] during transform. These unknown categories will be encoded as all zeros\n",
      "  warnings.warn(\n",
      "/Users/brunomorgado/Dropbox/Bruno_Morgado/Education/Mac_Education/Centennial_College/Fourth_Semester/Supervised_learning/Team_Project/Traffic_collision_Group_2_Section_1_COMP247Project/conda-env/lib/python3.9/site-packages/sklearn/preprocessing/_encoders.py:170: UserWarning: Found unknown categories in columns [0, 1, 8] during transform. These unknown categories will be encoded as all zeros\n",
      "  warnings.warn(\n",
      "/Users/brunomorgado/Dropbox/Bruno_Morgado/Education/Mac_Education/Centennial_College/Fourth_Semester/Supervised_learning/Team_Project/Traffic_collision_Group_2_Section_1_COMP247Project/conda-env/lib/python3.9/site-packages/sklearn/preprocessing/_encoders.py:170: UserWarning: Found unknown categories in columns [0, 1, 5] during transform. These unknown categories will be encoded as all zeros\n",
      "  warnings.warn(\n",
      "/Users/brunomorgado/Dropbox/Bruno_Morgado/Education/Mac_Education/Centennial_College/Fourth_Semester/Supervised_learning/Team_Project/Traffic_collision_Group_2_Section_1_COMP247Project/conda-env/lib/python3.9/site-packages/sklearn/preprocessing/_encoders.py:170: UserWarning: Found unknown categories in columns [0, 1] during transform. These unknown categories will be encoded as all zeros\n",
      "  warnings.warn(\n",
      "/Users/brunomorgado/Dropbox/Bruno_Morgado/Education/Mac_Education/Centennial_College/Fourth_Semester/Supervised_learning/Team_Project/Traffic_collision_Group_2_Section_1_COMP247Project/conda-env/lib/python3.9/site-packages/sklearn/preprocessing/_encoders.py:170: UserWarning: Found unknown categories in columns [0, 1, 5] during transform. These unknown categories will be encoded as all zeros\n",
      "  warnings.warn(\n",
      "/Users/brunomorgado/Dropbox/Bruno_Morgado/Education/Mac_Education/Centennial_College/Fourth_Semester/Supervised_learning/Team_Project/Traffic_collision_Group_2_Section_1_COMP247Project/conda-env/lib/python3.9/site-packages/sklearn/preprocessing/_encoders.py:170: UserWarning: Found unknown categories in columns [0, 1, 2] during transform. These unknown categories will be encoded as all zeros\n",
      "  warnings.warn(\n",
      "/Users/brunomorgado/Dropbox/Bruno_Morgado/Education/Mac_Education/Centennial_College/Fourth_Semester/Supervised_learning/Team_Project/Traffic_collision_Group_2_Section_1_COMP247Project/conda-env/lib/python3.9/site-packages/sklearn/preprocessing/_encoders.py:170: UserWarning: Found unknown categories in columns [0, 1, 8] during transform. These unknown categories will be encoded as all zeros\n",
      "  warnings.warn(\n"
     ]
    },
    {
     "name": "stderr",
     "output_type": "stream",
     "text": [
      "/Users/brunomorgado/Dropbox/Bruno_Morgado/Education/Mac_Education/Centennial_College/Fourth_Semester/Supervised_learning/Team_Project/Traffic_collision_Group_2_Section_1_COMP247Project/conda-env/lib/python3.9/site-packages/sklearn/preprocessing/_encoders.py:170: UserWarning: Found unknown categories in columns [0, 1, 5] during transform. These unknown categories will be encoded as all zeros\n",
      "  warnings.warn(\n",
      "/Users/brunomorgado/Dropbox/Bruno_Morgado/Education/Mac_Education/Centennial_College/Fourth_Semester/Supervised_learning/Team_Project/Traffic_collision_Group_2_Section_1_COMP247Project/conda-env/lib/python3.9/site-packages/sklearn/preprocessing/_encoders.py:170: UserWarning: Found unknown categories in columns [0, 1] during transform. These unknown categories will be encoded as all zeros\n",
      "  warnings.warn(\n",
      "/Users/brunomorgado/Dropbox/Bruno_Morgado/Education/Mac_Education/Centennial_College/Fourth_Semester/Supervised_learning/Team_Project/Traffic_collision_Group_2_Section_1_COMP247Project/conda-env/lib/python3.9/site-packages/sklearn/preprocessing/_encoders.py:170: UserWarning: Found unknown categories in columns [0, 1, 5] during transform. These unknown categories will be encoded as all zeros\n",
      "  warnings.warn(\n",
      "/Users/brunomorgado/Dropbox/Bruno_Morgado/Education/Mac_Education/Centennial_College/Fourth_Semester/Supervised_learning/Team_Project/Traffic_collision_Group_2_Section_1_COMP247Project/conda-env/lib/python3.9/site-packages/sklearn/preprocessing/_encoders.py:170: UserWarning: Found unknown categories in columns [0, 1, 8] during transform. These unknown categories will be encoded as all zeros\n",
      "  warnings.warn(\n",
      "/Users/brunomorgado/Dropbox/Bruno_Morgado/Education/Mac_Education/Centennial_College/Fourth_Semester/Supervised_learning/Team_Project/Traffic_collision_Group_2_Section_1_COMP247Project/conda-env/lib/python3.9/site-packages/sklearn/preprocessing/_encoders.py:170: UserWarning: Found unknown categories in columns [0, 1, 2] during transform. These unknown categories will be encoded as all zeros\n",
      "  warnings.warn(\n",
      "/Users/brunomorgado/Dropbox/Bruno_Morgado/Education/Mac_Education/Centennial_College/Fourth_Semester/Supervised_learning/Team_Project/Traffic_collision_Group_2_Section_1_COMP247Project/conda-env/lib/python3.9/site-packages/sklearn/preprocessing/_encoders.py:170: UserWarning: Found unknown categories in columns [0, 1, 8] during transform. These unknown categories will be encoded as all zeros\n",
      "  warnings.warn(\n",
      "/Users/brunomorgado/Dropbox/Bruno_Morgado/Education/Mac_Education/Centennial_College/Fourth_Semester/Supervised_learning/Team_Project/Traffic_collision_Group_2_Section_1_COMP247Project/conda-env/lib/python3.9/site-packages/sklearn/preprocessing/_encoders.py:170: UserWarning: Found unknown categories in columns [0, 1, 5] during transform. These unknown categories will be encoded as all zeros\n",
      "  warnings.warn(\n",
      "/Users/brunomorgado/Dropbox/Bruno_Morgado/Education/Mac_Education/Centennial_College/Fourth_Semester/Supervised_learning/Team_Project/Traffic_collision_Group_2_Section_1_COMP247Project/conda-env/lib/python3.9/site-packages/sklearn/preprocessing/_encoders.py:170: UserWarning: Found unknown categories in columns [0, 1, 5] during transform. These unknown categories will be encoded as all zeros\n",
      "  warnings.warn(\n",
      "/Users/brunomorgado/Dropbox/Bruno_Morgado/Education/Mac_Education/Centennial_College/Fourth_Semester/Supervised_learning/Team_Project/Traffic_collision_Group_2_Section_1_COMP247Project/conda-env/lib/python3.9/site-packages/sklearn/preprocessing/_encoders.py:170: UserWarning: Found unknown categories in columns [0, 1] during transform. These unknown categories will be encoded as all zeros\n",
      "  warnings.warn(\n",
      "/Users/brunomorgado/Dropbox/Bruno_Morgado/Education/Mac_Education/Centennial_College/Fourth_Semester/Supervised_learning/Team_Project/Traffic_collision_Group_2_Section_1_COMP247Project/conda-env/lib/python3.9/site-packages/sklearn/preprocessing/_encoders.py:170: UserWarning: Found unknown categories in columns [0, 1, 5] during transform. These unknown categories will be encoded as all zeros\n",
      "  warnings.warn(\n",
      "/Users/brunomorgado/Dropbox/Bruno_Morgado/Education/Mac_Education/Centennial_College/Fourth_Semester/Supervised_learning/Team_Project/Traffic_collision_Group_2_Section_1_COMP247Project/conda-env/lib/python3.9/site-packages/sklearn/preprocessing/_encoders.py:170: UserWarning: Found unknown categories in columns [0, 1, 2] during transform. These unknown categories will be encoded as all zeros\n",
      "  warnings.warn(\n",
      "/Users/brunomorgado/Dropbox/Bruno_Morgado/Education/Mac_Education/Centennial_College/Fourth_Semester/Supervised_learning/Team_Project/Traffic_collision_Group_2_Section_1_COMP247Project/conda-env/lib/python3.9/site-packages/sklearn/preprocessing/_encoders.py:170: UserWarning: Found unknown categories in columns [0, 1] during transform. These unknown categories will be encoded as all zeros\n",
      "  warnings.warn(\n",
      "/Users/brunomorgado/Dropbox/Bruno_Morgado/Education/Mac_Education/Centennial_College/Fourth_Semester/Supervised_learning/Team_Project/Traffic_collision_Group_2_Section_1_COMP247Project/conda-env/lib/python3.9/site-packages/sklearn/preprocessing/_encoders.py:170: UserWarning: Found unknown categories in columns [0, 1, 5] during transform. These unknown categories will be encoded as all zeros\n",
      "  warnings.warn(\n",
      "/Users/brunomorgado/Dropbox/Bruno_Morgado/Education/Mac_Education/Centennial_College/Fourth_Semester/Supervised_learning/Team_Project/Traffic_collision_Group_2_Section_1_COMP247Project/conda-env/lib/python3.9/site-packages/sklearn/preprocessing/_encoders.py:170: UserWarning: Found unknown categories in columns [0, 1, 2] during transform. These unknown categories will be encoded as all zeros\n",
      "  warnings.warn(\n",
      "/Users/brunomorgado/Dropbox/Bruno_Morgado/Education/Mac_Education/Centennial_College/Fourth_Semester/Supervised_learning/Team_Project/Traffic_collision_Group_2_Section_1_COMP247Project/conda-env/lib/python3.9/site-packages/sklearn/preprocessing/_encoders.py:170: UserWarning: Found unknown categories in columns [0, 1, 8] during transform. These unknown categories will be encoded as all zeros\n",
      "  warnings.warn(\n",
      "/Users/brunomorgado/Dropbox/Bruno_Morgado/Education/Mac_Education/Centennial_College/Fourth_Semester/Supervised_learning/Team_Project/Traffic_collision_Group_2_Section_1_COMP247Project/conda-env/lib/python3.9/site-packages/sklearn/preprocessing/_encoders.py:170: UserWarning: Found unknown categories in columns [0, 1, 5] during transform. These unknown categories will be encoded as all zeros\n",
      "  warnings.warn(\n",
      "/Users/brunomorgado/Dropbox/Bruno_Morgado/Education/Mac_Education/Centennial_College/Fourth_Semester/Supervised_learning/Team_Project/Traffic_collision_Group_2_Section_1_COMP247Project/conda-env/lib/python3.9/site-packages/sklearn/preprocessing/_encoders.py:170: UserWarning: Found unknown categories in columns [0, 1] during transform. These unknown categories will be encoded as all zeros\n",
      "  warnings.warn(\n",
      "/Users/brunomorgado/Dropbox/Bruno_Morgado/Education/Mac_Education/Centennial_College/Fourth_Semester/Supervised_learning/Team_Project/Traffic_collision_Group_2_Section_1_COMP247Project/conda-env/lib/python3.9/site-packages/sklearn/preprocessing/_encoders.py:170: UserWarning: Found unknown categories in columns [0, 1, 5] during transform. These unknown categories will be encoded as all zeros\n",
      "  warnings.warn(\n",
      "/Users/brunomorgado/Dropbox/Bruno_Morgado/Education/Mac_Education/Centennial_College/Fourth_Semester/Supervised_learning/Team_Project/Traffic_collision_Group_2_Section_1_COMP247Project/conda-env/lib/python3.9/site-packages/sklearn/preprocessing/_encoders.py:170: UserWarning: Found unknown categories in columns [0, 1, 2] during transform. These unknown categories will be encoded as all zeros\n",
      "  warnings.warn(\n",
      "/Users/brunomorgado/Dropbox/Bruno_Morgado/Education/Mac_Education/Centennial_College/Fourth_Semester/Supervised_learning/Team_Project/Traffic_collision_Group_2_Section_1_COMP247Project/conda-env/lib/python3.9/site-packages/sklearn/preprocessing/_encoders.py:170: UserWarning: Found unknown categories in columns [0, 1, 8] during transform. These unknown categories will be encoded as all zeros\n",
      "  warnings.warn(\n",
      "/Users/brunomorgado/Dropbox/Bruno_Morgado/Education/Mac_Education/Centennial_College/Fourth_Semester/Supervised_learning/Team_Project/Traffic_collision_Group_2_Section_1_COMP247Project/conda-env/lib/python3.9/site-packages/sklearn/preprocessing/_encoders.py:170: UserWarning: Found unknown categories in columns [0, 1, 5] during transform. These unknown categories will be encoded as all zeros\n",
      "  warnings.warn(\n"
     ]
    },
    {
     "name": "stderr",
     "output_type": "stream",
     "text": [
      "/Users/brunomorgado/Dropbox/Bruno_Morgado/Education/Mac_Education/Centennial_College/Fourth_Semester/Supervised_learning/Team_Project/Traffic_collision_Group_2_Section_1_COMP247Project/conda-env/lib/python3.9/site-packages/sklearn/preprocessing/_encoders.py:170: UserWarning: Found unknown categories in columns [0, 1] during transform. These unknown categories will be encoded as all zeros\n",
      "  warnings.warn(\n",
      "/Users/brunomorgado/Dropbox/Bruno_Morgado/Education/Mac_Education/Centennial_College/Fourth_Semester/Supervised_learning/Team_Project/Traffic_collision_Group_2_Section_1_COMP247Project/conda-env/lib/python3.9/site-packages/sklearn/preprocessing/_encoders.py:170: UserWarning: Found unknown categories in columns [0, 1, 5] during transform. These unknown categories will be encoded as all zeros\n",
      "  warnings.warn(\n",
      "/Users/brunomorgado/Dropbox/Bruno_Morgado/Education/Mac_Education/Centennial_College/Fourth_Semester/Supervised_learning/Team_Project/Traffic_collision_Group_2_Section_1_COMP247Project/conda-env/lib/python3.9/site-packages/sklearn/preprocessing/_encoders.py:170: UserWarning: Found unknown categories in columns [0, 1, 2] during transform. These unknown categories will be encoded as all zeros\n",
      "  warnings.warn(\n",
      "/Users/brunomorgado/Dropbox/Bruno_Morgado/Education/Mac_Education/Centennial_College/Fourth_Semester/Supervised_learning/Team_Project/Traffic_collision_Group_2_Section_1_COMP247Project/conda-env/lib/python3.9/site-packages/sklearn/preprocessing/_encoders.py:170: UserWarning: Found unknown categories in columns [0, 1, 8] during transform. These unknown categories will be encoded as all zeros\n",
      "  warnings.warn(\n",
      "/Users/brunomorgado/Dropbox/Bruno_Morgado/Education/Mac_Education/Centennial_College/Fourth_Semester/Supervised_learning/Team_Project/Traffic_collision_Group_2_Section_1_COMP247Project/conda-env/lib/python3.9/site-packages/sklearn/preprocessing/_encoders.py:170: UserWarning: Found unknown categories in columns [0, 1, 5] during transform. These unknown categories will be encoded as all zeros\n",
      "  warnings.warn(\n",
      "/Users/brunomorgado/Dropbox/Bruno_Morgado/Education/Mac_Education/Centennial_College/Fourth_Semester/Supervised_learning/Team_Project/Traffic_collision_Group_2_Section_1_COMP247Project/conda-env/lib/python3.9/site-packages/sklearn/preprocessing/_encoders.py:170: UserWarning: Found unknown categories in columns [0, 1] during transform. These unknown categories will be encoded as all zeros\n",
      "  warnings.warn(\n",
      "/Users/brunomorgado/Dropbox/Bruno_Morgado/Education/Mac_Education/Centennial_College/Fourth_Semester/Supervised_learning/Team_Project/Traffic_collision_Group_2_Section_1_COMP247Project/conda-env/lib/python3.9/site-packages/sklearn/preprocessing/_encoders.py:170: UserWarning: Found unknown categories in columns [0, 1, 5] during transform. These unknown categories will be encoded as all zeros\n",
      "  warnings.warn(\n",
      "/Users/brunomorgado/Dropbox/Bruno_Morgado/Education/Mac_Education/Centennial_College/Fourth_Semester/Supervised_learning/Team_Project/Traffic_collision_Group_2_Section_1_COMP247Project/conda-env/lib/python3.9/site-packages/sklearn/preprocessing/_encoders.py:170: UserWarning: Found unknown categories in columns [0, 1, 2] during transform. These unknown categories will be encoded as all zeros\n",
      "  warnings.warn(\n",
      "/Users/brunomorgado/Dropbox/Bruno_Morgado/Education/Mac_Education/Centennial_College/Fourth_Semester/Supervised_learning/Team_Project/Traffic_collision_Group_2_Section_1_COMP247Project/conda-env/lib/python3.9/site-packages/sklearn/preprocessing/_encoders.py:170: UserWarning: Found unknown categories in columns [0, 1, 8] during transform. These unknown categories will be encoded as all zeros\n",
      "  warnings.warn(\n",
      "/Users/brunomorgado/Dropbox/Bruno_Morgado/Education/Mac_Education/Centennial_College/Fourth_Semester/Supervised_learning/Team_Project/Traffic_collision_Group_2_Section_1_COMP247Project/conda-env/lib/python3.9/site-packages/sklearn/preprocessing/_encoders.py:170: UserWarning: Found unknown categories in columns [0, 1, 5] during transform. These unknown categories will be encoded as all zeros\n",
      "  warnings.warn(\n",
      "/Users/brunomorgado/Dropbox/Bruno_Morgado/Education/Mac_Education/Centennial_College/Fourth_Semester/Supervised_learning/Team_Project/Traffic_collision_Group_2_Section_1_COMP247Project/conda-env/lib/python3.9/site-packages/sklearn/preprocessing/_encoders.py:170: UserWarning: Found unknown categories in columns [0, 1] during transform. These unknown categories will be encoded as all zeros\n",
      "  warnings.warn(\n",
      "/Users/brunomorgado/Dropbox/Bruno_Morgado/Education/Mac_Education/Centennial_College/Fourth_Semester/Supervised_learning/Team_Project/Traffic_collision_Group_2_Section_1_COMP247Project/conda-env/lib/python3.9/site-packages/sklearn/preprocessing/_encoders.py:170: UserWarning: Found unknown categories in columns [0, 1, 5] during transform. These unknown categories will be encoded as all zeros\n",
      "  warnings.warn(\n",
      "/Users/brunomorgado/Dropbox/Bruno_Morgado/Education/Mac_Education/Centennial_College/Fourth_Semester/Supervised_learning/Team_Project/Traffic_collision_Group_2_Section_1_COMP247Project/conda-env/lib/python3.9/site-packages/sklearn/preprocessing/_encoders.py:170: UserWarning: Found unknown categories in columns [0, 1, 2] during transform. These unknown categories will be encoded as all zeros\n",
      "  warnings.warn(\n",
      "/Users/brunomorgado/Dropbox/Bruno_Morgado/Education/Mac_Education/Centennial_College/Fourth_Semester/Supervised_learning/Team_Project/Traffic_collision_Group_2_Section_1_COMP247Project/conda-env/lib/python3.9/site-packages/sklearn/preprocessing/_encoders.py:170: UserWarning: Found unknown categories in columns [0, 1, 8] during transform. These unknown categories will be encoded as all zeros\n",
      "  warnings.warn(\n",
      "/Users/brunomorgado/Dropbox/Bruno_Morgado/Education/Mac_Education/Centennial_College/Fourth_Semester/Supervised_learning/Team_Project/Traffic_collision_Group_2_Section_1_COMP247Project/conda-env/lib/python3.9/site-packages/sklearn/preprocessing/_encoders.py:170: UserWarning: Found unknown categories in columns [0, 1, 5] during transform. These unknown categories will be encoded as all zeros\n",
      "  warnings.warn(\n",
      "/Users/brunomorgado/Dropbox/Bruno_Morgado/Education/Mac_Education/Centennial_College/Fourth_Semester/Supervised_learning/Team_Project/Traffic_collision_Group_2_Section_1_COMP247Project/conda-env/lib/python3.9/site-packages/sklearn/preprocessing/_encoders.py:170: UserWarning: Found unknown categories in columns [0, 1] during transform. These unknown categories will be encoded as all zeros\n",
      "  warnings.warn(\n",
      "/Users/brunomorgado/Dropbox/Bruno_Morgado/Education/Mac_Education/Centennial_College/Fourth_Semester/Supervised_learning/Team_Project/Traffic_collision_Group_2_Section_1_COMP247Project/conda-env/lib/python3.9/site-packages/sklearn/preprocessing/_encoders.py:170: UserWarning: Found unknown categories in columns [0, 1, 5] during transform. These unknown categories will be encoded as all zeros\n",
      "  warnings.warn(\n",
      "/Users/brunomorgado/Dropbox/Bruno_Morgado/Education/Mac_Education/Centennial_College/Fourth_Semester/Supervised_learning/Team_Project/Traffic_collision_Group_2_Section_1_COMP247Project/conda-env/lib/python3.9/site-packages/sklearn/preprocessing/_encoders.py:170: UserWarning: Found unknown categories in columns [0, 1, 2] during transform. These unknown categories will be encoded as all zeros\n",
      "  warnings.warn(\n",
      "/Users/brunomorgado/Dropbox/Bruno_Morgado/Education/Mac_Education/Centennial_College/Fourth_Semester/Supervised_learning/Team_Project/Traffic_collision_Group_2_Section_1_COMP247Project/conda-env/lib/python3.9/site-packages/sklearn/preprocessing/_encoders.py:170: UserWarning: Found unknown categories in columns [0, 1, 8] during transform. These unknown categories will be encoded as all zeros\n",
      "  warnings.warn(\n",
      "/Users/brunomorgado/Dropbox/Bruno_Morgado/Education/Mac_Education/Centennial_College/Fourth_Semester/Supervised_learning/Team_Project/Traffic_collision_Group_2_Section_1_COMP247Project/conda-env/lib/python3.9/site-packages/sklearn/preprocessing/_encoders.py:170: UserWarning: Found unknown categories in columns [0, 1, 5] during transform. These unknown categories will be encoded as all zeros\n",
      "  warnings.warn(\n"
     ]
    },
    {
     "name": "stderr",
     "output_type": "stream",
     "text": [
      "/Users/brunomorgado/Dropbox/Bruno_Morgado/Education/Mac_Education/Centennial_College/Fourth_Semester/Supervised_learning/Team_Project/Traffic_collision_Group_2_Section_1_COMP247Project/conda-env/lib/python3.9/site-packages/sklearn/preprocessing/_encoders.py:170: UserWarning: Found unknown categories in columns [0, 1] during transform. These unknown categories will be encoded as all zeros\n",
      "  warnings.warn(\n",
      "/Users/brunomorgado/Dropbox/Bruno_Morgado/Education/Mac_Education/Centennial_College/Fourth_Semester/Supervised_learning/Team_Project/Traffic_collision_Group_2_Section_1_COMP247Project/conda-env/lib/python3.9/site-packages/sklearn/preprocessing/_encoders.py:170: UserWarning: Found unknown categories in columns [0, 1, 5] during transform. These unknown categories will be encoded as all zeros\n",
      "  warnings.warn(\n",
      "/Users/brunomorgado/Dropbox/Bruno_Morgado/Education/Mac_Education/Centennial_College/Fourth_Semester/Supervised_learning/Team_Project/Traffic_collision_Group_2_Section_1_COMP247Project/conda-env/lib/python3.9/site-packages/sklearn/preprocessing/_encoders.py:170: UserWarning: Found unknown categories in columns [0, 1, 2] during transform. These unknown categories will be encoded as all zeros\n",
      "  warnings.warn(\n",
      "/Users/brunomorgado/Dropbox/Bruno_Morgado/Education/Mac_Education/Centennial_College/Fourth_Semester/Supervised_learning/Team_Project/Traffic_collision_Group_2_Section_1_COMP247Project/conda-env/lib/python3.9/site-packages/sklearn/preprocessing/_encoders.py:170: UserWarning: Found unknown categories in columns [0, 1, 8] during transform. These unknown categories will be encoded as all zeros\n",
      "  warnings.warn(\n",
      "/Users/brunomorgado/Dropbox/Bruno_Morgado/Education/Mac_Education/Centennial_College/Fourth_Semester/Supervised_learning/Team_Project/Traffic_collision_Group_2_Section_1_COMP247Project/conda-env/lib/python3.9/site-packages/sklearn/preprocessing/_encoders.py:170: UserWarning: Found unknown categories in columns [0, 1, 5] during transform. These unknown categories will be encoded as all zeros\n",
      "  warnings.warn(\n",
      "/Users/brunomorgado/Dropbox/Bruno_Morgado/Education/Mac_Education/Centennial_College/Fourth_Semester/Supervised_learning/Team_Project/Traffic_collision_Group_2_Section_1_COMP247Project/conda-env/lib/python3.9/site-packages/sklearn/preprocessing/_encoders.py:170: UserWarning: Found unknown categories in columns [0, 1] during transform. These unknown categories will be encoded as all zeros\n",
      "  warnings.warn(\n",
      "/Users/brunomorgado/Dropbox/Bruno_Morgado/Education/Mac_Education/Centennial_College/Fourth_Semester/Supervised_learning/Team_Project/Traffic_collision_Group_2_Section_1_COMP247Project/conda-env/lib/python3.9/site-packages/sklearn/preprocessing/_encoders.py:170: UserWarning: Found unknown categories in columns [0, 1, 5] during transform. These unknown categories will be encoded as all zeros\n",
      "  warnings.warn(\n",
      "/Users/brunomorgado/Dropbox/Bruno_Morgado/Education/Mac_Education/Centennial_College/Fourth_Semester/Supervised_learning/Team_Project/Traffic_collision_Group_2_Section_1_COMP247Project/conda-env/lib/python3.9/site-packages/sklearn/preprocessing/_encoders.py:170: UserWarning: Found unknown categories in columns [0, 1, 8] during transform. These unknown categories will be encoded as all zeros\n",
      "  warnings.warn(\n",
      "/Users/brunomorgado/Dropbox/Bruno_Morgado/Education/Mac_Education/Centennial_College/Fourth_Semester/Supervised_learning/Team_Project/Traffic_collision_Group_2_Section_1_COMP247Project/conda-env/lib/python3.9/site-packages/sklearn/preprocessing/_encoders.py:170: UserWarning: Found unknown categories in columns [0, 1, 5] during transform. These unknown categories will be encoded as all zeros\n",
      "  warnings.warn(\n",
      "/Users/brunomorgado/Dropbox/Bruno_Morgado/Education/Mac_Education/Centennial_College/Fourth_Semester/Supervised_learning/Team_Project/Traffic_collision_Group_2_Section_1_COMP247Project/conda-env/lib/python3.9/site-packages/sklearn/preprocessing/_encoders.py:170: UserWarning: Found unknown categories in columns [0, 1, 2] during transform. These unknown categories will be encoded as all zeros\n",
      "  warnings.warn(\n",
      "/Users/brunomorgado/Dropbox/Bruno_Morgado/Education/Mac_Education/Centennial_College/Fourth_Semester/Supervised_learning/Team_Project/Traffic_collision_Group_2_Section_1_COMP247Project/conda-env/lib/python3.9/site-packages/sklearn/preprocessing/_encoders.py:170: UserWarning: Found unknown categories in columns [0, 1] during transform. These unknown categories will be encoded as all zeros\n",
      "  warnings.warn(\n",
      "/Users/brunomorgado/Dropbox/Bruno_Morgado/Education/Mac_Education/Centennial_College/Fourth_Semester/Supervised_learning/Team_Project/Traffic_collision_Group_2_Section_1_COMP247Project/conda-env/lib/python3.9/site-packages/sklearn/preprocessing/_encoders.py:170: UserWarning: Found unknown categories in columns [0, 1, 5] during transform. These unknown categories will be encoded as all zeros\n",
      "  warnings.warn(\n",
      "/Users/brunomorgado/Dropbox/Bruno_Morgado/Education/Mac_Education/Centennial_College/Fourth_Semester/Supervised_learning/Team_Project/Traffic_collision_Group_2_Section_1_COMP247Project/conda-env/lib/python3.9/site-packages/sklearn/preprocessing/_encoders.py:170: UserWarning: Found unknown categories in columns [0, 1, 2] during transform. These unknown categories will be encoded as all zeros\n",
      "  warnings.warn(\n",
      "/Users/brunomorgado/Dropbox/Bruno_Morgado/Education/Mac_Education/Centennial_College/Fourth_Semester/Supervised_learning/Team_Project/Traffic_collision_Group_2_Section_1_COMP247Project/conda-env/lib/python3.9/site-packages/sklearn/preprocessing/_encoders.py:170: UserWarning: Found unknown categories in columns [0, 1, 8] during transform. These unknown categories will be encoded as all zeros\n",
      "  warnings.warn(\n",
      "/Users/brunomorgado/Dropbox/Bruno_Morgado/Education/Mac_Education/Centennial_College/Fourth_Semester/Supervised_learning/Team_Project/Traffic_collision_Group_2_Section_1_COMP247Project/conda-env/lib/python3.9/site-packages/sklearn/preprocessing/_encoders.py:170: UserWarning: Found unknown categories in columns [0, 1, 5] during transform. These unknown categories will be encoded as all zeros\n",
      "  warnings.warn(\n",
      "/Users/brunomorgado/Dropbox/Bruno_Morgado/Education/Mac_Education/Centennial_College/Fourth_Semester/Supervised_learning/Team_Project/Traffic_collision_Group_2_Section_1_COMP247Project/conda-env/lib/python3.9/site-packages/sklearn/preprocessing/_encoders.py:170: UserWarning: Found unknown categories in columns [0, 1] during transform. These unknown categories will be encoded as all zeros\n",
      "  warnings.warn(\n",
      "/Users/brunomorgado/Dropbox/Bruno_Morgado/Education/Mac_Education/Centennial_College/Fourth_Semester/Supervised_learning/Team_Project/Traffic_collision_Group_2_Section_1_COMP247Project/conda-env/lib/python3.9/site-packages/sklearn/preprocessing/_encoders.py:170: UserWarning: Found unknown categories in columns [0, 1, 5] during transform. These unknown categories will be encoded as all zeros\n",
      "  warnings.warn(\n",
      "/Users/brunomorgado/Dropbox/Bruno_Morgado/Education/Mac_Education/Centennial_College/Fourth_Semester/Supervised_learning/Team_Project/Traffic_collision_Group_2_Section_1_COMP247Project/conda-env/lib/python3.9/site-packages/sklearn/preprocessing/_encoders.py:170: UserWarning: Found unknown categories in columns [0, 1, 2] during transform. These unknown categories will be encoded as all zeros\n",
      "  warnings.warn(\n",
      "/Users/brunomorgado/Dropbox/Bruno_Morgado/Education/Mac_Education/Centennial_College/Fourth_Semester/Supervised_learning/Team_Project/Traffic_collision_Group_2_Section_1_COMP247Project/conda-env/lib/python3.9/site-packages/sklearn/preprocessing/_encoders.py:170: UserWarning: Found unknown categories in columns [0, 1, 8] during transform. These unknown categories will be encoded as all zeros\n",
      "  warnings.warn(\n",
      "/Users/brunomorgado/Dropbox/Bruno_Morgado/Education/Mac_Education/Centennial_College/Fourth_Semester/Supervised_learning/Team_Project/Traffic_collision_Group_2_Section_1_COMP247Project/conda-env/lib/python3.9/site-packages/sklearn/preprocessing/_encoders.py:170: UserWarning: Found unknown categories in columns [0, 1, 5] during transform. These unknown categories will be encoded as all zeros\n",
      "  warnings.warn(\n"
     ]
    },
    {
     "name": "stderr",
     "output_type": "stream",
     "text": [
      "/Users/brunomorgado/Dropbox/Bruno_Morgado/Education/Mac_Education/Centennial_College/Fourth_Semester/Supervised_learning/Team_Project/Traffic_collision_Group_2_Section_1_COMP247Project/conda-env/lib/python3.9/site-packages/sklearn/preprocessing/_encoders.py:170: UserWarning: Found unknown categories in columns [0, 1] during transform. These unknown categories will be encoded as all zeros\n",
      "  warnings.warn(\n",
      "/Users/brunomorgado/Dropbox/Bruno_Morgado/Education/Mac_Education/Centennial_College/Fourth_Semester/Supervised_learning/Team_Project/Traffic_collision_Group_2_Section_1_COMP247Project/conda-env/lib/python3.9/site-packages/sklearn/preprocessing/_encoders.py:170: UserWarning: Found unknown categories in columns [0, 1, 5] during transform. These unknown categories will be encoded as all zeros\n",
      "  warnings.warn(\n",
      "/Users/brunomorgado/Dropbox/Bruno_Morgado/Education/Mac_Education/Centennial_College/Fourth_Semester/Supervised_learning/Team_Project/Traffic_collision_Group_2_Section_1_COMP247Project/conda-env/lib/python3.9/site-packages/sklearn/preprocessing/_encoders.py:170: UserWarning: Found unknown categories in columns [0, 1, 8] during transform. These unknown categories will be encoded as all zeros\n",
      "  warnings.warn(\n",
      "/Users/brunomorgado/Dropbox/Bruno_Morgado/Education/Mac_Education/Centennial_College/Fourth_Semester/Supervised_learning/Team_Project/Traffic_collision_Group_2_Section_1_COMP247Project/conda-env/lib/python3.9/site-packages/sklearn/preprocessing/_encoders.py:170: UserWarning: Found unknown categories in columns [0, 1] during transform. These unknown categories will be encoded as all zeros\n",
      "  warnings.warn(\n",
      "/Users/brunomorgado/Dropbox/Bruno_Morgado/Education/Mac_Education/Centennial_College/Fourth_Semester/Supervised_learning/Team_Project/Traffic_collision_Group_2_Section_1_COMP247Project/conda-env/lib/python3.9/site-packages/sklearn/preprocessing/_encoders.py:170: UserWarning: Found unknown categories in columns [0, 1, 5] during transform. These unknown categories will be encoded as all zeros\n",
      "  warnings.warn(\n",
      "/Users/brunomorgado/Dropbox/Bruno_Morgado/Education/Mac_Education/Centennial_College/Fourth_Semester/Supervised_learning/Team_Project/Traffic_collision_Group_2_Section_1_COMP247Project/conda-env/lib/python3.9/site-packages/sklearn/preprocessing/_encoders.py:170: UserWarning: Found unknown categories in columns [0, 1, 2] during transform. These unknown categories will be encoded as all zeros\n",
      "  warnings.warn(\n",
      "/Users/brunomorgado/Dropbox/Bruno_Morgado/Education/Mac_Education/Centennial_College/Fourth_Semester/Supervised_learning/Team_Project/Traffic_collision_Group_2_Section_1_COMP247Project/conda-env/lib/python3.9/site-packages/sklearn/preprocessing/_encoders.py:170: UserWarning: Found unknown categories in columns [0, 1, 5] during transform. These unknown categories will be encoded as all zeros\n",
      "  warnings.warn(\n",
      "/Users/brunomorgado/Dropbox/Bruno_Morgado/Education/Mac_Education/Centennial_College/Fourth_Semester/Supervised_learning/Team_Project/Traffic_collision_Group_2_Section_1_COMP247Project/conda-env/lib/python3.9/site-packages/sklearn/preprocessing/_encoders.py:170: UserWarning: Found unknown categories in columns [0, 1, 2] during transform. These unknown categories will be encoded as all zeros\n",
      "  warnings.warn(\n",
      "/Users/brunomorgado/Dropbox/Bruno_Morgado/Education/Mac_Education/Centennial_College/Fourth_Semester/Supervised_learning/Team_Project/Traffic_collision_Group_2_Section_1_COMP247Project/conda-env/lib/python3.9/site-packages/sklearn/preprocessing/_encoders.py:170: UserWarning: Found unknown categories in columns [0, 1, 8] during transform. These unknown categories will be encoded as all zeros\n",
      "  warnings.warn(\n",
      "/Users/brunomorgado/Dropbox/Bruno_Morgado/Education/Mac_Education/Centennial_College/Fourth_Semester/Supervised_learning/Team_Project/Traffic_collision_Group_2_Section_1_COMP247Project/conda-env/lib/python3.9/site-packages/sklearn/preprocessing/_encoders.py:170: UserWarning: Found unknown categories in columns [0, 1, 5] during transform. These unknown categories will be encoded as all zeros\n",
      "  warnings.warn(\n",
      "/Users/brunomorgado/Dropbox/Bruno_Morgado/Education/Mac_Education/Centennial_College/Fourth_Semester/Supervised_learning/Team_Project/Traffic_collision_Group_2_Section_1_COMP247Project/conda-env/lib/python3.9/site-packages/sklearn/preprocessing/_encoders.py:170: UserWarning: Found unknown categories in columns [0, 1] during transform. These unknown categories will be encoded as all zeros\n",
      "  warnings.warn(\n",
      "/Users/brunomorgado/Dropbox/Bruno_Morgado/Education/Mac_Education/Centennial_College/Fourth_Semester/Supervised_learning/Team_Project/Traffic_collision_Group_2_Section_1_COMP247Project/conda-env/lib/python3.9/site-packages/sklearn/preprocessing/_encoders.py:170: UserWarning: Found unknown categories in columns [0, 1, 5] during transform. These unknown categories will be encoded as all zeros\n",
      "  warnings.warn(\n",
      "/Users/brunomorgado/Dropbox/Bruno_Morgado/Education/Mac_Education/Centennial_College/Fourth_Semester/Supervised_learning/Team_Project/Traffic_collision_Group_2_Section_1_COMP247Project/conda-env/lib/python3.9/site-packages/sklearn/preprocessing/_encoders.py:170: UserWarning: Found unknown categories in columns [0, 1, 2] during transform. These unknown categories will be encoded as all zeros\n",
      "  warnings.warn(\n",
      "/Users/brunomorgado/Dropbox/Bruno_Morgado/Education/Mac_Education/Centennial_College/Fourth_Semester/Supervised_learning/Team_Project/Traffic_collision_Group_2_Section_1_COMP247Project/conda-env/lib/python3.9/site-packages/sklearn/preprocessing/_encoders.py:170: UserWarning: Found unknown categories in columns [0, 1, 8] during transform. These unknown categories will be encoded as all zeros\n",
      "  warnings.warn(\n",
      "/Users/brunomorgado/Dropbox/Bruno_Morgado/Education/Mac_Education/Centennial_College/Fourth_Semester/Supervised_learning/Team_Project/Traffic_collision_Group_2_Section_1_COMP247Project/conda-env/lib/python3.9/site-packages/sklearn/preprocessing/_encoders.py:170: UserWarning: Found unknown categories in columns [0, 1, 5] during transform. These unknown categories will be encoded as all zeros\n",
      "  warnings.warn(\n",
      "/Users/brunomorgado/Dropbox/Bruno_Morgado/Education/Mac_Education/Centennial_College/Fourth_Semester/Supervised_learning/Team_Project/Traffic_collision_Group_2_Section_1_COMP247Project/conda-env/lib/python3.9/site-packages/sklearn/preprocessing/_encoders.py:170: UserWarning: Found unknown categories in columns [0, 1] during transform. These unknown categories will be encoded as all zeros\n",
      "  warnings.warn(\n",
      "/Users/brunomorgado/Dropbox/Bruno_Morgado/Education/Mac_Education/Centennial_College/Fourth_Semester/Supervised_learning/Team_Project/Traffic_collision_Group_2_Section_1_COMP247Project/conda-env/lib/python3.9/site-packages/sklearn/preprocessing/_encoders.py:170: UserWarning: Found unknown categories in columns [0, 1, 5] during transform. These unknown categories will be encoded as all zeros\n",
      "  warnings.warn(\n",
      "/Users/brunomorgado/Dropbox/Bruno_Morgado/Education/Mac_Education/Centennial_College/Fourth_Semester/Supervised_learning/Team_Project/Traffic_collision_Group_2_Section_1_COMP247Project/conda-env/lib/python3.9/site-packages/sklearn/preprocessing/_encoders.py:170: UserWarning: Found unknown categories in columns [0, 1, 8] during transform. These unknown categories will be encoded as all zeros\n",
      "  warnings.warn(\n",
      "/Users/brunomorgado/Dropbox/Bruno_Morgado/Education/Mac_Education/Centennial_College/Fourth_Semester/Supervised_learning/Team_Project/Traffic_collision_Group_2_Section_1_COMP247Project/conda-env/lib/python3.9/site-packages/sklearn/preprocessing/_encoders.py:170: UserWarning: Found unknown categories in columns [0, 1, 5] during transform. These unknown categories will be encoded as all zeros\n",
      "  warnings.warn(\n",
      "/Users/brunomorgado/Dropbox/Bruno_Morgado/Education/Mac_Education/Centennial_College/Fourth_Semester/Supervised_learning/Team_Project/Traffic_collision_Group_2_Section_1_COMP247Project/conda-env/lib/python3.9/site-packages/sklearn/preprocessing/_encoders.py:170: UserWarning: Found unknown categories in columns [0, 1] during transform. These unknown categories will be encoded as all zeros\n",
      "  warnings.warn(\n"
     ]
    },
    {
     "name": "stderr",
     "output_type": "stream",
     "text": [
      "/Users/brunomorgado/Dropbox/Bruno_Morgado/Education/Mac_Education/Centennial_College/Fourth_Semester/Supervised_learning/Team_Project/Traffic_collision_Group_2_Section_1_COMP247Project/conda-env/lib/python3.9/site-packages/sklearn/preprocessing/_encoders.py:170: UserWarning: Found unknown categories in columns [0, 1, 5] during transform. These unknown categories will be encoded as all zeros\n",
      "  warnings.warn(\n",
      "/Users/brunomorgado/Dropbox/Bruno_Morgado/Education/Mac_Education/Centennial_College/Fourth_Semester/Supervised_learning/Team_Project/Traffic_collision_Group_2_Section_1_COMP247Project/conda-env/lib/python3.9/site-packages/sklearn/preprocessing/_encoders.py:170: UserWarning: Found unknown categories in columns [0, 1, 2] during transform. These unknown categories will be encoded as all zeros\n",
      "  warnings.warn(\n",
      "/Users/brunomorgado/Dropbox/Bruno_Morgado/Education/Mac_Education/Centennial_College/Fourth_Semester/Supervised_learning/Team_Project/Traffic_collision_Group_2_Section_1_COMP247Project/conda-env/lib/python3.9/site-packages/sklearn/preprocessing/_encoders.py:170: UserWarning: Found unknown categories in columns [0, 1, 8] during transform. These unknown categories will be encoded as all zeros\n",
      "  warnings.warn(\n",
      "/Users/brunomorgado/Dropbox/Bruno_Morgado/Education/Mac_Education/Centennial_College/Fourth_Semester/Supervised_learning/Team_Project/Traffic_collision_Group_2_Section_1_COMP247Project/conda-env/lib/python3.9/site-packages/sklearn/preprocessing/_encoders.py:170: UserWarning: Found unknown categories in columns [0, 1, 2] during transform. These unknown categories will be encoded as all zeros\n",
      "  warnings.warn(\n",
      "/Users/brunomorgado/Dropbox/Bruno_Morgado/Education/Mac_Education/Centennial_College/Fourth_Semester/Supervised_learning/Team_Project/Traffic_collision_Group_2_Section_1_COMP247Project/conda-env/lib/python3.9/site-packages/sklearn/preprocessing/_encoders.py:170: UserWarning: Found unknown categories in columns [0, 1, 5] during transform. These unknown categories will be encoded as all zeros\n",
      "  warnings.warn(\n",
      "/Users/brunomorgado/Dropbox/Bruno_Morgado/Education/Mac_Education/Centennial_College/Fourth_Semester/Supervised_learning/Team_Project/Traffic_collision_Group_2_Section_1_COMP247Project/conda-env/lib/python3.9/site-packages/sklearn/preprocessing/_encoders.py:170: UserWarning: Found unknown categories in columns [0, 1] during transform. These unknown categories will be encoded as all zeros\n",
      "  warnings.warn(\n",
      "/Users/brunomorgado/Dropbox/Bruno_Morgado/Education/Mac_Education/Centennial_College/Fourth_Semester/Supervised_learning/Team_Project/Traffic_collision_Group_2_Section_1_COMP247Project/conda-env/lib/python3.9/site-packages/sklearn/preprocessing/_encoders.py:170: UserWarning: Found unknown categories in columns [0, 1, 5] during transform. These unknown categories will be encoded as all zeros\n",
      "  warnings.warn(\n",
      "/Users/brunomorgado/Dropbox/Bruno_Morgado/Education/Mac_Education/Centennial_College/Fourth_Semester/Supervised_learning/Team_Project/Traffic_collision_Group_2_Section_1_COMP247Project/conda-env/lib/python3.9/site-packages/sklearn/preprocessing/_encoders.py:170: UserWarning: Found unknown categories in columns [0, 1, 2] during transform. These unknown categories will be encoded as all zeros\n",
      "  warnings.warn(\n",
      "/Users/brunomorgado/Dropbox/Bruno_Morgado/Education/Mac_Education/Centennial_College/Fourth_Semester/Supervised_learning/Team_Project/Traffic_collision_Group_2_Section_1_COMP247Project/conda-env/lib/python3.9/site-packages/sklearn/preprocessing/_encoders.py:170: UserWarning: Found unknown categories in columns [0, 1, 8] during transform. These unknown categories will be encoded as all zeros\n",
      "  warnings.warn(\n",
      "/Users/brunomorgado/Dropbox/Bruno_Morgado/Education/Mac_Education/Centennial_College/Fourth_Semester/Supervised_learning/Team_Project/Traffic_collision_Group_2_Section_1_COMP247Project/conda-env/lib/python3.9/site-packages/sklearn/preprocessing/_encoders.py:170: UserWarning: Found unknown categories in columns [0, 1, 5] during transform. These unknown categories will be encoded as all zeros\n",
      "  warnings.warn(\n",
      "/Users/brunomorgado/Dropbox/Bruno_Morgado/Education/Mac_Education/Centennial_College/Fourth_Semester/Supervised_learning/Team_Project/Traffic_collision_Group_2_Section_1_COMP247Project/conda-env/lib/python3.9/site-packages/sklearn/preprocessing/_encoders.py:170: UserWarning: Found unknown categories in columns [0, 1] during transform. These unknown categories will be encoded as all zeros\n",
      "  warnings.warn(\n",
      "/Users/brunomorgado/Dropbox/Bruno_Morgado/Education/Mac_Education/Centennial_College/Fourth_Semester/Supervised_learning/Team_Project/Traffic_collision_Group_2_Section_1_COMP247Project/conda-env/lib/python3.9/site-packages/sklearn/preprocessing/_encoders.py:170: UserWarning: Found unknown categories in columns [0, 1, 5] during transform. These unknown categories will be encoded as all zeros\n",
      "  warnings.warn(\n",
      "/Users/brunomorgado/Dropbox/Bruno_Morgado/Education/Mac_Education/Centennial_College/Fourth_Semester/Supervised_learning/Team_Project/Traffic_collision_Group_2_Section_1_COMP247Project/conda-env/lib/python3.9/site-packages/sklearn/preprocessing/_encoders.py:170: UserWarning: Found unknown categories in columns [0, 1, 8] during transform. These unknown categories will be encoded as all zeros\n",
      "  warnings.warn(\n",
      "/Users/brunomorgado/Dropbox/Bruno_Morgado/Education/Mac_Education/Centennial_College/Fourth_Semester/Supervised_learning/Team_Project/Traffic_collision_Group_2_Section_1_COMP247Project/conda-env/lib/python3.9/site-packages/sklearn/preprocessing/_encoders.py:170: UserWarning: Found unknown categories in columns [0, 1, 2] during transform. These unknown categories will be encoded as all zeros\n",
      "  warnings.warn(\n",
      "/Users/brunomorgado/Dropbox/Bruno_Morgado/Education/Mac_Education/Centennial_College/Fourth_Semester/Supervised_learning/Team_Project/Traffic_collision_Group_2_Section_1_COMP247Project/conda-env/lib/python3.9/site-packages/sklearn/preprocessing/_encoders.py:170: UserWarning: Found unknown categories in columns [0, 1, 8] during transform. These unknown categories will be encoded as all zeros\n",
      "  warnings.warn(\n",
      "/Users/brunomorgado/Dropbox/Bruno_Morgado/Education/Mac_Education/Centennial_College/Fourth_Semester/Supervised_learning/Team_Project/Traffic_collision_Group_2_Section_1_COMP247Project/conda-env/lib/python3.9/site-packages/sklearn/preprocessing/_encoders.py:170: UserWarning: Found unknown categories in columns [0, 1, 5] during transform. These unknown categories will be encoded as all zeros\n",
      "  warnings.warn(\n",
      "/Users/brunomorgado/Dropbox/Bruno_Morgado/Education/Mac_Education/Centennial_College/Fourth_Semester/Supervised_learning/Team_Project/Traffic_collision_Group_2_Section_1_COMP247Project/conda-env/lib/python3.9/site-packages/sklearn/preprocessing/_encoders.py:170: UserWarning: Found unknown categories in columns [0, 1, 5] during transform. These unknown categories will be encoded as all zeros\n",
      "  warnings.warn(\n",
      "/Users/brunomorgado/Dropbox/Bruno_Morgado/Education/Mac_Education/Centennial_College/Fourth_Semester/Supervised_learning/Team_Project/Traffic_collision_Group_2_Section_1_COMP247Project/conda-env/lib/python3.9/site-packages/sklearn/preprocessing/_encoders.py:170: UserWarning: Found unknown categories in columns [0, 1] during transform. These unknown categories will be encoded as all zeros\n",
      "  warnings.warn(\n",
      "/Users/brunomorgado/Dropbox/Bruno_Morgado/Education/Mac_Education/Centennial_College/Fourth_Semester/Supervised_learning/Team_Project/Traffic_collision_Group_2_Section_1_COMP247Project/conda-env/lib/python3.9/site-packages/sklearn/preprocessing/_encoders.py:170: UserWarning: Found unknown categories in columns [0, 1, 5] during transform. These unknown categories will be encoded as all zeros\n",
      "  warnings.warn(\n",
      "/Users/brunomorgado/Dropbox/Bruno_Morgado/Education/Mac_Education/Centennial_College/Fourth_Semester/Supervised_learning/Team_Project/Traffic_collision_Group_2_Section_1_COMP247Project/conda-env/lib/python3.9/site-packages/sklearn/preprocessing/_encoders.py:170: UserWarning: Found unknown categories in columns [0, 1, 2] during transform. These unknown categories will be encoded as all zeros\n",
      "  warnings.warn(\n"
     ]
    },
    {
     "name": "stderr",
     "output_type": "stream",
     "text": [
      "/Users/brunomorgado/Dropbox/Bruno_Morgado/Education/Mac_Education/Centennial_College/Fourth_Semester/Supervised_learning/Team_Project/Traffic_collision_Group_2_Section_1_COMP247Project/conda-env/lib/python3.9/site-packages/sklearn/preprocessing/_encoders.py:170: UserWarning: Found unknown categories in columns [0, 1, 8] during transform. These unknown categories will be encoded as all zeros\n",
      "  warnings.warn(\n",
      "/Users/brunomorgado/Dropbox/Bruno_Morgado/Education/Mac_Education/Centennial_College/Fourth_Semester/Supervised_learning/Team_Project/Traffic_collision_Group_2_Section_1_COMP247Project/conda-env/lib/python3.9/site-packages/sklearn/preprocessing/_encoders.py:170: UserWarning: Found unknown categories in columns [0, 1] during transform. These unknown categories will be encoded as all zeros\n",
      "  warnings.warn(\n",
      "/Users/brunomorgado/Dropbox/Bruno_Morgado/Education/Mac_Education/Centennial_College/Fourth_Semester/Supervised_learning/Team_Project/Traffic_collision_Group_2_Section_1_COMP247Project/conda-env/lib/python3.9/site-packages/sklearn/preprocessing/_encoders.py:170: UserWarning: Found unknown categories in columns [0, 1, 5] during transform. These unknown categories will be encoded as all zeros\n",
      "  warnings.warn(\n",
      "/Users/brunomorgado/Dropbox/Bruno_Morgado/Education/Mac_Education/Centennial_College/Fourth_Semester/Supervised_learning/Team_Project/Traffic_collision_Group_2_Section_1_COMP247Project/conda-env/lib/python3.9/site-packages/sklearn/preprocessing/_encoders.py:170: UserWarning: Found unknown categories in columns [0, 1, 2] during transform. These unknown categories will be encoded as all zeros\n",
      "  warnings.warn(\n",
      "/Users/brunomorgado/Dropbox/Bruno_Morgado/Education/Mac_Education/Centennial_College/Fourth_Semester/Supervised_learning/Team_Project/Traffic_collision_Group_2_Section_1_COMP247Project/conda-env/lib/python3.9/site-packages/sklearn/preprocessing/_encoders.py:170: UserWarning: Found unknown categories in columns [0, 1, 5] during transform. These unknown categories will be encoded as all zeros\n",
      "  warnings.warn(\n",
      "/Users/brunomorgado/Dropbox/Bruno_Morgado/Education/Mac_Education/Centennial_College/Fourth_Semester/Supervised_learning/Team_Project/Traffic_collision_Group_2_Section_1_COMP247Project/conda-env/lib/python3.9/site-packages/sklearn/preprocessing/_encoders.py:170: UserWarning: Found unknown categories in columns [0, 1] during transform. These unknown categories will be encoded as all zeros\n",
      "  warnings.warn(\n",
      "/Users/brunomorgado/Dropbox/Bruno_Morgado/Education/Mac_Education/Centennial_College/Fourth_Semester/Supervised_learning/Team_Project/Traffic_collision_Group_2_Section_1_COMP247Project/conda-env/lib/python3.9/site-packages/sklearn/preprocessing/_encoders.py:170: UserWarning: Found unknown categories in columns [0, 1, 5] during transform. These unknown categories will be encoded as all zeros\n",
      "  warnings.warn(\n",
      "/Users/brunomorgado/Dropbox/Bruno_Morgado/Education/Mac_Education/Centennial_College/Fourth_Semester/Supervised_learning/Team_Project/Traffic_collision_Group_2_Section_1_COMP247Project/conda-env/lib/python3.9/site-packages/sklearn/preprocessing/_encoders.py:170: UserWarning: Found unknown categories in columns [0, 1, 2] during transform. These unknown categories will be encoded as all zeros\n",
      "  warnings.warn(\n",
      "/Users/brunomorgado/Dropbox/Bruno_Morgado/Education/Mac_Education/Centennial_College/Fourth_Semester/Supervised_learning/Team_Project/Traffic_collision_Group_2_Section_1_COMP247Project/conda-env/lib/python3.9/site-packages/sklearn/preprocessing/_encoders.py:170: UserWarning: Found unknown categories in columns [0, 1, 8] during transform. These unknown categories will be encoded as all zeros\n",
      "  warnings.warn(\n",
      "/Users/brunomorgado/Dropbox/Bruno_Morgado/Education/Mac_Education/Centennial_College/Fourth_Semester/Supervised_learning/Team_Project/Traffic_collision_Group_2_Section_1_COMP247Project/conda-env/lib/python3.9/site-packages/sklearn/preprocessing/_encoders.py:170: UserWarning: Found unknown categories in columns [0, 1, 5] during transform. These unknown categories will be encoded as all zeros\n",
      "  warnings.warn(\n",
      "/Users/brunomorgado/Dropbox/Bruno_Morgado/Education/Mac_Education/Centennial_College/Fourth_Semester/Supervised_learning/Team_Project/Traffic_collision_Group_2_Section_1_COMP247Project/conda-env/lib/python3.9/site-packages/sklearn/preprocessing/_encoders.py:170: UserWarning: Found unknown categories in columns [0, 1] during transform. These unknown categories will be encoded as all zeros\n",
      "  warnings.warn(\n",
      "/Users/brunomorgado/Dropbox/Bruno_Morgado/Education/Mac_Education/Centennial_College/Fourth_Semester/Supervised_learning/Team_Project/Traffic_collision_Group_2_Section_1_COMP247Project/conda-env/lib/python3.9/site-packages/sklearn/preprocessing/_encoders.py:170: UserWarning: Found unknown categories in columns [0, 1, 5] during transform. These unknown categories will be encoded as all zeros\n",
      "  warnings.warn(\n",
      "/Users/brunomorgado/Dropbox/Bruno_Morgado/Education/Mac_Education/Centennial_College/Fourth_Semester/Supervised_learning/Team_Project/Traffic_collision_Group_2_Section_1_COMP247Project/conda-env/lib/python3.9/site-packages/sklearn/preprocessing/_encoders.py:170: UserWarning: Found unknown categories in columns [0, 1, 2] during transform. These unknown categories will be encoded as all zeros\n",
      "  warnings.warn(\n",
      "/Users/brunomorgado/Dropbox/Bruno_Morgado/Education/Mac_Education/Centennial_College/Fourth_Semester/Supervised_learning/Team_Project/Traffic_collision_Group_2_Section_1_COMP247Project/conda-env/lib/python3.9/site-packages/sklearn/preprocessing/_encoders.py:170: UserWarning: Found unknown categories in columns [0, 1, 8] during transform. These unknown categories will be encoded as all zeros\n",
      "  warnings.warn(\n",
      "/Users/brunomorgado/Dropbox/Bruno_Morgado/Education/Mac_Education/Centennial_College/Fourth_Semester/Supervised_learning/Team_Project/Traffic_collision_Group_2_Section_1_COMP247Project/conda-env/lib/python3.9/site-packages/sklearn/preprocessing/_encoders.py:170: UserWarning: Found unknown categories in columns [0, 1, 5] during transform. These unknown categories will be encoded as all zeros\n",
      "  warnings.warn(\n",
      "/Users/brunomorgado/Dropbox/Bruno_Morgado/Education/Mac_Education/Centennial_College/Fourth_Semester/Supervised_learning/Team_Project/Traffic_collision_Group_2_Section_1_COMP247Project/conda-env/lib/python3.9/site-packages/sklearn/preprocessing/_encoders.py:170: UserWarning: Found unknown categories in columns [0, 1] during transform. These unknown categories will be encoded as all zeros\n",
      "  warnings.warn(\n",
      "/Users/brunomorgado/Dropbox/Bruno_Morgado/Education/Mac_Education/Centennial_College/Fourth_Semester/Supervised_learning/Team_Project/Traffic_collision_Group_2_Section_1_COMP247Project/conda-env/lib/python3.9/site-packages/sklearn/preprocessing/_encoders.py:170: UserWarning: Found unknown categories in columns [0, 1, 5] during transform. These unknown categories will be encoded as all zeros\n",
      "  warnings.warn(\n",
      "/Users/brunomorgado/Dropbox/Bruno_Morgado/Education/Mac_Education/Centennial_College/Fourth_Semester/Supervised_learning/Team_Project/Traffic_collision_Group_2_Section_1_COMP247Project/conda-env/lib/python3.9/site-packages/sklearn/preprocessing/_encoders.py:170: UserWarning: Found unknown categories in columns [0, 1, 2] during transform. These unknown categories will be encoded as all zeros\n",
      "  warnings.warn(\n",
      "/Users/brunomorgado/Dropbox/Bruno_Morgado/Education/Mac_Education/Centennial_College/Fourth_Semester/Supervised_learning/Team_Project/Traffic_collision_Group_2_Section_1_COMP247Project/conda-env/lib/python3.9/site-packages/sklearn/preprocessing/_encoders.py:170: UserWarning: Found unknown categories in columns [0, 1, 8] during transform. These unknown categories will be encoded as all zeros\n",
      "  warnings.warn(\n",
      "/Users/brunomorgado/Dropbox/Bruno_Morgado/Education/Mac_Education/Centennial_College/Fourth_Semester/Supervised_learning/Team_Project/Traffic_collision_Group_2_Section_1_COMP247Project/conda-env/lib/python3.9/site-packages/sklearn/preprocessing/_encoders.py:170: UserWarning: Found unknown categories in columns [0, 1, 5] during transform. These unknown categories will be encoded as all zeros\n",
      "  warnings.warn(\n"
     ]
    },
    {
     "name": "stderr",
     "output_type": "stream",
     "text": [
      "/Users/brunomorgado/Dropbox/Bruno_Morgado/Education/Mac_Education/Centennial_College/Fourth_Semester/Supervised_learning/Team_Project/Traffic_collision_Group_2_Section_1_COMP247Project/conda-env/lib/python3.9/site-packages/sklearn/preprocessing/_encoders.py:170: UserWarning: Found unknown categories in columns [0, 1] during transform. These unknown categories will be encoded as all zeros\n",
      "  warnings.warn(\n",
      "/Users/brunomorgado/Dropbox/Bruno_Morgado/Education/Mac_Education/Centennial_College/Fourth_Semester/Supervised_learning/Team_Project/Traffic_collision_Group_2_Section_1_COMP247Project/conda-env/lib/python3.9/site-packages/sklearn/preprocessing/_encoders.py:170: UserWarning: Found unknown categories in columns [0, 1, 2] during transform. These unknown categories will be encoded as all zeros\n",
      "  warnings.warn(\n",
      "/Users/brunomorgado/Dropbox/Bruno_Morgado/Education/Mac_Education/Centennial_College/Fourth_Semester/Supervised_learning/Team_Project/Traffic_collision_Group_2_Section_1_COMP247Project/conda-env/lib/python3.9/site-packages/sklearn/preprocessing/_encoders.py:170: UserWarning: Found unknown categories in columns [0, 1, 5] during transform. These unknown categories will be encoded as all zeros\n",
      "  warnings.warn(\n",
      "/Users/brunomorgado/Dropbox/Bruno_Morgado/Education/Mac_Education/Centennial_College/Fourth_Semester/Supervised_learning/Team_Project/Traffic_collision_Group_2_Section_1_COMP247Project/conda-env/lib/python3.9/site-packages/sklearn/preprocessing/_encoders.py:170: UserWarning: Found unknown categories in columns [0, 1, 8] during transform. These unknown categories will be encoded as all zeros\n",
      "  warnings.warn(\n",
      "/Users/brunomorgado/Dropbox/Bruno_Morgado/Education/Mac_Education/Centennial_College/Fourth_Semester/Supervised_learning/Team_Project/Traffic_collision_Group_2_Section_1_COMP247Project/conda-env/lib/python3.9/site-packages/sklearn/preprocessing/_encoders.py:170: UserWarning: Found unknown categories in columns [0, 1, 5] during transform. These unknown categories will be encoded as all zeros\n",
      "  warnings.warn(\n",
      "/Users/brunomorgado/Dropbox/Bruno_Morgado/Education/Mac_Education/Centennial_College/Fourth_Semester/Supervised_learning/Team_Project/Traffic_collision_Group_2_Section_1_COMP247Project/conda-env/lib/python3.9/site-packages/sklearn/preprocessing/_encoders.py:170: UserWarning: Found unknown categories in columns [0, 1] during transform. These unknown categories will be encoded as all zeros\n",
      "  warnings.warn(\n",
      "/Users/brunomorgado/Dropbox/Bruno_Morgado/Education/Mac_Education/Centennial_College/Fourth_Semester/Supervised_learning/Team_Project/Traffic_collision_Group_2_Section_1_COMP247Project/conda-env/lib/python3.9/site-packages/sklearn/preprocessing/_encoders.py:170: UserWarning: Found unknown categories in columns [0, 1, 5] during transform. These unknown categories will be encoded as all zeros\n",
      "  warnings.warn(\n",
      "/Users/brunomorgado/Dropbox/Bruno_Morgado/Education/Mac_Education/Centennial_College/Fourth_Semester/Supervised_learning/Team_Project/Traffic_collision_Group_2_Section_1_COMP247Project/conda-env/lib/python3.9/site-packages/sklearn/preprocessing/_encoders.py:170: UserWarning: Found unknown categories in columns [0, 1, 2] during transform. These unknown categories will be encoded as all zeros\n",
      "  warnings.warn(\n",
      "/Users/brunomorgado/Dropbox/Bruno_Morgado/Education/Mac_Education/Centennial_College/Fourth_Semester/Supervised_learning/Team_Project/Traffic_collision_Group_2_Section_1_COMP247Project/conda-env/lib/python3.9/site-packages/sklearn/preprocessing/_encoders.py:170: UserWarning: Found unknown categories in columns [0, 1, 8] during transform. These unknown categories will be encoded as all zeros\n",
      "  warnings.warn(\n",
      "/Users/brunomorgado/Dropbox/Bruno_Morgado/Education/Mac_Education/Centennial_College/Fourth_Semester/Supervised_learning/Team_Project/Traffic_collision_Group_2_Section_1_COMP247Project/conda-env/lib/python3.9/site-packages/sklearn/preprocessing/_encoders.py:170: UserWarning: Found unknown categories in columns [0, 1, 5] during transform. These unknown categories will be encoded as all zeros\n",
      "  warnings.warn(\n",
      "/Users/brunomorgado/Dropbox/Bruno_Morgado/Education/Mac_Education/Centennial_College/Fourth_Semester/Supervised_learning/Team_Project/Traffic_collision_Group_2_Section_1_COMP247Project/conda-env/lib/python3.9/site-packages/sklearn/preprocessing/_encoders.py:170: UserWarning: Found unknown categories in columns [0, 1] during transform. These unknown categories will be encoded as all zeros\n",
      "  warnings.warn(\n",
      "/Users/brunomorgado/Dropbox/Bruno_Morgado/Education/Mac_Education/Centennial_College/Fourth_Semester/Supervised_learning/Team_Project/Traffic_collision_Group_2_Section_1_COMP247Project/conda-env/lib/python3.9/site-packages/sklearn/preprocessing/_encoders.py:170: UserWarning: Found unknown categories in columns [0, 1, 5] during transform. These unknown categories will be encoded as all zeros\n",
      "  warnings.warn(\n",
      "/Users/brunomorgado/Dropbox/Bruno_Morgado/Education/Mac_Education/Centennial_College/Fourth_Semester/Supervised_learning/Team_Project/Traffic_collision_Group_2_Section_1_COMP247Project/conda-env/lib/python3.9/site-packages/sklearn/preprocessing/_encoders.py:170: UserWarning: Found unknown categories in columns [0, 1, 2] during transform. These unknown categories will be encoded as all zeros\n",
      "  warnings.warn(\n",
      "/Users/brunomorgado/Dropbox/Bruno_Morgado/Education/Mac_Education/Centennial_College/Fourth_Semester/Supervised_learning/Team_Project/Traffic_collision_Group_2_Section_1_COMP247Project/conda-env/lib/python3.9/site-packages/sklearn/preprocessing/_encoders.py:170: UserWarning: Found unknown categories in columns [0, 1, 8] during transform. These unknown categories will be encoded as all zeros\n",
      "  warnings.warn(\n",
      "/Users/brunomorgado/Dropbox/Bruno_Morgado/Education/Mac_Education/Centennial_College/Fourth_Semester/Supervised_learning/Team_Project/Traffic_collision_Group_2_Section_1_COMP247Project/conda-env/lib/python3.9/site-packages/sklearn/preprocessing/_encoders.py:170: UserWarning: Found unknown categories in columns [0, 1, 5] during transform. These unknown categories will be encoded as all zeros\n",
      "  warnings.warn(\n",
      "/Users/brunomorgado/Dropbox/Bruno_Morgado/Education/Mac_Education/Centennial_College/Fourth_Semester/Supervised_learning/Team_Project/Traffic_collision_Group_2_Section_1_COMP247Project/conda-env/lib/python3.9/site-packages/sklearn/preprocessing/_encoders.py:170: UserWarning: Found unknown categories in columns [0, 1] during transform. These unknown categories will be encoded as all zeros\n",
      "  warnings.warn(\n",
      "/Users/brunomorgado/Dropbox/Bruno_Morgado/Education/Mac_Education/Centennial_College/Fourth_Semester/Supervised_learning/Team_Project/Traffic_collision_Group_2_Section_1_COMP247Project/conda-env/lib/python3.9/site-packages/sklearn/preprocessing/_encoders.py:170: UserWarning: Found unknown categories in columns [0, 1, 8] during transform. These unknown categories will be encoded as all zeros\n",
      "  warnings.warn(\n",
      "/Users/brunomorgado/Dropbox/Bruno_Morgado/Education/Mac_Education/Centennial_College/Fourth_Semester/Supervised_learning/Team_Project/Traffic_collision_Group_2_Section_1_COMP247Project/conda-env/lib/python3.9/site-packages/sklearn/preprocessing/_encoders.py:170: UserWarning: Found unknown categories in columns [0, 1, 5] during transform. These unknown categories will be encoded as all zeros\n",
      "  warnings.warn(\n",
      "/Users/brunomorgado/Dropbox/Bruno_Morgado/Education/Mac_Education/Centennial_College/Fourth_Semester/Supervised_learning/Team_Project/Traffic_collision_Group_2_Section_1_COMP247Project/conda-env/lib/python3.9/site-packages/sklearn/preprocessing/_encoders.py:170: UserWarning: Found unknown categories in columns [0, 1, 5] during transform. These unknown categories will be encoded as all zeros\n",
      "  warnings.warn(\n",
      "/Users/brunomorgado/Dropbox/Bruno_Morgado/Education/Mac_Education/Centennial_College/Fourth_Semester/Supervised_learning/Team_Project/Traffic_collision_Group_2_Section_1_COMP247Project/conda-env/lib/python3.9/site-packages/sklearn/preprocessing/_encoders.py:170: UserWarning: Found unknown categories in columns [0, 1, 2] during transform. These unknown categories will be encoded as all zeros\n",
      "  warnings.warn(\n"
     ]
    },
    {
     "name": "stderr",
     "output_type": "stream",
     "text": [
      "/Users/brunomorgado/Dropbox/Bruno_Morgado/Education/Mac_Education/Centennial_College/Fourth_Semester/Supervised_learning/Team_Project/Traffic_collision_Group_2_Section_1_COMP247Project/conda-env/lib/python3.9/site-packages/sklearn/preprocessing/_encoders.py:170: UserWarning: Found unknown categories in columns [0, 1] during transform. These unknown categories will be encoded as all zeros\n",
      "  warnings.warn(\n",
      "/Users/brunomorgado/Dropbox/Bruno_Morgado/Education/Mac_Education/Centennial_College/Fourth_Semester/Supervised_learning/Team_Project/Traffic_collision_Group_2_Section_1_COMP247Project/conda-env/lib/python3.9/site-packages/sklearn/preprocessing/_encoders.py:170: UserWarning: Found unknown categories in columns [0, 1, 5] during transform. These unknown categories will be encoded as all zeros\n",
      "  warnings.warn(\n",
      "/Users/brunomorgado/Dropbox/Bruno_Morgado/Education/Mac_Education/Centennial_College/Fourth_Semester/Supervised_learning/Team_Project/Traffic_collision_Group_2_Section_1_COMP247Project/conda-env/lib/python3.9/site-packages/sklearn/preprocessing/_encoders.py:170: UserWarning: Found unknown categories in columns [0, 1, 2] during transform. These unknown categories will be encoded as all zeros\n",
      "  warnings.warn(\n",
      "/Users/brunomorgado/Dropbox/Bruno_Morgado/Education/Mac_Education/Centennial_College/Fourth_Semester/Supervised_learning/Team_Project/Traffic_collision_Group_2_Section_1_COMP247Project/conda-env/lib/python3.9/site-packages/sklearn/preprocessing/_encoders.py:170: UserWarning: Found unknown categories in columns [0, 1, 8] during transform. These unknown categories will be encoded as all zeros\n",
      "  warnings.warn(\n",
      "/Users/brunomorgado/Dropbox/Bruno_Morgado/Education/Mac_Education/Centennial_College/Fourth_Semester/Supervised_learning/Team_Project/Traffic_collision_Group_2_Section_1_COMP247Project/conda-env/lib/python3.9/site-packages/sklearn/preprocessing/_encoders.py:170: UserWarning: Found unknown categories in columns [0, 1, 5] during transform. These unknown categories will be encoded as all zeros\n",
      "  warnings.warn(\n",
      "/Users/brunomorgado/Dropbox/Bruno_Morgado/Education/Mac_Education/Centennial_College/Fourth_Semester/Supervised_learning/Team_Project/Traffic_collision_Group_2_Section_1_COMP247Project/conda-env/lib/python3.9/site-packages/sklearn/preprocessing/_encoders.py:170: UserWarning: Found unknown categories in columns [0, 1] during transform. These unknown categories will be encoded as all zeros\n",
      "  warnings.warn(\n",
      "/Users/brunomorgado/Dropbox/Bruno_Morgado/Education/Mac_Education/Centennial_College/Fourth_Semester/Supervised_learning/Team_Project/Traffic_collision_Group_2_Section_1_COMP247Project/conda-env/lib/python3.9/site-packages/sklearn/preprocessing/_encoders.py:170: UserWarning: Found unknown categories in columns [0, 1, 5] during transform. These unknown categories will be encoded as all zeros\n",
      "  warnings.warn(\n",
      "/Users/brunomorgado/Dropbox/Bruno_Morgado/Education/Mac_Education/Centennial_College/Fourth_Semester/Supervised_learning/Team_Project/Traffic_collision_Group_2_Section_1_COMP247Project/conda-env/lib/python3.9/site-packages/sklearn/preprocessing/_encoders.py:170: UserWarning: Found unknown categories in columns [0, 1, 2] during transform. These unknown categories will be encoded as all zeros\n",
      "  warnings.warn(\n",
      "/Users/brunomorgado/Dropbox/Bruno_Morgado/Education/Mac_Education/Centennial_College/Fourth_Semester/Supervised_learning/Team_Project/Traffic_collision_Group_2_Section_1_COMP247Project/conda-env/lib/python3.9/site-packages/sklearn/preprocessing/_encoders.py:170: UserWarning: Found unknown categories in columns [0, 1, 8] during transform. These unknown categories will be encoded as all zeros\n",
      "  warnings.warn(\n",
      "/Users/brunomorgado/Dropbox/Bruno_Morgado/Education/Mac_Education/Centennial_College/Fourth_Semester/Supervised_learning/Team_Project/Traffic_collision_Group_2_Section_1_COMP247Project/conda-env/lib/python3.9/site-packages/sklearn/preprocessing/_encoders.py:170: UserWarning: Found unknown categories in columns [0, 1, 5] during transform. These unknown categories will be encoded as all zeros\n",
      "  warnings.warn(\n",
      "/Users/brunomorgado/Dropbox/Bruno_Morgado/Education/Mac_Education/Centennial_College/Fourth_Semester/Supervised_learning/Team_Project/Traffic_collision_Group_2_Section_1_COMP247Project/conda-env/lib/python3.9/site-packages/sklearn/preprocessing/_encoders.py:170: UserWarning: Found unknown categories in columns [0, 1] during transform. These unknown categories will be encoded as all zeros\n",
      "  warnings.warn(\n",
      "/Users/brunomorgado/Dropbox/Bruno_Morgado/Education/Mac_Education/Centennial_College/Fourth_Semester/Supervised_learning/Team_Project/Traffic_collision_Group_2_Section_1_COMP247Project/conda-env/lib/python3.9/site-packages/sklearn/preprocessing/_encoders.py:170: UserWarning: Found unknown categories in columns [0, 1, 8] during transform. These unknown categories will be encoded as all zeros\n",
      "  warnings.warn(\n",
      "/Users/brunomorgado/Dropbox/Bruno_Morgado/Education/Mac_Education/Centennial_College/Fourth_Semester/Supervised_learning/Team_Project/Traffic_collision_Group_2_Section_1_COMP247Project/conda-env/lib/python3.9/site-packages/sklearn/preprocessing/_encoders.py:170: UserWarning: Found unknown categories in columns [0, 1, 5] during transform. These unknown categories will be encoded as all zeros\n",
      "  warnings.warn(\n",
      "/Users/brunomorgado/Dropbox/Bruno_Morgado/Education/Mac_Education/Centennial_College/Fourth_Semester/Supervised_learning/Team_Project/Traffic_collision_Group_2_Section_1_COMP247Project/conda-env/lib/python3.9/site-packages/sklearn/preprocessing/_encoders.py:170: UserWarning: Found unknown categories in columns [0, 1] during transform. These unknown categories will be encoded as all zeros\n",
      "  warnings.warn(\n",
      "/Users/brunomorgado/Dropbox/Bruno_Morgado/Education/Mac_Education/Centennial_College/Fourth_Semester/Supervised_learning/Team_Project/Traffic_collision_Group_2_Section_1_COMP247Project/conda-env/lib/python3.9/site-packages/sklearn/preprocessing/_encoders.py:170: UserWarning: Found unknown categories in columns [0, 1, 5] during transform. These unknown categories will be encoded as all zeros\n",
      "  warnings.warn(\n",
      "/Users/brunomorgado/Dropbox/Bruno_Morgado/Education/Mac_Education/Centennial_College/Fourth_Semester/Supervised_learning/Team_Project/Traffic_collision_Group_2_Section_1_COMP247Project/conda-env/lib/python3.9/site-packages/sklearn/preprocessing/_encoders.py:170: UserWarning: Found unknown categories in columns [0, 1, 5] during transform. These unknown categories will be encoded as all zeros\n",
      "  warnings.warn(\n",
      "/Users/brunomorgado/Dropbox/Bruno_Morgado/Education/Mac_Education/Centennial_College/Fourth_Semester/Supervised_learning/Team_Project/Traffic_collision_Group_2_Section_1_COMP247Project/conda-env/lib/python3.9/site-packages/sklearn/preprocessing/_encoders.py:170: UserWarning: Found unknown categories in columns [0, 1, 2] during transform. These unknown categories will be encoded as all zeros\n",
      "  warnings.warn(\n",
      "/Users/brunomorgado/Dropbox/Bruno_Morgado/Education/Mac_Education/Centennial_College/Fourth_Semester/Supervised_learning/Team_Project/Traffic_collision_Group_2_Section_1_COMP247Project/conda-env/lib/python3.9/site-packages/sklearn/preprocessing/_encoders.py:170: UserWarning: Found unknown categories in columns [0, 1, 2] during transform. These unknown categories will be encoded as all zeros\n",
      "  warnings.warn(\n",
      "/Users/brunomorgado/Dropbox/Bruno_Morgado/Education/Mac_Education/Centennial_College/Fourth_Semester/Supervised_learning/Team_Project/Traffic_collision_Group_2_Section_1_COMP247Project/conda-env/lib/python3.9/site-packages/sklearn/preprocessing/_encoders.py:170: UserWarning: Found unknown categories in columns [0, 1, 8] during transform. These unknown categories will be encoded as all zeros\n",
      "  warnings.warn(\n",
      "/Users/brunomorgado/Dropbox/Bruno_Morgado/Education/Mac_Education/Centennial_College/Fourth_Semester/Supervised_learning/Team_Project/Traffic_collision_Group_2_Section_1_COMP247Project/conda-env/lib/python3.9/site-packages/sklearn/preprocessing/_encoders.py:170: UserWarning: Found unknown categories in columns [0, 1, 5] during transform. These unknown categories will be encoded as all zeros\n",
      "  warnings.warn(\n"
     ]
    },
    {
     "name": "stderr",
     "output_type": "stream",
     "text": [
      "/Users/brunomorgado/Dropbox/Bruno_Morgado/Education/Mac_Education/Centennial_College/Fourth_Semester/Supervised_learning/Team_Project/Traffic_collision_Group_2_Section_1_COMP247Project/conda-env/lib/python3.9/site-packages/sklearn/preprocessing/_encoders.py:170: UserWarning: Found unknown categories in columns [0, 1] during transform. These unknown categories will be encoded as all zeros\n",
      "  warnings.warn(\n",
      "/Users/brunomorgado/Dropbox/Bruno_Morgado/Education/Mac_Education/Centennial_College/Fourth_Semester/Supervised_learning/Team_Project/Traffic_collision_Group_2_Section_1_COMP247Project/conda-env/lib/python3.9/site-packages/sklearn/preprocessing/_encoders.py:170: UserWarning: Found unknown categories in columns [0, 1, 5] during transform. These unknown categories will be encoded as all zeros\n",
      "  warnings.warn(\n",
      "/Users/brunomorgado/Dropbox/Bruno_Morgado/Education/Mac_Education/Centennial_College/Fourth_Semester/Supervised_learning/Team_Project/Traffic_collision_Group_2_Section_1_COMP247Project/conda-env/lib/python3.9/site-packages/sklearn/preprocessing/_encoders.py:170: UserWarning: Found unknown categories in columns [0, 1, 2] during transform. These unknown categories will be encoded as all zeros\n",
      "  warnings.warn(\n",
      "/Users/brunomorgado/Dropbox/Bruno_Morgado/Education/Mac_Education/Centennial_College/Fourth_Semester/Supervised_learning/Team_Project/Traffic_collision_Group_2_Section_1_COMP247Project/conda-env/lib/python3.9/site-packages/sklearn/preprocessing/_encoders.py:170: UserWarning: Found unknown categories in columns [0, 1, 8] during transform. These unknown categories will be encoded as all zeros\n",
      "  warnings.warn(\n",
      "/Users/brunomorgado/Dropbox/Bruno_Morgado/Education/Mac_Education/Centennial_College/Fourth_Semester/Supervised_learning/Team_Project/Traffic_collision_Group_2_Section_1_COMP247Project/conda-env/lib/python3.9/site-packages/sklearn/preprocessing/_encoders.py:170: UserWarning: Found unknown categories in columns [0, 1, 5] during transform. These unknown categories will be encoded as all zeros\n",
      "  warnings.warn(\n",
      "/Users/brunomorgado/Dropbox/Bruno_Morgado/Education/Mac_Education/Centennial_College/Fourth_Semester/Supervised_learning/Team_Project/Traffic_collision_Group_2_Section_1_COMP247Project/conda-env/lib/python3.9/site-packages/sklearn/preprocessing/_encoders.py:170: UserWarning: Found unknown categories in columns [0, 1] during transform. These unknown categories will be encoded as all zeros\n",
      "  warnings.warn(\n",
      "/Users/brunomorgado/Dropbox/Bruno_Morgado/Education/Mac_Education/Centennial_College/Fourth_Semester/Supervised_learning/Team_Project/Traffic_collision_Group_2_Section_1_COMP247Project/conda-env/lib/python3.9/site-packages/sklearn/preprocessing/_encoders.py:170: UserWarning: Found unknown categories in columns [0, 1, 5] during transform. These unknown categories will be encoded as all zeros\n",
      "  warnings.warn(\n",
      "/Users/brunomorgado/Dropbox/Bruno_Morgado/Education/Mac_Education/Centennial_College/Fourth_Semester/Supervised_learning/Team_Project/Traffic_collision_Group_2_Section_1_COMP247Project/conda-env/lib/python3.9/site-packages/sklearn/preprocessing/_encoders.py:170: UserWarning: Found unknown categories in columns [0, 1, 2] during transform. These unknown categories will be encoded as all zeros\n",
      "  warnings.warn(\n",
      "/Users/brunomorgado/Dropbox/Bruno_Morgado/Education/Mac_Education/Centennial_College/Fourth_Semester/Supervised_learning/Team_Project/Traffic_collision_Group_2_Section_1_COMP247Project/conda-env/lib/python3.9/site-packages/sklearn/preprocessing/_encoders.py:170: UserWarning: Found unknown categories in columns [0, 1, 8] during transform. These unknown categories will be encoded as all zeros\n",
      "  warnings.warn(\n",
      "/Users/brunomorgado/Dropbox/Bruno_Morgado/Education/Mac_Education/Centennial_College/Fourth_Semester/Supervised_learning/Team_Project/Traffic_collision_Group_2_Section_1_COMP247Project/conda-env/lib/python3.9/site-packages/sklearn/preprocessing/_encoders.py:170: UserWarning: Found unknown categories in columns [0, 1, 5] during transform. These unknown categories will be encoded as all zeros\n",
      "  warnings.warn(\n",
      "/Users/brunomorgado/Dropbox/Bruno_Morgado/Education/Mac_Education/Centennial_College/Fourth_Semester/Supervised_learning/Team_Project/Traffic_collision_Group_2_Section_1_COMP247Project/conda-env/lib/python3.9/site-packages/sklearn/preprocessing/_encoders.py:170: UserWarning: Found unknown categories in columns [0, 1] during transform. These unknown categories will be encoded as all zeros\n",
      "  warnings.warn(\n",
      "/Users/brunomorgado/Dropbox/Bruno_Morgado/Education/Mac_Education/Centennial_College/Fourth_Semester/Supervised_learning/Team_Project/Traffic_collision_Group_2_Section_1_COMP247Project/conda-env/lib/python3.9/site-packages/sklearn/preprocessing/_encoders.py:170: UserWarning: Found unknown categories in columns [0, 1, 5] during transform. These unknown categories will be encoded as all zeros\n",
      "  warnings.warn(\n",
      "/Users/brunomorgado/Dropbox/Bruno_Morgado/Education/Mac_Education/Centennial_College/Fourth_Semester/Supervised_learning/Team_Project/Traffic_collision_Group_2_Section_1_COMP247Project/conda-env/lib/python3.9/site-packages/sklearn/preprocessing/_encoders.py:170: UserWarning: Found unknown categories in columns [0, 1, 5] during transform. These unknown categories will be encoded as all zeros\n",
      "  warnings.warn(\n",
      "/Users/brunomorgado/Dropbox/Bruno_Morgado/Education/Mac_Education/Centennial_College/Fourth_Semester/Supervised_learning/Team_Project/Traffic_collision_Group_2_Section_1_COMP247Project/conda-env/lib/python3.9/site-packages/sklearn/preprocessing/_encoders.py:170: UserWarning: Found unknown categories in columns [0, 1, 2] during transform. These unknown categories will be encoded as all zeros\n",
      "  warnings.warn(\n",
      "/Users/brunomorgado/Dropbox/Bruno_Morgado/Education/Mac_Education/Centennial_College/Fourth_Semester/Supervised_learning/Team_Project/Traffic_collision_Group_2_Section_1_COMP247Project/conda-env/lib/python3.9/site-packages/sklearn/preprocessing/_encoders.py:170: UserWarning: Found unknown categories in columns [0, 1, 8] during transform. These unknown categories will be encoded as all zeros\n",
      "  warnings.warn(\n",
      "/Users/brunomorgado/Dropbox/Bruno_Morgado/Education/Mac_Education/Centennial_College/Fourth_Semester/Supervised_learning/Team_Project/Traffic_collision_Group_2_Section_1_COMP247Project/conda-env/lib/python3.9/site-packages/sklearn/preprocessing/_encoders.py:170: UserWarning: Found unknown categories in columns [0, 1] during transform. These unknown categories will be encoded as all zeros\n",
      "  warnings.warn(\n",
      "/Users/brunomorgado/Dropbox/Bruno_Morgado/Education/Mac_Education/Centennial_College/Fourth_Semester/Supervised_learning/Team_Project/Traffic_collision_Group_2_Section_1_COMP247Project/conda-env/lib/python3.9/site-packages/sklearn/preprocessing/_encoders.py:170: UserWarning: Found unknown categories in columns [0, 1, 5] during transform. These unknown categories will be encoded as all zeros\n",
      "  warnings.warn(\n",
      "/Users/brunomorgado/Dropbox/Bruno_Morgado/Education/Mac_Education/Centennial_College/Fourth_Semester/Supervised_learning/Team_Project/Traffic_collision_Group_2_Section_1_COMP247Project/conda-env/lib/python3.9/site-packages/sklearn/preprocessing/_encoders.py:170: UserWarning: Found unknown categories in columns [0, 1, 2] during transform. These unknown categories will be encoded as all zeros\n",
      "  warnings.warn(\n",
      "/Users/brunomorgado/Dropbox/Bruno_Morgado/Education/Mac_Education/Centennial_College/Fourth_Semester/Supervised_learning/Team_Project/Traffic_collision_Group_2_Section_1_COMP247Project/conda-env/lib/python3.9/site-packages/sklearn/preprocessing/_encoders.py:170: UserWarning: Found unknown categories in columns [0, 1, 8] during transform. These unknown categories will be encoded as all zeros\n",
      "  warnings.warn(\n",
      "/Users/brunomorgado/Dropbox/Bruno_Morgado/Education/Mac_Education/Centennial_College/Fourth_Semester/Supervised_learning/Team_Project/Traffic_collision_Group_2_Section_1_COMP247Project/conda-env/lib/python3.9/site-packages/sklearn/preprocessing/_encoders.py:170: UserWarning: Found unknown categories in columns [0, 1, 5] during transform. These unknown categories will be encoded as all zeros\n",
      "  warnings.warn(\n"
     ]
    },
    {
     "name": "stderr",
     "output_type": "stream",
     "text": [
      "/Users/brunomorgado/Dropbox/Bruno_Morgado/Education/Mac_Education/Centennial_College/Fourth_Semester/Supervised_learning/Team_Project/Traffic_collision_Group_2_Section_1_COMP247Project/conda-env/lib/python3.9/site-packages/sklearn/preprocessing/_encoders.py:170: UserWarning: Found unknown categories in columns [0, 1] during transform. These unknown categories will be encoded as all zeros\n",
      "  warnings.warn(\n",
      "/Users/brunomorgado/Dropbox/Bruno_Morgado/Education/Mac_Education/Centennial_College/Fourth_Semester/Supervised_learning/Team_Project/Traffic_collision_Group_2_Section_1_COMP247Project/conda-env/lib/python3.9/site-packages/sklearn/preprocessing/_encoders.py:170: UserWarning: Found unknown categories in columns [0, 1, 5] during transform. These unknown categories will be encoded as all zeros\n",
      "  warnings.warn(\n",
      "/Users/brunomorgado/Dropbox/Bruno_Morgado/Education/Mac_Education/Centennial_College/Fourth_Semester/Supervised_learning/Team_Project/Traffic_collision_Group_2_Section_1_COMP247Project/conda-env/lib/python3.9/site-packages/sklearn/preprocessing/_encoders.py:170: UserWarning: Found unknown categories in columns [0, 1, 2] during transform. These unknown categories will be encoded as all zeros\n",
      "  warnings.warn(\n",
      "/Users/brunomorgado/Dropbox/Bruno_Morgado/Education/Mac_Education/Centennial_College/Fourth_Semester/Supervised_learning/Team_Project/Traffic_collision_Group_2_Section_1_COMP247Project/conda-env/lib/python3.9/site-packages/sklearn/preprocessing/_encoders.py:170: UserWarning: Found unknown categories in columns [0, 1, 8] during transform. These unknown categories will be encoded as all zeros\n",
      "  warnings.warn(\n",
      "/Users/brunomorgado/Dropbox/Bruno_Morgado/Education/Mac_Education/Centennial_College/Fourth_Semester/Supervised_learning/Team_Project/Traffic_collision_Group_2_Section_1_COMP247Project/conda-env/lib/python3.9/site-packages/sklearn/preprocessing/_encoders.py:170: UserWarning: Found unknown categories in columns [0, 1, 5] during transform. These unknown categories will be encoded as all zeros\n",
      "  warnings.warn(\n",
      "/Users/brunomorgado/Dropbox/Bruno_Morgado/Education/Mac_Education/Centennial_College/Fourth_Semester/Supervised_learning/Team_Project/Traffic_collision_Group_2_Section_1_COMP247Project/conda-env/lib/python3.9/site-packages/sklearn/preprocessing/_encoders.py:170: UserWarning: Found unknown categories in columns [0, 1, 8] during transform. These unknown categories will be encoded as all zeros\n",
      "  warnings.warn(\n",
      "/Users/brunomorgado/Dropbox/Bruno_Morgado/Education/Mac_Education/Centennial_College/Fourth_Semester/Supervised_learning/Team_Project/Traffic_collision_Group_2_Section_1_COMP247Project/conda-env/lib/python3.9/site-packages/sklearn/preprocessing/_encoders.py:170: UserWarning: Found unknown categories in columns [0, 1, 5] during transform. These unknown categories will be encoded as all zeros\n",
      "  warnings.warn(\n",
      "/Users/brunomorgado/Dropbox/Bruno_Morgado/Education/Mac_Education/Centennial_College/Fourth_Semester/Supervised_learning/Team_Project/Traffic_collision_Group_2_Section_1_COMP247Project/conda-env/lib/python3.9/site-packages/sklearn/preprocessing/_encoders.py:170: UserWarning: Found unknown categories in columns [0, 1] during transform. These unknown categories will be encoded as all zeros\n",
      "  warnings.warn(\n",
      "/Users/brunomorgado/Dropbox/Bruno_Morgado/Education/Mac_Education/Centennial_College/Fourth_Semester/Supervised_learning/Team_Project/Traffic_collision_Group_2_Section_1_COMP247Project/conda-env/lib/python3.9/site-packages/sklearn/preprocessing/_encoders.py:170: UserWarning: Found unknown categories in columns [0, 1] during transform. These unknown categories will be encoded as all zeros\n",
      "  warnings.warn(\n",
      "/Users/brunomorgado/Dropbox/Bruno_Morgado/Education/Mac_Education/Centennial_College/Fourth_Semester/Supervised_learning/Team_Project/Traffic_collision_Group_2_Section_1_COMP247Project/conda-env/lib/python3.9/site-packages/sklearn/preprocessing/_encoders.py:170: UserWarning: Found unknown categories in columns [0, 1, 5] during transform. These unknown categories will be encoded as all zeros\n",
      "  warnings.warn(\n",
      "/Users/brunomorgado/Dropbox/Bruno_Morgado/Education/Mac_Education/Centennial_College/Fourth_Semester/Supervised_learning/Team_Project/Traffic_collision_Group_2_Section_1_COMP247Project/conda-env/lib/python3.9/site-packages/sklearn/preprocessing/_encoders.py:170: UserWarning: Found unknown categories in columns [0, 1, 2] during transform. These unknown categories will be encoded as all zeros\n",
      "  warnings.warn(\n",
      "/Users/brunomorgado/Dropbox/Bruno_Morgado/Education/Mac_Education/Centennial_College/Fourth_Semester/Supervised_learning/Team_Project/Traffic_collision_Group_2_Section_1_COMP247Project/conda-env/lib/python3.9/site-packages/sklearn/preprocessing/_encoders.py:170: UserWarning: Found unknown categories in columns [0, 1, 8] during transform. These unknown categories will be encoded as all zeros\n",
      "  warnings.warn(\n",
      "/Users/brunomorgado/Dropbox/Bruno_Morgado/Education/Mac_Education/Centennial_College/Fourth_Semester/Supervised_learning/Team_Project/Traffic_collision_Group_2_Section_1_COMP247Project/conda-env/lib/python3.9/site-packages/sklearn/preprocessing/_encoders.py:170: UserWarning: Found unknown categories in columns [0, 1, 5] during transform. These unknown categories will be encoded as all zeros\n",
      "  warnings.warn(\n",
      "/Users/brunomorgado/Dropbox/Bruno_Morgado/Education/Mac_Education/Centennial_College/Fourth_Semester/Supervised_learning/Team_Project/Traffic_collision_Group_2_Section_1_COMP247Project/conda-env/lib/python3.9/site-packages/sklearn/preprocessing/_encoders.py:170: UserWarning: Found unknown categories in columns [0, 1, 2] during transform. These unknown categories will be encoded as all zeros\n",
      "  warnings.warn(\n",
      "/Users/brunomorgado/Dropbox/Bruno_Morgado/Education/Mac_Education/Centennial_College/Fourth_Semester/Supervised_learning/Team_Project/Traffic_collision_Group_2_Section_1_COMP247Project/conda-env/lib/python3.9/site-packages/sklearn/preprocessing/_encoders.py:170: UserWarning: Found unknown categories in columns [0, 1, 5] during transform. These unknown categories will be encoded as all zeros\n",
      "  warnings.warn(\n",
      "/Users/brunomorgado/Dropbox/Bruno_Morgado/Education/Mac_Education/Centennial_College/Fourth_Semester/Supervised_learning/Team_Project/Traffic_collision_Group_2_Section_1_COMP247Project/conda-env/lib/python3.9/site-packages/sklearn/preprocessing/_encoders.py:170: UserWarning: Found unknown categories in columns [0, 1] during transform. These unknown categories will be encoded as all zeros\n",
      "  warnings.warn(\n",
      "/Users/brunomorgado/Dropbox/Bruno_Morgado/Education/Mac_Education/Centennial_College/Fourth_Semester/Supervised_learning/Team_Project/Traffic_collision_Group_2_Section_1_COMP247Project/conda-env/lib/python3.9/site-packages/sklearn/preprocessing/_encoders.py:170: UserWarning: Found unknown categories in columns [0, 1, 5] during transform. These unknown categories will be encoded as all zeros\n",
      "  warnings.warn(\n",
      "/Users/brunomorgado/Dropbox/Bruno_Morgado/Education/Mac_Education/Centennial_College/Fourth_Semester/Supervised_learning/Team_Project/Traffic_collision_Group_2_Section_1_COMP247Project/conda-env/lib/python3.9/site-packages/sklearn/preprocessing/_encoders.py:170: UserWarning: Found unknown categories in columns [0, 1, 2] during transform. These unknown categories will be encoded as all zeros\n",
      "  warnings.warn(\n",
      "/Users/brunomorgado/Dropbox/Bruno_Morgado/Education/Mac_Education/Centennial_College/Fourth_Semester/Supervised_learning/Team_Project/Traffic_collision_Group_2_Section_1_COMP247Project/conda-env/lib/python3.9/site-packages/sklearn/preprocessing/_encoders.py:170: UserWarning: Found unknown categories in columns [0, 1, 8] during transform. These unknown categories will be encoded as all zeros\n",
      "  warnings.warn(\n",
      "/Users/brunomorgado/Dropbox/Bruno_Morgado/Education/Mac_Education/Centennial_College/Fourth_Semester/Supervised_learning/Team_Project/Traffic_collision_Group_2_Section_1_COMP247Project/conda-env/lib/python3.9/site-packages/sklearn/preprocessing/_encoders.py:170: UserWarning: Found unknown categories in columns [0, 1, 5] during transform. These unknown categories will be encoded as all zeros\n",
      "  warnings.warn(\n"
     ]
    },
    {
     "name": "stderr",
     "output_type": "stream",
     "text": [
      "/Users/brunomorgado/Dropbox/Bruno_Morgado/Education/Mac_Education/Centennial_College/Fourth_Semester/Supervised_learning/Team_Project/Traffic_collision_Group_2_Section_1_COMP247Project/conda-env/lib/python3.9/site-packages/sklearn/preprocessing/_encoders.py:170: UserWarning: Found unknown categories in columns [0, 1] during transform. These unknown categories will be encoded as all zeros\n",
      "  warnings.warn(\n",
      "/Users/brunomorgado/Dropbox/Bruno_Morgado/Education/Mac_Education/Centennial_College/Fourth_Semester/Supervised_learning/Team_Project/Traffic_collision_Group_2_Section_1_COMP247Project/conda-env/lib/python3.9/site-packages/sklearn/preprocessing/_encoders.py:170: UserWarning: Found unknown categories in columns [0, 1, 5] during transform. These unknown categories will be encoded as all zeros\n",
      "  warnings.warn(\n",
      "/Users/brunomorgado/Dropbox/Bruno_Morgado/Education/Mac_Education/Centennial_College/Fourth_Semester/Supervised_learning/Team_Project/Traffic_collision_Group_2_Section_1_COMP247Project/conda-env/lib/python3.9/site-packages/sklearn/preprocessing/_encoders.py:170: UserWarning: Found unknown categories in columns [0, 1, 2] during transform. These unknown categories will be encoded as all zeros\n",
      "  warnings.warn(\n",
      "/Users/brunomorgado/Dropbox/Bruno_Morgado/Education/Mac_Education/Centennial_College/Fourth_Semester/Supervised_learning/Team_Project/Traffic_collision_Group_2_Section_1_COMP247Project/conda-env/lib/python3.9/site-packages/sklearn/preprocessing/_encoders.py:170: UserWarning: Found unknown categories in columns [0, 1, 8] during transform. These unknown categories will be encoded as all zeros\n",
      "  warnings.warn(\n",
      "/Users/brunomorgado/Dropbox/Bruno_Morgado/Education/Mac_Education/Centennial_College/Fourth_Semester/Supervised_learning/Team_Project/Traffic_collision_Group_2_Section_1_COMP247Project/conda-env/lib/python3.9/site-packages/sklearn/preprocessing/_encoders.py:170: UserWarning: Found unknown categories in columns [0, 1, 5] during transform. These unknown categories will be encoded as all zeros\n",
      "  warnings.warn(\n",
      "/Users/brunomorgado/Dropbox/Bruno_Morgado/Education/Mac_Education/Centennial_College/Fourth_Semester/Supervised_learning/Team_Project/Traffic_collision_Group_2_Section_1_COMP247Project/conda-env/lib/python3.9/site-packages/sklearn/preprocessing/_encoders.py:170: UserWarning: Found unknown categories in columns [0, 1] during transform. These unknown categories will be encoded as all zeros\n",
      "  warnings.warn(\n",
      "/Users/brunomorgado/Dropbox/Bruno_Morgado/Education/Mac_Education/Centennial_College/Fourth_Semester/Supervised_learning/Team_Project/Traffic_collision_Group_2_Section_1_COMP247Project/conda-env/lib/python3.9/site-packages/sklearn/preprocessing/_encoders.py:170: UserWarning: Found unknown categories in columns [0, 1, 5] during transform. These unknown categories will be encoded as all zeros\n",
      "  warnings.warn(\n",
      "/Users/brunomorgado/Dropbox/Bruno_Morgado/Education/Mac_Education/Centennial_College/Fourth_Semester/Supervised_learning/Team_Project/Traffic_collision_Group_2_Section_1_COMP247Project/conda-env/lib/python3.9/site-packages/sklearn/preprocessing/_encoders.py:170: UserWarning: Found unknown categories in columns [0, 1, 8] during transform. These unknown categories will be encoded as all zeros\n",
      "  warnings.warn(\n",
      "/Users/brunomorgado/Dropbox/Bruno_Morgado/Education/Mac_Education/Centennial_College/Fourth_Semester/Supervised_learning/Team_Project/Traffic_collision_Group_2_Section_1_COMP247Project/conda-env/lib/python3.9/site-packages/sklearn/preprocessing/_encoders.py:170: UserWarning: Found unknown categories in columns [0, 1, 2] during transform. These unknown categories will be encoded as all zeros\n",
      "  warnings.warn(\n",
      "/Users/brunomorgado/Dropbox/Bruno_Morgado/Education/Mac_Education/Centennial_College/Fourth_Semester/Supervised_learning/Team_Project/Traffic_collision_Group_2_Section_1_COMP247Project/conda-env/lib/python3.9/site-packages/sklearn/preprocessing/_encoders.py:170: UserWarning: Found unknown categories in columns [0, 1, 5] during transform. These unknown categories will be encoded as all zeros\n",
      "  warnings.warn(\n",
      "/Users/brunomorgado/Dropbox/Bruno_Morgado/Education/Mac_Education/Centennial_College/Fourth_Semester/Supervised_learning/Team_Project/Traffic_collision_Group_2_Section_1_COMP247Project/conda-env/lib/python3.9/site-packages/sklearn/preprocessing/_encoders.py:170: UserWarning: Found unknown categories in columns [0, 1] during transform. These unknown categories will be encoded as all zeros\n",
      "  warnings.warn(\n",
      "/Users/brunomorgado/Dropbox/Bruno_Morgado/Education/Mac_Education/Centennial_College/Fourth_Semester/Supervised_learning/Team_Project/Traffic_collision_Group_2_Section_1_COMP247Project/conda-env/lib/python3.9/site-packages/sklearn/preprocessing/_encoders.py:170: UserWarning: Found unknown categories in columns [0, 1, 5] during transform. These unknown categories will be encoded as all zeros\n",
      "  warnings.warn(\n",
      "/Users/brunomorgado/Dropbox/Bruno_Morgado/Education/Mac_Education/Centennial_College/Fourth_Semester/Supervised_learning/Team_Project/Traffic_collision_Group_2_Section_1_COMP247Project/conda-env/lib/python3.9/site-packages/sklearn/preprocessing/_encoders.py:170: UserWarning: Found unknown categories in columns [0, 1, 2] during transform. These unknown categories will be encoded as all zeros\n",
      "  warnings.warn(\n",
      "/Users/brunomorgado/Dropbox/Bruno_Morgado/Education/Mac_Education/Centennial_College/Fourth_Semester/Supervised_learning/Team_Project/Traffic_collision_Group_2_Section_1_COMP247Project/conda-env/lib/python3.9/site-packages/sklearn/preprocessing/_encoders.py:170: UserWarning: Found unknown categories in columns [0, 1, 8] during transform. These unknown categories will be encoded as all zeros\n",
      "  warnings.warn(\n",
      "/Users/brunomorgado/Dropbox/Bruno_Morgado/Education/Mac_Education/Centennial_College/Fourth_Semester/Supervised_learning/Team_Project/Traffic_collision_Group_2_Section_1_COMP247Project/conda-env/lib/python3.9/site-packages/sklearn/preprocessing/_encoders.py:170: UserWarning: Found unknown categories in columns [0, 1, 5] during transform. These unknown categories will be encoded as all zeros\n",
      "  warnings.warn(\n",
      "/Users/brunomorgado/Dropbox/Bruno_Morgado/Education/Mac_Education/Centennial_College/Fourth_Semester/Supervised_learning/Team_Project/Traffic_collision_Group_2_Section_1_COMP247Project/conda-env/lib/python3.9/site-packages/sklearn/preprocessing/_encoders.py:170: UserWarning: Found unknown categories in columns [0, 1] during transform. These unknown categories will be encoded as all zeros\n",
      "  warnings.warn(\n",
      "/Users/brunomorgado/Dropbox/Bruno_Morgado/Education/Mac_Education/Centennial_College/Fourth_Semester/Supervised_learning/Team_Project/Traffic_collision_Group_2_Section_1_COMP247Project/conda-env/lib/python3.9/site-packages/sklearn/preprocessing/_encoders.py:170: UserWarning: Found unknown categories in columns [0, 1, 5] during transform. These unknown categories will be encoded as all zeros\n",
      "  warnings.warn(\n",
      "/Users/brunomorgado/Dropbox/Bruno_Morgado/Education/Mac_Education/Centennial_College/Fourth_Semester/Supervised_learning/Team_Project/Traffic_collision_Group_2_Section_1_COMP247Project/conda-env/lib/python3.9/site-packages/sklearn/preprocessing/_encoders.py:170: UserWarning: Found unknown categories in columns [0, 1, 2] during transform. These unknown categories will be encoded as all zeros\n",
      "  warnings.warn(\n",
      "/Users/brunomorgado/Dropbox/Bruno_Morgado/Education/Mac_Education/Centennial_College/Fourth_Semester/Supervised_learning/Team_Project/Traffic_collision_Group_2_Section_1_COMP247Project/conda-env/lib/python3.9/site-packages/sklearn/preprocessing/_encoders.py:170: UserWarning: Found unknown categories in columns [0, 1, 8] during transform. These unknown categories will be encoded as all zeros\n",
      "  warnings.warn(\n",
      "/Users/brunomorgado/Dropbox/Bruno_Morgado/Education/Mac_Education/Centennial_College/Fourth_Semester/Supervised_learning/Team_Project/Traffic_collision_Group_2_Section_1_COMP247Project/conda-env/lib/python3.9/site-packages/sklearn/preprocessing/_encoders.py:170: UserWarning: Found unknown categories in columns [0, 1, 5] during transform. These unknown categories will be encoded as all zeros\n",
      "  warnings.warn(\n"
     ]
    },
    {
     "name": "stderr",
     "output_type": "stream",
     "text": [
      "/Users/brunomorgado/Dropbox/Bruno_Morgado/Education/Mac_Education/Centennial_College/Fourth_Semester/Supervised_learning/Team_Project/Traffic_collision_Group_2_Section_1_COMP247Project/conda-env/lib/python3.9/site-packages/sklearn/preprocessing/_encoders.py:170: UserWarning: Found unknown categories in columns [0, 1] during transform. These unknown categories will be encoded as all zeros\n",
      "  warnings.warn(\n",
      "/Users/brunomorgado/Dropbox/Bruno_Morgado/Education/Mac_Education/Centennial_College/Fourth_Semester/Supervised_learning/Team_Project/Traffic_collision_Group_2_Section_1_COMP247Project/conda-env/lib/python3.9/site-packages/sklearn/preprocessing/_encoders.py:170: UserWarning: Found unknown categories in columns [0, 1, 5] during transform. These unknown categories will be encoded as all zeros\n",
      "  warnings.warn(\n",
      "/Users/brunomorgado/Dropbox/Bruno_Morgado/Education/Mac_Education/Centennial_College/Fourth_Semester/Supervised_learning/Team_Project/Traffic_collision_Group_2_Section_1_COMP247Project/conda-env/lib/python3.9/site-packages/sklearn/preprocessing/_encoders.py:170: UserWarning: Found unknown categories in columns [0, 1, 2] during transform. These unknown categories will be encoded as all zeros\n",
      "  warnings.warn(\n",
      "/Users/brunomorgado/Dropbox/Bruno_Morgado/Education/Mac_Education/Centennial_College/Fourth_Semester/Supervised_learning/Team_Project/Traffic_collision_Group_2_Section_1_COMP247Project/conda-env/lib/python3.9/site-packages/sklearn/preprocessing/_encoders.py:170: UserWarning: Found unknown categories in columns [0, 1, 8] during transform. These unknown categories will be encoded as all zeros\n",
      "  warnings.warn(\n",
      "/Users/brunomorgado/Dropbox/Bruno_Morgado/Education/Mac_Education/Centennial_College/Fourth_Semester/Supervised_learning/Team_Project/Traffic_collision_Group_2_Section_1_COMP247Project/conda-env/lib/python3.9/site-packages/sklearn/preprocessing/_encoders.py:170: UserWarning: Found unknown categories in columns [0, 1, 5] during transform. These unknown categories will be encoded as all zeros\n",
      "  warnings.warn(\n",
      "/Users/brunomorgado/Dropbox/Bruno_Morgado/Education/Mac_Education/Centennial_College/Fourth_Semester/Supervised_learning/Team_Project/Traffic_collision_Group_2_Section_1_COMP247Project/conda-env/lib/python3.9/site-packages/sklearn/preprocessing/_encoders.py:170: UserWarning: Found unknown categories in columns [0, 1] during transform. These unknown categories will be encoded as all zeros\n",
      "  warnings.warn(\n",
      "/Users/brunomorgado/Dropbox/Bruno_Morgado/Education/Mac_Education/Centennial_College/Fourth_Semester/Supervised_learning/Team_Project/Traffic_collision_Group_2_Section_1_COMP247Project/conda-env/lib/python3.9/site-packages/sklearn/preprocessing/_encoders.py:170: UserWarning: Found unknown categories in columns [0, 1, 5] during transform. These unknown categories will be encoded as all zeros\n",
      "  warnings.warn(\n",
      "/Users/brunomorgado/Dropbox/Bruno_Morgado/Education/Mac_Education/Centennial_College/Fourth_Semester/Supervised_learning/Team_Project/Traffic_collision_Group_2_Section_1_COMP247Project/conda-env/lib/python3.9/site-packages/sklearn/preprocessing/_encoders.py:170: UserWarning: Found unknown categories in columns [0, 1, 2] during transform. These unknown categories will be encoded as all zeros\n",
      "  warnings.warn(\n",
      "/Users/brunomorgado/Dropbox/Bruno_Morgado/Education/Mac_Education/Centennial_College/Fourth_Semester/Supervised_learning/Team_Project/Traffic_collision_Group_2_Section_1_COMP247Project/conda-env/lib/python3.9/site-packages/sklearn/preprocessing/_encoders.py:170: UserWarning: Found unknown categories in columns [0, 1, 8] during transform. These unknown categories will be encoded as all zeros\n",
      "  warnings.warn(\n",
      "/Users/brunomorgado/Dropbox/Bruno_Morgado/Education/Mac_Education/Centennial_College/Fourth_Semester/Supervised_learning/Team_Project/Traffic_collision_Group_2_Section_1_COMP247Project/conda-env/lib/python3.9/site-packages/sklearn/preprocessing/_encoders.py:170: UserWarning: Found unknown categories in columns [0, 1, 5] during transform. These unknown categories will be encoded as all zeros\n",
      "  warnings.warn(\n",
      "/Users/brunomorgado/Dropbox/Bruno_Morgado/Education/Mac_Education/Centennial_College/Fourth_Semester/Supervised_learning/Team_Project/Traffic_collision_Group_2_Section_1_COMP247Project/conda-env/lib/python3.9/site-packages/sklearn/preprocessing/_encoders.py:170: UserWarning: Found unknown categories in columns [0, 1] during transform. These unknown categories will be encoded as all zeros\n",
      "  warnings.warn(\n",
      "/Users/brunomorgado/Dropbox/Bruno_Morgado/Education/Mac_Education/Centennial_College/Fourth_Semester/Supervised_learning/Team_Project/Traffic_collision_Group_2_Section_1_COMP247Project/conda-env/lib/python3.9/site-packages/sklearn/preprocessing/_encoders.py:170: UserWarning: Found unknown categories in columns [0, 1, 5] during transform. These unknown categories will be encoded as all zeros\n",
      "  warnings.warn(\n",
      "/Users/brunomorgado/Dropbox/Bruno_Morgado/Education/Mac_Education/Centennial_College/Fourth_Semester/Supervised_learning/Team_Project/Traffic_collision_Group_2_Section_1_COMP247Project/conda-env/lib/python3.9/site-packages/sklearn/preprocessing/_encoders.py:170: UserWarning: Found unknown categories in columns [0, 1, 2] during transform. These unknown categories will be encoded as all zeros\n",
      "  warnings.warn(\n",
      "/Users/brunomorgado/Dropbox/Bruno_Morgado/Education/Mac_Education/Centennial_College/Fourth_Semester/Supervised_learning/Team_Project/Traffic_collision_Group_2_Section_1_COMP247Project/conda-env/lib/python3.9/site-packages/sklearn/preprocessing/_encoders.py:170: UserWarning: Found unknown categories in columns [0, 1, 8] during transform. These unknown categories will be encoded as all zeros\n",
      "  warnings.warn(\n",
      "/Users/brunomorgado/Dropbox/Bruno_Morgado/Education/Mac_Education/Centennial_College/Fourth_Semester/Supervised_learning/Team_Project/Traffic_collision_Group_2_Section_1_COMP247Project/conda-env/lib/python3.9/site-packages/sklearn/preprocessing/_encoders.py:170: UserWarning: Found unknown categories in columns [0, 1, 5] during transform. These unknown categories will be encoded as all zeros\n",
      "  warnings.warn(\n",
      "/Users/brunomorgado/Dropbox/Bruno_Morgado/Education/Mac_Education/Centennial_College/Fourth_Semester/Supervised_learning/Team_Project/Traffic_collision_Group_2_Section_1_COMP247Project/conda-env/lib/python3.9/site-packages/sklearn/preprocessing/_encoders.py:170: UserWarning: Found unknown categories in columns [0, 1] during transform. These unknown categories will be encoded as all zeros\n",
      "  warnings.warn(\n",
      "/Users/brunomorgado/Dropbox/Bruno_Morgado/Education/Mac_Education/Centennial_College/Fourth_Semester/Supervised_learning/Team_Project/Traffic_collision_Group_2_Section_1_COMP247Project/conda-env/lib/python3.9/site-packages/sklearn/preprocessing/_encoders.py:170: UserWarning: Found unknown categories in columns [0, 1, 5] during transform. These unknown categories will be encoded as all zeros\n",
      "  warnings.warn(\n",
      "/Users/brunomorgado/Dropbox/Bruno_Morgado/Education/Mac_Education/Centennial_College/Fourth_Semester/Supervised_learning/Team_Project/Traffic_collision_Group_2_Section_1_COMP247Project/conda-env/lib/python3.9/site-packages/sklearn/preprocessing/_encoders.py:170: UserWarning: Found unknown categories in columns [0, 1, 2] during transform. These unknown categories will be encoded as all zeros\n",
      "  warnings.warn(\n",
      "/Users/brunomorgado/Dropbox/Bruno_Morgado/Education/Mac_Education/Centennial_College/Fourth_Semester/Supervised_learning/Team_Project/Traffic_collision_Group_2_Section_1_COMP247Project/conda-env/lib/python3.9/site-packages/sklearn/preprocessing/_encoders.py:170: UserWarning: Found unknown categories in columns [0, 1, 8] during transform. These unknown categories will be encoded as all zeros\n",
      "  warnings.warn(\n",
      "/Users/brunomorgado/Dropbox/Bruno_Morgado/Education/Mac_Education/Centennial_College/Fourth_Semester/Supervised_learning/Team_Project/Traffic_collision_Group_2_Section_1_COMP247Project/conda-env/lib/python3.9/site-packages/sklearn/preprocessing/_encoders.py:170: UserWarning: Found unknown categories in columns [0, 1, 5] during transform. These unknown categories will be encoded as all zeros\n",
      "  warnings.warn(\n"
     ]
    },
    {
     "name": "stderr",
     "output_type": "stream",
     "text": [
      "/Users/brunomorgado/Dropbox/Bruno_Morgado/Education/Mac_Education/Centennial_College/Fourth_Semester/Supervised_learning/Team_Project/Traffic_collision_Group_2_Section_1_COMP247Project/conda-env/lib/python3.9/site-packages/sklearn/preprocessing/_encoders.py:170: UserWarning: Found unknown categories in columns [0, 1] during transform. These unknown categories will be encoded as all zeros\n",
      "  warnings.warn(\n",
      "/Users/brunomorgado/Dropbox/Bruno_Morgado/Education/Mac_Education/Centennial_College/Fourth_Semester/Supervised_learning/Team_Project/Traffic_collision_Group_2_Section_1_COMP247Project/conda-env/lib/python3.9/site-packages/sklearn/preprocessing/_encoders.py:170: UserWarning: Found unknown categories in columns [0, 1, 8] during transform. These unknown categories will be encoded as all zeros\n",
      "  warnings.warn(\n",
      "/Users/brunomorgado/Dropbox/Bruno_Morgado/Education/Mac_Education/Centennial_College/Fourth_Semester/Supervised_learning/Team_Project/Traffic_collision_Group_2_Section_1_COMP247Project/conda-env/lib/python3.9/site-packages/sklearn/preprocessing/_encoders.py:170: UserWarning: Found unknown categories in columns [0, 1, 5] during transform. These unknown categories will be encoded as all zeros\n",
      "  warnings.warn(\n",
      "/Users/brunomorgado/Dropbox/Bruno_Morgado/Education/Mac_Education/Centennial_College/Fourth_Semester/Supervised_learning/Team_Project/Traffic_collision_Group_2_Section_1_COMP247Project/conda-env/lib/python3.9/site-packages/sklearn/preprocessing/_encoders.py:170: UserWarning: Found unknown categories in columns [0, 1] during transform. These unknown categories will be encoded as all zeros\n",
      "  warnings.warn(\n",
      "/Users/brunomorgado/Dropbox/Bruno_Morgado/Education/Mac_Education/Centennial_College/Fourth_Semester/Supervised_learning/Team_Project/Traffic_collision_Group_2_Section_1_COMP247Project/conda-env/lib/python3.9/site-packages/sklearn/preprocessing/_encoders.py:170: UserWarning: Found unknown categories in columns [0, 1, 5] during transform. These unknown categories will be encoded as all zeros\n",
      "  warnings.warn(\n",
      "/Users/brunomorgado/Dropbox/Bruno_Morgado/Education/Mac_Education/Centennial_College/Fourth_Semester/Supervised_learning/Team_Project/Traffic_collision_Group_2_Section_1_COMP247Project/conda-env/lib/python3.9/site-packages/sklearn/preprocessing/_encoders.py:170: UserWarning: Found unknown categories in columns [0, 1, 2] during transform. These unknown categories will be encoded as all zeros\n",
      "  warnings.warn(\n",
      "/Users/brunomorgado/Dropbox/Bruno_Morgado/Education/Mac_Education/Centennial_College/Fourth_Semester/Supervised_learning/Team_Project/Traffic_collision_Group_2_Section_1_COMP247Project/conda-env/lib/python3.9/site-packages/sklearn/preprocessing/_encoders.py:170: UserWarning: Found unknown categories in columns [0, 1, 5] during transform. These unknown categories will be encoded as all zeros\n",
      "  warnings.warn(\n",
      "/Users/brunomorgado/Dropbox/Bruno_Morgado/Education/Mac_Education/Centennial_College/Fourth_Semester/Supervised_learning/Team_Project/Traffic_collision_Group_2_Section_1_COMP247Project/conda-env/lib/python3.9/site-packages/sklearn/preprocessing/_encoders.py:170: UserWarning: Found unknown categories in columns [0, 1, 8] during transform. These unknown categories will be encoded as all zeros\n",
      "  warnings.warn(\n",
      "/Users/brunomorgado/Dropbox/Bruno_Morgado/Education/Mac_Education/Centennial_College/Fourth_Semester/Supervised_learning/Team_Project/Traffic_collision_Group_2_Section_1_COMP247Project/conda-env/lib/python3.9/site-packages/sklearn/preprocessing/_encoders.py:170: UserWarning: Found unknown categories in columns [0, 1, 2] during transform. These unknown categories will be encoded as all zeros\n",
      "  warnings.warn(\n",
      "/Users/brunomorgado/Dropbox/Bruno_Morgado/Education/Mac_Education/Centennial_College/Fourth_Semester/Supervised_learning/Team_Project/Traffic_collision_Group_2_Section_1_COMP247Project/conda-env/lib/python3.9/site-packages/sklearn/preprocessing/_encoders.py:170: UserWarning: Found unknown categories in columns [0, 1, 5] during transform. These unknown categories will be encoded as all zeros\n",
      "  warnings.warn(\n",
      "/Users/brunomorgado/Dropbox/Bruno_Morgado/Education/Mac_Education/Centennial_College/Fourth_Semester/Supervised_learning/Team_Project/Traffic_collision_Group_2_Section_1_COMP247Project/conda-env/lib/python3.9/site-packages/sklearn/preprocessing/_encoders.py:170: UserWarning: Found unknown categories in columns [0, 1] during transform. These unknown categories will be encoded as all zeros\n",
      "  warnings.warn(\n",
      "/Users/brunomorgado/Dropbox/Bruno_Morgado/Education/Mac_Education/Centennial_College/Fourth_Semester/Supervised_learning/Team_Project/Traffic_collision_Group_2_Section_1_COMP247Project/conda-env/lib/python3.9/site-packages/sklearn/preprocessing/_encoders.py:170: UserWarning: Found unknown categories in columns [0, 1, 5] during transform. These unknown categories will be encoded as all zeros\n",
      "  warnings.warn(\n",
      "/Users/brunomorgado/Dropbox/Bruno_Morgado/Education/Mac_Education/Centennial_College/Fourth_Semester/Supervised_learning/Team_Project/Traffic_collision_Group_2_Section_1_COMP247Project/conda-env/lib/python3.9/site-packages/sklearn/preprocessing/_encoders.py:170: UserWarning: Found unknown categories in columns [0, 1, 2] during transform. These unknown categories will be encoded as all zeros\n",
      "  warnings.warn(\n",
      "/Users/brunomorgado/Dropbox/Bruno_Morgado/Education/Mac_Education/Centennial_College/Fourth_Semester/Supervised_learning/Team_Project/Traffic_collision_Group_2_Section_1_COMP247Project/conda-env/lib/python3.9/site-packages/sklearn/preprocessing/_encoders.py:170: UserWarning: Found unknown categories in columns [0, 1, 8] during transform. These unknown categories will be encoded as all zeros\n",
      "  warnings.warn(\n",
      "/Users/brunomorgado/Dropbox/Bruno_Morgado/Education/Mac_Education/Centennial_College/Fourth_Semester/Supervised_learning/Team_Project/Traffic_collision_Group_2_Section_1_COMP247Project/conda-env/lib/python3.9/site-packages/sklearn/preprocessing/_encoders.py:170: UserWarning: Found unknown categories in columns [0, 1, 5] during transform. These unknown categories will be encoded as all zeros\n",
      "  warnings.warn(\n",
      "/Users/brunomorgado/Dropbox/Bruno_Morgado/Education/Mac_Education/Centennial_College/Fourth_Semester/Supervised_learning/Team_Project/Traffic_collision_Group_2_Section_1_COMP247Project/conda-env/lib/python3.9/site-packages/sklearn/preprocessing/_encoders.py:170: UserWarning: Found unknown categories in columns [0, 1] during transform. These unknown categories will be encoded as all zeros\n",
      "  warnings.warn(\n",
      "/Users/brunomorgado/Dropbox/Bruno_Morgado/Education/Mac_Education/Centennial_College/Fourth_Semester/Supervised_learning/Team_Project/Traffic_collision_Group_2_Section_1_COMP247Project/conda-env/lib/python3.9/site-packages/sklearn/preprocessing/_encoders.py:170: UserWarning: Found unknown categories in columns [0, 1, 5] during transform. These unknown categories will be encoded as all zeros\n",
      "  warnings.warn(\n",
      "/Users/brunomorgado/Dropbox/Bruno_Morgado/Education/Mac_Education/Centennial_College/Fourth_Semester/Supervised_learning/Team_Project/Traffic_collision_Group_2_Section_1_COMP247Project/conda-env/lib/python3.9/site-packages/sklearn/preprocessing/_encoders.py:170: UserWarning: Found unknown categories in columns [0, 1, 2] during transform. These unknown categories will be encoded as all zeros\n",
      "  warnings.warn(\n",
      "/Users/brunomorgado/Dropbox/Bruno_Morgado/Education/Mac_Education/Centennial_College/Fourth_Semester/Supervised_learning/Team_Project/Traffic_collision_Group_2_Section_1_COMP247Project/conda-env/lib/python3.9/site-packages/sklearn/preprocessing/_encoders.py:170: UserWarning: Found unknown categories in columns [0, 1, 8] during transform. These unknown categories will be encoded as all zeros\n",
      "  warnings.warn(\n",
      "/Users/brunomorgado/Dropbox/Bruno_Morgado/Education/Mac_Education/Centennial_College/Fourth_Semester/Supervised_learning/Team_Project/Traffic_collision_Group_2_Section_1_COMP247Project/conda-env/lib/python3.9/site-packages/sklearn/preprocessing/_encoders.py:170: UserWarning: Found unknown categories in columns [0, 1, 5] during transform. These unknown categories will be encoded as all zeros\n",
      "  warnings.warn(\n"
     ]
    },
    {
     "name": "stderr",
     "output_type": "stream",
     "text": [
      "/Users/brunomorgado/Dropbox/Bruno_Morgado/Education/Mac_Education/Centennial_College/Fourth_Semester/Supervised_learning/Team_Project/Traffic_collision_Group_2_Section_1_COMP247Project/conda-env/lib/python3.9/site-packages/sklearn/preprocessing/_encoders.py:170: UserWarning: Found unknown categories in columns [0, 1, 5] during transform. These unknown categories will be encoded as all zeros\n",
      "  warnings.warn(\n",
      "/Users/brunomorgado/Dropbox/Bruno_Morgado/Education/Mac_Education/Centennial_College/Fourth_Semester/Supervised_learning/Team_Project/Traffic_collision_Group_2_Section_1_COMP247Project/conda-env/lib/python3.9/site-packages/sklearn/preprocessing/_encoders.py:170: UserWarning: Found unknown categories in columns [0, 1, 8] during transform. These unknown categories will be encoded as all zeros\n",
      "  warnings.warn(\n",
      "/Users/brunomorgado/Dropbox/Bruno_Morgado/Education/Mac_Education/Centennial_College/Fourth_Semester/Supervised_learning/Team_Project/Traffic_collision_Group_2_Section_1_COMP247Project/conda-env/lib/python3.9/site-packages/sklearn/preprocessing/_encoders.py:170: UserWarning: Found unknown categories in columns [0, 1] during transform. These unknown categories will be encoded as all zeros\n",
      "  warnings.warn(\n",
      "/Users/brunomorgado/Dropbox/Bruno_Morgado/Education/Mac_Education/Centennial_College/Fourth_Semester/Supervised_learning/Team_Project/Traffic_collision_Group_2_Section_1_COMP247Project/conda-env/lib/python3.9/site-packages/sklearn/preprocessing/_encoders.py:170: UserWarning: Found unknown categories in columns [0, 1, 5] during transform. These unknown categories will be encoded as all zeros\n",
      "  warnings.warn(\n",
      "/Users/brunomorgado/Dropbox/Bruno_Morgado/Education/Mac_Education/Centennial_College/Fourth_Semester/Supervised_learning/Team_Project/Traffic_collision_Group_2_Section_1_COMP247Project/conda-env/lib/python3.9/site-packages/sklearn/preprocessing/_encoders.py:170: UserWarning: Found unknown categories in columns [0, 1, 2] during transform. These unknown categories will be encoded as all zeros\n",
      "  warnings.warn(\n",
      "/Users/brunomorgado/Dropbox/Bruno_Morgado/Education/Mac_Education/Centennial_College/Fourth_Semester/Supervised_learning/Team_Project/Traffic_collision_Group_2_Section_1_COMP247Project/conda-env/lib/python3.9/site-packages/sklearn/preprocessing/_encoders.py:170: UserWarning: Found unknown categories in columns [0, 1] during transform. These unknown categories will be encoded as all zeros\n",
      "  warnings.warn(\n",
      "/Users/brunomorgado/Dropbox/Bruno_Morgado/Education/Mac_Education/Centennial_College/Fourth_Semester/Supervised_learning/Team_Project/Traffic_collision_Group_2_Section_1_COMP247Project/conda-env/lib/python3.9/site-packages/sklearn/preprocessing/_encoders.py:170: UserWarning: Found unknown categories in columns [0, 1, 5] during transform. These unknown categories will be encoded as all zeros\n",
      "  warnings.warn(\n",
      "/Users/brunomorgado/Dropbox/Bruno_Morgado/Education/Mac_Education/Centennial_College/Fourth_Semester/Supervised_learning/Team_Project/Traffic_collision_Group_2_Section_1_COMP247Project/conda-env/lib/python3.9/site-packages/sklearn/preprocessing/_encoders.py:170: UserWarning: Found unknown categories in columns [0, 1, 2] during transform. These unknown categories will be encoded as all zeros\n",
      "  warnings.warn(\n",
      "/Users/brunomorgado/Dropbox/Bruno_Morgado/Education/Mac_Education/Centennial_College/Fourth_Semester/Supervised_learning/Team_Project/Traffic_collision_Group_2_Section_1_COMP247Project/conda-env/lib/python3.9/site-packages/sklearn/preprocessing/_encoders.py:170: UserWarning: Found unknown categories in columns [0, 1, 5] during transform. These unknown categories will be encoded as all zeros\n",
      "  warnings.warn(\n",
      "/Users/brunomorgado/Dropbox/Bruno_Morgado/Education/Mac_Education/Centennial_College/Fourth_Semester/Supervised_learning/Team_Project/Traffic_collision_Group_2_Section_1_COMP247Project/conda-env/lib/python3.9/site-packages/sklearn/preprocessing/_encoders.py:170: UserWarning: Found unknown categories in columns [0, 1, 8] during transform. These unknown categories will be encoded as all zeros\n",
      "  warnings.warn(\n",
      "/Users/brunomorgado/Dropbox/Bruno_Morgado/Education/Mac_Education/Centennial_College/Fourth_Semester/Supervised_learning/Team_Project/Traffic_collision_Group_2_Section_1_COMP247Project/conda-env/lib/python3.9/site-packages/sklearn/preprocessing/_encoders.py:170: UserWarning: Found unknown categories in columns [0, 1] during transform. These unknown categories will be encoded as all zeros\n",
      "  warnings.warn(\n",
      "/Users/brunomorgado/Dropbox/Bruno_Morgado/Education/Mac_Education/Centennial_College/Fourth_Semester/Supervised_learning/Team_Project/Traffic_collision_Group_2_Section_1_COMP247Project/conda-env/lib/python3.9/site-packages/sklearn/preprocessing/_encoders.py:170: UserWarning: Found unknown categories in columns [0, 1, 5] during transform. These unknown categories will be encoded as all zeros\n",
      "  warnings.warn(\n",
      "/Users/brunomorgado/Dropbox/Bruno_Morgado/Education/Mac_Education/Centennial_College/Fourth_Semester/Supervised_learning/Team_Project/Traffic_collision_Group_2_Section_1_COMP247Project/conda-env/lib/python3.9/site-packages/sklearn/preprocessing/_encoders.py:170: UserWarning: Found unknown categories in columns [0, 1, 2] during transform. These unknown categories will be encoded as all zeros\n",
      "  warnings.warn(\n",
      "/Users/brunomorgado/Dropbox/Bruno_Morgado/Education/Mac_Education/Centennial_College/Fourth_Semester/Supervised_learning/Team_Project/Traffic_collision_Group_2_Section_1_COMP247Project/conda-env/lib/python3.9/site-packages/sklearn/preprocessing/_encoders.py:170: UserWarning: Found unknown categories in columns [0, 1, 8] during transform. These unknown categories will be encoded as all zeros\n",
      "  warnings.warn(\n",
      "/Users/brunomorgado/Dropbox/Bruno_Morgado/Education/Mac_Education/Centennial_College/Fourth_Semester/Supervised_learning/Team_Project/Traffic_collision_Group_2_Section_1_COMP247Project/conda-env/lib/python3.9/site-packages/sklearn/preprocessing/_encoders.py:170: UserWarning: Found unknown categories in columns [0, 1, 8] during transform. These unknown categories will be encoded as all zeros\n",
      "  warnings.warn(\n",
      "/Users/brunomorgado/Dropbox/Bruno_Morgado/Education/Mac_Education/Centennial_College/Fourth_Semester/Supervised_learning/Team_Project/Traffic_collision_Group_2_Section_1_COMP247Project/conda-env/lib/python3.9/site-packages/sklearn/preprocessing/_encoders.py:170: UserWarning: Found unknown categories in columns [0, 1, 5] during transform. These unknown categories will be encoded as all zeros\n",
      "  warnings.warn(\n",
      "/Users/brunomorgado/Dropbox/Bruno_Morgado/Education/Mac_Education/Centennial_College/Fourth_Semester/Supervised_learning/Team_Project/Traffic_collision_Group_2_Section_1_COMP247Project/conda-env/lib/python3.9/site-packages/sklearn/preprocessing/_encoders.py:170: UserWarning: Found unknown categories in columns [0, 1, 5] during transform. These unknown categories will be encoded as all zeros\n",
      "  warnings.warn(\n",
      "/Users/brunomorgado/Dropbox/Bruno_Morgado/Education/Mac_Education/Centennial_College/Fourth_Semester/Supervised_learning/Team_Project/Traffic_collision_Group_2_Section_1_COMP247Project/conda-env/lib/python3.9/site-packages/sklearn/preprocessing/_encoders.py:170: UserWarning: Found unknown categories in columns [0, 1] during transform. These unknown categories will be encoded as all zeros\n",
      "  warnings.warn(\n",
      "/Users/brunomorgado/Dropbox/Bruno_Morgado/Education/Mac_Education/Centennial_College/Fourth_Semester/Supervised_learning/Team_Project/Traffic_collision_Group_2_Section_1_COMP247Project/conda-env/lib/python3.9/site-packages/sklearn/preprocessing/_encoders.py:170: UserWarning: Found unknown categories in columns [0, 1, 5] during transform. These unknown categories will be encoded as all zeros\n",
      "  warnings.warn(\n",
      "/Users/brunomorgado/Dropbox/Bruno_Morgado/Education/Mac_Education/Centennial_College/Fourth_Semester/Supervised_learning/Team_Project/Traffic_collision_Group_2_Section_1_COMP247Project/conda-env/lib/python3.9/site-packages/sklearn/preprocessing/_encoders.py:170: UserWarning: Found unknown categories in columns [0, 1, 8] during transform. These unknown categories will be encoded as all zeros\n",
      "  warnings.warn(\n"
     ]
    },
    {
     "name": "stderr",
     "output_type": "stream",
     "text": [
      "/Users/brunomorgado/Dropbox/Bruno_Morgado/Education/Mac_Education/Centennial_College/Fourth_Semester/Supervised_learning/Team_Project/Traffic_collision_Group_2_Section_1_COMP247Project/conda-env/lib/python3.9/site-packages/sklearn/preprocessing/_encoders.py:170: UserWarning: Found unknown categories in columns [0, 1, 2] during transform. These unknown categories will be encoded as all zeros\n",
      "  warnings.warn(\n",
      "/Users/brunomorgado/Dropbox/Bruno_Morgado/Education/Mac_Education/Centennial_College/Fourth_Semester/Supervised_learning/Team_Project/Traffic_collision_Group_2_Section_1_COMP247Project/conda-env/lib/python3.9/site-packages/sklearn/preprocessing/_encoders.py:170: UserWarning: Found unknown categories in columns [0, 1] during transform. These unknown categories will be encoded as all zeros\n",
      "  warnings.warn(\n",
      "/Users/brunomorgado/Dropbox/Bruno_Morgado/Education/Mac_Education/Centennial_College/Fourth_Semester/Supervised_learning/Team_Project/Traffic_collision_Group_2_Section_1_COMP247Project/conda-env/lib/python3.9/site-packages/sklearn/preprocessing/_encoders.py:170: UserWarning: Found unknown categories in columns [0, 1, 2] during transform. These unknown categories will be encoded as all zeros\n",
      "  warnings.warn(\n",
      "/Users/brunomorgado/Dropbox/Bruno_Morgado/Education/Mac_Education/Centennial_College/Fourth_Semester/Supervised_learning/Team_Project/Traffic_collision_Group_2_Section_1_COMP247Project/conda-env/lib/python3.9/site-packages/sklearn/preprocessing/_encoders.py:170: UserWarning: Found unknown categories in columns [0, 1, 5] during transform. These unknown categories will be encoded as all zeros\n",
      "  warnings.warn(\n",
      "/Users/brunomorgado/Dropbox/Bruno_Morgado/Education/Mac_Education/Centennial_College/Fourth_Semester/Supervised_learning/Team_Project/Traffic_collision_Group_2_Section_1_COMP247Project/conda-env/lib/python3.9/site-packages/sklearn/preprocessing/_encoders.py:170: UserWarning: Found unknown categories in columns [0, 1, 5] during transform. These unknown categories will be encoded as all zeros\n",
      "  warnings.warn(\n",
      "/Users/brunomorgado/Dropbox/Bruno_Morgado/Education/Mac_Education/Centennial_College/Fourth_Semester/Supervised_learning/Team_Project/Traffic_collision_Group_2_Section_1_COMP247Project/conda-env/lib/python3.9/site-packages/sklearn/preprocessing/_encoders.py:170: UserWarning: Found unknown categories in columns [0, 1] during transform. These unknown categories will be encoded as all zeros\n",
      "  warnings.warn(\n",
      "/Users/brunomorgado/Dropbox/Bruno_Morgado/Education/Mac_Education/Centennial_College/Fourth_Semester/Supervised_learning/Team_Project/Traffic_collision_Group_2_Section_1_COMP247Project/conda-env/lib/python3.9/site-packages/sklearn/preprocessing/_encoders.py:170: UserWarning: Found unknown categories in columns [0, 1, 5] during transform. These unknown categories will be encoded as all zeros\n",
      "  warnings.warn(\n",
      "/Users/brunomorgado/Dropbox/Bruno_Morgado/Education/Mac_Education/Centennial_College/Fourth_Semester/Supervised_learning/Team_Project/Traffic_collision_Group_2_Section_1_COMP247Project/conda-env/lib/python3.9/site-packages/sklearn/preprocessing/_encoders.py:170: UserWarning: Found unknown categories in columns [0, 1, 2] during transform. These unknown categories will be encoded as all zeros\n",
      "  warnings.warn(\n",
      "/Users/brunomorgado/Dropbox/Bruno_Morgado/Education/Mac_Education/Centennial_College/Fourth_Semester/Supervised_learning/Team_Project/Traffic_collision_Group_2_Section_1_COMP247Project/conda-env/lib/python3.9/site-packages/sklearn/preprocessing/_encoders.py:170: UserWarning: Found unknown categories in columns [0, 1, 8] during transform. These unknown categories will be encoded as all zeros\n",
      "  warnings.warn(\n",
      "/Users/brunomorgado/Dropbox/Bruno_Morgado/Education/Mac_Education/Centennial_College/Fourth_Semester/Supervised_learning/Team_Project/Traffic_collision_Group_2_Section_1_COMP247Project/conda-env/lib/python3.9/site-packages/sklearn/preprocessing/_encoders.py:170: UserWarning: Found unknown categories in columns [0, 1, 5] during transform. These unknown categories will be encoded as all zeros\n",
      "  warnings.warn(\n",
      "/Users/brunomorgado/Dropbox/Bruno_Morgado/Education/Mac_Education/Centennial_College/Fourth_Semester/Supervised_learning/Team_Project/Traffic_collision_Group_2_Section_1_COMP247Project/conda-env/lib/python3.9/site-packages/sklearn/preprocessing/_encoders.py:170: UserWarning: Found unknown categories in columns [0, 1] during transform. These unknown categories will be encoded as all zeros\n",
      "  warnings.warn(\n",
      "/Users/brunomorgado/Dropbox/Bruno_Morgado/Education/Mac_Education/Centennial_College/Fourth_Semester/Supervised_learning/Team_Project/Traffic_collision_Group_2_Section_1_COMP247Project/conda-env/lib/python3.9/site-packages/sklearn/preprocessing/_encoders.py:170: UserWarning: Found unknown categories in columns [0, 1, 5] during transform. These unknown categories will be encoded as all zeros\n",
      "  warnings.warn(\n",
      "/Users/brunomorgado/Dropbox/Bruno_Morgado/Education/Mac_Education/Centennial_College/Fourth_Semester/Supervised_learning/Team_Project/Traffic_collision_Group_2_Section_1_COMP247Project/conda-env/lib/python3.9/site-packages/sklearn/preprocessing/_encoders.py:170: UserWarning: Found unknown categories in columns [0, 1, 2] during transform. These unknown categories will be encoded as all zeros\n",
      "  warnings.warn(\n",
      "/Users/brunomorgado/Dropbox/Bruno_Morgado/Education/Mac_Education/Centennial_College/Fourth_Semester/Supervised_learning/Team_Project/Traffic_collision_Group_2_Section_1_COMP247Project/conda-env/lib/python3.9/site-packages/sklearn/preprocessing/_encoders.py:170: UserWarning: Found unknown categories in columns [0, 1, 8] during transform. These unknown categories will be encoded as all zeros\n",
      "  warnings.warn(\n",
      "/Users/brunomorgado/Dropbox/Bruno_Morgado/Education/Mac_Education/Centennial_College/Fourth_Semester/Supervised_learning/Team_Project/Traffic_collision_Group_2_Section_1_COMP247Project/conda-env/lib/python3.9/site-packages/sklearn/preprocessing/_encoders.py:170: UserWarning: Found unknown categories in columns [0, 1] during transform. These unknown categories will be encoded as all zeros\n",
      "  warnings.warn(\n",
      "/Users/brunomorgado/Dropbox/Bruno_Morgado/Education/Mac_Education/Centennial_College/Fourth_Semester/Supervised_learning/Team_Project/Traffic_collision_Group_2_Section_1_COMP247Project/conda-env/lib/python3.9/site-packages/sklearn/preprocessing/_encoders.py:170: UserWarning: Found unknown categories in columns [0, 1, 5] during transform. These unknown categories will be encoded as all zeros\n",
      "  warnings.warn(\n",
      "/Users/brunomorgado/Dropbox/Bruno_Morgado/Education/Mac_Education/Centennial_College/Fourth_Semester/Supervised_learning/Team_Project/Traffic_collision_Group_2_Section_1_COMP247Project/conda-env/lib/python3.9/site-packages/sklearn/preprocessing/_encoders.py:170: UserWarning: Found unknown categories in columns [0, 1, 5] during transform. These unknown categories will be encoded as all zeros\n",
      "  warnings.warn(\n",
      "/Users/brunomorgado/Dropbox/Bruno_Morgado/Education/Mac_Education/Centennial_College/Fourth_Semester/Supervised_learning/Team_Project/Traffic_collision_Group_2_Section_1_COMP247Project/conda-env/lib/python3.9/site-packages/sklearn/preprocessing/_encoders.py:170: UserWarning: Found unknown categories in columns [0, 1, 8] during transform. These unknown categories will be encoded as all zeros\n",
      "  warnings.warn(\n",
      "/Users/brunomorgado/Dropbox/Bruno_Morgado/Education/Mac_Education/Centennial_College/Fourth_Semester/Supervised_learning/Team_Project/Traffic_collision_Group_2_Section_1_COMP247Project/conda-env/lib/python3.9/site-packages/sklearn/preprocessing/_encoders.py:170: UserWarning: Found unknown categories in columns [0, 1, 5] during transform. These unknown categories will be encoded as all zeros\n",
      "  warnings.warn(\n",
      "/Users/brunomorgado/Dropbox/Bruno_Morgado/Education/Mac_Education/Centennial_College/Fourth_Semester/Supervised_learning/Team_Project/Traffic_collision_Group_2_Section_1_COMP247Project/conda-env/lib/python3.9/site-packages/sklearn/preprocessing/_encoders.py:170: UserWarning: Found unknown categories in columns [0, 1, 2] during transform. These unknown categories will be encoded as all zeros\n",
      "  warnings.warn(\n"
     ]
    },
    {
     "name": "stderr",
     "output_type": "stream",
     "text": [
      "/Users/brunomorgado/Dropbox/Bruno_Morgado/Education/Mac_Education/Centennial_College/Fourth_Semester/Supervised_learning/Team_Project/Traffic_collision_Group_2_Section_1_COMP247Project/conda-env/lib/python3.9/site-packages/sklearn/preprocessing/_encoders.py:170: UserWarning: Found unknown categories in columns [0, 1] during transform. These unknown categories will be encoded as all zeros\n",
      "  warnings.warn(\n",
      "/Users/brunomorgado/Dropbox/Bruno_Morgado/Education/Mac_Education/Centennial_College/Fourth_Semester/Supervised_learning/Team_Project/Traffic_collision_Group_2_Section_1_COMP247Project/conda-env/lib/python3.9/site-packages/sklearn/preprocessing/_encoders.py:170: UserWarning: Found unknown categories in columns [0, 1, 5] during transform. These unknown categories will be encoded as all zeros\n",
      "  warnings.warn(\n",
      "/Users/brunomorgado/Dropbox/Bruno_Morgado/Education/Mac_Education/Centennial_College/Fourth_Semester/Supervised_learning/Team_Project/Traffic_collision_Group_2_Section_1_COMP247Project/conda-env/lib/python3.9/site-packages/sklearn/preprocessing/_encoders.py:170: UserWarning: Found unknown categories in columns [0, 1, 2] during transform. These unknown categories will be encoded as all zeros\n",
      "  warnings.warn(\n",
      "/Users/brunomorgado/Dropbox/Bruno_Morgado/Education/Mac_Education/Centennial_College/Fourth_Semester/Supervised_learning/Team_Project/Traffic_collision_Group_2_Section_1_COMP247Project/conda-env/lib/python3.9/site-packages/sklearn/preprocessing/_encoders.py:170: UserWarning: Found unknown categories in columns [0, 1, 8] during transform. These unknown categories will be encoded as all zeros\n",
      "  warnings.warn(\n",
      "/Users/brunomorgado/Dropbox/Bruno_Morgado/Education/Mac_Education/Centennial_College/Fourth_Semester/Supervised_learning/Team_Project/Traffic_collision_Group_2_Section_1_COMP247Project/conda-env/lib/python3.9/site-packages/sklearn/preprocessing/_encoders.py:170: UserWarning: Found unknown categories in columns [0, 1, 5] during transform. These unknown categories will be encoded as all zeros\n",
      "  warnings.warn(\n",
      "/Users/brunomorgado/Dropbox/Bruno_Morgado/Education/Mac_Education/Centennial_College/Fourth_Semester/Supervised_learning/Team_Project/Traffic_collision_Group_2_Section_1_COMP247Project/conda-env/lib/python3.9/site-packages/sklearn/preprocessing/_encoders.py:170: UserWarning: Found unknown categories in columns [0, 1] during transform. These unknown categories will be encoded as all zeros\n",
      "  warnings.warn(\n",
      "/Users/brunomorgado/Dropbox/Bruno_Morgado/Education/Mac_Education/Centennial_College/Fourth_Semester/Supervised_learning/Team_Project/Traffic_collision_Group_2_Section_1_COMP247Project/conda-env/lib/python3.9/site-packages/sklearn/preprocessing/_encoders.py:170: UserWarning: Found unknown categories in columns [0, 1, 5] during transform. These unknown categories will be encoded as all zeros\n",
      "  warnings.warn(\n",
      "/Users/brunomorgado/Dropbox/Bruno_Morgado/Education/Mac_Education/Centennial_College/Fourth_Semester/Supervised_learning/Team_Project/Traffic_collision_Group_2_Section_1_COMP247Project/conda-env/lib/python3.9/site-packages/sklearn/preprocessing/_encoders.py:170: UserWarning: Found unknown categories in columns [0, 1, 2] during transform. These unknown categories will be encoded as all zeros\n",
      "  warnings.warn(\n",
      "/Users/brunomorgado/Dropbox/Bruno_Morgado/Education/Mac_Education/Centennial_College/Fourth_Semester/Supervised_learning/Team_Project/Traffic_collision_Group_2_Section_1_COMP247Project/conda-env/lib/python3.9/site-packages/sklearn/preprocessing/_encoders.py:170: UserWarning: Found unknown categories in columns [0, 1, 8] during transform. These unknown categories will be encoded as all zeros\n",
      "  warnings.warn(\n",
      "/Users/brunomorgado/Dropbox/Bruno_Morgado/Education/Mac_Education/Centennial_College/Fourth_Semester/Supervised_learning/Team_Project/Traffic_collision_Group_2_Section_1_COMP247Project/conda-env/lib/python3.9/site-packages/sklearn/preprocessing/_encoders.py:170: UserWarning: Found unknown categories in columns [0, 1, 5] during transform. These unknown categories will be encoded as all zeros\n",
      "  warnings.warn(\n",
      "/Users/brunomorgado/Dropbox/Bruno_Morgado/Education/Mac_Education/Centennial_College/Fourth_Semester/Supervised_learning/Team_Project/Traffic_collision_Group_2_Section_1_COMP247Project/conda-env/lib/python3.9/site-packages/sklearn/preprocessing/_encoders.py:170: UserWarning: Found unknown categories in columns [0, 1] during transform. These unknown categories will be encoded as all zeros\n",
      "  warnings.warn(\n",
      "/Users/brunomorgado/Dropbox/Bruno_Morgado/Education/Mac_Education/Centennial_College/Fourth_Semester/Supervised_learning/Team_Project/Traffic_collision_Group_2_Section_1_COMP247Project/conda-env/lib/python3.9/site-packages/sklearn/preprocessing/_encoders.py:170: UserWarning: Found unknown categories in columns [0, 1, 5] during transform. These unknown categories will be encoded as all zeros\n",
      "  warnings.warn(\n",
      "/Users/brunomorgado/Dropbox/Bruno_Morgado/Education/Mac_Education/Centennial_College/Fourth_Semester/Supervised_learning/Team_Project/Traffic_collision_Group_2_Section_1_COMP247Project/conda-env/lib/python3.9/site-packages/sklearn/preprocessing/_encoders.py:170: UserWarning: Found unknown categories in columns [0, 1, 2] during transform. These unknown categories will be encoded as all zeros\n",
      "  warnings.warn(\n",
      "/Users/brunomorgado/Dropbox/Bruno_Morgado/Education/Mac_Education/Centennial_College/Fourth_Semester/Supervised_learning/Team_Project/Traffic_collision_Group_2_Section_1_COMP247Project/conda-env/lib/python3.9/site-packages/sklearn/preprocessing/_encoders.py:170: UserWarning: Found unknown categories in columns [0, 1, 8] during transform. These unknown categories will be encoded as all zeros\n",
      "  warnings.warn(\n",
      "/Users/brunomorgado/Dropbox/Bruno_Morgado/Education/Mac_Education/Centennial_College/Fourth_Semester/Supervised_learning/Team_Project/Traffic_collision_Group_2_Section_1_COMP247Project/conda-env/lib/python3.9/site-packages/sklearn/preprocessing/_encoders.py:170: UserWarning: Found unknown categories in columns [0, 1, 5] during transform. These unknown categories will be encoded as all zeros\n",
      "  warnings.warn(\n",
      "/Users/brunomorgado/Dropbox/Bruno_Morgado/Education/Mac_Education/Centennial_College/Fourth_Semester/Supervised_learning/Team_Project/Traffic_collision_Group_2_Section_1_COMP247Project/conda-env/lib/python3.9/site-packages/sklearn/preprocessing/_encoders.py:170: UserWarning: Found unknown categories in columns [0, 1] during transform. These unknown categories will be encoded as all zeros\n",
      "  warnings.warn(\n",
      "/Users/brunomorgado/Dropbox/Bruno_Morgado/Education/Mac_Education/Centennial_College/Fourth_Semester/Supervised_learning/Team_Project/Traffic_collision_Group_2_Section_1_COMP247Project/conda-env/lib/python3.9/site-packages/sklearn/preprocessing/_encoders.py:170: UserWarning: Found unknown categories in columns [0, 1, 5] during transform. These unknown categories will be encoded as all zeros\n",
      "  warnings.warn(\n",
      "/Users/brunomorgado/Dropbox/Bruno_Morgado/Education/Mac_Education/Centennial_College/Fourth_Semester/Supervised_learning/Team_Project/Traffic_collision_Group_2_Section_1_COMP247Project/conda-env/lib/python3.9/site-packages/sklearn/preprocessing/_encoders.py:170: UserWarning: Found unknown categories in columns [0, 1, 8] during transform. These unknown categories will be encoded as all zeros\n",
      "  warnings.warn(\n",
      "/Users/brunomorgado/Dropbox/Bruno_Morgado/Education/Mac_Education/Centennial_College/Fourth_Semester/Supervised_learning/Team_Project/Traffic_collision_Group_2_Section_1_COMP247Project/conda-env/lib/python3.9/site-packages/sklearn/preprocessing/_encoders.py:170: UserWarning: Found unknown categories in columns [0, 1, 5] during transform. These unknown categories will be encoded as all zeros\n",
      "  warnings.warn(\n",
      "/Users/brunomorgado/Dropbox/Bruno_Morgado/Education/Mac_Education/Centennial_College/Fourth_Semester/Supervised_learning/Team_Project/Traffic_collision_Group_2_Section_1_COMP247Project/conda-env/lib/python3.9/site-packages/sklearn/preprocessing/_encoders.py:170: UserWarning: Found unknown categories in columns [0, 1, 2] during transform. These unknown categories will be encoded as all zeros\n",
      "  warnings.warn(\n"
     ]
    },
    {
     "name": "stderr",
     "output_type": "stream",
     "text": [
      "/Users/brunomorgado/Dropbox/Bruno_Morgado/Education/Mac_Education/Centennial_College/Fourth_Semester/Supervised_learning/Team_Project/Traffic_collision_Group_2_Section_1_COMP247Project/conda-env/lib/python3.9/site-packages/sklearn/preprocessing/_encoders.py:170: UserWarning: Found unknown categories in columns [0, 1] during transform. These unknown categories will be encoded as all zeros\n",
      "  warnings.warn(\n",
      "/Users/brunomorgado/Dropbox/Bruno_Morgado/Education/Mac_Education/Centennial_College/Fourth_Semester/Supervised_learning/Team_Project/Traffic_collision_Group_2_Section_1_COMP247Project/conda-env/lib/python3.9/site-packages/sklearn/preprocessing/_encoders.py:170: UserWarning: Found unknown categories in columns [0, 1, 5] during transform. These unknown categories will be encoded as all zeros\n",
      "  warnings.warn(\n",
      "/Users/brunomorgado/Dropbox/Bruno_Morgado/Education/Mac_Education/Centennial_College/Fourth_Semester/Supervised_learning/Team_Project/Traffic_collision_Group_2_Section_1_COMP247Project/conda-env/lib/python3.9/site-packages/sklearn/preprocessing/_encoders.py:170: UserWarning: Found unknown categories in columns [0, 1, 2] during transform. These unknown categories will be encoded as all zeros\n",
      "  warnings.warn(\n",
      "/Users/brunomorgado/Dropbox/Bruno_Morgado/Education/Mac_Education/Centennial_College/Fourth_Semester/Supervised_learning/Team_Project/Traffic_collision_Group_2_Section_1_COMP247Project/conda-env/lib/python3.9/site-packages/sklearn/preprocessing/_encoders.py:170: UserWarning: Found unknown categories in columns [0, 1, 8] during transform. These unknown categories will be encoded as all zeros\n",
      "  warnings.warn(\n",
      "/Users/brunomorgado/Dropbox/Bruno_Morgado/Education/Mac_Education/Centennial_College/Fourth_Semester/Supervised_learning/Team_Project/Traffic_collision_Group_2_Section_1_COMP247Project/conda-env/lib/python3.9/site-packages/sklearn/preprocessing/_encoders.py:170: UserWarning: Found unknown categories in columns [0, 1, 5] during transform. These unknown categories will be encoded as all zeros\n",
      "  warnings.warn(\n",
      "/Users/brunomorgado/Dropbox/Bruno_Morgado/Education/Mac_Education/Centennial_College/Fourth_Semester/Supervised_learning/Team_Project/Traffic_collision_Group_2_Section_1_COMP247Project/conda-env/lib/python3.9/site-packages/sklearn/preprocessing/_encoders.py:170: UserWarning: Found unknown categories in columns [0, 1] during transform. These unknown categories will be encoded as all zeros\n",
      "  warnings.warn(\n",
      "/Users/brunomorgado/Dropbox/Bruno_Morgado/Education/Mac_Education/Centennial_College/Fourth_Semester/Supervised_learning/Team_Project/Traffic_collision_Group_2_Section_1_COMP247Project/conda-env/lib/python3.9/site-packages/sklearn/preprocessing/_encoders.py:170: UserWarning: Found unknown categories in columns [0, 1, 2] during transform. These unknown categories will be encoded as all zeros\n",
      "  warnings.warn(\n",
      "/Users/brunomorgado/Dropbox/Bruno_Morgado/Education/Mac_Education/Centennial_College/Fourth_Semester/Supervised_learning/Team_Project/Traffic_collision_Group_2_Section_1_COMP247Project/conda-env/lib/python3.9/site-packages/sklearn/preprocessing/_encoders.py:170: UserWarning: Found unknown categories in columns [0, 1, 5] during transform. These unknown categories will be encoded as all zeros\n",
      "  warnings.warn(\n",
      "/Users/brunomorgado/Dropbox/Bruno_Morgado/Education/Mac_Education/Centennial_College/Fourth_Semester/Supervised_learning/Team_Project/Traffic_collision_Group_2_Section_1_COMP247Project/conda-env/lib/python3.9/site-packages/sklearn/preprocessing/_encoders.py:170: UserWarning: Found unknown categories in columns [0, 1, 8] during transform. These unknown categories will be encoded as all zeros\n",
      "  warnings.warn(\n",
      "/Users/brunomorgado/Dropbox/Bruno_Morgado/Education/Mac_Education/Centennial_College/Fourth_Semester/Supervised_learning/Team_Project/Traffic_collision_Group_2_Section_1_COMP247Project/conda-env/lib/python3.9/site-packages/sklearn/preprocessing/_encoders.py:170: UserWarning: Found unknown categories in columns [0, 1, 5] during transform. These unknown categories will be encoded as all zeros\n",
      "  warnings.warn(\n",
      "/Users/brunomorgado/Dropbox/Bruno_Morgado/Education/Mac_Education/Centennial_College/Fourth_Semester/Supervised_learning/Team_Project/Traffic_collision_Group_2_Section_1_COMP247Project/conda-env/lib/python3.9/site-packages/sklearn/preprocessing/_encoders.py:170: UserWarning: Found unknown categories in columns [0, 1] during transform. These unknown categories will be encoded as all zeros\n",
      "  warnings.warn(\n",
      "/Users/brunomorgado/Dropbox/Bruno_Morgado/Education/Mac_Education/Centennial_College/Fourth_Semester/Supervised_learning/Team_Project/Traffic_collision_Group_2_Section_1_COMP247Project/conda-env/lib/python3.9/site-packages/sklearn/preprocessing/_encoders.py:170: UserWarning: Found unknown categories in columns [0, 1, 8] during transform. These unknown categories will be encoded as all zeros\n",
      "  warnings.warn(\n",
      "/Users/brunomorgado/Dropbox/Bruno_Morgado/Education/Mac_Education/Centennial_College/Fourth_Semester/Supervised_learning/Team_Project/Traffic_collision_Group_2_Section_1_COMP247Project/conda-env/lib/python3.9/site-packages/sklearn/preprocessing/_encoders.py:170: UserWarning: Found unknown categories in columns [0, 1] during transform. These unknown categories will be encoded as all zeros\n",
      "  warnings.warn(\n",
      "/Users/brunomorgado/Dropbox/Bruno_Morgado/Education/Mac_Education/Centennial_College/Fourth_Semester/Supervised_learning/Team_Project/Traffic_collision_Group_2_Section_1_COMP247Project/conda-env/lib/python3.9/site-packages/sklearn/preprocessing/_encoders.py:170: UserWarning: Found unknown categories in columns [0, 1, 5] during transform. These unknown categories will be encoded as all zeros\n",
      "  warnings.warn(\n",
      "/Users/brunomorgado/Dropbox/Bruno_Morgado/Education/Mac_Education/Centennial_College/Fourth_Semester/Supervised_learning/Team_Project/Traffic_collision_Group_2_Section_1_COMP247Project/conda-env/lib/python3.9/site-packages/sklearn/preprocessing/_encoders.py:170: UserWarning: Found unknown categories in columns [0, 1, 5] during transform. These unknown categories will be encoded as all zeros\n",
      "  warnings.warn(\n",
      "/Users/brunomorgado/Dropbox/Bruno_Morgado/Education/Mac_Education/Centennial_College/Fourth_Semester/Supervised_learning/Team_Project/Traffic_collision_Group_2_Section_1_COMP247Project/conda-env/lib/python3.9/site-packages/sklearn/preprocessing/_encoders.py:170: UserWarning: Found unknown categories in columns [0, 1, 5] during transform. These unknown categories will be encoded as all zeros\n",
      "  warnings.warn(\n",
      "/Users/brunomorgado/Dropbox/Bruno_Morgado/Education/Mac_Education/Centennial_College/Fourth_Semester/Supervised_learning/Team_Project/Traffic_collision_Group_2_Section_1_COMP247Project/conda-env/lib/python3.9/site-packages/sklearn/preprocessing/_encoders.py:170: UserWarning: Found unknown categories in columns [0, 1, 2] during transform. These unknown categories will be encoded as all zeros\n",
      "  warnings.warn(\n",
      "/Users/brunomorgado/Dropbox/Bruno_Morgado/Education/Mac_Education/Centennial_College/Fourth_Semester/Supervised_learning/Team_Project/Traffic_collision_Group_2_Section_1_COMP247Project/conda-env/lib/python3.9/site-packages/sklearn/preprocessing/_encoders.py:170: UserWarning: Found unknown categories in columns [0, 1, 2] during transform. These unknown categories will be encoded as all zeros\n",
      "  warnings.warn(\n",
      "/Users/brunomorgado/Dropbox/Bruno_Morgado/Education/Mac_Education/Centennial_College/Fourth_Semester/Supervised_learning/Team_Project/Traffic_collision_Group_2_Section_1_COMP247Project/conda-env/lib/python3.9/site-packages/sklearn/preprocessing/_encoders.py:170: UserWarning: Found unknown categories in columns [0, 1, 8] during transform. These unknown categories will be encoded as all zeros\n",
      "  warnings.warn(\n",
      "/Users/brunomorgado/Dropbox/Bruno_Morgado/Education/Mac_Education/Centennial_College/Fourth_Semester/Supervised_learning/Team_Project/Traffic_collision_Group_2_Section_1_COMP247Project/conda-env/lib/python3.9/site-packages/sklearn/preprocessing/_encoders.py:170: UserWarning: Found unknown categories in columns [0, 1, 5] during transform. These unknown categories will be encoded as all zeros\n",
      "  warnings.warn(\n"
     ]
    },
    {
     "name": "stderr",
     "output_type": "stream",
     "text": [
      "/Users/brunomorgado/Dropbox/Bruno_Morgado/Education/Mac_Education/Centennial_College/Fourth_Semester/Supervised_learning/Team_Project/Traffic_collision_Group_2_Section_1_COMP247Project/conda-env/lib/python3.9/site-packages/sklearn/preprocessing/_encoders.py:170: UserWarning: Found unknown categories in columns [0, 1] during transform. These unknown categories will be encoded as all zeros\n",
      "  warnings.warn(\n",
      "/Users/brunomorgado/Dropbox/Bruno_Morgado/Education/Mac_Education/Centennial_College/Fourth_Semester/Supervised_learning/Team_Project/Traffic_collision_Group_2_Section_1_COMP247Project/conda-env/lib/python3.9/site-packages/sklearn/preprocessing/_encoders.py:170: UserWarning: Found unknown categories in columns [0, 1, 5] during transform. These unknown categories will be encoded as all zeros\n",
      "  warnings.warn(\n",
      "/Users/brunomorgado/Dropbox/Bruno_Morgado/Education/Mac_Education/Centennial_College/Fourth_Semester/Supervised_learning/Team_Project/Traffic_collision_Group_2_Section_1_COMP247Project/conda-env/lib/python3.9/site-packages/sklearn/preprocessing/_encoders.py:170: UserWarning: Found unknown categories in columns [0, 1, 2] during transform. These unknown categories will be encoded as all zeros\n",
      "  warnings.warn(\n",
      "/Users/brunomorgado/Dropbox/Bruno_Morgado/Education/Mac_Education/Centennial_College/Fourth_Semester/Supervised_learning/Team_Project/Traffic_collision_Group_2_Section_1_COMP247Project/conda-env/lib/python3.9/site-packages/sklearn/preprocessing/_encoders.py:170: UserWarning: Found unknown categories in columns [0, 1, 8] during transform. These unknown categories will be encoded as all zeros\n",
      "  warnings.warn(\n",
      "/Users/brunomorgado/Dropbox/Bruno_Morgado/Education/Mac_Education/Centennial_College/Fourth_Semester/Supervised_learning/Team_Project/Traffic_collision_Group_2_Section_1_COMP247Project/conda-env/lib/python3.9/site-packages/sklearn/preprocessing/_encoders.py:170: UserWarning: Found unknown categories in columns [0, 1, 5] during transform. These unknown categories will be encoded as all zeros\n",
      "  warnings.warn(\n",
      "/Users/brunomorgado/Dropbox/Bruno_Morgado/Education/Mac_Education/Centennial_College/Fourth_Semester/Supervised_learning/Team_Project/Traffic_collision_Group_2_Section_1_COMP247Project/conda-env/lib/python3.9/site-packages/sklearn/preprocessing/_encoders.py:170: UserWarning: Found unknown categories in columns [0, 1] during transform. These unknown categories will be encoded as all zeros\n",
      "  warnings.warn(\n",
      "/Users/brunomorgado/Dropbox/Bruno_Morgado/Education/Mac_Education/Centennial_College/Fourth_Semester/Supervised_learning/Team_Project/Traffic_collision_Group_2_Section_1_COMP247Project/conda-env/lib/python3.9/site-packages/sklearn/preprocessing/_encoders.py:170: UserWarning: Found unknown categories in columns [0, 1, 5] during transform. These unknown categories will be encoded as all zeros\n",
      "  warnings.warn(\n",
      "/Users/brunomorgado/Dropbox/Bruno_Morgado/Education/Mac_Education/Centennial_College/Fourth_Semester/Supervised_learning/Team_Project/Traffic_collision_Group_2_Section_1_COMP247Project/conda-env/lib/python3.9/site-packages/sklearn/preprocessing/_encoders.py:170: UserWarning: Found unknown categories in columns [0, 1, 2] during transform. These unknown categories will be encoded as all zeros\n",
      "  warnings.warn(\n",
      "/Users/brunomorgado/Dropbox/Bruno_Morgado/Education/Mac_Education/Centennial_College/Fourth_Semester/Supervised_learning/Team_Project/Traffic_collision_Group_2_Section_1_COMP247Project/conda-env/lib/python3.9/site-packages/sklearn/preprocessing/_encoders.py:170: UserWarning: Found unknown categories in columns [0, 1, 8] during transform. These unknown categories will be encoded as all zeros\n",
      "  warnings.warn(\n",
      "/Users/brunomorgado/Dropbox/Bruno_Morgado/Education/Mac_Education/Centennial_College/Fourth_Semester/Supervised_learning/Team_Project/Traffic_collision_Group_2_Section_1_COMP247Project/conda-env/lib/python3.9/site-packages/sklearn/preprocessing/_encoders.py:170: UserWarning: Found unknown categories in columns [0, 1, 5] during transform. These unknown categories will be encoded as all zeros\n",
      "  warnings.warn(\n",
      "/Users/brunomorgado/Dropbox/Bruno_Morgado/Education/Mac_Education/Centennial_College/Fourth_Semester/Supervised_learning/Team_Project/Traffic_collision_Group_2_Section_1_COMP247Project/conda-env/lib/python3.9/site-packages/sklearn/preprocessing/_encoders.py:170: UserWarning: Found unknown categories in columns [0, 1, 5] during transform. These unknown categories will be encoded as all zeros\n",
      "  warnings.warn(\n",
      "/Users/brunomorgado/Dropbox/Bruno_Morgado/Education/Mac_Education/Centennial_College/Fourth_Semester/Supervised_learning/Team_Project/Traffic_collision_Group_2_Section_1_COMP247Project/conda-env/lib/python3.9/site-packages/sklearn/preprocessing/_encoders.py:170: UserWarning: Found unknown categories in columns [0, 1] during transform. These unknown categories will be encoded as all zeros\n",
      "  warnings.warn(\n",
      "/Users/brunomorgado/Dropbox/Bruno_Morgado/Education/Mac_Education/Centennial_College/Fourth_Semester/Supervised_learning/Team_Project/Traffic_collision_Group_2_Section_1_COMP247Project/conda-env/lib/python3.9/site-packages/sklearn/preprocessing/_encoders.py:170: UserWarning: Found unknown categories in columns [0, 1, 8] during transform. These unknown categories will be encoded as all zeros\n",
      "  warnings.warn(\n",
      "/Users/brunomorgado/Dropbox/Bruno_Morgado/Education/Mac_Education/Centennial_College/Fourth_Semester/Supervised_learning/Team_Project/Traffic_collision_Group_2_Section_1_COMP247Project/conda-env/lib/python3.9/site-packages/sklearn/preprocessing/_encoders.py:170: UserWarning: Found unknown categories in columns [0, 1, 5] during transform. These unknown categories will be encoded as all zeros\n",
      "  warnings.warn(\n",
      "/Users/brunomorgado/Dropbox/Bruno_Morgado/Education/Mac_Education/Centennial_College/Fourth_Semester/Supervised_learning/Team_Project/Traffic_collision_Group_2_Section_1_COMP247Project/conda-env/lib/python3.9/site-packages/sklearn/preprocessing/_encoders.py:170: UserWarning: Found unknown categories in columns [0, 1, 2] during transform. These unknown categories will be encoded as all zeros\n",
      "  warnings.warn(\n",
      "/Users/brunomorgado/Dropbox/Bruno_Morgado/Education/Mac_Education/Centennial_College/Fourth_Semester/Supervised_learning/Team_Project/Traffic_collision_Group_2_Section_1_COMP247Project/conda-env/lib/python3.9/site-packages/sklearn/preprocessing/_encoders.py:170: UserWarning: Found unknown categories in columns [0, 1] during transform. These unknown categories will be encoded as all zeros\n",
      "  warnings.warn(\n",
      "/Users/brunomorgado/Dropbox/Bruno_Morgado/Education/Mac_Education/Centennial_College/Fourth_Semester/Supervised_learning/Team_Project/Traffic_collision_Group_2_Section_1_COMP247Project/conda-env/lib/python3.9/site-packages/sklearn/preprocessing/_encoders.py:170: UserWarning: Found unknown categories in columns [0, 1, 5] during transform. These unknown categories will be encoded as all zeros\n",
      "  warnings.warn(\n",
      "/Users/brunomorgado/Dropbox/Bruno_Morgado/Education/Mac_Education/Centennial_College/Fourth_Semester/Supervised_learning/Team_Project/Traffic_collision_Group_2_Section_1_COMP247Project/conda-env/lib/python3.9/site-packages/sklearn/preprocessing/_encoders.py:170: UserWarning: Found unknown categories in columns [0, 1, 2] during transform. These unknown categories will be encoded as all zeros\n",
      "  warnings.warn(\n",
      "/Users/brunomorgado/Dropbox/Bruno_Morgado/Education/Mac_Education/Centennial_College/Fourth_Semester/Supervised_learning/Team_Project/Traffic_collision_Group_2_Section_1_COMP247Project/conda-env/lib/python3.9/site-packages/sklearn/preprocessing/_encoders.py:170: UserWarning: Found unknown categories in columns [0, 1, 5] during transform. These unknown categories will be encoded as all zeros\n",
      "  warnings.warn(\n",
      "/Users/brunomorgado/Dropbox/Bruno_Morgado/Education/Mac_Education/Centennial_College/Fourth_Semester/Supervised_learning/Team_Project/Traffic_collision_Group_2_Section_1_COMP247Project/conda-env/lib/python3.9/site-packages/sklearn/preprocessing/_encoders.py:170: UserWarning: Found unknown categories in columns [0, 1, 8] during transform. These unknown categories will be encoded as all zeros\n",
      "  warnings.warn(\n"
     ]
    },
    {
     "name": "stderr",
     "output_type": "stream",
     "text": [
      "/Users/brunomorgado/Dropbox/Bruno_Morgado/Education/Mac_Education/Centennial_College/Fourth_Semester/Supervised_learning/Team_Project/Traffic_collision_Group_2_Section_1_COMP247Project/conda-env/lib/python3.9/site-packages/sklearn/preprocessing/_encoders.py:170: UserWarning: Found unknown categories in columns [0, 1] during transform. These unknown categories will be encoded as all zeros\n",
      "  warnings.warn(\n",
      "/Users/brunomorgado/Dropbox/Bruno_Morgado/Education/Mac_Education/Centennial_College/Fourth_Semester/Supervised_learning/Team_Project/Traffic_collision_Group_2_Section_1_COMP247Project/conda-env/lib/python3.9/site-packages/sklearn/preprocessing/_encoders.py:170: UserWarning: Found unknown categories in columns [0, 1, 5] during transform. These unknown categories will be encoded as all zeros\n",
      "  warnings.warn(\n",
      "/Users/brunomorgado/Dropbox/Bruno_Morgado/Education/Mac_Education/Centennial_College/Fourth_Semester/Supervised_learning/Team_Project/Traffic_collision_Group_2_Section_1_COMP247Project/conda-env/lib/python3.9/site-packages/sklearn/preprocessing/_encoders.py:170: UserWarning: Found unknown categories in columns [0, 1, 2] during transform. These unknown categories will be encoded as all zeros\n",
      "  warnings.warn(\n",
      "/Users/brunomorgado/Dropbox/Bruno_Morgado/Education/Mac_Education/Centennial_College/Fourth_Semester/Supervised_learning/Team_Project/Traffic_collision_Group_2_Section_1_COMP247Project/conda-env/lib/python3.9/site-packages/sklearn/preprocessing/_encoders.py:170: UserWarning: Found unknown categories in columns [0, 1, 8] during transform. These unknown categories will be encoded as all zeros\n",
      "  warnings.warn(\n",
      "/Users/brunomorgado/Dropbox/Bruno_Morgado/Education/Mac_Education/Centennial_College/Fourth_Semester/Supervised_learning/Team_Project/Traffic_collision_Group_2_Section_1_COMP247Project/conda-env/lib/python3.9/site-packages/sklearn/preprocessing/_encoders.py:170: UserWarning: Found unknown categories in columns [0, 1, 5] during transform. These unknown categories will be encoded as all zeros\n",
      "  warnings.warn(\n",
      "/Users/brunomorgado/Dropbox/Bruno_Morgado/Education/Mac_Education/Centennial_College/Fourth_Semester/Supervised_learning/Team_Project/Traffic_collision_Group_2_Section_1_COMP247Project/conda-env/lib/python3.9/site-packages/sklearn/preprocessing/_encoders.py:170: UserWarning: Found unknown categories in columns [0, 1, 8] during transform. These unknown categories will be encoded as all zeros\n",
      "  warnings.warn(\n",
      "/Users/brunomorgado/Dropbox/Bruno_Morgado/Education/Mac_Education/Centennial_College/Fourth_Semester/Supervised_learning/Team_Project/Traffic_collision_Group_2_Section_1_COMP247Project/conda-env/lib/python3.9/site-packages/sklearn/preprocessing/_encoders.py:170: UserWarning: Found unknown categories in columns [0, 1, 5] during transform. These unknown categories will be encoded as all zeros\n",
      "  warnings.warn(\n",
      "/Users/brunomorgado/Dropbox/Bruno_Morgado/Education/Mac_Education/Centennial_College/Fourth_Semester/Supervised_learning/Team_Project/Traffic_collision_Group_2_Section_1_COMP247Project/conda-env/lib/python3.9/site-packages/sklearn/preprocessing/_encoders.py:170: UserWarning: Found unknown categories in columns [0, 1, 8] during transform. These unknown categories will be encoded as all zeros\n",
      "  warnings.warn(\n",
      "/Users/brunomorgado/Dropbox/Bruno_Morgado/Education/Mac_Education/Centennial_College/Fourth_Semester/Supervised_learning/Team_Project/Traffic_collision_Group_2_Section_1_COMP247Project/conda-env/lib/python3.9/site-packages/sklearn/preprocessing/_encoders.py:170: UserWarning: Found unknown categories in columns [0, 1, 5] during transform. These unknown categories will be encoded as all zeros\n",
      "  warnings.warn(\n",
      "/Users/brunomorgado/Dropbox/Bruno_Morgado/Education/Mac_Education/Centennial_College/Fourth_Semester/Supervised_learning/Team_Project/Traffic_collision_Group_2_Section_1_COMP247Project/conda-env/lib/python3.9/site-packages/sklearn/preprocessing/_encoders.py:170: UserWarning: Found unknown categories in columns [0, 1] during transform. These unknown categories will be encoded as all zeros\n",
      "  warnings.warn(\n",
      "/Users/brunomorgado/Dropbox/Bruno_Morgado/Education/Mac_Education/Centennial_College/Fourth_Semester/Supervised_learning/Team_Project/Traffic_collision_Group_2_Section_1_COMP247Project/conda-env/lib/python3.9/site-packages/sklearn/preprocessing/_encoders.py:170: UserWarning: Found unknown categories in columns [0, 1] during transform. These unknown categories will be encoded as all zeros\n",
      "  warnings.warn(\n",
      "/Users/brunomorgado/Dropbox/Bruno_Morgado/Education/Mac_Education/Centennial_College/Fourth_Semester/Supervised_learning/Team_Project/Traffic_collision_Group_2_Section_1_COMP247Project/conda-env/lib/python3.9/site-packages/sklearn/preprocessing/_encoders.py:170: UserWarning: Found unknown categories in columns [0, 1, 5] during transform. These unknown categories will be encoded as all zeros\n",
      "  warnings.warn(\n",
      "/Users/brunomorgado/Dropbox/Bruno_Morgado/Education/Mac_Education/Centennial_College/Fourth_Semester/Supervised_learning/Team_Project/Traffic_collision_Group_2_Section_1_COMP247Project/conda-env/lib/python3.9/site-packages/sklearn/preprocessing/_encoders.py:170: UserWarning: Found unknown categories in columns [0, 1, 5] during transform. These unknown categories will be encoded as all zeros\n",
      "  warnings.warn(\n",
      "/Users/brunomorgado/Dropbox/Bruno_Morgado/Education/Mac_Education/Centennial_College/Fourth_Semester/Supervised_learning/Team_Project/Traffic_collision_Group_2_Section_1_COMP247Project/conda-env/lib/python3.9/site-packages/sklearn/preprocessing/_encoders.py:170: UserWarning: Found unknown categories in columns [0, 1, 2] during transform. These unknown categories will be encoded as all zeros\n",
      "  warnings.warn(\n",
      "/Users/brunomorgado/Dropbox/Bruno_Morgado/Education/Mac_Education/Centennial_College/Fourth_Semester/Supervised_learning/Team_Project/Traffic_collision_Group_2_Section_1_COMP247Project/conda-env/lib/python3.9/site-packages/sklearn/preprocessing/_encoders.py:170: UserWarning: Found unknown categories in columns [0, 1] during transform. These unknown categories will be encoded as all zeros\n",
      "  warnings.warn(\n",
      "/Users/brunomorgado/Dropbox/Bruno_Morgado/Education/Mac_Education/Centennial_College/Fourth_Semester/Supervised_learning/Team_Project/Traffic_collision_Group_2_Section_1_COMP247Project/conda-env/lib/python3.9/site-packages/sklearn/preprocessing/_encoders.py:170: UserWarning: Found unknown categories in columns [0, 1, 2] during transform. These unknown categories will be encoded as all zeros\n",
      "  warnings.warn(\n",
      "/Users/brunomorgado/Dropbox/Bruno_Morgado/Education/Mac_Education/Centennial_College/Fourth_Semester/Supervised_learning/Team_Project/Traffic_collision_Group_2_Section_1_COMP247Project/conda-env/lib/python3.9/site-packages/sklearn/preprocessing/_encoders.py:170: UserWarning: Found unknown categories in columns [0, 1, 5] during transform. These unknown categories will be encoded as all zeros\n",
      "  warnings.warn(\n",
      "/Users/brunomorgado/Dropbox/Bruno_Morgado/Education/Mac_Education/Centennial_College/Fourth_Semester/Supervised_learning/Team_Project/Traffic_collision_Group_2_Section_1_COMP247Project/conda-env/lib/python3.9/site-packages/sklearn/preprocessing/_encoders.py:170: UserWarning: Found unknown categories in columns [0, 1, 2] during transform. These unknown categories will be encoded as all zeros\n",
      "  warnings.warn(\n",
      "/Users/brunomorgado/Dropbox/Bruno_Morgado/Education/Mac_Education/Centennial_College/Fourth_Semester/Supervised_learning/Team_Project/Traffic_collision_Group_2_Section_1_COMP247Project/conda-env/lib/python3.9/site-packages/sklearn/preprocessing/_encoders.py:170: UserWarning: Found unknown categories in columns [0, 1, 8] during transform. These unknown categories will be encoded as all zeros\n",
      "  warnings.warn(\n",
      "/Users/brunomorgado/Dropbox/Bruno_Morgado/Education/Mac_Education/Centennial_College/Fourth_Semester/Supervised_learning/Team_Project/Traffic_collision_Group_2_Section_1_COMP247Project/conda-env/lib/python3.9/site-packages/sklearn/preprocessing/_encoders.py:170: UserWarning: Found unknown categories in columns [0, 1, 5] during transform. These unknown categories will be encoded as all zeros\n",
      "  warnings.warn(\n",
      "/Users/brunomorgado/Dropbox/Bruno_Morgado/Education/Mac_Education/Centennial_College/Fourth_Semester/Supervised_learning/Team_Project/Traffic_collision_Group_2_Section_1_COMP247Project/conda-env/lib/python3.9/site-packages/sklearn/preprocessing/_encoders.py:170: UserWarning: Found unknown categories in columns [0, 1] during transform. These unknown categories will be encoded as all zeros\n",
      "  warnings.warn(\n"
     ]
    },
    {
     "name": "stderr",
     "output_type": "stream",
     "text": [
      "/Users/brunomorgado/Dropbox/Bruno_Morgado/Education/Mac_Education/Centennial_College/Fourth_Semester/Supervised_learning/Team_Project/Traffic_collision_Group_2_Section_1_COMP247Project/conda-env/lib/python3.9/site-packages/sklearn/preprocessing/_encoders.py:170: UserWarning: Found unknown categories in columns [0, 1, 5] during transform. These unknown categories will be encoded as all zeros\n",
      "  warnings.warn(\n",
      "/Users/brunomorgado/Dropbox/Bruno_Morgado/Education/Mac_Education/Centennial_College/Fourth_Semester/Supervised_learning/Team_Project/Traffic_collision_Group_2_Section_1_COMP247Project/conda-env/lib/python3.9/site-packages/sklearn/preprocessing/_encoders.py:170: UserWarning: Found unknown categories in columns [0, 1, 2] during transform. These unknown categories will be encoded as all zeros\n",
      "  warnings.warn(\n",
      "/Users/brunomorgado/Dropbox/Bruno_Morgado/Education/Mac_Education/Centennial_College/Fourth_Semester/Supervised_learning/Team_Project/Traffic_collision_Group_2_Section_1_COMP247Project/conda-env/lib/python3.9/site-packages/sklearn/preprocessing/_encoders.py:170: UserWarning: Found unknown categories in columns [0, 1, 8] during transform. These unknown categories will be encoded as all zeros\n",
      "  warnings.warn(\n",
      "/Users/brunomorgado/Dropbox/Bruno_Morgado/Education/Mac_Education/Centennial_College/Fourth_Semester/Supervised_learning/Team_Project/Traffic_collision_Group_2_Section_1_COMP247Project/conda-env/lib/python3.9/site-packages/sklearn/preprocessing/_encoders.py:170: UserWarning: Found unknown categories in columns [0, 1, 5] during transform. These unknown categories will be encoded as all zeros\n",
      "  warnings.warn(\n",
      "/Users/brunomorgado/Dropbox/Bruno_Morgado/Education/Mac_Education/Centennial_College/Fourth_Semester/Supervised_learning/Team_Project/Traffic_collision_Group_2_Section_1_COMP247Project/conda-env/lib/python3.9/site-packages/sklearn/preprocessing/_encoders.py:170: UserWarning: Found unknown categories in columns [0, 1] during transform. These unknown categories will be encoded as all zeros\n",
      "  warnings.warn(\n",
      "/Users/brunomorgado/Dropbox/Bruno_Morgado/Education/Mac_Education/Centennial_College/Fourth_Semester/Supervised_learning/Team_Project/Traffic_collision_Group_2_Section_1_COMP247Project/conda-env/lib/python3.9/site-packages/sklearn/preprocessing/_encoders.py:170: UserWarning: Found unknown categories in columns [0, 1, 5] during transform. These unknown categories will be encoded as all zeros\n",
      "  warnings.warn(\n",
      "/Users/brunomorgado/Dropbox/Bruno_Morgado/Education/Mac_Education/Centennial_College/Fourth_Semester/Supervised_learning/Team_Project/Traffic_collision_Group_2_Section_1_COMP247Project/conda-env/lib/python3.9/site-packages/sklearn/preprocessing/_encoders.py:170: UserWarning: Found unknown categories in columns [0, 1, 8] during transform. These unknown categories will be encoded as all zeros\n",
      "  warnings.warn(\n",
      "/Users/brunomorgado/Dropbox/Bruno_Morgado/Education/Mac_Education/Centennial_College/Fourth_Semester/Supervised_learning/Team_Project/Traffic_collision_Group_2_Section_1_COMP247Project/conda-env/lib/python3.9/site-packages/sklearn/preprocessing/_encoders.py:170: UserWarning: Found unknown categories in columns [0, 1, 2] during transform. These unknown categories will be encoded as all zeros\n",
      "  warnings.warn(\n",
      "/Users/brunomorgado/Dropbox/Bruno_Morgado/Education/Mac_Education/Centennial_College/Fourth_Semester/Supervised_learning/Team_Project/Traffic_collision_Group_2_Section_1_COMP247Project/conda-env/lib/python3.9/site-packages/sklearn/preprocessing/_encoders.py:170: UserWarning: Found unknown categories in columns [0, 1, 5] during transform. These unknown categories will be encoded as all zeros\n",
      "  warnings.warn(\n",
      "/Users/brunomorgado/Dropbox/Bruno_Morgado/Education/Mac_Education/Centennial_College/Fourth_Semester/Supervised_learning/Team_Project/Traffic_collision_Group_2_Section_1_COMP247Project/conda-env/lib/python3.9/site-packages/sklearn/preprocessing/_encoders.py:170: UserWarning: Found unknown categories in columns [0, 1] during transform. These unknown categories will be encoded as all zeros\n",
      "  warnings.warn(\n",
      "/Users/brunomorgado/Dropbox/Bruno_Morgado/Education/Mac_Education/Centennial_College/Fourth_Semester/Supervised_learning/Team_Project/Traffic_collision_Group_2_Section_1_COMP247Project/conda-env/lib/python3.9/site-packages/sklearn/preprocessing/_encoders.py:170: UserWarning: Found unknown categories in columns [0, 1, 5] during transform. These unknown categories will be encoded as all zeros\n",
      "  warnings.warn(\n",
      "/Users/brunomorgado/Dropbox/Bruno_Morgado/Education/Mac_Education/Centennial_College/Fourth_Semester/Supervised_learning/Team_Project/Traffic_collision_Group_2_Section_1_COMP247Project/conda-env/lib/python3.9/site-packages/sklearn/preprocessing/_encoders.py:170: UserWarning: Found unknown categories in columns [0, 1, 2] during transform. These unknown categories will be encoded as all zeros\n",
      "  warnings.warn(\n",
      "/Users/brunomorgado/Dropbox/Bruno_Morgado/Education/Mac_Education/Centennial_College/Fourth_Semester/Supervised_learning/Team_Project/Traffic_collision_Group_2_Section_1_COMP247Project/conda-env/lib/python3.9/site-packages/sklearn/preprocessing/_encoders.py:170: UserWarning: Found unknown categories in columns [0, 1, 8] during transform. These unknown categories will be encoded as all zeros\n",
      "  warnings.warn(\n",
      "/Users/brunomorgado/Dropbox/Bruno_Morgado/Education/Mac_Education/Centennial_College/Fourth_Semester/Supervised_learning/Team_Project/Traffic_collision_Group_2_Section_1_COMP247Project/conda-env/lib/python3.9/site-packages/sklearn/preprocessing/_encoders.py:170: UserWarning: Found unknown categories in columns [0, 1, 5] during transform. These unknown categories will be encoded as all zeros\n",
      "  warnings.warn(\n",
      "/Users/brunomorgado/Dropbox/Bruno_Morgado/Education/Mac_Education/Centennial_College/Fourth_Semester/Supervised_learning/Team_Project/Traffic_collision_Group_2_Section_1_COMP247Project/conda-env/lib/python3.9/site-packages/sklearn/preprocessing/_encoders.py:170: UserWarning: Found unknown categories in columns [0, 1] during transform. These unknown categories will be encoded as all zeros\n",
      "  warnings.warn(\n",
      "/Users/brunomorgado/Dropbox/Bruno_Morgado/Education/Mac_Education/Centennial_College/Fourth_Semester/Supervised_learning/Team_Project/Traffic_collision_Group_2_Section_1_COMP247Project/conda-env/lib/python3.9/site-packages/sklearn/preprocessing/_encoders.py:170: UserWarning: Found unknown categories in columns [0, 1, 5] during transform. These unknown categories will be encoded as all zeros\n",
      "  warnings.warn(\n",
      "/Users/brunomorgado/Dropbox/Bruno_Morgado/Education/Mac_Education/Centennial_College/Fourth_Semester/Supervised_learning/Team_Project/Traffic_collision_Group_2_Section_1_COMP247Project/conda-env/lib/python3.9/site-packages/sklearn/preprocessing/_encoders.py:170: UserWarning: Found unknown categories in columns [0, 1, 2] during transform. These unknown categories will be encoded as all zeros\n",
      "  warnings.warn(\n",
      "/Users/brunomorgado/Dropbox/Bruno_Morgado/Education/Mac_Education/Centennial_College/Fourth_Semester/Supervised_learning/Team_Project/Traffic_collision_Group_2_Section_1_COMP247Project/conda-env/lib/python3.9/site-packages/sklearn/preprocessing/_encoders.py:170: UserWarning: Found unknown categories in columns [0, 1, 8] during transform. These unknown categories will be encoded as all zeros\n",
      "  warnings.warn(\n",
      "/Users/brunomorgado/Dropbox/Bruno_Morgado/Education/Mac_Education/Centennial_College/Fourth_Semester/Supervised_learning/Team_Project/Traffic_collision_Group_2_Section_1_COMP247Project/conda-env/lib/python3.9/site-packages/sklearn/preprocessing/_encoders.py:170: UserWarning: Found unknown categories in columns [0, 1, 5] during transform. These unknown categories will be encoded as all zeros\n",
      "  warnings.warn(\n",
      "/Users/brunomorgado/Dropbox/Bruno_Morgado/Education/Mac_Education/Centennial_College/Fourth_Semester/Supervised_learning/Team_Project/Traffic_collision_Group_2_Section_1_COMP247Project/conda-env/lib/python3.9/site-packages/sklearn/preprocessing/_encoders.py:170: UserWarning: Found unknown categories in columns [0, 1] during transform. These unknown categories will be encoded as all zeros\n",
      "  warnings.warn(\n"
     ]
    },
    {
     "name": "stderr",
     "output_type": "stream",
     "text": [
      "/Users/brunomorgado/Dropbox/Bruno_Morgado/Education/Mac_Education/Centennial_College/Fourth_Semester/Supervised_learning/Team_Project/Traffic_collision_Group_2_Section_1_COMP247Project/conda-env/lib/python3.9/site-packages/sklearn/preprocessing/_encoders.py:170: UserWarning: Found unknown categories in columns [0, 1, 5] during transform. These unknown categories will be encoded as all zeros\n",
      "  warnings.warn(\n",
      "/Users/brunomorgado/Dropbox/Bruno_Morgado/Education/Mac_Education/Centennial_College/Fourth_Semester/Supervised_learning/Team_Project/Traffic_collision_Group_2_Section_1_COMP247Project/conda-env/lib/python3.9/site-packages/sklearn/preprocessing/_encoders.py:170: UserWarning: Found unknown categories in columns [0, 1, 2] during transform. These unknown categories will be encoded as all zeros\n",
      "  warnings.warn(\n",
      "/Users/brunomorgado/Dropbox/Bruno_Morgado/Education/Mac_Education/Centennial_College/Fourth_Semester/Supervised_learning/Team_Project/Traffic_collision_Group_2_Section_1_COMP247Project/conda-env/lib/python3.9/site-packages/sklearn/preprocessing/_encoders.py:170: UserWarning: Found unknown categories in columns [0, 1, 8] during transform. These unknown categories will be encoded as all zeros\n",
      "  warnings.warn(\n",
      "/Users/brunomorgado/Dropbox/Bruno_Morgado/Education/Mac_Education/Centennial_College/Fourth_Semester/Supervised_learning/Team_Project/Traffic_collision_Group_2_Section_1_COMP247Project/conda-env/lib/python3.9/site-packages/sklearn/preprocessing/_encoders.py:170: UserWarning: Found unknown categories in columns [0, 1, 5] during transform. These unknown categories will be encoded as all zeros\n",
      "  warnings.warn(\n",
      "/Users/brunomorgado/Dropbox/Bruno_Morgado/Education/Mac_Education/Centennial_College/Fourth_Semester/Supervised_learning/Team_Project/Traffic_collision_Group_2_Section_1_COMP247Project/conda-env/lib/python3.9/site-packages/sklearn/preprocessing/_encoders.py:170: UserWarning: Found unknown categories in columns [0, 1] during transform. These unknown categories will be encoded as all zeros\n",
      "  warnings.warn(\n",
      "/Users/brunomorgado/Dropbox/Bruno_Morgado/Education/Mac_Education/Centennial_College/Fourth_Semester/Supervised_learning/Team_Project/Traffic_collision_Group_2_Section_1_COMP247Project/conda-env/lib/python3.9/site-packages/sklearn/preprocessing/_encoders.py:170: UserWarning: Found unknown categories in columns [0, 1, 8] during transform. These unknown categories will be encoded as all zeros\n",
      "  warnings.warn(\n",
      "/Users/brunomorgado/Dropbox/Bruno_Morgado/Education/Mac_Education/Centennial_College/Fourth_Semester/Supervised_learning/Team_Project/Traffic_collision_Group_2_Section_1_COMP247Project/conda-env/lib/python3.9/site-packages/sklearn/preprocessing/_encoders.py:170: UserWarning: Found unknown categories in columns [0, 1, 5] during transform. These unknown categories will be encoded as all zeros\n",
      "  warnings.warn(\n",
      "/Users/brunomorgado/Dropbox/Bruno_Morgado/Education/Mac_Education/Centennial_College/Fourth_Semester/Supervised_learning/Team_Project/Traffic_collision_Group_2_Section_1_COMP247Project/conda-env/lib/python3.9/site-packages/sklearn/preprocessing/_encoders.py:170: UserWarning: Found unknown categories in columns [0, 1, 5] during transform. These unknown categories will be encoded as all zeros\n",
      "  warnings.warn(\n",
      "/Users/brunomorgado/Dropbox/Bruno_Morgado/Education/Mac_Education/Centennial_College/Fourth_Semester/Supervised_learning/Team_Project/Traffic_collision_Group_2_Section_1_COMP247Project/conda-env/lib/python3.9/site-packages/sklearn/preprocessing/_encoders.py:170: UserWarning: Found unknown categories in columns [0, 1, 2] during transform. These unknown categories will be encoded as all zeros\n",
      "  warnings.warn(\n",
      "/Users/brunomorgado/Dropbox/Bruno_Morgado/Education/Mac_Education/Centennial_College/Fourth_Semester/Supervised_learning/Team_Project/Traffic_collision_Group_2_Section_1_COMP247Project/conda-env/lib/python3.9/site-packages/sklearn/preprocessing/_encoders.py:170: UserWarning: Found unknown categories in columns [0, 1] during transform. These unknown categories will be encoded as all zeros\n",
      "  warnings.warn(\n",
      "/Users/brunomorgado/Dropbox/Bruno_Morgado/Education/Mac_Education/Centennial_College/Fourth_Semester/Supervised_learning/Team_Project/Traffic_collision_Group_2_Section_1_COMP247Project/conda-env/lib/python3.9/site-packages/sklearn/preprocessing/_encoders.py:170: UserWarning: Found unknown categories in columns [0, 1, 5] during transform. These unknown categories will be encoded as all zeros\n",
      "  warnings.warn(\n",
      "/Users/brunomorgado/Dropbox/Bruno_Morgado/Education/Mac_Education/Centennial_College/Fourth_Semester/Supervised_learning/Team_Project/Traffic_collision_Group_2_Section_1_COMP247Project/conda-env/lib/python3.9/site-packages/sklearn/preprocessing/_encoders.py:170: UserWarning: Found unknown categories in columns [0, 1, 2] during transform. These unknown categories will be encoded as all zeros\n",
      "  warnings.warn(\n",
      "/Users/brunomorgado/Dropbox/Bruno_Morgado/Education/Mac_Education/Centennial_College/Fourth_Semester/Supervised_learning/Team_Project/Traffic_collision_Group_2_Section_1_COMP247Project/conda-env/lib/python3.9/site-packages/sklearn/preprocessing/_encoders.py:170: UserWarning: Found unknown categories in columns [0, 1, 8] during transform. These unknown categories will be encoded as all zeros\n",
      "  warnings.warn(\n",
      "/Users/brunomorgado/Dropbox/Bruno_Morgado/Education/Mac_Education/Centennial_College/Fourth_Semester/Supervised_learning/Team_Project/Traffic_collision_Group_2_Section_1_COMP247Project/conda-env/lib/python3.9/site-packages/sklearn/preprocessing/_encoders.py:170: UserWarning: Found unknown categories in columns [0, 1, 5] during transform. These unknown categories will be encoded as all zeros\n",
      "  warnings.warn(\n",
      "/Users/brunomorgado/Dropbox/Bruno_Morgado/Education/Mac_Education/Centennial_College/Fourth_Semester/Supervised_learning/Team_Project/Traffic_collision_Group_2_Section_1_COMP247Project/conda-env/lib/python3.9/site-packages/sklearn/preprocessing/_encoders.py:170: UserWarning: Found unknown categories in columns [0, 1] during transform. These unknown categories will be encoded as all zeros\n",
      "  warnings.warn(\n",
      "/Users/brunomorgado/Dropbox/Bruno_Morgado/Education/Mac_Education/Centennial_College/Fourth_Semester/Supervised_learning/Team_Project/Traffic_collision_Group_2_Section_1_COMP247Project/conda-env/lib/python3.9/site-packages/sklearn/preprocessing/_encoders.py:170: UserWarning: Found unknown categories in columns [0, 1, 2] during transform. These unknown categories will be encoded as all zeros\n",
      "  warnings.warn(\n",
      "/Users/brunomorgado/Dropbox/Bruno_Morgado/Education/Mac_Education/Centennial_College/Fourth_Semester/Supervised_learning/Team_Project/Traffic_collision_Group_2_Section_1_COMP247Project/conda-env/lib/python3.9/site-packages/sklearn/preprocessing/_encoders.py:170: UserWarning: Found unknown categories in columns [0, 1, 5] during transform. These unknown categories will be encoded as all zeros\n",
      "  warnings.warn(\n",
      "/Users/brunomorgado/Dropbox/Bruno_Morgado/Education/Mac_Education/Centennial_College/Fourth_Semester/Supervised_learning/Team_Project/Traffic_collision_Group_2_Section_1_COMP247Project/conda-env/lib/python3.9/site-packages/sklearn/preprocessing/_encoders.py:170: UserWarning: Found unknown categories in columns [0, 1, 8] during transform. These unknown categories will be encoded as all zeros\n",
      "  warnings.warn(\n",
      "/Users/brunomorgado/Dropbox/Bruno_Morgado/Education/Mac_Education/Centennial_College/Fourth_Semester/Supervised_learning/Team_Project/Traffic_collision_Group_2_Section_1_COMP247Project/conda-env/lib/python3.9/site-packages/sklearn/preprocessing/_encoders.py:170: UserWarning: Found unknown categories in columns [0, 1, 5] during transform. These unknown categories will be encoded as all zeros\n",
      "  warnings.warn(\n",
      "/Users/brunomorgado/Dropbox/Bruno_Morgado/Education/Mac_Education/Centennial_College/Fourth_Semester/Supervised_learning/Team_Project/Traffic_collision_Group_2_Section_1_COMP247Project/conda-env/lib/python3.9/site-packages/sklearn/preprocessing/_encoders.py:170: UserWarning: Found unknown categories in columns [0, 1] during transform. These unknown categories will be encoded as all zeros\n",
      "  warnings.warn(\n"
     ]
    },
    {
     "name": "stderr",
     "output_type": "stream",
     "text": [
      "/Users/brunomorgado/Dropbox/Bruno_Morgado/Education/Mac_Education/Centennial_College/Fourth_Semester/Supervised_learning/Team_Project/Traffic_collision_Group_2_Section_1_COMP247Project/conda-env/lib/python3.9/site-packages/sklearn/preprocessing/_encoders.py:170: UserWarning: Found unknown categories in columns [0, 1, 5] during transform. These unknown categories will be encoded as all zeros\n",
      "  warnings.warn(\n",
      "/Users/brunomorgado/Dropbox/Bruno_Morgado/Education/Mac_Education/Centennial_College/Fourth_Semester/Supervised_learning/Team_Project/Traffic_collision_Group_2_Section_1_COMP247Project/conda-env/lib/python3.9/site-packages/sklearn/preprocessing/_encoders.py:170: UserWarning: Found unknown categories in columns [0, 1, 8] during transform. These unknown categories will be encoded as all zeros\n",
      "  warnings.warn(\n",
      "/Users/brunomorgado/Dropbox/Bruno_Morgado/Education/Mac_Education/Centennial_College/Fourth_Semester/Supervised_learning/Team_Project/Traffic_collision_Group_2_Section_1_COMP247Project/conda-env/lib/python3.9/site-packages/sklearn/preprocessing/_encoders.py:170: UserWarning: Found unknown categories in columns [0, 1, 5] during transform. These unknown categories will be encoded as all zeros\n",
      "  warnings.warn(\n",
      "/Users/brunomorgado/Dropbox/Bruno_Morgado/Education/Mac_Education/Centennial_College/Fourth_Semester/Supervised_learning/Team_Project/Traffic_collision_Group_2_Section_1_COMP247Project/conda-env/lib/python3.9/site-packages/sklearn/preprocessing/_encoders.py:170: UserWarning: Found unknown categories in columns [0, 1] during transform. These unknown categories will be encoded as all zeros\n",
      "  warnings.warn(\n",
      "/Users/brunomorgado/Dropbox/Bruno_Morgado/Education/Mac_Education/Centennial_College/Fourth_Semester/Supervised_learning/Team_Project/Traffic_collision_Group_2_Section_1_COMP247Project/conda-env/lib/python3.9/site-packages/sklearn/preprocessing/_encoders.py:170: UserWarning: Found unknown categories in columns [0, 1, 5] during transform. These unknown categories will be encoded as all zeros\n",
      "  warnings.warn(\n",
      "/Users/brunomorgado/Dropbox/Bruno_Morgado/Education/Mac_Education/Centennial_College/Fourth_Semester/Supervised_learning/Team_Project/Traffic_collision_Group_2_Section_1_COMP247Project/conda-env/lib/python3.9/site-packages/sklearn/preprocessing/_encoders.py:170: UserWarning: Found unknown categories in columns [0, 1, 2] during transform. These unknown categories will be encoded as all zeros\n",
      "  warnings.warn(\n",
      "/Users/brunomorgado/Dropbox/Bruno_Morgado/Education/Mac_Education/Centennial_College/Fourth_Semester/Supervised_learning/Team_Project/Traffic_collision_Group_2_Section_1_COMP247Project/conda-env/lib/python3.9/site-packages/sklearn/preprocessing/_encoders.py:170: UserWarning: Found unknown categories in columns [0, 1, 2] during transform. These unknown categories will be encoded as all zeros\n",
      "  warnings.warn(\n",
      "/Users/brunomorgado/Dropbox/Bruno_Morgado/Education/Mac_Education/Centennial_College/Fourth_Semester/Supervised_learning/Team_Project/Traffic_collision_Group_2_Section_1_COMP247Project/conda-env/lib/python3.9/site-packages/sklearn/preprocessing/_encoders.py:170: UserWarning: Found unknown categories in columns [0, 1, 8] during transform. These unknown categories will be encoded as all zeros\n",
      "  warnings.warn(\n",
      "/Users/brunomorgado/Dropbox/Bruno_Morgado/Education/Mac_Education/Centennial_College/Fourth_Semester/Supervised_learning/Team_Project/Traffic_collision_Group_2_Section_1_COMP247Project/conda-env/lib/python3.9/site-packages/sklearn/preprocessing/_encoders.py:170: UserWarning: Found unknown categories in columns [0, 1, 5] during transform. These unknown categories will be encoded as all zeros\n",
      "  warnings.warn(\n",
      "/Users/brunomorgado/Dropbox/Bruno_Morgado/Education/Mac_Education/Centennial_College/Fourth_Semester/Supervised_learning/Team_Project/Traffic_collision_Group_2_Section_1_COMP247Project/conda-env/lib/python3.9/site-packages/sklearn/preprocessing/_encoders.py:170: UserWarning: Found unknown categories in columns [0, 1] during transform. These unknown categories will be encoded as all zeros\n",
      "  warnings.warn(\n",
      "/Users/brunomorgado/Dropbox/Bruno_Morgado/Education/Mac_Education/Centennial_College/Fourth_Semester/Supervised_learning/Team_Project/Traffic_collision_Group_2_Section_1_COMP247Project/conda-env/lib/python3.9/site-packages/sklearn/preprocessing/_encoders.py:170: UserWarning: Found unknown categories in columns [0, 1, 5] during transform. These unknown categories will be encoded as all zeros\n",
      "  warnings.warn(\n",
      "/Users/brunomorgado/Dropbox/Bruno_Morgado/Education/Mac_Education/Centennial_College/Fourth_Semester/Supervised_learning/Team_Project/Traffic_collision_Group_2_Section_1_COMP247Project/conda-env/lib/python3.9/site-packages/sklearn/preprocessing/_encoders.py:170: UserWarning: Found unknown categories in columns [0, 1, 2] during transform. These unknown categories will be encoded as all zeros\n",
      "  warnings.warn(\n",
      "/Users/brunomorgado/Dropbox/Bruno_Morgado/Education/Mac_Education/Centennial_College/Fourth_Semester/Supervised_learning/Team_Project/Traffic_collision_Group_2_Section_1_COMP247Project/conda-env/lib/python3.9/site-packages/sklearn/preprocessing/_encoders.py:170: UserWarning: Found unknown categories in columns [0, 1, 8] during transform. These unknown categories will be encoded as all zeros\n",
      "  warnings.warn(\n",
      "/Users/brunomorgado/Dropbox/Bruno_Morgado/Education/Mac_Education/Centennial_College/Fourth_Semester/Supervised_learning/Team_Project/Traffic_collision_Group_2_Section_1_COMP247Project/conda-env/lib/python3.9/site-packages/sklearn/preprocessing/_encoders.py:170: UserWarning: Found unknown categories in columns [0, 1, 5] during transform. These unknown categories will be encoded as all zeros\n",
      "  warnings.warn(\n",
      "/Users/brunomorgado/Dropbox/Bruno_Morgado/Education/Mac_Education/Centennial_College/Fourth_Semester/Supervised_learning/Team_Project/Traffic_collision_Group_2_Section_1_COMP247Project/conda-env/lib/python3.9/site-packages/sklearn/preprocessing/_encoders.py:170: UserWarning: Found unknown categories in columns [0, 1] during transform. These unknown categories will be encoded as all zeros\n",
      "  warnings.warn(\n",
      "/Users/brunomorgado/Dropbox/Bruno_Morgado/Education/Mac_Education/Centennial_College/Fourth_Semester/Supervised_learning/Team_Project/Traffic_collision_Group_2_Section_1_COMP247Project/conda-env/lib/python3.9/site-packages/sklearn/preprocessing/_encoders.py:170: UserWarning: Found unknown categories in columns [0, 1, 5] during transform. These unknown categories will be encoded as all zeros\n",
      "  warnings.warn(\n",
      "/Users/brunomorgado/Dropbox/Bruno_Morgado/Education/Mac_Education/Centennial_College/Fourth_Semester/Supervised_learning/Team_Project/Traffic_collision_Group_2_Section_1_COMP247Project/conda-env/lib/python3.9/site-packages/sklearn/preprocessing/_encoders.py:170: UserWarning: Found unknown categories in columns [0, 1, 2] during transform. These unknown categories will be encoded as all zeros\n",
      "  warnings.warn(\n",
      "/Users/brunomorgado/Dropbox/Bruno_Morgado/Education/Mac_Education/Centennial_College/Fourth_Semester/Supervised_learning/Team_Project/Traffic_collision_Group_2_Section_1_COMP247Project/conda-env/lib/python3.9/site-packages/sklearn/preprocessing/_encoders.py:170: UserWarning: Found unknown categories in columns [0, 1, 8] during transform. These unknown categories will be encoded as all zeros\n",
      "  warnings.warn(\n",
      "/Users/brunomorgado/Dropbox/Bruno_Morgado/Education/Mac_Education/Centennial_College/Fourth_Semester/Supervised_learning/Team_Project/Traffic_collision_Group_2_Section_1_COMP247Project/conda-env/lib/python3.9/site-packages/sklearn/preprocessing/_encoders.py:170: UserWarning: Found unknown categories in columns [0, 1, 8] during transform. These unknown categories will be encoded as all zeros\n",
      "  warnings.warn(\n",
      "/Users/brunomorgado/Dropbox/Bruno_Morgado/Education/Mac_Education/Centennial_College/Fourth_Semester/Supervised_learning/Team_Project/Traffic_collision_Group_2_Section_1_COMP247Project/conda-env/lib/python3.9/site-packages/sklearn/preprocessing/_encoders.py:170: UserWarning: Found unknown categories in columns [0, 1, 5] during transform. These unknown categories will be encoded as all zeros\n",
      "  warnings.warn(\n"
     ]
    },
    {
     "name": "stderr",
     "output_type": "stream",
     "text": [
      "/Users/brunomorgado/Dropbox/Bruno_Morgado/Education/Mac_Education/Centennial_College/Fourth_Semester/Supervised_learning/Team_Project/Traffic_collision_Group_2_Section_1_COMP247Project/conda-env/lib/python3.9/site-packages/sklearn/preprocessing/_encoders.py:170: UserWarning: Found unknown categories in columns [0, 1] during transform. These unknown categories will be encoded as all zeros\n",
      "  warnings.warn(\n",
      "/Users/brunomorgado/Dropbox/Bruno_Morgado/Education/Mac_Education/Centennial_College/Fourth_Semester/Supervised_learning/Team_Project/Traffic_collision_Group_2_Section_1_COMP247Project/conda-env/lib/python3.9/site-packages/sklearn/preprocessing/_encoders.py:170: UserWarning: Found unknown categories in columns [0, 1, 5] during transform. These unknown categories will be encoded as all zeros\n",
      "  warnings.warn(\n",
      "/Users/brunomorgado/Dropbox/Bruno_Morgado/Education/Mac_Education/Centennial_College/Fourth_Semester/Supervised_learning/Team_Project/Traffic_collision_Group_2_Section_1_COMP247Project/conda-env/lib/python3.9/site-packages/sklearn/preprocessing/_encoders.py:170: UserWarning: Found unknown categories in columns [0, 1, 5] during transform. These unknown categories will be encoded as all zeros\n",
      "  warnings.warn(\n",
      "/Users/brunomorgado/Dropbox/Bruno_Morgado/Education/Mac_Education/Centennial_College/Fourth_Semester/Supervised_learning/Team_Project/Traffic_collision_Group_2_Section_1_COMP247Project/conda-env/lib/python3.9/site-packages/sklearn/preprocessing/_encoders.py:170: UserWarning: Found unknown categories in columns [0, 1, 2] during transform. These unknown categories will be encoded as all zeros\n",
      "  warnings.warn(\n",
      "/Users/brunomorgado/Dropbox/Bruno_Morgado/Education/Mac_Education/Centennial_College/Fourth_Semester/Supervised_learning/Team_Project/Traffic_collision_Group_2_Section_1_COMP247Project/conda-env/lib/python3.9/site-packages/sklearn/preprocessing/_encoders.py:170: UserWarning: Found unknown categories in columns [0, 1] during transform. These unknown categories will be encoded as all zeros\n",
      "  warnings.warn(\n",
      "/Users/brunomorgado/Dropbox/Bruno_Morgado/Education/Mac_Education/Centennial_College/Fourth_Semester/Supervised_learning/Team_Project/Traffic_collision_Group_2_Section_1_COMP247Project/conda-env/lib/python3.9/site-packages/sklearn/preprocessing/_encoders.py:170: UserWarning: Found unknown categories in columns [0, 1, 5] during transform. These unknown categories will be encoded as all zeros\n",
      "  warnings.warn(\n",
      "/Users/brunomorgado/Dropbox/Bruno_Morgado/Education/Mac_Education/Centennial_College/Fourth_Semester/Supervised_learning/Team_Project/Traffic_collision_Group_2_Section_1_COMP247Project/conda-env/lib/python3.9/site-packages/sklearn/preprocessing/_encoders.py:170: UserWarning: Found unknown categories in columns [0, 1, 2] during transform. These unknown categories will be encoded as all zeros\n",
      "  warnings.warn(\n",
      "/Users/brunomorgado/Dropbox/Bruno_Morgado/Education/Mac_Education/Centennial_College/Fourth_Semester/Supervised_learning/Team_Project/Traffic_collision_Group_2_Section_1_COMP247Project/conda-env/lib/python3.9/site-packages/sklearn/preprocessing/_encoders.py:170: UserWarning: Found unknown categories in columns [0, 1, 5] during transform. These unknown categories will be encoded as all zeros\n",
      "  warnings.warn(\n",
      "/Users/brunomorgado/Dropbox/Bruno_Morgado/Education/Mac_Education/Centennial_College/Fourth_Semester/Supervised_learning/Team_Project/Traffic_collision_Group_2_Section_1_COMP247Project/conda-env/lib/python3.9/site-packages/sklearn/preprocessing/_encoders.py:170: UserWarning: Found unknown categories in columns [0, 1, 8] during transform. These unknown categories will be encoded as all zeros\n",
      "  warnings.warn(\n",
      "/Users/brunomorgado/Dropbox/Bruno_Morgado/Education/Mac_Education/Centennial_College/Fourth_Semester/Supervised_learning/Team_Project/Traffic_collision_Group_2_Section_1_COMP247Project/conda-env/lib/python3.9/site-packages/sklearn/preprocessing/_encoders.py:170: UserWarning: Found unknown categories in columns [0, 1] during transform. These unknown categories will be encoded as all zeros\n",
      "  warnings.warn(\n",
      "/Users/brunomorgado/Dropbox/Bruno_Morgado/Education/Mac_Education/Centennial_College/Fourth_Semester/Supervised_learning/Team_Project/Traffic_collision_Group_2_Section_1_COMP247Project/conda-env/lib/python3.9/site-packages/sklearn/preprocessing/_encoders.py:170: UserWarning: Found unknown categories in columns [0, 1, 5] during transform. These unknown categories will be encoded as all zeros\n",
      "  warnings.warn(\n",
      "/Users/brunomorgado/Dropbox/Bruno_Morgado/Education/Mac_Education/Centennial_College/Fourth_Semester/Supervised_learning/Team_Project/Traffic_collision_Group_2_Section_1_COMP247Project/conda-env/lib/python3.9/site-packages/sklearn/preprocessing/_encoders.py:170: UserWarning: Found unknown categories in columns [0, 1, 2] during transform. These unknown categories will be encoded as all zeros\n",
      "  warnings.warn(\n",
      "/Users/brunomorgado/Dropbox/Bruno_Morgado/Education/Mac_Education/Centennial_College/Fourth_Semester/Supervised_learning/Team_Project/Traffic_collision_Group_2_Section_1_COMP247Project/conda-env/lib/python3.9/site-packages/sklearn/preprocessing/_encoders.py:170: UserWarning: Found unknown categories in columns [0, 1, 5] during transform. These unknown categories will be encoded as all zeros\n",
      "  warnings.warn(\n",
      "/Users/brunomorgado/Dropbox/Bruno_Morgado/Education/Mac_Education/Centennial_College/Fourth_Semester/Supervised_learning/Team_Project/Traffic_collision_Group_2_Section_1_COMP247Project/conda-env/lib/python3.9/site-packages/sklearn/preprocessing/_encoders.py:170: UserWarning: Found unknown categories in columns [0, 1, 8] during transform. These unknown categories will be encoded as all zeros\n",
      "  warnings.warn(\n",
      "/Users/brunomorgado/Dropbox/Bruno_Morgado/Education/Mac_Education/Centennial_College/Fourth_Semester/Supervised_learning/Team_Project/Traffic_collision_Group_2_Section_1_COMP247Project/conda-env/lib/python3.9/site-packages/sklearn/preprocessing/_encoders.py:170: UserWarning: Found unknown categories in columns [0, 1] during transform. These unknown categories will be encoded as all zeros\n",
      "  warnings.warn(\n",
      "/Users/brunomorgado/Dropbox/Bruno_Morgado/Education/Mac_Education/Centennial_College/Fourth_Semester/Supervised_learning/Team_Project/Traffic_collision_Group_2_Section_1_COMP247Project/conda-env/lib/python3.9/site-packages/sklearn/preprocessing/_encoders.py:170: UserWarning: Found unknown categories in columns [0, 1, 8] during transform. These unknown categories will be encoded as all zeros\n",
      "  warnings.warn(\n",
      "/Users/brunomorgado/Dropbox/Bruno_Morgado/Education/Mac_Education/Centennial_College/Fourth_Semester/Supervised_learning/Team_Project/Traffic_collision_Group_2_Section_1_COMP247Project/conda-env/lib/python3.9/site-packages/sklearn/preprocessing/_encoders.py:170: UserWarning: Found unknown categories in columns [0, 1, 5] during transform. These unknown categories will be encoded as all zeros\n",
      "  warnings.warn(\n",
      "/Users/brunomorgado/Dropbox/Bruno_Morgado/Education/Mac_Education/Centennial_College/Fourth_Semester/Supervised_learning/Team_Project/Traffic_collision_Group_2_Section_1_COMP247Project/conda-env/lib/python3.9/site-packages/sklearn/preprocessing/_encoders.py:170: UserWarning: Found unknown categories in columns [0, 1, 5] during transform. These unknown categories will be encoded as all zeros\n",
      "  warnings.warn(\n",
      "/Users/brunomorgado/Dropbox/Bruno_Morgado/Education/Mac_Education/Centennial_College/Fourth_Semester/Supervised_learning/Team_Project/Traffic_collision_Group_2_Section_1_COMP247Project/conda-env/lib/python3.9/site-packages/sklearn/preprocessing/_encoders.py:170: UserWarning: Found unknown categories in columns [0, 1, 2] during transform. These unknown categories will be encoded as all zeros\n",
      "  warnings.warn(\n",
      "/Users/brunomorgado/Dropbox/Bruno_Morgado/Education/Mac_Education/Centennial_College/Fourth_Semester/Supervised_learning/Team_Project/Traffic_collision_Group_2_Section_1_COMP247Project/conda-env/lib/python3.9/site-packages/sklearn/preprocessing/_encoders.py:170: UserWarning: Found unknown categories in columns [0, 1, 5] during transform. These unknown categories will be encoded as all zeros\n",
      "  warnings.warn(\n"
     ]
    },
    {
     "name": "stderr",
     "output_type": "stream",
     "text": [
      "/Users/brunomorgado/Dropbox/Bruno_Morgado/Education/Mac_Education/Centennial_College/Fourth_Semester/Supervised_learning/Team_Project/Traffic_collision_Group_2_Section_1_COMP247Project/conda-env/lib/python3.9/site-packages/sklearn/preprocessing/_encoders.py:170: UserWarning: Found unknown categories in columns [0, 1] during transform. These unknown categories will be encoded as all zeros\n",
      "  warnings.warn(\n",
      "/Users/brunomorgado/Dropbox/Bruno_Morgado/Education/Mac_Education/Centennial_College/Fourth_Semester/Supervised_learning/Team_Project/Traffic_collision_Group_2_Section_1_COMP247Project/conda-env/lib/python3.9/site-packages/sklearn/preprocessing/_encoders.py:170: UserWarning: Found unknown categories in columns [0, 1, 8] during transform. These unknown categories will be encoded as all zeros\n",
      "  warnings.warn(\n",
      "/Users/brunomorgado/Dropbox/Bruno_Morgado/Education/Mac_Education/Centennial_College/Fourth_Semester/Supervised_learning/Team_Project/Traffic_collision_Group_2_Section_1_COMP247Project/conda-env/lib/python3.9/site-packages/sklearn/preprocessing/_encoders.py:170: UserWarning: Found unknown categories in columns [0, 1, 2] during transform. These unknown categories will be encoded as all zeros\n",
      "  warnings.warn(\n",
      "/Users/brunomorgado/Dropbox/Bruno_Morgado/Education/Mac_Education/Centennial_College/Fourth_Semester/Supervised_learning/Team_Project/Traffic_collision_Group_2_Section_1_COMP247Project/conda-env/lib/python3.9/site-packages/sklearn/preprocessing/_encoders.py:170: UserWarning: Found unknown categories in columns [0, 1, 5] during transform. These unknown categories will be encoded as all zeros\n",
      "  warnings.warn(\n",
      "/Users/brunomorgado/Dropbox/Bruno_Morgado/Education/Mac_Education/Centennial_College/Fourth_Semester/Supervised_learning/Team_Project/Traffic_collision_Group_2_Section_1_COMP247Project/conda-env/lib/python3.9/site-packages/sklearn/preprocessing/_encoders.py:170: UserWarning: Found unknown categories in columns [0, 1, 2] during transform. These unknown categories will be encoded as all zeros\n",
      "  warnings.warn(\n",
      "/Users/brunomorgado/Dropbox/Bruno_Morgado/Education/Mac_Education/Centennial_College/Fourth_Semester/Supervised_learning/Team_Project/Traffic_collision_Group_2_Section_1_COMP247Project/conda-env/lib/python3.9/site-packages/sklearn/preprocessing/_encoders.py:170: UserWarning: Found unknown categories in columns [0, 1, 8] during transform. These unknown categories will be encoded as all zeros\n",
      "  warnings.warn(\n",
      "/Users/brunomorgado/Dropbox/Bruno_Morgado/Education/Mac_Education/Centennial_College/Fourth_Semester/Supervised_learning/Team_Project/Traffic_collision_Group_2_Section_1_COMP247Project/conda-env/lib/python3.9/site-packages/sklearn/preprocessing/_encoders.py:170: UserWarning: Found unknown categories in columns [0, 1, 5] during transform. These unknown categories will be encoded as all zeros\n",
      "  warnings.warn(\n",
      "/Users/brunomorgado/Dropbox/Bruno_Morgado/Education/Mac_Education/Centennial_College/Fourth_Semester/Supervised_learning/Team_Project/Traffic_collision_Group_2_Section_1_COMP247Project/conda-env/lib/python3.9/site-packages/sklearn/preprocessing/_encoders.py:170: UserWarning: Found unknown categories in columns [0, 1] during transform. These unknown categories will be encoded as all zeros\n",
      "  warnings.warn(\n",
      "/Users/brunomorgado/Dropbox/Bruno_Morgado/Education/Mac_Education/Centennial_College/Fourth_Semester/Supervised_learning/Team_Project/Traffic_collision_Group_2_Section_1_COMP247Project/conda-env/lib/python3.9/site-packages/sklearn/preprocessing/_encoders.py:170: UserWarning: Found unknown categories in columns [0, 1, 5] during transform. These unknown categories will be encoded as all zeros\n",
      "  warnings.warn(\n",
      "/Users/brunomorgado/Dropbox/Bruno_Morgado/Education/Mac_Education/Centennial_College/Fourth_Semester/Supervised_learning/Team_Project/Traffic_collision_Group_2_Section_1_COMP247Project/conda-env/lib/python3.9/site-packages/sklearn/preprocessing/_encoders.py:170: UserWarning: Found unknown categories in columns [0, 1] during transform. These unknown categories will be encoded as all zeros\n",
      "  warnings.warn(\n",
      "/Users/brunomorgado/Dropbox/Bruno_Morgado/Education/Mac_Education/Centennial_College/Fourth_Semester/Supervised_learning/Team_Project/Traffic_collision_Group_2_Section_1_COMP247Project/conda-env/lib/python3.9/site-packages/sklearn/preprocessing/_encoders.py:170: UserWarning: Found unknown categories in columns [0, 1, 5] during transform. These unknown categories will be encoded as all zeros\n",
      "  warnings.warn(\n",
      "/Users/brunomorgado/Dropbox/Bruno_Morgado/Education/Mac_Education/Centennial_College/Fourth_Semester/Supervised_learning/Team_Project/Traffic_collision_Group_2_Section_1_COMP247Project/conda-env/lib/python3.9/site-packages/sklearn/preprocessing/_encoders.py:170: UserWarning: Found unknown categories in columns [0, 1, 2] during transform. These unknown categories will be encoded as all zeros\n",
      "  warnings.warn(\n",
      "/Users/brunomorgado/Dropbox/Bruno_Morgado/Education/Mac_Education/Centennial_College/Fourth_Semester/Supervised_learning/Team_Project/Traffic_collision_Group_2_Section_1_COMP247Project/conda-env/lib/python3.9/site-packages/sklearn/preprocessing/_encoders.py:170: UserWarning: Found unknown categories in columns [0, 1, 8] during transform. These unknown categories will be encoded as all zeros\n",
      "  warnings.warn(\n",
      "/Users/brunomorgado/Dropbox/Bruno_Morgado/Education/Mac_Education/Centennial_College/Fourth_Semester/Supervised_learning/Team_Project/Traffic_collision_Group_2_Section_1_COMP247Project/conda-env/lib/python3.9/site-packages/sklearn/preprocessing/_encoders.py:170: UserWarning: Found unknown categories in columns [0, 1, 5] during transform. These unknown categories will be encoded as all zeros\n",
      "  warnings.warn(\n",
      "/Users/brunomorgado/Dropbox/Bruno_Morgado/Education/Mac_Education/Centennial_College/Fourth_Semester/Supervised_learning/Team_Project/Traffic_collision_Group_2_Section_1_COMP247Project/conda-env/lib/python3.9/site-packages/sklearn/preprocessing/_encoders.py:170: UserWarning: Found unknown categories in columns [0, 1] during transform. These unknown categories will be encoded as all zeros\n",
      "  warnings.warn(\n",
      "/Users/brunomorgado/Dropbox/Bruno_Morgado/Education/Mac_Education/Centennial_College/Fourth_Semester/Supervised_learning/Team_Project/Traffic_collision_Group_2_Section_1_COMP247Project/conda-env/lib/python3.9/site-packages/sklearn/preprocessing/_encoders.py:170: UserWarning: Found unknown categories in columns [0, 1, 5] during transform. These unknown categories will be encoded as all zeros\n",
      "  warnings.warn(\n",
      "/Users/brunomorgado/Dropbox/Bruno_Morgado/Education/Mac_Education/Centennial_College/Fourth_Semester/Supervised_learning/Team_Project/Traffic_collision_Group_2_Section_1_COMP247Project/conda-env/lib/python3.9/site-packages/sklearn/preprocessing/_encoders.py:170: UserWarning: Found unknown categories in columns [0, 1, 2] during transform. These unknown categories will be encoded as all zeros\n",
      "  warnings.warn(\n",
      "/Users/brunomorgado/Dropbox/Bruno_Morgado/Education/Mac_Education/Centennial_College/Fourth_Semester/Supervised_learning/Team_Project/Traffic_collision_Group_2_Section_1_COMP247Project/conda-env/lib/python3.9/site-packages/sklearn/preprocessing/_encoders.py:170: UserWarning: Found unknown categories in columns [0, 1, 8] during transform. These unknown categories will be encoded as all zeros\n",
      "  warnings.warn(\n",
      "/Users/brunomorgado/Dropbox/Bruno_Morgado/Education/Mac_Education/Centennial_College/Fourth_Semester/Supervised_learning/Team_Project/Traffic_collision_Group_2_Section_1_COMP247Project/conda-env/lib/python3.9/site-packages/sklearn/preprocessing/_encoders.py:170: UserWarning: Found unknown categories in columns [0, 1, 5] during transform. These unknown categories will be encoded as all zeros\n",
      "  warnings.warn(\n",
      "/Users/brunomorgado/Dropbox/Bruno_Morgado/Education/Mac_Education/Centennial_College/Fourth_Semester/Supervised_learning/Team_Project/Traffic_collision_Group_2_Section_1_COMP247Project/conda-env/lib/python3.9/site-packages/sklearn/preprocessing/_encoders.py:170: UserWarning: Found unknown categories in columns [0, 1, 2] during transform. These unknown categories will be encoded as all zeros\n",
      "  warnings.warn(\n"
     ]
    },
    {
     "name": "stderr",
     "output_type": "stream",
     "text": [
      "/Users/brunomorgado/Dropbox/Bruno_Morgado/Education/Mac_Education/Centennial_College/Fourth_Semester/Supervised_learning/Team_Project/Traffic_collision_Group_2_Section_1_COMP247Project/conda-env/lib/python3.9/site-packages/sklearn/preprocessing/_encoders.py:170: UserWarning: Found unknown categories in columns [0, 1, 5] during transform. These unknown categories will be encoded as all zeros\n",
      "  warnings.warn(\n",
      "/Users/brunomorgado/Dropbox/Bruno_Morgado/Education/Mac_Education/Centennial_College/Fourth_Semester/Supervised_learning/Team_Project/Traffic_collision_Group_2_Section_1_COMP247Project/conda-env/lib/python3.9/site-packages/sklearn/preprocessing/_encoders.py:170: UserWarning: Found unknown categories in columns [0, 1, 8] during transform. These unknown categories will be encoded as all zeros\n",
      "  warnings.warn(\n",
      "/Users/brunomorgado/Dropbox/Bruno_Morgado/Education/Mac_Education/Centennial_College/Fourth_Semester/Supervised_learning/Team_Project/Traffic_collision_Group_2_Section_1_COMP247Project/conda-env/lib/python3.9/site-packages/sklearn/preprocessing/_encoders.py:170: UserWarning: Found unknown categories in columns [0, 1] during transform. These unknown categories will be encoded as all zeros\n",
      "  warnings.warn(\n",
      "/Users/brunomorgado/Dropbox/Bruno_Morgado/Education/Mac_Education/Centennial_College/Fourth_Semester/Supervised_learning/Team_Project/Traffic_collision_Group_2_Section_1_COMP247Project/conda-env/lib/python3.9/site-packages/sklearn/preprocessing/_encoders.py:170: UserWarning: Found unknown categories in columns [0, 1, 5] during transform. These unknown categories will be encoded as all zeros\n",
      "  warnings.warn(\n",
      "/Users/brunomorgado/Dropbox/Bruno_Morgado/Education/Mac_Education/Centennial_College/Fourth_Semester/Supervised_learning/Team_Project/Traffic_collision_Group_2_Section_1_COMP247Project/conda-env/lib/python3.9/site-packages/sklearn/preprocessing/_encoders.py:170: UserWarning: Found unknown categories in columns [0, 1] during transform. These unknown categories will be encoded as all zeros\n",
      "  warnings.warn(\n",
      "/Users/brunomorgado/Dropbox/Bruno_Morgado/Education/Mac_Education/Centennial_College/Fourth_Semester/Supervised_learning/Team_Project/Traffic_collision_Group_2_Section_1_COMP247Project/conda-env/lib/python3.9/site-packages/sklearn/preprocessing/_encoders.py:170: UserWarning: Found unknown categories in columns [0, 1, 5] during transform. These unknown categories will be encoded as all zeros\n",
      "  warnings.warn(\n",
      "/Users/brunomorgado/Dropbox/Bruno_Morgado/Education/Mac_Education/Centennial_College/Fourth_Semester/Supervised_learning/Team_Project/Traffic_collision_Group_2_Section_1_COMP247Project/conda-env/lib/python3.9/site-packages/sklearn/preprocessing/_encoders.py:170: UserWarning: Found unknown categories in columns [0, 1, 2] during transform. These unknown categories will be encoded as all zeros\n",
      "  warnings.warn(\n"
     ]
    }
   ],
   "source": [
    "grid_search_svc.fit(X_train, y_train)"
   ]
  },
  {
   "cell_type": "code",
   "execution_count": null,
   "metadata": {},
   "outputs": [],
   "source": [
    "# The the final time of processing\n",
    "end = time.perf_counter()"
   ]
  },
  {
   "cell_type": "code",
   "execution_count": null,
   "metadata": {},
   "outputs": [],
   "source": [
    "# Best hyperparameters\n",
    "print(\"tuned hpyerparameters :(best parameters) \", grid_search_svc.best_params_)\n",
    "print(\"Best Estimator :\", grid_search_svc.best_estimator_)"
   ]
  },
  {
   "cell_type": "code",
   "execution_count": null,
   "metadata": {},
   "outputs": [],
   "source": [
    "# Store the best model into a variable\n",
    "best_model_svc = grid_search_svc.best_estimator_"
   ]
  },
  {
   "cell_type": "code",
   "execution_count": null,
   "metadata": {},
   "outputs": [],
   "source": [
    "# Make predictions with the best SVC model\n",
    "pred_svc = best_model_svc.predict(X_test)"
   ]
  },
  {
   "cell_type": "code",
   "execution_count": null,
   "metadata": {},
   "outputs": [],
   "source": [
    "# Get the Score\n",
    "best_model_svc.score(X_test, y_test)"
   ]
  },
  {
   "cell_type": "code",
   "execution_count": null,
   "metadata": {},
   "outputs": [],
   "source": [
    "# Import joblib to save the model\n",
    "import joblib"
   ]
  },
  {
   "cell_type": "code",
   "execution_count": null,
   "metadata": {},
   "outputs": [],
   "source": [
    "joblib.dump(best_model_svc, \"SVC_model.pkl\")"
   ]
  },
  {
   "cell_type": "code",
   "execution_count": null,
   "metadata": {},
   "outputs": [],
   "source": [
    "joblib.dump(pipeline_svc, \"pipeline_svc.pkl\")"
   ]
  },
  {
   "cell_type": "code",
   "execution_count": null,
   "metadata": {},
   "outputs": [],
   "source": [
    "import dill"
   ]
  },
  {
   "cell_type": "code",
   "execution_count": null,
   "metadata": {},
   "outputs": [],
   "source": [
    "dill.dump_session('notebook_env_SVC.db')"
   ]
  },
  {
   "cell_type": "code",
   "execution_count": null,
   "metadata": {},
   "outputs": [],
   "source": [
    "# Print the classification Report\n",
    "print('\\t\\tClassification Report\\n\\n',classification_report(y_test, pred_svc))"
   ]
  },
  {
   "cell_type": "code",
   "execution_count": null,
   "metadata": {},
   "outputs": [],
   "source": [
    "# Total time to run GridSearchCV\n",
    "print(f'GridSearchCV processing time: {round((end-start), 2)} s')"
   ]
  },
  {
   "cell_type": "markdown",
   "metadata": {},
   "source": [
    "## Logistic Regression Model"
   ]
  },
  {
   "cell_type": "code",
   "execution_count": null,
   "metadata": {},
   "outputs": [],
   "source": [
    "logmodel = LogisticRegression(max_iter=1000)\n",
    "pipeline_log = Pipeline([\n",
    "    ('col_transformer', transformer),\n",
    "    ('log', logmodel)\n",
    "    ])"
   ]
  },
  {
   "cell_type": "code",
   "execution_count": null,
   "metadata": {},
   "outputs": [],
   "source": [
    "pipeline_log.fit(X_train, y_train)"
   ]
  },
  {
   "cell_type": "code",
   "execution_count": null,
   "metadata": {},
   "outputs": [],
   "source": [
    "scores_log = cross_val_score(pipeline_log,\n",
    "                        X_train,\n",
    "                        y_train,\n",
    "                        cv=10,\n",
    "                        n_jobs=-1,\n",
    "                        verbose=1)"
   ]
  },
  {
   "cell_type": "code",
   "execution_count": null,
   "metadata": {},
   "outputs": [],
   "source": [
    "# Logistic Regression Scores\n",
    "print(scores_log)"
   ]
  },
  {
   "cell_type": "code",
   "execution_count": null,
   "metadata": {},
   "outputs": [],
   "source": [
    "# Average Scores\n",
    "print(scores_log.mean())"
   ]
  },
  {
   "cell_type": "code",
   "execution_count": null,
   "metadata": {},
   "outputs": [],
   "source": [
    "# Dictionary with parameters names (str) as keys and lists of parameter settings to try as values.\n",
    "param_grid_log = {'log__penalty': ['l1', 'l2', 'elasticnet'],\n",
    "              'log__C': [0.01, 0.1, 1, 10, 100],\n",
    "              'log__solver': ['newton-cg', 'lbfgs', 'liblinear', 'saga']}"
   ]
  },
  {
   "cell_type": "code",
   "execution_count": null,
   "metadata": {},
   "outputs": [],
   "source": [
    "# Create a GridSearchCV object\n",
    "grid_search_logistic = GridSearchCV(estimator = pipeline_log,\n",
    "                                 param_grid = param_grid_log,\n",
    "                                 scoring = 'accuracy',\n",
    "                                 refit = True,\n",
    "                                 n_jobs = -1,\n",
    "                                 verbose = 3)"
   ]
  },
  {
   "cell_type": "code",
   "execution_count": null,
   "metadata": {},
   "outputs": [],
   "source": [
    "# Get the start time\n",
    "start = time.perf_counter()"
   ]
  },
  {
   "cell_type": "code",
   "execution_count": null,
   "metadata": {},
   "outputs": [],
   "source": [
    "# Run fit with all sets of parameters\n",
    "grid_search_logistic.fit(X_train, y_train)"
   ]
  },
  {
   "cell_type": "code",
   "execution_count": null,
   "metadata": {},
   "outputs": [],
   "source": [
    "# The the final time of processing\n",
    "end = time.perf_counter()"
   ]
  },
  {
   "cell_type": "code",
   "execution_count": null,
   "metadata": {},
   "outputs": [],
   "source": [
    "# Total time to run GridSearchCV\n",
    "print(f'GridSearchCV processing time: {round((end-start), 2)} s')"
   ]
  },
  {
   "cell_type": "code",
   "execution_count": null,
   "metadata": {},
   "outputs": [],
   "source": [
    "# Store the best model into a variable\n",
    "best_model_log = grid_search_logistic.best_estimator_"
   ]
  },
  {
   "cell_type": "code",
   "execution_count": null,
   "metadata": {},
   "outputs": [],
   "source": [
    "joblib.dump(best_model_log, \"LOGISTIC_model.pkl\")"
   ]
  },
  {
   "cell_type": "code",
   "execution_count": null,
   "metadata": {},
   "outputs": [],
   "source": [
    "joblib.dump(pipeline_log, \"pipeline_logistic.pkl\")"
   ]
  },
  {
   "cell_type": "code",
   "execution_count": null,
   "metadata": {
    "scrolled": true
   },
   "outputs": [],
   "source": [
    "dill.dump_session('notebook_env_LOGISTIC.db')"
   ]
  },
  {
   "cell_type": "code",
   "execution_count": null,
   "metadata": {},
   "outputs": [],
   "source": [
    "best_model_log.score(X_test, y_test)"
   ]
  },
  {
   "cell_type": "markdown",
   "metadata": {},
   "source": [
    "## Random Forest Classifier"
   ]
  },
  {
   "cell_type": "code",
   "execution_count": null,
   "metadata": {},
   "outputs": [],
   "source": [
    "rf = RandomForestClassifier()\n",
    "pipeline_rf = Pipeline([\n",
    "    ('col_transformer', transformer),\n",
    "    ('rf', rf)\n",
    "    ])"
   ]
  },
  {
   "cell_type": "code",
   "execution_count": null,
   "metadata": {},
   "outputs": [],
   "source": [
    "pipeline_rf.fit(X_train, y_train)"
   ]
  },
  {
   "cell_type": "code",
   "execution_count": null,
   "metadata": {},
   "outputs": [],
   "source": [
    "scores_rf = cross_val_score(pipeline_rf,\n",
    "                        X_train,\n",
    "                        y_train,\n",
    "                        cv=10,\n",
    "                        n_jobs=-1,\n",
    "                        verbose=1)"
   ]
  },
  {
   "cell_type": "code",
   "execution_count": null,
   "metadata": {},
   "outputs": [],
   "source": [
    "print(scores_rf)"
   ]
  },
  {
   "cell_type": "code",
   "execution_count": null,
   "metadata": {},
   "outputs": [],
   "source": [
    "print(scores_rf.mean())"
   ]
  },
  {
   "cell_type": "code",
   "execution_count": null,
   "metadata": {},
   "outputs": [],
   "source": [
    "# Dictionary with parameters names (str) as keys and lists of parameter settings to try as values.\n",
    "param_grid_rf = {'rf__n_estimators': [100, 150, 200],\n",
    "                 'rf__criterion': ['gini', 'entropi', 'log_loss'],\n",
    "                 'rf__max_features': ['auto', 'sqrt', 'log2'],\n",
    "                 'rf__max_depth': [4, 5, 6, 7, 8]}"
   ]
  },
  {
   "cell_type": "code",
   "execution_count": null,
   "metadata": {},
   "outputs": [],
   "source": [
    "# Create a GridSearchCV object\n",
    "grid_search_rf = GridSearchCV(estimator = pipeline_rf,\n",
    "                                 param_grid = param_grid_rf,\n",
    "                                 scoring = 'accuracy',\n",
    "                                 refit = True,\n",
    "                                 n_jobs = -1,\n",
    "                                 verbose = 3)"
   ]
  },
  {
   "cell_type": "code",
   "execution_count": null,
   "metadata": {},
   "outputs": [],
   "source": [
    "# Get the start time\n",
    "start = time.perf_counter()"
   ]
  },
  {
   "cell_type": "code",
   "execution_count": null,
   "metadata": {},
   "outputs": [],
   "source": [
    "# Run fit with all sets of parameters\n",
    "grid_search_rf.fit(X_train, y_train)"
   ]
  },
  {
   "cell_type": "code",
   "execution_count": null,
   "metadata": {},
   "outputs": [],
   "source": [
    "# The the final time of processing\n",
    "end = time.perf_counter()"
   ]
  },
  {
   "cell_type": "code",
   "execution_count": null,
   "metadata": {},
   "outputs": [],
   "source": [
    "# Total time to run GridSearchCV\n",
    "print(f'GridSearchCV processing time: {round((end-start), 2)} s')"
   ]
  },
  {
   "cell_type": "code",
   "execution_count": null,
   "metadata": {},
   "outputs": [],
   "source": [
    "# Store the best model into a variable\n",
    "best_model_rf = grid_search_logistic.best_estimator_"
   ]
  },
  {
   "cell_type": "code",
   "execution_count": null,
   "metadata": {},
   "outputs": [],
   "source": [
    "joblib.dump(best_model_rf, \"RANDOM_FOREST_model.pkl\")"
   ]
  },
  {
   "cell_type": "code",
   "execution_count": null,
   "metadata": {},
   "outputs": [],
   "source": [
    "dill.dump_session('notebook_env_RANDOM_FOREST.db')"
   ]
  },
  {
   "cell_type": "code",
   "execution_count": null,
   "metadata": {},
   "outputs": [],
   "source": [
    "best_model_rf.score(X_test, y_test)"
   ]
  },
  {
   "cell_type": "markdown",
   "metadata": {},
   "source": [
    "##### END"
   ]
  }
 ],
 "metadata": {
  "kernelspec": {
   "display_name": "Python 3 (ipykernel)",
   "language": "python",
   "name": "python3"
  },
  "language_info": {
   "codemirror_mode": {
    "name": "ipython",
    "version": 3
   },
   "file_extension": ".py",
   "mimetype": "text/x-python",
   "name": "python",
   "nbconvert_exporter": "python",
   "pygments_lexer": "ipython3",
   "version": "3.9.12"
  },
  "vscode": {
   "interpreter": {
    "hash": "cd78fef2128015050713e82ca51c6520b11aee7c9ee8df750520bbbc7384cbaa"
   }
  }
 },
 "nbformat": 4,
 "nbformat_minor": 2
}
