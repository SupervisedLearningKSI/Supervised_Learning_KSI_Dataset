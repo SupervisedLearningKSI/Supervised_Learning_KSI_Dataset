{
 "cells": [
  {
   "cell_type": "code",
   "execution_count": 1,
   "metadata": {},
   "outputs": [],
   "source": [
    "import numpy as np\n",
    "import pandas as pd\n",
    "import time\n",
    "import math\n",
    "from sklearn.impute import SimpleImputer\n",
    "from sklearn.pipeline import Pipeline\n",
    "from sklearn.preprocessing import OneHotEncoder, StandardScaler\n",
    "from sklearn.compose import ColumnTransformer\n",
    "from sklearn.tree import DecisionTreeClassifier\n",
    "from sklearn.tree import export_graphviz\n",
    "from sklearn.svm import SVC\n",
    "from sklearn.linear_model import LogisticRegression\n",
    "from sklearn.model_selection import cross_val_score, cross_val_predict, GridSearchCV, RandomizedSearchCV, train_test_split\n",
    "from sklearn.metrics import confusion_matrix, classification_report, accuracy_score\n",
    "from sklearn.ensemble import RandomForestClassifier\n",
    "from sklearn.feature_selection import SelectFromModel\n",
    "import matplotlib.pyplot as plt\n",
    "%matplotlib inline\n",
    "import seaborn as sns\n",
    "import os"
   ]
  },
  {
   "cell_type": "code",
   "execution_count": 2,
   "metadata": {},
   "outputs": [],
   "source": [
    "# Helper Function to plot confusion Matrix\n",
    "def plot_confusion_matrix(confusion_matrix, y_limit: list, model:str, color_map: str):\n",
    "    #Plot the confusion Matrix\n",
    "    fig, ax = plt.subplots(figsize=(10,6))\n",
    "    title = f'Confusion matrix: {model}'\n",
    "    # create heatmap\n",
    "    sns.heatmap(confusion_matrix, annot = True, cmap = color_map ,fmt='g')\n",
    "    ax.xaxis.set_label_position(\"top\")\n",
    "    ax.set_ylim(y_limit)\n",
    "    ax.xaxis.set_ticklabels(['0','1'])\n",
    "    ax.yaxis.set_ticklabels(['0','1'])\n",
    "    plt.title(title, fontsize=20, pad=10.0)\n",
    "    plt.ylabel('Actual label', fontsize='large')\n",
    "    plt.xlabel('Predicted label', fontsize='large')\n",
    "    plt.tight_layout()"
   ]
  },
  {
   "cell_type": "code",
   "execution_count": 3,
   "metadata": {},
   "outputs": [],
   "source": [
    "df_ksi = pd.read_csv('KSI.csv')"
   ]
  },
  {
   "cell_type": "code",
   "execution_count": 4,
   "metadata": {},
   "outputs": [],
   "source": [
    "pd.set_option('display.max_columns', None)"
   ]
  },
  {
   "cell_type": "code",
   "execution_count": 5,
   "metadata": {},
   "outputs": [
    {
     "data": {
      "text/html": [
       "<div>\n",
       "<style scoped>\n",
       "    .dataframe tbody tr th:only-of-type {\n",
       "        vertical-align: middle;\n",
       "    }\n",
       "\n",
       "    .dataframe tbody tr th {\n",
       "        vertical-align: top;\n",
       "    }\n",
       "\n",
       "    .dataframe thead th {\n",
       "        text-align: right;\n",
       "    }\n",
       "</style>\n",
       "<table border=\"1\" class=\"dataframe\">\n",
       "  <thead>\n",
       "    <tr style=\"text-align: right;\">\n",
       "      <th></th>\n",
       "      <th>X</th>\n",
       "      <th>Y</th>\n",
       "      <th>INDEX_</th>\n",
       "      <th>ACCNUM</th>\n",
       "      <th>YEAR</th>\n",
       "      <th>DATE</th>\n",
       "      <th>TIME</th>\n",
       "      <th>HOUR</th>\n",
       "      <th>STREET1</th>\n",
       "      <th>STREET2</th>\n",
       "      <th>OFFSET</th>\n",
       "      <th>ROAD_CLASS</th>\n",
       "      <th>DISTRICT</th>\n",
       "      <th>WARDNUM</th>\n",
       "      <th>DIVISION</th>\n",
       "      <th>LATITUDE</th>\n",
       "      <th>LONGITUDE</th>\n",
       "      <th>LOCCOORD</th>\n",
       "      <th>ACCLOC</th>\n",
       "      <th>TRAFFCTL</th>\n",
       "      <th>VISIBILITY</th>\n",
       "      <th>LIGHT</th>\n",
       "      <th>RDSFCOND</th>\n",
       "      <th>ACCLASS</th>\n",
       "      <th>IMPACTYPE</th>\n",
       "      <th>INVTYPE</th>\n",
       "      <th>INVAGE</th>\n",
       "      <th>INJURY</th>\n",
       "      <th>FATAL_NO</th>\n",
       "      <th>INITDIR</th>\n",
       "      <th>VEHTYPE</th>\n",
       "      <th>MANOEUVER</th>\n",
       "      <th>DRIVACT</th>\n",
       "      <th>DRIVCOND</th>\n",
       "      <th>PEDTYPE</th>\n",
       "      <th>PEDACT</th>\n",
       "      <th>PEDCOND</th>\n",
       "      <th>CYCLISTYPE</th>\n",
       "      <th>CYCACT</th>\n",
       "      <th>CYCCOND</th>\n",
       "      <th>PEDESTRIAN</th>\n",
       "      <th>CYCLIST</th>\n",
       "      <th>AUTOMOBILE</th>\n",
       "      <th>MOTORCYCLE</th>\n",
       "      <th>TRUCK</th>\n",
       "      <th>TRSN_CITY_VEH</th>\n",
       "      <th>EMERG_VEH</th>\n",
       "      <th>PASSENGER</th>\n",
       "      <th>SPEEDING</th>\n",
       "      <th>AG_DRIV</th>\n",
       "      <th>REDLIGHT</th>\n",
       "      <th>ALCOHOL</th>\n",
       "      <th>DISABILITY</th>\n",
       "      <th>POLICE_DIVISION</th>\n",
       "      <th>HOOD_ID</th>\n",
       "      <th>NEIGHBOURHOOD</th>\n",
       "      <th>ObjectId</th>\n",
       "    </tr>\n",
       "  </thead>\n",
       "  <tbody>\n",
       "    <tr>\n",
       "      <th>0</th>\n",
       "      <td>-8.844611e+06</td>\n",
       "      <td>5.412414e+06</td>\n",
       "      <td>3387730</td>\n",
       "      <td>892658</td>\n",
       "      <td>2006</td>\n",
       "      <td>2006/03/11 05:00:00+00</td>\n",
       "      <td>852</td>\n",
       "      <td>8</td>\n",
       "      <td>BLOOR ST W</td>\n",
       "      <td>DUNDAS ST W</td>\n",
       "      <td>&lt;Null&gt;</td>\n",
       "      <td>Major Arterial</td>\n",
       "      <td>Toronto and East York</td>\n",
       "      <td>4</td>\n",
       "      <td>11</td>\n",
       "      <td>43.656345</td>\n",
       "      <td>-79.452490</td>\n",
       "      <td>Intersection</td>\n",
       "      <td>At Intersection</td>\n",
       "      <td>Traffic Signal</td>\n",
       "      <td>Clear</td>\n",
       "      <td>Daylight</td>\n",
       "      <td>Dry</td>\n",
       "      <td>Fatal</td>\n",
       "      <td>Pedestrian Collisions</td>\n",
       "      <td>Driver</td>\n",
       "      <td>unknown</td>\n",
       "      <td>None</td>\n",
       "      <td>&lt;Null&gt;</td>\n",
       "      <td>South</td>\n",
       "      <td>Automobile, Station Wagon</td>\n",
       "      <td>Turning Left</td>\n",
       "      <td>Failed to Yield Right of Way</td>\n",
       "      <td>Unknown</td>\n",
       "      <td>&lt;Null&gt;</td>\n",
       "      <td>&lt;Null&gt;</td>\n",
       "      <td>&lt;Null&gt;</td>\n",
       "      <td>&lt;Null&gt;</td>\n",
       "      <td>&lt;Null&gt;</td>\n",
       "      <td>&lt;Null&gt;</td>\n",
       "      <td>Yes</td>\n",
       "      <td>&lt;Null&gt;</td>\n",
       "      <td>Yes</td>\n",
       "      <td>&lt;Null&gt;</td>\n",
       "      <td>&lt;Null&gt;</td>\n",
       "      <td>&lt;Null&gt;</td>\n",
       "      <td>&lt;Null&gt;</td>\n",
       "      <td>&lt;Null&gt;</td>\n",
       "      <td>&lt;Null&gt;</td>\n",
       "      <td>Yes</td>\n",
       "      <td>&lt;Null&gt;</td>\n",
       "      <td>&lt;Null&gt;</td>\n",
       "      <td>&lt;Null&gt;</td>\n",
       "      <td>D11</td>\n",
       "      <td>88</td>\n",
       "      <td>High Park North (88)</td>\n",
       "      <td>1</td>\n",
       "    </tr>\n",
       "    <tr>\n",
       "      <th>1</th>\n",
       "      <td>-8.844611e+06</td>\n",
       "      <td>5.412414e+06</td>\n",
       "      <td>3387731</td>\n",
       "      <td>892658</td>\n",
       "      <td>2006</td>\n",
       "      <td>2006/03/11 05:00:00+00</td>\n",
       "      <td>852</td>\n",
       "      <td>8</td>\n",
       "      <td>BLOOR ST W</td>\n",
       "      <td>DUNDAS ST W</td>\n",
       "      <td>&lt;Null&gt;</td>\n",
       "      <td>Major Arterial</td>\n",
       "      <td>Toronto and East York</td>\n",
       "      <td>4</td>\n",
       "      <td>11</td>\n",
       "      <td>43.656345</td>\n",
       "      <td>-79.452490</td>\n",
       "      <td>Intersection</td>\n",
       "      <td>At Intersection</td>\n",
       "      <td>Traffic Signal</td>\n",
       "      <td>Clear</td>\n",
       "      <td>Daylight</td>\n",
       "      <td>Dry</td>\n",
       "      <td>Fatal</td>\n",
       "      <td>Pedestrian Collisions</td>\n",
       "      <td>Pedestrian</td>\n",
       "      <td>65 to 69</td>\n",
       "      <td>Fatal</td>\n",
       "      <td>&lt;Null&gt;</td>\n",
       "      <td>North</td>\n",
       "      <td>Other</td>\n",
       "      <td>&lt;Null&gt;</td>\n",
       "      <td>&lt;Null&gt;</td>\n",
       "      <td>&lt;Null&gt;</td>\n",
       "      <td>Vehicle turns left while ped crosses with ROW ...</td>\n",
       "      <td>Crossing with right of way</td>\n",
       "      <td>Unknown</td>\n",
       "      <td>&lt;Null&gt;</td>\n",
       "      <td>&lt;Null&gt;</td>\n",
       "      <td>&lt;Null&gt;</td>\n",
       "      <td>Yes</td>\n",
       "      <td>&lt;Null&gt;</td>\n",
       "      <td>Yes</td>\n",
       "      <td>&lt;Null&gt;</td>\n",
       "      <td>&lt;Null&gt;</td>\n",
       "      <td>&lt;Null&gt;</td>\n",
       "      <td>&lt;Null&gt;</td>\n",
       "      <td>&lt;Null&gt;</td>\n",
       "      <td>&lt;Null&gt;</td>\n",
       "      <td>Yes</td>\n",
       "      <td>&lt;Null&gt;</td>\n",
       "      <td>&lt;Null&gt;</td>\n",
       "      <td>&lt;Null&gt;</td>\n",
       "      <td>D11</td>\n",
       "      <td>88</td>\n",
       "      <td>High Park North (88)</td>\n",
       "      <td>2</td>\n",
       "    </tr>\n",
       "    <tr>\n",
       "      <th>2</th>\n",
       "      <td>-8.816480e+06</td>\n",
       "      <td>5.434843e+06</td>\n",
       "      <td>3388101</td>\n",
       "      <td>892810</td>\n",
       "      <td>2006</td>\n",
       "      <td>2006/03/11 05:00:00+00</td>\n",
       "      <td>915</td>\n",
       "      <td>9</td>\n",
       "      <td>MORNINGSIDE AVE</td>\n",
       "      <td>SHEPPARD AVE E</td>\n",
       "      <td>&lt;Null&gt;</td>\n",
       "      <td>Major Arterial</td>\n",
       "      <td>Scarborough</td>\n",
       "      <td>25</td>\n",
       "      <td>42</td>\n",
       "      <td>43.801943</td>\n",
       "      <td>-79.199786</td>\n",
       "      <td>Intersection</td>\n",
       "      <td>At Intersection</td>\n",
       "      <td>Traffic Signal</td>\n",
       "      <td>Clear</td>\n",
       "      <td>Daylight</td>\n",
       "      <td>Dry</td>\n",
       "      <td>Fatal</td>\n",
       "      <td>Turning Movement</td>\n",
       "      <td>Motorcycle Driver</td>\n",
       "      <td>45 to 49</td>\n",
       "      <td>Fatal</td>\n",
       "      <td>&lt;Null&gt;</td>\n",
       "      <td>East</td>\n",
       "      <td>Motorcycle</td>\n",
       "      <td>Turning Right</td>\n",
       "      <td>Disobeyed Traffic Control</td>\n",
       "      <td>Unknown</td>\n",
       "      <td>&lt;Null&gt;</td>\n",
       "      <td>&lt;Null&gt;</td>\n",
       "      <td>&lt;Null&gt;</td>\n",
       "      <td>&lt;Null&gt;</td>\n",
       "      <td>&lt;Null&gt;</td>\n",
       "      <td>&lt;Null&gt;</td>\n",
       "      <td>&lt;Null&gt;</td>\n",
       "      <td>&lt;Null&gt;</td>\n",
       "      <td>Yes</td>\n",
       "      <td>Yes</td>\n",
       "      <td>&lt;Null&gt;</td>\n",
       "      <td>&lt;Null&gt;</td>\n",
       "      <td>&lt;Null&gt;</td>\n",
       "      <td>&lt;Null&gt;</td>\n",
       "      <td>&lt;Null&gt;</td>\n",
       "      <td>Yes</td>\n",
       "      <td>Yes</td>\n",
       "      <td>&lt;Null&gt;</td>\n",
       "      <td>&lt;Null&gt;</td>\n",
       "      <td>D42</td>\n",
       "      <td>131</td>\n",
       "      <td>Rouge (131)</td>\n",
       "      <td>3</td>\n",
       "    </tr>\n",
       "    <tr>\n",
       "      <th>3</th>\n",
       "      <td>-8.816480e+06</td>\n",
       "      <td>5.434843e+06</td>\n",
       "      <td>3388102</td>\n",
       "      <td>892810</td>\n",
       "      <td>2006</td>\n",
       "      <td>2006/03/11 05:00:00+00</td>\n",
       "      <td>915</td>\n",
       "      <td>9</td>\n",
       "      <td>MORNINGSIDE AVE</td>\n",
       "      <td>SHEPPARD AVE E</td>\n",
       "      <td>&lt;Null&gt;</td>\n",
       "      <td>Major Arterial</td>\n",
       "      <td>Scarborough</td>\n",
       "      <td>25</td>\n",
       "      <td>42</td>\n",
       "      <td>43.801943</td>\n",
       "      <td>-79.199786</td>\n",
       "      <td>Intersection</td>\n",
       "      <td>At Intersection</td>\n",
       "      <td>Traffic Signal</td>\n",
       "      <td>Clear</td>\n",
       "      <td>Daylight</td>\n",
       "      <td>Dry</td>\n",
       "      <td>Fatal</td>\n",
       "      <td>Turning Movement</td>\n",
       "      <td>Driver</td>\n",
       "      <td>unknown</td>\n",
       "      <td>None</td>\n",
       "      <td>&lt;Null&gt;</td>\n",
       "      <td>South</td>\n",
       "      <td>Automobile, Station Wagon</td>\n",
       "      <td>Going Ahead</td>\n",
       "      <td>Driving Properly</td>\n",
       "      <td>Unknown</td>\n",
       "      <td>&lt;Null&gt;</td>\n",
       "      <td>&lt;Null&gt;</td>\n",
       "      <td>&lt;Null&gt;</td>\n",
       "      <td>&lt;Null&gt;</td>\n",
       "      <td>&lt;Null&gt;</td>\n",
       "      <td>&lt;Null&gt;</td>\n",
       "      <td>&lt;Null&gt;</td>\n",
       "      <td>&lt;Null&gt;</td>\n",
       "      <td>Yes</td>\n",
       "      <td>Yes</td>\n",
       "      <td>&lt;Null&gt;</td>\n",
       "      <td>&lt;Null&gt;</td>\n",
       "      <td>&lt;Null&gt;</td>\n",
       "      <td>&lt;Null&gt;</td>\n",
       "      <td>&lt;Null&gt;</td>\n",
       "      <td>Yes</td>\n",
       "      <td>Yes</td>\n",
       "      <td>&lt;Null&gt;</td>\n",
       "      <td>&lt;Null&gt;</td>\n",
       "      <td>D42</td>\n",
       "      <td>131</td>\n",
       "      <td>Rouge (131)</td>\n",
       "      <td>4</td>\n",
       "    </tr>\n",
       "    <tr>\n",
       "      <th>4</th>\n",
       "      <td>-8.822759e+06</td>\n",
       "      <td>5.424516e+06</td>\n",
       "      <td>3387793</td>\n",
       "      <td>892682</td>\n",
       "      <td>2006</td>\n",
       "      <td>2006/03/12 05:00:00+00</td>\n",
       "      <td>240</td>\n",
       "      <td>2</td>\n",
       "      <td>EGLINTON AVE E</td>\n",
       "      <td>COMMONWEALTH AVE</td>\n",
       "      <td>&lt;Null&gt;</td>\n",
       "      <td>Major Arterial</td>\n",
       "      <td>Scarborough</td>\n",
       "      <td>21,20</td>\n",
       "      <td>41</td>\n",
       "      <td>43.734945</td>\n",
       "      <td>-79.256190</td>\n",
       "      <td>Mid-Block</td>\n",
       "      <td>&lt;Null&gt;</td>\n",
       "      <td>No Control</td>\n",
       "      <td>Clear</td>\n",
       "      <td>Dark</td>\n",
       "      <td>Dry</td>\n",
       "      <td>Fatal</td>\n",
       "      <td>Pedestrian Collisions</td>\n",
       "      <td>Driver</td>\n",
       "      <td>25 to 29</td>\n",
       "      <td>None</td>\n",
       "      <td>&lt;Null&gt;</td>\n",
       "      <td>West</td>\n",
       "      <td>Automobile, Station Wagon</td>\n",
       "      <td>Going Ahead</td>\n",
       "      <td>Other</td>\n",
       "      <td>Ability Impaired, Alcohol</td>\n",
       "      <td>&lt;Null&gt;</td>\n",
       "      <td>&lt;Null&gt;</td>\n",
       "      <td>&lt;Null&gt;</td>\n",
       "      <td>&lt;Null&gt;</td>\n",
       "      <td>&lt;Null&gt;</td>\n",
       "      <td>&lt;Null&gt;</td>\n",
       "      <td>Yes</td>\n",
       "      <td>&lt;Null&gt;</td>\n",
       "      <td>Yes</td>\n",
       "      <td>&lt;Null&gt;</td>\n",
       "      <td>&lt;Null&gt;</td>\n",
       "      <td>&lt;Null&gt;</td>\n",
       "      <td>&lt;Null&gt;</td>\n",
       "      <td>&lt;Null&gt;</td>\n",
       "      <td>&lt;Null&gt;</td>\n",
       "      <td>&lt;Null&gt;</td>\n",
       "      <td>&lt;Null&gt;</td>\n",
       "      <td>Yes</td>\n",
       "      <td>&lt;Null&gt;</td>\n",
       "      <td>D41</td>\n",
       "      <td>138</td>\n",
       "      <td>Eglinton East (138)</td>\n",
       "      <td>5</td>\n",
       "    </tr>\n",
       "  </tbody>\n",
       "</table>\n",
       "</div>"
      ],
      "text/plain": [
       "              X             Y   INDEX_  ACCNUM  YEAR                    DATE  \\\n",
       "0 -8.844611e+06  5.412414e+06  3387730  892658  2006  2006/03/11 05:00:00+00   \n",
       "1 -8.844611e+06  5.412414e+06  3387731  892658  2006  2006/03/11 05:00:00+00   \n",
       "2 -8.816480e+06  5.434843e+06  3388101  892810  2006  2006/03/11 05:00:00+00   \n",
       "3 -8.816480e+06  5.434843e+06  3388102  892810  2006  2006/03/11 05:00:00+00   \n",
       "4 -8.822759e+06  5.424516e+06  3387793  892682  2006  2006/03/12 05:00:00+00   \n",
       "\n",
       "   TIME  HOUR          STREET1           STREET2  OFFSET      ROAD_CLASS  \\\n",
       "0   852     8       BLOOR ST W       DUNDAS ST W  <Null>  Major Arterial   \n",
       "1   852     8       BLOOR ST W       DUNDAS ST W  <Null>  Major Arterial   \n",
       "2   915     9  MORNINGSIDE AVE    SHEPPARD AVE E  <Null>  Major Arterial   \n",
       "3   915     9  MORNINGSIDE AVE    SHEPPARD AVE E  <Null>  Major Arterial   \n",
       "4   240     2   EGLINTON AVE E  COMMONWEALTH AVE  <Null>  Major Arterial   \n",
       "\n",
       "                DISTRICT WARDNUM DIVISION   LATITUDE  LONGITUDE      LOCCOORD  \\\n",
       "0  Toronto and East York       4       11  43.656345 -79.452490  Intersection   \n",
       "1  Toronto and East York       4       11  43.656345 -79.452490  Intersection   \n",
       "2            Scarborough      25       42  43.801943 -79.199786  Intersection   \n",
       "3            Scarborough      25       42  43.801943 -79.199786  Intersection   \n",
       "4            Scarborough   21,20       41  43.734945 -79.256190     Mid-Block   \n",
       "\n",
       "            ACCLOC        TRAFFCTL VISIBILITY     LIGHT RDSFCOND ACCLASS  \\\n",
       "0  At Intersection  Traffic Signal      Clear  Daylight      Dry   Fatal   \n",
       "1  At Intersection  Traffic Signal      Clear  Daylight      Dry   Fatal   \n",
       "2  At Intersection  Traffic Signal      Clear  Daylight      Dry   Fatal   \n",
       "3  At Intersection  Traffic Signal      Clear  Daylight      Dry   Fatal   \n",
       "4           <Null>      No Control      Clear      Dark      Dry   Fatal   \n",
       "\n",
       "               IMPACTYPE            INVTYPE    INVAGE INJURY FATAL_NO INITDIR  \\\n",
       "0  Pedestrian Collisions             Driver   unknown   None   <Null>   South   \n",
       "1  Pedestrian Collisions         Pedestrian  65 to 69  Fatal   <Null>   North   \n",
       "2       Turning Movement  Motorcycle Driver  45 to 49  Fatal   <Null>    East   \n",
       "3       Turning Movement             Driver   unknown   None   <Null>   South   \n",
       "4  Pedestrian Collisions             Driver  25 to 29   None   <Null>    West   \n",
       "\n",
       "                     VEHTYPE      MANOEUVER                       DRIVACT  \\\n",
       "0  Automobile, Station Wagon   Turning Left  Failed to Yield Right of Way   \n",
       "1                      Other         <Null>                        <Null>   \n",
       "2                 Motorcycle  Turning Right     Disobeyed Traffic Control   \n",
       "3  Automobile, Station Wagon    Going Ahead              Driving Properly   \n",
       "4  Automobile, Station Wagon    Going Ahead                         Other   \n",
       "\n",
       "                    DRIVCOND  \\\n",
       "0                    Unknown   \n",
       "1                     <Null>   \n",
       "2                    Unknown   \n",
       "3                    Unknown   \n",
       "4  Ability Impaired, Alcohol   \n",
       "\n",
       "                                             PEDTYPE  \\\n",
       "0                                             <Null>   \n",
       "1  Vehicle turns left while ped crosses with ROW ...   \n",
       "2                                             <Null>   \n",
       "3                                             <Null>   \n",
       "4                                             <Null>   \n",
       "\n",
       "                       PEDACT  PEDCOND CYCLISTYPE  CYCACT CYCCOND PEDESTRIAN  \\\n",
       "0                      <Null>   <Null>     <Null>  <Null>  <Null>        Yes   \n",
       "1  Crossing with right of way  Unknown     <Null>  <Null>  <Null>        Yes   \n",
       "2                      <Null>   <Null>     <Null>  <Null>  <Null>     <Null>   \n",
       "3                      <Null>   <Null>     <Null>  <Null>  <Null>     <Null>   \n",
       "4                      <Null>   <Null>     <Null>  <Null>  <Null>        Yes   \n",
       "\n",
       "  CYCLIST AUTOMOBILE MOTORCYCLE   TRUCK TRSN_CITY_VEH EMERG_VEH PASSENGER  \\\n",
       "0  <Null>        Yes     <Null>  <Null>        <Null>    <Null>    <Null>   \n",
       "1  <Null>        Yes     <Null>  <Null>        <Null>    <Null>    <Null>   \n",
       "2  <Null>        Yes        Yes  <Null>        <Null>    <Null>    <Null>   \n",
       "3  <Null>        Yes        Yes  <Null>        <Null>    <Null>    <Null>   \n",
       "4  <Null>        Yes     <Null>  <Null>        <Null>    <Null>    <Null>   \n",
       "\n",
       "  SPEEDING AG_DRIV REDLIGHT ALCOHOL DISABILITY POLICE_DIVISION  HOOD_ID  \\\n",
       "0   <Null>     Yes   <Null>  <Null>     <Null>             D11       88   \n",
       "1   <Null>     Yes   <Null>  <Null>     <Null>             D11       88   \n",
       "2   <Null>     Yes      Yes  <Null>     <Null>             D42      131   \n",
       "3   <Null>     Yes      Yes  <Null>     <Null>             D42      131   \n",
       "4   <Null>  <Null>   <Null>     Yes     <Null>             D41      138   \n",
       "\n",
       "          NEIGHBOURHOOD  ObjectId  \n",
       "0  High Park North (88)         1  \n",
       "1  High Park North (88)         2  \n",
       "2           Rouge (131)         3  \n",
       "3           Rouge (131)         4  \n",
       "4   Eglinton East (138)         5  "
      ]
     },
     "execution_count": 5,
     "metadata": {},
     "output_type": "execute_result"
    }
   ],
   "source": [
    "df_ksi.head()"
   ]
  },
  {
   "cell_type": "code",
   "execution_count": 6,
   "metadata": {},
   "outputs": [
    {
     "data": {
      "text/html": [
       "<div>\n",
       "<style scoped>\n",
       "    .dataframe tbody tr th:only-of-type {\n",
       "        vertical-align: middle;\n",
       "    }\n",
       "\n",
       "    .dataframe tbody tr th {\n",
       "        vertical-align: top;\n",
       "    }\n",
       "\n",
       "    .dataframe thead th {\n",
       "        text-align: right;\n",
       "    }\n",
       "</style>\n",
       "<table border=\"1\" class=\"dataframe\">\n",
       "  <thead>\n",
       "    <tr style=\"text-align: right;\">\n",
       "      <th></th>\n",
       "      <th>X</th>\n",
       "      <th>Y</th>\n",
       "      <th>INDEX_</th>\n",
       "      <th>ACCNUM</th>\n",
       "      <th>YEAR</th>\n",
       "      <th>DATE</th>\n",
       "      <th>TIME</th>\n",
       "      <th>HOUR</th>\n",
       "      <th>STREET1</th>\n",
       "      <th>STREET2</th>\n",
       "      <th>OFFSET</th>\n",
       "      <th>ROAD_CLASS</th>\n",
       "      <th>DISTRICT</th>\n",
       "      <th>WARDNUM</th>\n",
       "      <th>DIVISION</th>\n",
       "      <th>LATITUDE</th>\n",
       "      <th>LONGITUDE</th>\n",
       "      <th>LOCCOORD</th>\n",
       "      <th>ACCLOC</th>\n",
       "      <th>TRAFFCTL</th>\n",
       "      <th>VISIBILITY</th>\n",
       "      <th>LIGHT</th>\n",
       "      <th>RDSFCOND</th>\n",
       "      <th>ACCLASS</th>\n",
       "      <th>IMPACTYPE</th>\n",
       "      <th>INVTYPE</th>\n",
       "      <th>INVAGE</th>\n",
       "      <th>INJURY</th>\n",
       "      <th>FATAL_NO</th>\n",
       "      <th>INITDIR</th>\n",
       "      <th>VEHTYPE</th>\n",
       "      <th>MANOEUVER</th>\n",
       "      <th>DRIVACT</th>\n",
       "      <th>DRIVCOND</th>\n",
       "      <th>PEDTYPE</th>\n",
       "      <th>PEDACT</th>\n",
       "      <th>PEDCOND</th>\n",
       "      <th>CYCLISTYPE</th>\n",
       "      <th>CYCACT</th>\n",
       "      <th>CYCCOND</th>\n",
       "      <th>PEDESTRIAN</th>\n",
       "      <th>CYCLIST</th>\n",
       "      <th>AUTOMOBILE</th>\n",
       "      <th>MOTORCYCLE</th>\n",
       "      <th>TRUCK</th>\n",
       "      <th>TRSN_CITY_VEH</th>\n",
       "      <th>EMERG_VEH</th>\n",
       "      <th>PASSENGER</th>\n",
       "      <th>SPEEDING</th>\n",
       "      <th>AG_DRIV</th>\n",
       "      <th>REDLIGHT</th>\n",
       "      <th>ALCOHOL</th>\n",
       "      <th>DISABILITY</th>\n",
       "      <th>POLICE_DIVISION</th>\n",
       "      <th>HOOD_ID</th>\n",
       "      <th>NEIGHBOURHOOD</th>\n",
       "      <th>ObjectId</th>\n",
       "    </tr>\n",
       "  </thead>\n",
       "  <tbody>\n",
       "    <tr>\n",
       "      <th>16855</th>\n",
       "      <td>-8.820837e+06</td>\n",
       "      <td>5.421411e+06</td>\n",
       "      <td>81509784</td>\n",
       "      <td>1636966</td>\n",
       "      <td>2020</td>\n",
       "      <td>2020/08/30 04:00:00+00</td>\n",
       "      <td>1340</td>\n",
       "      <td>13</td>\n",
       "      <td>BRIMLEY RD</td>\n",
       "      <td>BARKDENE HILLS</td>\n",
       "      <td>50 m South of</td>\n",
       "      <td>&lt;Null&gt;</td>\n",
       "      <td>&lt;Null&gt;</td>\n",
       "      <td>&lt;Null&gt;</td>\n",
       "      <td>&lt;Null&gt;</td>\n",
       "      <td>43.714793</td>\n",
       "      <td>-79.238926</td>\n",
       "      <td>Mid-Block</td>\n",
       "      <td>Non Intersection</td>\n",
       "      <td>No Control</td>\n",
       "      <td>Clear</td>\n",
       "      <td>Daylight</td>\n",
       "      <td>Dry</td>\n",
       "      <td>Non-Fatal Injury</td>\n",
       "      <td>Cyclist Collisions</td>\n",
       "      <td>Cyclist</td>\n",
       "      <td>25 to 29</td>\n",
       "      <td>Major</td>\n",
       "      <td>&lt;Null&gt;</td>\n",
       "      <td>North</td>\n",
       "      <td>Bicycle</td>\n",
       "      <td>Going Ahead</td>\n",
       "      <td>&lt;Null&gt;</td>\n",
       "      <td>&lt;Null&gt;</td>\n",
       "      <td>&lt;Null&gt;</td>\n",
       "      <td>&lt;Null&gt;</td>\n",
       "      <td>&lt;Null&gt;</td>\n",
       "      <td>&lt;Null&gt;</td>\n",
       "      <td>Driving Properly</td>\n",
       "      <td>Normal</td>\n",
       "      <td>&lt;Null&gt;</td>\n",
       "      <td>Yes</td>\n",
       "      <td>Yes</td>\n",
       "      <td>&lt;Null&gt;</td>\n",
       "      <td>&lt;Null&gt;</td>\n",
       "      <td>&lt;Null&gt;</td>\n",
       "      <td>&lt;Null&gt;</td>\n",
       "      <td>&lt;Null&gt;</td>\n",
       "      <td>&lt;Null&gt;</td>\n",
       "      <td>Yes</td>\n",
       "      <td>&lt;Null&gt;</td>\n",
       "      <td>&lt;Null&gt;</td>\n",
       "      <td>&lt;Null&gt;</td>\n",
       "      <td>D41</td>\n",
       "      <td>123</td>\n",
       "      <td>Cliffcrest (123)</td>\n",
       "      <td>16856</td>\n",
       "    </tr>\n",
       "    <tr>\n",
       "      <th>16856</th>\n",
       "      <td>-8.820068e+06</td>\n",
       "      <td>5.425334e+06</td>\n",
       "      <td>81505452</td>\n",
       "      <td>1650701</td>\n",
       "      <td>2020</td>\n",
       "      <td>2020/09/01 04:00:00+00</td>\n",
       "      <td>1205</td>\n",
       "      <td>12</td>\n",
       "      <td>EGLINTON AVE E</td>\n",
       "      <td>BELLAMY RD N</td>\n",
       "      <td>&lt;Null&gt;</td>\n",
       "      <td>Major Arterial</td>\n",
       "      <td>Scarborough</td>\n",
       "      <td>21,20</td>\n",
       "      <td>43</td>\n",
       "      <td>43.740256</td>\n",
       "      <td>-79.232021</td>\n",
       "      <td>Intersection</td>\n",
       "      <td>At Intersection</td>\n",
       "      <td>Traffic Signal</td>\n",
       "      <td>Clear</td>\n",
       "      <td>Daylight</td>\n",
       "      <td>Dry</td>\n",
       "      <td>Non-Fatal Injury</td>\n",
       "      <td>Turning Movement</td>\n",
       "      <td>Driver</td>\n",
       "      <td>65 to 69</td>\n",
       "      <td>None</td>\n",
       "      <td>&lt;Null&gt;</td>\n",
       "      <td>East</td>\n",
       "      <td>Automobile, Station Wagon</td>\n",
       "      <td>Turning Left</td>\n",
       "      <td>Failed to Yield Right of Way</td>\n",
       "      <td>Inattentive</td>\n",
       "      <td>&lt;Null&gt;</td>\n",
       "      <td>&lt;Null&gt;</td>\n",
       "      <td>&lt;Null&gt;</td>\n",
       "      <td>&lt;Null&gt;</td>\n",
       "      <td>&lt;Null&gt;</td>\n",
       "      <td>&lt;Null&gt;</td>\n",
       "      <td>&lt;Null&gt;</td>\n",
       "      <td>&lt;Null&gt;</td>\n",
       "      <td>Yes</td>\n",
       "      <td>&lt;Null&gt;</td>\n",
       "      <td>&lt;Null&gt;</td>\n",
       "      <td>&lt;Null&gt;</td>\n",
       "      <td>&lt;Null&gt;</td>\n",
       "      <td>Yes</td>\n",
       "      <td>&lt;Null&gt;</td>\n",
       "      <td>Yes</td>\n",
       "      <td>&lt;Null&gt;</td>\n",
       "      <td>&lt;Null&gt;</td>\n",
       "      <td>&lt;Null&gt;</td>\n",
       "      <td>D43</td>\n",
       "      <td>138</td>\n",
       "      <td>Eglinton East (138)</td>\n",
       "      <td>16857</td>\n",
       "    </tr>\n",
       "    <tr>\n",
       "      <th>16857</th>\n",
       "      <td>-8.820068e+06</td>\n",
       "      <td>5.425334e+06</td>\n",
       "      <td>81505453</td>\n",
       "      <td>1650701</td>\n",
       "      <td>2020</td>\n",
       "      <td>2020/09/01 04:00:00+00</td>\n",
       "      <td>1205</td>\n",
       "      <td>12</td>\n",
       "      <td>EGLINTON AVE E</td>\n",
       "      <td>BELLAMY RD N</td>\n",
       "      <td>&lt;Null&gt;</td>\n",
       "      <td>Major Arterial</td>\n",
       "      <td>Scarborough</td>\n",
       "      <td>21,20</td>\n",
       "      <td>43</td>\n",
       "      <td>43.740256</td>\n",
       "      <td>-79.232021</td>\n",
       "      <td>Intersection</td>\n",
       "      <td>At Intersection</td>\n",
       "      <td>Traffic Signal</td>\n",
       "      <td>Clear</td>\n",
       "      <td>Daylight</td>\n",
       "      <td>Dry</td>\n",
       "      <td>Non-Fatal Injury</td>\n",
       "      <td>Turning Movement</td>\n",
       "      <td>Driver</td>\n",
       "      <td>30 to 34</td>\n",
       "      <td>Minor</td>\n",
       "      <td>&lt;Null&gt;</td>\n",
       "      <td>West</td>\n",
       "      <td>Automobile, Station Wagon</td>\n",
       "      <td>Going Ahead</td>\n",
       "      <td>Driving Properly</td>\n",
       "      <td>Normal</td>\n",
       "      <td>&lt;Null&gt;</td>\n",
       "      <td>&lt;Null&gt;</td>\n",
       "      <td>&lt;Null&gt;</td>\n",
       "      <td>&lt;Null&gt;</td>\n",
       "      <td>&lt;Null&gt;</td>\n",
       "      <td>&lt;Null&gt;</td>\n",
       "      <td>&lt;Null&gt;</td>\n",
       "      <td>&lt;Null&gt;</td>\n",
       "      <td>Yes</td>\n",
       "      <td>&lt;Null&gt;</td>\n",
       "      <td>&lt;Null&gt;</td>\n",
       "      <td>&lt;Null&gt;</td>\n",
       "      <td>&lt;Null&gt;</td>\n",
       "      <td>Yes</td>\n",
       "      <td>&lt;Null&gt;</td>\n",
       "      <td>Yes</td>\n",
       "      <td>&lt;Null&gt;</td>\n",
       "      <td>&lt;Null&gt;</td>\n",
       "      <td>&lt;Null&gt;</td>\n",
       "      <td>D43</td>\n",
       "      <td>138</td>\n",
       "      <td>Eglinton East (138)</td>\n",
       "      <td>16858</td>\n",
       "    </tr>\n",
       "    <tr>\n",
       "      <th>16858</th>\n",
       "      <td>-8.820068e+06</td>\n",
       "      <td>5.425334e+06</td>\n",
       "      <td>81505454</td>\n",
       "      <td>1650701</td>\n",
       "      <td>2020</td>\n",
       "      <td>2020/09/01 04:00:00+00</td>\n",
       "      <td>1205</td>\n",
       "      <td>12</td>\n",
       "      <td>EGLINTON AVE E</td>\n",
       "      <td>BELLAMY RD N</td>\n",
       "      <td>&lt;Null&gt;</td>\n",
       "      <td>Major Arterial</td>\n",
       "      <td>Scarborough</td>\n",
       "      <td>21,20</td>\n",
       "      <td>43</td>\n",
       "      <td>43.740256</td>\n",
       "      <td>-79.232021</td>\n",
       "      <td>Intersection</td>\n",
       "      <td>At Intersection</td>\n",
       "      <td>Traffic Signal</td>\n",
       "      <td>Clear</td>\n",
       "      <td>Daylight</td>\n",
       "      <td>Dry</td>\n",
       "      <td>Non-Fatal Injury</td>\n",
       "      <td>Turning Movement</td>\n",
       "      <td>Passenger</td>\n",
       "      <td>10 to 14</td>\n",
       "      <td>Major</td>\n",
       "      <td>&lt;Null&gt;</td>\n",
       "      <td>&lt;Null&gt;</td>\n",
       "      <td>&lt;Null&gt;</td>\n",
       "      <td>&lt;Null&gt;</td>\n",
       "      <td>&lt;Null&gt;</td>\n",
       "      <td>&lt;Null&gt;</td>\n",
       "      <td>&lt;Null&gt;</td>\n",
       "      <td>&lt;Null&gt;</td>\n",
       "      <td>&lt;Null&gt;</td>\n",
       "      <td>&lt;Null&gt;</td>\n",
       "      <td>&lt;Null&gt;</td>\n",
       "      <td>&lt;Null&gt;</td>\n",
       "      <td>&lt;Null&gt;</td>\n",
       "      <td>&lt;Null&gt;</td>\n",
       "      <td>Yes</td>\n",
       "      <td>&lt;Null&gt;</td>\n",
       "      <td>&lt;Null&gt;</td>\n",
       "      <td>&lt;Null&gt;</td>\n",
       "      <td>&lt;Null&gt;</td>\n",
       "      <td>Yes</td>\n",
       "      <td>&lt;Null&gt;</td>\n",
       "      <td>Yes</td>\n",
       "      <td>&lt;Null&gt;</td>\n",
       "      <td>&lt;Null&gt;</td>\n",
       "      <td>&lt;Null&gt;</td>\n",
       "      <td>D43</td>\n",
       "      <td>138</td>\n",
       "      <td>Eglinton East (138)</td>\n",
       "      <td>16859</td>\n",
       "    </tr>\n",
       "    <tr>\n",
       "      <th>16859</th>\n",
       "      <td>-8.842562e+06</td>\n",
       "      <td>5.412998e+06</td>\n",
       "      <td>81509748</td>\n",
       "      <td>1650875</td>\n",
       "      <td>2020</td>\n",
       "      <td>2020/09/01 04:00:00+00</td>\n",
       "      <td>1238</td>\n",
       "      <td>12</td>\n",
       "      <td>BLOOR ST W</td>\n",
       "      <td>GLADSTONE AVE</td>\n",
       "      <td>9 m South of</td>\n",
       "      <td>&lt;Null&gt;</td>\n",
       "      <td>&lt;Null&gt;</td>\n",
       "      <td>&lt;Null&gt;</td>\n",
       "      <td>&lt;Null&gt;</td>\n",
       "      <td>43.660144</td>\n",
       "      <td>-79.434086</td>\n",
       "      <td>Mid-Block</td>\n",
       "      <td>Non Intersection</td>\n",
       "      <td>No Control</td>\n",
       "      <td>Clear</td>\n",
       "      <td>Daylight</td>\n",
       "      <td>Dry</td>\n",
       "      <td>Non-Fatal Injury</td>\n",
       "      <td>Cyclist Collisions</td>\n",
       "      <td>Driver</td>\n",
       "      <td>50 to 54</td>\n",
       "      <td>None</td>\n",
       "      <td>&lt;Null&gt;</td>\n",
       "      <td>East</td>\n",
       "      <td>Automobile, Station Wagon</td>\n",
       "      <td>Slowing or Stopping</td>\n",
       "      <td>Improper Lane Change</td>\n",
       "      <td>Normal</td>\n",
       "      <td>&lt;Null&gt;</td>\n",
       "      <td>&lt;Null&gt;</td>\n",
       "      <td>&lt;Null&gt;</td>\n",
       "      <td>&lt;Null&gt;</td>\n",
       "      <td>&lt;Null&gt;</td>\n",
       "      <td>&lt;Null&gt;</td>\n",
       "      <td>&lt;Null&gt;</td>\n",
       "      <td>Yes</td>\n",
       "      <td>Yes</td>\n",
       "      <td>&lt;Null&gt;</td>\n",
       "      <td>&lt;Null&gt;</td>\n",
       "      <td>&lt;Null&gt;</td>\n",
       "      <td>&lt;Null&gt;</td>\n",
       "      <td>&lt;Null&gt;</td>\n",
       "      <td>&lt;Null&gt;</td>\n",
       "      <td>&lt;Null&gt;</td>\n",
       "      <td>&lt;Null&gt;</td>\n",
       "      <td>&lt;Null&gt;</td>\n",
       "      <td>&lt;Null&gt;</td>\n",
       "      <td>D14</td>\n",
       "      <td>93</td>\n",
       "      <td>Dovercourt-Wallace Emerson-Junction (93)</td>\n",
       "      <td>16860</td>\n",
       "    </tr>\n",
       "  </tbody>\n",
       "</table>\n",
       "</div>"
      ],
      "text/plain": [
       "                  X             Y    INDEX_   ACCNUM  YEAR  \\\n",
       "16855 -8.820837e+06  5.421411e+06  81509784  1636966  2020   \n",
       "16856 -8.820068e+06  5.425334e+06  81505452  1650701  2020   \n",
       "16857 -8.820068e+06  5.425334e+06  81505453  1650701  2020   \n",
       "16858 -8.820068e+06  5.425334e+06  81505454  1650701  2020   \n",
       "16859 -8.842562e+06  5.412998e+06  81509748  1650875  2020   \n",
       "\n",
       "                         DATE  TIME  HOUR         STREET1         STREET2  \\\n",
       "16855  2020/08/30 04:00:00+00  1340    13      BRIMLEY RD  BARKDENE HILLS   \n",
       "16856  2020/09/01 04:00:00+00  1205    12  EGLINTON AVE E    BELLAMY RD N   \n",
       "16857  2020/09/01 04:00:00+00  1205    12  EGLINTON AVE E    BELLAMY RD N   \n",
       "16858  2020/09/01 04:00:00+00  1205    12  EGLINTON AVE E    BELLAMY RD N   \n",
       "16859  2020/09/01 04:00:00+00  1238    12      BLOOR ST W   GLADSTONE AVE   \n",
       "\n",
       "              OFFSET      ROAD_CLASS     DISTRICT WARDNUM DIVISION   LATITUDE  \\\n",
       "16855  50 m South of          <Null>       <Null>  <Null>   <Null>  43.714793   \n",
       "16856         <Null>  Major Arterial  Scarborough   21,20       43  43.740256   \n",
       "16857         <Null>  Major Arterial  Scarborough   21,20       43  43.740256   \n",
       "16858         <Null>  Major Arterial  Scarborough   21,20       43  43.740256   \n",
       "16859   9 m South of          <Null>       <Null>  <Null>   <Null>  43.660144   \n",
       "\n",
       "       LONGITUDE      LOCCOORD            ACCLOC        TRAFFCTL VISIBILITY  \\\n",
       "16855 -79.238926     Mid-Block  Non Intersection      No Control      Clear   \n",
       "16856 -79.232021  Intersection   At Intersection  Traffic Signal      Clear   \n",
       "16857 -79.232021  Intersection   At Intersection  Traffic Signal      Clear   \n",
       "16858 -79.232021  Intersection   At Intersection  Traffic Signal      Clear   \n",
       "16859 -79.434086     Mid-Block  Non Intersection      No Control      Clear   \n",
       "\n",
       "          LIGHT RDSFCOND           ACCLASS           IMPACTYPE    INVTYPE  \\\n",
       "16855  Daylight      Dry  Non-Fatal Injury  Cyclist Collisions    Cyclist   \n",
       "16856  Daylight      Dry  Non-Fatal Injury    Turning Movement     Driver   \n",
       "16857  Daylight      Dry  Non-Fatal Injury    Turning Movement     Driver   \n",
       "16858  Daylight      Dry  Non-Fatal Injury    Turning Movement  Passenger   \n",
       "16859  Daylight      Dry  Non-Fatal Injury  Cyclist Collisions     Driver   \n",
       "\n",
       "         INVAGE INJURY FATAL_NO INITDIR                    VEHTYPE  \\\n",
       "16855  25 to 29  Major   <Null>   North                    Bicycle   \n",
       "16856  65 to 69   None   <Null>    East  Automobile, Station Wagon   \n",
       "16857  30 to 34  Minor   <Null>    West  Automobile, Station Wagon   \n",
       "16858  10 to 14  Major   <Null>  <Null>                     <Null>   \n",
       "16859  50 to 54   None   <Null>    East  Automobile, Station Wagon   \n",
       "\n",
       "                 MANOEUVER                       DRIVACT     DRIVCOND PEDTYPE  \\\n",
       "16855          Going Ahead                        <Null>       <Null>  <Null>   \n",
       "16856         Turning Left  Failed to Yield Right of Way  Inattentive  <Null>   \n",
       "16857          Going Ahead              Driving Properly       Normal  <Null>   \n",
       "16858               <Null>                        <Null>       <Null>  <Null>   \n",
       "16859  Slowing or Stopping          Improper Lane Change       Normal  <Null>   \n",
       "\n",
       "       PEDACT PEDCOND CYCLISTYPE            CYCACT CYCCOND PEDESTRIAN CYCLIST  \\\n",
       "16855  <Null>  <Null>     <Null>  Driving Properly  Normal     <Null>     Yes   \n",
       "16856  <Null>  <Null>     <Null>            <Null>  <Null>     <Null>  <Null>   \n",
       "16857  <Null>  <Null>     <Null>            <Null>  <Null>     <Null>  <Null>   \n",
       "16858  <Null>  <Null>     <Null>            <Null>  <Null>     <Null>  <Null>   \n",
       "16859  <Null>  <Null>     <Null>            <Null>  <Null>     <Null>     Yes   \n",
       "\n",
       "      AUTOMOBILE MOTORCYCLE   TRUCK TRSN_CITY_VEH EMERG_VEH PASSENGER  \\\n",
       "16855        Yes     <Null>  <Null>        <Null>    <Null>    <Null>   \n",
       "16856        Yes     <Null>  <Null>        <Null>    <Null>       Yes   \n",
       "16857        Yes     <Null>  <Null>        <Null>    <Null>       Yes   \n",
       "16858        Yes     <Null>  <Null>        <Null>    <Null>       Yes   \n",
       "16859        Yes     <Null>  <Null>        <Null>    <Null>    <Null>   \n",
       "\n",
       "      SPEEDING AG_DRIV REDLIGHT ALCOHOL DISABILITY POLICE_DIVISION  HOOD_ID  \\\n",
       "16855   <Null>     Yes   <Null>  <Null>     <Null>             D41      123   \n",
       "16856   <Null>     Yes   <Null>  <Null>     <Null>             D43      138   \n",
       "16857   <Null>     Yes   <Null>  <Null>     <Null>             D43      138   \n",
       "16858   <Null>     Yes   <Null>  <Null>     <Null>             D43      138   \n",
       "16859   <Null>  <Null>   <Null>  <Null>     <Null>             D14       93   \n",
       "\n",
       "                                  NEIGHBOURHOOD  ObjectId  \n",
       "16855                          Cliffcrest (123)     16856  \n",
       "16856                       Eglinton East (138)     16857  \n",
       "16857                       Eglinton East (138)     16858  \n",
       "16858                       Eglinton East (138)     16859  \n",
       "16859  Dovercourt-Wallace Emerson-Junction (93)     16860  "
      ]
     },
     "execution_count": 6,
     "metadata": {},
     "output_type": "execute_result"
    }
   ],
   "source": [
    "df_ksi.tail()"
   ]
  },
  {
   "cell_type": "code",
   "execution_count": 7,
   "metadata": {},
   "outputs": [
    {
     "name": "stdout",
     "output_type": "stream",
     "text": [
      "<class 'pandas.core.frame.DataFrame'>\n",
      "RangeIndex: 16860 entries, 0 to 16859\n",
      "Data columns (total 57 columns):\n",
      " #   Column           Non-Null Count  Dtype  \n",
      "---  ------           --------------  -----  \n",
      " 0   X                16860 non-null  float64\n",
      " 1   Y                16860 non-null  float64\n",
      " 2   INDEX_           16860 non-null  int64  \n",
      " 3   ACCNUM           16860 non-null  int64  \n",
      " 4   YEAR             16860 non-null  int64  \n",
      " 5   DATE             16860 non-null  object \n",
      " 6   TIME             16860 non-null  int64  \n",
      " 7   HOUR             16860 non-null  int64  \n",
      " 8   STREET1          16860 non-null  object \n",
      " 9   STREET2          16860 non-null  object \n",
      " 10  OFFSET           16860 non-null  object \n",
      " 11  ROAD_CLASS       16860 non-null  object \n",
      " 12  DISTRICT         16860 non-null  object \n",
      " 13  WARDNUM          16860 non-null  object \n",
      " 14  DIVISION         16860 non-null  object \n",
      " 15  LATITUDE         16860 non-null  float64\n",
      " 16  LONGITUDE        16860 non-null  float64\n",
      " 17  LOCCOORD         16860 non-null  object \n",
      " 18  ACCLOC           16860 non-null  object \n",
      " 19  TRAFFCTL         16860 non-null  object \n",
      " 20  VISIBILITY       16860 non-null  object \n",
      " 21  LIGHT            16860 non-null  object \n",
      " 22  RDSFCOND         16860 non-null  object \n",
      " 23  ACCLASS          16860 non-null  object \n",
      " 24  IMPACTYPE        16860 non-null  object \n",
      " 25  INVTYPE          16860 non-null  object \n",
      " 26  INVAGE           16860 non-null  object \n",
      " 27  INJURY           16860 non-null  object \n",
      " 28  FATAL_NO         16860 non-null  object \n",
      " 29  INITDIR          16860 non-null  object \n",
      " 30  VEHTYPE          16860 non-null  object \n",
      " 31  MANOEUVER        16860 non-null  object \n",
      " 32  DRIVACT          16860 non-null  object \n",
      " 33  DRIVCOND         16860 non-null  object \n",
      " 34  PEDTYPE          16860 non-null  object \n",
      " 35  PEDACT           16860 non-null  object \n",
      " 36  PEDCOND          16860 non-null  object \n",
      " 37  CYCLISTYPE       16860 non-null  object \n",
      " 38  CYCACT           16860 non-null  object \n",
      " 39  CYCCOND          16860 non-null  object \n",
      " 40  PEDESTRIAN       16860 non-null  object \n",
      " 41  CYCLIST          16860 non-null  object \n",
      " 42  AUTOMOBILE       16860 non-null  object \n",
      " 43  MOTORCYCLE       16860 non-null  object \n",
      " 44  TRUCK            16860 non-null  object \n",
      " 45  TRSN_CITY_VEH    16860 non-null  object \n",
      " 46  EMERG_VEH        16860 non-null  object \n",
      " 47  PASSENGER        16860 non-null  object \n",
      " 48  SPEEDING         16860 non-null  object \n",
      " 49  AG_DRIV          16860 non-null  object \n",
      " 50  REDLIGHT         16860 non-null  object \n",
      " 51  ALCOHOL          16860 non-null  object \n",
      " 52  DISABILITY       16860 non-null  object \n",
      " 53  POLICE_DIVISION  16860 non-null  object \n",
      " 54  HOOD_ID          16860 non-null  int64  \n",
      " 55  NEIGHBOURHOOD    16860 non-null  object \n",
      " 56  ObjectId         16860 non-null  int64  \n",
      "dtypes: float64(4), int64(7), object(46)\n",
      "memory usage: 7.3+ MB\n"
     ]
    }
   ],
   "source": [
    "df_ksi.info()"
   ]
  },
  {
   "cell_type": "code",
   "execution_count": 8,
   "metadata": {},
   "outputs": [
    {
     "data": {
      "text/plain": [
       "'<Null>'"
      ]
     },
     "execution_count": 8,
     "metadata": {},
     "output_type": "execute_result"
    }
   ],
   "source": [
    "df_ksi['OFFSET'][0]"
   ]
  },
  {
   "cell_type": "code",
   "execution_count": 9,
   "metadata": {},
   "outputs": [
    {
     "data": {
      "text/plain": [
       "str"
      ]
     },
     "execution_count": 9,
     "metadata": {},
     "output_type": "execute_result"
    }
   ],
   "source": [
    "type(df_ksi['OFFSET'][0])"
   ]
  },
  {
   "cell_type": "code",
   "execution_count": 10,
   "metadata": {},
   "outputs": [],
   "source": [
    "df_ksi = df_ksi.replace('<Null>', np.nan, regex = True)"
   ]
  },
  {
   "cell_type": "code",
   "execution_count": 11,
   "metadata": {},
   "outputs": [
    {
     "name": "stdout",
     "output_type": "stream",
     "text": [
      "<class 'pandas.core.frame.DataFrame'>\n",
      "RangeIndex: 16860 entries, 0 to 16859\n",
      "Data columns (total 57 columns):\n",
      " #   Column           Non-Null Count  Dtype  \n",
      "---  ------           --------------  -----  \n",
      " 0   X                16860 non-null  float64\n",
      " 1   Y                16860 non-null  float64\n",
      " 2   INDEX_           16860 non-null  int64  \n",
      " 3   ACCNUM           16860 non-null  int64  \n",
      " 4   YEAR             16860 non-null  int64  \n",
      " 5   DATE             16860 non-null  object \n",
      " 6   TIME             16860 non-null  int64  \n",
      " 7   HOUR             16860 non-null  int64  \n",
      " 8   STREET1          16860 non-null  object \n",
      " 9   STREET2          15350 non-null  object \n",
      " 10  OFFSET           2746 non-null   object \n",
      " 11  ROAD_CLASS       16363 non-null  object \n",
      " 12  DISTRICT         16719 non-null  object \n",
      " 13  WARDNUM          16664 non-null  object \n",
      " 14  DIVISION         16664 non-null  object \n",
      " 15  LATITUDE         16860 non-null  float64\n",
      " 16  LONGITUDE        16860 non-null  float64\n",
      " 17  LOCCOORD         16755 non-null  object \n",
      " 18  ACCLOC           11410 non-null  object \n",
      " 19  TRAFFCTL         16831 non-null  object \n",
      " 20  VISIBILITY       16842 non-null  object \n",
      " 21  LIGHT            16860 non-null  object \n",
      " 22  RDSFCOND         16837 non-null  object \n",
      " 23  ACCLASS          16860 non-null  object \n",
      " 24  IMPACTYPE        16856 non-null  object \n",
      " 25  INVTYPE          16848 non-null  object \n",
      " 26  INVAGE           16860 non-null  object \n",
      " 27  INJURY           15248 non-null  object \n",
      " 28  FATAL_NO         713 non-null    object \n",
      " 29  INITDIR          11966 non-null  object \n",
      " 30  VEHTYPE          14047 non-null  object \n",
      " 31  MANOEUVER        9627 non-null   object \n",
      " 32  DRIVACT          8462 non-null   object \n",
      " 33  DRIVCOND         8464 non-null   object \n",
      " 34  PEDTYPE          2786 non-null   object \n",
      " 35  PEDACT           2779 non-null   object \n",
      " 36  PEDCOND          2835 non-null   object \n",
      " 37  CYCLISTYPE       700 non-null    object \n",
      " 38  CYCACT           707 non-null    object \n",
      " 39  CYCCOND          706 non-null    object \n",
      " 40  PEDESTRIAN       6827 non-null   object \n",
      " 41  CYCLIST          1779 non-null   object \n",
      " 42  AUTOMOBILE       15308 non-null  object \n",
      " 43  MOTORCYCLE       1384 non-null   object \n",
      " 44  TRUCK            1042 non-null   object \n",
      " 45  TRSN_CITY_VEH    1011 non-null   object \n",
      " 46  EMERG_VEH        31 non-null     object \n",
      " 47  PASSENGER        6362 non-null   object \n",
      " 48  SPEEDING         2285 non-null   object \n",
      " 49  AG_DRIV          8703 non-null   object \n",
      " 50  REDLIGHT         1409 non-null   object \n",
      " 51  ALCOHOL          739 non-null    object \n",
      " 52  DISABILITY       468 non-null    object \n",
      " 53  POLICE_DIVISION  16860 non-null  object \n",
      " 54  HOOD_ID          16860 non-null  int64  \n",
      " 55  NEIGHBOURHOOD    16860 non-null  object \n",
      " 56  ObjectId         16860 non-null  int64  \n",
      "dtypes: float64(4), int64(7), object(46)\n",
      "memory usage: 7.3+ MB\n"
     ]
    }
   ],
   "source": [
    "df_ksi.info()"
   ]
  },
  {
   "cell_type": "code",
   "execution_count": 12,
   "metadata": {},
   "outputs": [
    {
     "data": {
      "image/png": "[encoded data removed]",
      "text/plain": [
       "<Figure size 2016x1080 with 1 Axes>"
      ]
     },
     "metadata": {},
     "output_type": "display_data"
    }
   ],
   "source": [
    "sns.set(rc={\"figure.figsize\":(28, 15)})\n",
    "sns.heatmap(df_ksi.isna(),yticklabels=False,cbar=False,cmap='viridis')\n",
    "plt.xticks(rotation = 45)\n",
    "plt.show()"
   ]
  },
  {
   "cell_type": "code",
   "execution_count": 13,
   "metadata": {},
   "outputs": [],
   "source": [
    "# Move target class to the last position in the dataframe\n",
    "new_cols = ['X', 'Y', 'INDEX_', 'ACCNUM', 'YEAR', 'DATE', 'TIME', 'HOUR', 'STREET1',\n",
    "       'STREET2', 'OFFSET', 'ROAD_CLASS', 'DISTRICT', 'WARDNUM', 'DIVISION',\n",
    "       'LATITUDE', 'LONGITUDE', 'LOCCOORD', 'ACCLOC', 'TRAFFCTL', 'VISIBILITY',\n",
    "       'LIGHT', 'RDSFCOND', 'IMPACTYPE', 'INVTYPE', 'INVAGE',\n",
    "       'INJURY', 'FATAL_NO', 'INITDIR', 'VEHTYPE', 'MANOEUVER', 'DRIVACT',\n",
    "       'DRIVCOND', 'PEDTYPE', 'PEDACT', 'PEDCOND', 'CYCLISTYPE', 'CYCACT',\n",
    "       'CYCCOND', 'PEDESTRIAN', 'CYCLIST', 'AUTOMOBILE', 'MOTORCYCLE', 'TRUCK',\n",
    "       'TRSN_CITY_VEH', 'EMERG_VEH', 'PASSENGER', 'SPEEDING', 'AG_DRIV',\n",
    "       'REDLIGHT', 'ALCOHOL', 'DISABILITY', 'POLICE_DIVISION', 'HOOD_ID',\n",
    "       'NEIGHBOURHOOD', 'ObjectId', 'ACCLASS']\n",
    "df_ksi = df_ksi.reindex(columns = new_cols)"
   ]
  },
  {
   "cell_type": "code",
   "execution_count": 14,
   "metadata": {},
   "outputs": [
    {
     "data": {
      "text/plain": [
       "Index(['X', 'Y', 'INDEX_', 'ACCNUM', 'YEAR', 'DATE', 'TIME', 'HOUR', 'STREET1',\n",
       "       'STREET2', 'OFFSET', 'ROAD_CLASS', 'DISTRICT', 'WARDNUM', 'DIVISION',\n",
       "       'LATITUDE', 'LONGITUDE', 'LOCCOORD', 'ACCLOC', 'TRAFFCTL', 'VISIBILITY',\n",
       "       'LIGHT', 'RDSFCOND', 'IMPACTYPE', 'INVTYPE', 'INVAGE', 'INJURY',\n",
       "       'FATAL_NO', 'INITDIR', 'VEHTYPE', 'MANOEUVER', 'DRIVACT', 'DRIVCOND',\n",
       "       'PEDTYPE', 'PEDACT', 'PEDCOND', 'CYCLISTYPE', 'CYCACT', 'CYCCOND',\n",
       "       'PEDESTRIAN', 'CYCLIST', 'AUTOMOBILE', 'MOTORCYCLE', 'TRUCK',\n",
       "       'TRSN_CITY_VEH', 'EMERG_VEH', 'PASSENGER', 'SPEEDING', 'AG_DRIV',\n",
       "       'REDLIGHT', 'ALCOHOL', 'DISABILITY', 'POLICE_DIVISION', 'HOOD_ID',\n",
       "       'NEIGHBOURHOOD', 'ObjectId', 'ACCLASS'],\n",
       "      dtype='object')"
      ]
     },
     "execution_count": 14,
     "metadata": {},
     "output_type": "execute_result"
    }
   ],
   "source": [
    "df_ksi.columns"
   ]
  },
  {
   "cell_type": "code",
   "execution_count": 15,
   "metadata": {},
   "outputs": [],
   "source": [
    "num_columns = len(df_ksi.columns)"
   ]
  },
  {
   "cell_type": "code",
   "execution_count": 16,
   "metadata": {},
   "outputs": [],
   "source": [
    "num_missing_val_columns = len(df_ksi.isna().sum()[df_ksi.isna().sum()>0])"
   ]
  },
  {
   "cell_type": "code",
   "execution_count": 17,
   "metadata": {},
   "outputs": [
    {
     "data": {
      "text/plain": [
       "STREET2           1510\n",
       "OFFSET           14114\n",
       "ROAD_CLASS         497\n",
       "DISTRICT           141\n",
       "WARDNUM            196\n",
       "DIVISION           196\n",
       "LOCCOORD           105\n",
       "ACCLOC            5450\n",
       "TRAFFCTL            29\n",
       "VISIBILITY          18\n",
       "RDSFCOND            23\n",
       "IMPACTYPE            4\n",
       "INVTYPE             12\n",
       "INJURY            1612\n",
       "FATAL_NO         16147\n",
       "INITDIR           4894\n",
       "VEHTYPE           2813\n",
       "MANOEUVER         7233\n",
       "DRIVACT           8398\n",
       "DRIVCOND          8396\n",
       "PEDTYPE          14074\n",
       "PEDACT           14081\n",
       "PEDCOND          14025\n",
       "CYCLISTYPE       16160\n",
       "CYCACT           16153\n",
       "CYCCOND          16154\n",
       "PEDESTRIAN       10033\n",
       "CYCLIST          15081\n",
       "AUTOMOBILE        1552\n",
       "MOTORCYCLE       15476\n",
       "TRUCK            15818\n",
       "TRSN_CITY_VEH    15849\n",
       "EMERG_VEH        16829\n",
       "PASSENGER        10498\n",
       "SPEEDING         14575\n",
       "AG_DRIV           8157\n",
       "REDLIGHT         15451\n",
       "ALCOHOL          16121\n",
       "DISABILITY       16392\n",
       "dtype: int64"
      ]
     },
     "execution_count": 17,
     "metadata": {},
     "output_type": "execute_result"
    }
   ],
   "source": [
    "df_ksi.isna().sum()[df_ksi.isna().sum()>0]"
   ]
  },
  {
   "cell_type": "code",
   "execution_count": 18,
   "metadata": {},
   "outputs": [
    {
     "name": "stdout",
     "output_type": "stream",
     "text": [
      "68.42% have at least one missing value\n"
     ]
    }
   ],
   "source": [
    "print(f'{round((num_missing_val_columns / num_columns)*100,2)}% have at least one missing value')"
   ]
  },
  {
   "cell_type": "code",
   "execution_count": 19,
   "metadata": {},
   "outputs": [
    {
     "data": {
      "text/plain": [
       "STREET2           1510\n",
       "OFFSET           14114\n",
       "ROAD_CLASS         497\n",
       "DISTRICT           141\n",
       "WARDNUM            196\n",
       "DIVISION           196\n",
       "LOCCOORD           105\n",
       "ACCLOC            5450\n",
       "TRAFFCTL            29\n",
       "VISIBILITY          18\n",
       "RDSFCOND            23\n",
       "IMPACTYPE            4\n",
       "INVTYPE             12\n",
       "INJURY            1612\n",
       "FATAL_NO         16147\n",
       "INITDIR           4894\n",
       "VEHTYPE           2813\n",
       "MANOEUVER         7233\n",
       "DRIVACT           8398\n",
       "DRIVCOND          8396\n",
       "PEDTYPE          14074\n",
       "PEDACT           14081\n",
       "PEDCOND          14025\n",
       "CYCLISTYPE       16160\n",
       "CYCACT           16153\n",
       "CYCCOND          16154\n",
       "PEDESTRIAN       10033\n",
       "CYCLIST          15081\n",
       "AUTOMOBILE        1552\n",
       "MOTORCYCLE       15476\n",
       "TRUCK            15818\n",
       "TRSN_CITY_VEH    15849\n",
       "EMERG_VEH        16829\n",
       "PASSENGER        10498\n",
       "SPEEDING         14575\n",
       "AG_DRIV           8157\n",
       "REDLIGHT         15451\n",
       "ALCOHOL          16121\n",
       "DISABILITY       16392\n",
       "dtype: int64"
      ]
     },
     "execution_count": 19,
     "metadata": {},
     "output_type": "execute_result"
    }
   ],
   "source": [
    "df_ksi.isna().sum()[df_ksi.isna().sum()>0]"
   ]
  },
  {
   "cell_type": "code",
   "execution_count": 20,
   "metadata": {},
   "outputs": [],
   "source": [
    "df_ksi.drop(['X', 'Y', 'INDEX_'], axis = 1, inplace = True)"
   ]
  },
  {
   "cell_type": "code",
   "execution_count": 21,
   "metadata": {},
   "outputs": [
    {
     "data": {
      "text/html": [
       "<div>\n",
       "<style scoped>\n",
       "    .dataframe tbody tr th:only-of-type {\n",
       "        vertical-align: middle;\n",
       "    }\n",
       "\n",
       "    .dataframe tbody tr th {\n",
       "        vertical-align: top;\n",
       "    }\n",
       "\n",
       "    .dataframe thead th {\n",
       "        text-align: right;\n",
       "    }\n",
       "</style>\n",
       "<table border=\"1\" class=\"dataframe\">\n",
       "  <thead>\n",
       "    <tr style=\"text-align: right;\">\n",
       "      <th></th>\n",
       "      <th>ACCNUM</th>\n",
       "      <th>YEAR</th>\n",
       "      <th>DATE</th>\n",
       "      <th>TIME</th>\n",
       "      <th>HOUR</th>\n",
       "      <th>STREET1</th>\n",
       "      <th>STREET2</th>\n",
       "      <th>OFFSET</th>\n",
       "      <th>ROAD_CLASS</th>\n",
       "      <th>DISTRICT</th>\n",
       "      <th>WARDNUM</th>\n",
       "      <th>DIVISION</th>\n",
       "      <th>LATITUDE</th>\n",
       "      <th>LONGITUDE</th>\n",
       "      <th>LOCCOORD</th>\n",
       "      <th>ACCLOC</th>\n",
       "      <th>TRAFFCTL</th>\n",
       "      <th>VISIBILITY</th>\n",
       "      <th>LIGHT</th>\n",
       "      <th>RDSFCOND</th>\n",
       "      <th>IMPACTYPE</th>\n",
       "      <th>INVTYPE</th>\n",
       "      <th>INVAGE</th>\n",
       "      <th>INJURY</th>\n",
       "      <th>FATAL_NO</th>\n",
       "      <th>INITDIR</th>\n",
       "      <th>VEHTYPE</th>\n",
       "      <th>MANOEUVER</th>\n",
       "      <th>DRIVACT</th>\n",
       "      <th>DRIVCOND</th>\n",
       "      <th>PEDTYPE</th>\n",
       "      <th>PEDACT</th>\n",
       "      <th>PEDCOND</th>\n",
       "      <th>CYCLISTYPE</th>\n",
       "      <th>CYCACT</th>\n",
       "      <th>CYCCOND</th>\n",
       "      <th>PEDESTRIAN</th>\n",
       "      <th>CYCLIST</th>\n",
       "      <th>AUTOMOBILE</th>\n",
       "      <th>MOTORCYCLE</th>\n",
       "      <th>TRUCK</th>\n",
       "      <th>TRSN_CITY_VEH</th>\n",
       "      <th>EMERG_VEH</th>\n",
       "      <th>PASSENGER</th>\n",
       "      <th>SPEEDING</th>\n",
       "      <th>AG_DRIV</th>\n",
       "      <th>REDLIGHT</th>\n",
       "      <th>ALCOHOL</th>\n",
       "      <th>DISABILITY</th>\n",
       "      <th>POLICE_DIVISION</th>\n",
       "      <th>HOOD_ID</th>\n",
       "      <th>NEIGHBOURHOOD</th>\n",
       "      <th>ObjectId</th>\n",
       "      <th>ACCLASS</th>\n",
       "    </tr>\n",
       "  </thead>\n",
       "  <tbody>\n",
       "    <tr>\n",
       "      <th>0</th>\n",
       "      <td>892658</td>\n",
       "      <td>2006</td>\n",
       "      <td>2006/03/11 05:00:00+00</td>\n",
       "      <td>852</td>\n",
       "      <td>8</td>\n",
       "      <td>BLOOR ST W</td>\n",
       "      <td>DUNDAS ST W</td>\n",
       "      <td>NaN</td>\n",
       "      <td>Major Arterial</td>\n",
       "      <td>Toronto and East York</td>\n",
       "      <td>4</td>\n",
       "      <td>11</td>\n",
       "      <td>43.656345</td>\n",
       "      <td>-79.452490</td>\n",
       "      <td>Intersection</td>\n",
       "      <td>At Intersection</td>\n",
       "      <td>Traffic Signal</td>\n",
       "      <td>Clear</td>\n",
       "      <td>Daylight</td>\n",
       "      <td>Dry</td>\n",
       "      <td>Pedestrian Collisions</td>\n",
       "      <td>Driver</td>\n",
       "      <td>unknown</td>\n",
       "      <td>None</td>\n",
       "      <td>NaN</td>\n",
       "      <td>South</td>\n",
       "      <td>Automobile, Station Wagon</td>\n",
       "      <td>Turning Left</td>\n",
       "      <td>Failed to Yield Right of Way</td>\n",
       "      <td>Unknown</td>\n",
       "      <td>NaN</td>\n",
       "      <td>NaN</td>\n",
       "      <td>NaN</td>\n",
       "      <td>NaN</td>\n",
       "      <td>NaN</td>\n",
       "      <td>NaN</td>\n",
       "      <td>Yes</td>\n",
       "      <td>NaN</td>\n",
       "      <td>Yes</td>\n",
       "      <td>NaN</td>\n",
       "      <td>NaN</td>\n",
       "      <td>NaN</td>\n",
       "      <td>NaN</td>\n",
       "      <td>NaN</td>\n",
       "      <td>NaN</td>\n",
       "      <td>Yes</td>\n",
       "      <td>NaN</td>\n",
       "      <td>NaN</td>\n",
       "      <td>NaN</td>\n",
       "      <td>D11</td>\n",
       "      <td>88</td>\n",
       "      <td>High Park North (88)</td>\n",
       "      <td>1</td>\n",
       "      <td>Fatal</td>\n",
       "    </tr>\n",
       "    <tr>\n",
       "      <th>1</th>\n",
       "      <td>892658</td>\n",
       "      <td>2006</td>\n",
       "      <td>2006/03/11 05:00:00+00</td>\n",
       "      <td>852</td>\n",
       "      <td>8</td>\n",
       "      <td>BLOOR ST W</td>\n",
       "      <td>DUNDAS ST W</td>\n",
       "      <td>NaN</td>\n",
       "      <td>Major Arterial</td>\n",
       "      <td>Toronto and East York</td>\n",
       "      <td>4</td>\n",
       "      <td>11</td>\n",
       "      <td>43.656345</td>\n",
       "      <td>-79.452490</td>\n",
       "      <td>Intersection</td>\n",
       "      <td>At Intersection</td>\n",
       "      <td>Traffic Signal</td>\n",
       "      <td>Clear</td>\n",
       "      <td>Daylight</td>\n",
       "      <td>Dry</td>\n",
       "      <td>Pedestrian Collisions</td>\n",
       "      <td>Pedestrian</td>\n",
       "      <td>65 to 69</td>\n",
       "      <td>Fatal</td>\n",
       "      <td>NaN</td>\n",
       "      <td>North</td>\n",
       "      <td>Other</td>\n",
       "      <td>NaN</td>\n",
       "      <td>NaN</td>\n",
       "      <td>NaN</td>\n",
       "      <td>Vehicle turns left while ped crosses with ROW ...</td>\n",
       "      <td>Crossing with right of way</td>\n",
       "      <td>Unknown</td>\n",
       "      <td>NaN</td>\n",
       "      <td>NaN</td>\n",
       "      <td>NaN</td>\n",
       "      <td>Yes</td>\n",
       "      <td>NaN</td>\n",
       "      <td>Yes</td>\n",
       "      <td>NaN</td>\n",
       "      <td>NaN</td>\n",
       "      <td>NaN</td>\n",
       "      <td>NaN</td>\n",
       "      <td>NaN</td>\n",
       "      <td>NaN</td>\n",
       "      <td>Yes</td>\n",
       "      <td>NaN</td>\n",
       "      <td>NaN</td>\n",
       "      <td>NaN</td>\n",
       "      <td>D11</td>\n",
       "      <td>88</td>\n",
       "      <td>High Park North (88)</td>\n",
       "      <td>2</td>\n",
       "      <td>Fatal</td>\n",
       "    </tr>\n",
       "    <tr>\n",
       "      <th>2</th>\n",
       "      <td>892810</td>\n",
       "      <td>2006</td>\n",
       "      <td>2006/03/11 05:00:00+00</td>\n",
       "      <td>915</td>\n",
       "      <td>9</td>\n",
       "      <td>MORNINGSIDE AVE</td>\n",
       "      <td>SHEPPARD AVE E</td>\n",
       "      <td>NaN</td>\n",
       "      <td>Major Arterial</td>\n",
       "      <td>Scarborough</td>\n",
       "      <td>25</td>\n",
       "      <td>42</td>\n",
       "      <td>43.801943</td>\n",
       "      <td>-79.199786</td>\n",
       "      <td>Intersection</td>\n",
       "      <td>At Intersection</td>\n",
       "      <td>Traffic Signal</td>\n",
       "      <td>Clear</td>\n",
       "      <td>Daylight</td>\n",
       "      <td>Dry</td>\n",
       "      <td>Turning Movement</td>\n",
       "      <td>Motorcycle Driver</td>\n",
       "      <td>45 to 49</td>\n",
       "      <td>Fatal</td>\n",
       "      <td>NaN</td>\n",
       "      <td>East</td>\n",
       "      <td>Motorcycle</td>\n",
       "      <td>Turning Right</td>\n",
       "      <td>Disobeyed Traffic Control</td>\n",
       "      <td>Unknown</td>\n",
       "      <td>NaN</td>\n",
       "      <td>NaN</td>\n",
       "      <td>NaN</td>\n",
       "      <td>NaN</td>\n",
       "      <td>NaN</td>\n",
       "      <td>NaN</td>\n",
       "      <td>NaN</td>\n",
       "      <td>NaN</td>\n",
       "      <td>Yes</td>\n",
       "      <td>Yes</td>\n",
       "      <td>NaN</td>\n",
       "      <td>NaN</td>\n",
       "      <td>NaN</td>\n",
       "      <td>NaN</td>\n",
       "      <td>NaN</td>\n",
       "      <td>Yes</td>\n",
       "      <td>Yes</td>\n",
       "      <td>NaN</td>\n",
       "      <td>NaN</td>\n",
       "      <td>D42</td>\n",
       "      <td>131</td>\n",
       "      <td>Rouge (131)</td>\n",
       "      <td>3</td>\n",
       "      <td>Fatal</td>\n",
       "    </tr>\n",
       "    <tr>\n",
       "      <th>3</th>\n",
       "      <td>892810</td>\n",
       "      <td>2006</td>\n",
       "      <td>2006/03/11 05:00:00+00</td>\n",
       "      <td>915</td>\n",
       "      <td>9</td>\n",
       "      <td>MORNINGSIDE AVE</td>\n",
       "      <td>SHEPPARD AVE E</td>\n",
       "      <td>NaN</td>\n",
       "      <td>Major Arterial</td>\n",
       "      <td>Scarborough</td>\n",
       "      <td>25</td>\n",
       "      <td>42</td>\n",
       "      <td>43.801943</td>\n",
       "      <td>-79.199786</td>\n",
       "      <td>Intersection</td>\n",
       "      <td>At Intersection</td>\n",
       "      <td>Traffic Signal</td>\n",
       "      <td>Clear</td>\n",
       "      <td>Daylight</td>\n",
       "      <td>Dry</td>\n",
       "      <td>Turning Movement</td>\n",
       "      <td>Driver</td>\n",
       "      <td>unknown</td>\n",
       "      <td>None</td>\n",
       "      <td>NaN</td>\n",
       "      <td>South</td>\n",
       "      <td>Automobile, Station Wagon</td>\n",
       "      <td>Going Ahead</td>\n",
       "      <td>Driving Properly</td>\n",
       "      <td>Unknown</td>\n",
       "      <td>NaN</td>\n",
       "      <td>NaN</td>\n",
       "      <td>NaN</td>\n",
       "      <td>NaN</td>\n",
       "      <td>NaN</td>\n",
       "      <td>NaN</td>\n",
       "      <td>NaN</td>\n",
       "      <td>NaN</td>\n",
       "      <td>Yes</td>\n",
       "      <td>Yes</td>\n",
       "      <td>NaN</td>\n",
       "      <td>NaN</td>\n",
       "      <td>NaN</td>\n",
       "      <td>NaN</td>\n",
       "      <td>NaN</td>\n",
       "      <td>Yes</td>\n",
       "      <td>Yes</td>\n",
       "      <td>NaN</td>\n",
       "      <td>NaN</td>\n",
       "      <td>D42</td>\n",
       "      <td>131</td>\n",
       "      <td>Rouge (131)</td>\n",
       "      <td>4</td>\n",
       "      <td>Fatal</td>\n",
       "    </tr>\n",
       "    <tr>\n",
       "      <th>4</th>\n",
       "      <td>892682</td>\n",
       "      <td>2006</td>\n",
       "      <td>2006/03/12 05:00:00+00</td>\n",
       "      <td>240</td>\n",
       "      <td>2</td>\n",
       "      <td>EGLINTON AVE E</td>\n",
       "      <td>COMMONWEALTH AVE</td>\n",
       "      <td>NaN</td>\n",
       "      <td>Major Arterial</td>\n",
       "      <td>Scarborough</td>\n",
       "      <td>21,20</td>\n",
       "      <td>41</td>\n",
       "      <td>43.734945</td>\n",
       "      <td>-79.256190</td>\n",
       "      <td>Mid-Block</td>\n",
       "      <td>NaN</td>\n",
       "      <td>No Control</td>\n",
       "      <td>Clear</td>\n",
       "      <td>Dark</td>\n",
       "      <td>Dry</td>\n",
       "      <td>Pedestrian Collisions</td>\n",
       "      <td>Driver</td>\n",
       "      <td>25 to 29</td>\n",
       "      <td>None</td>\n",
       "      <td>NaN</td>\n",
       "      <td>West</td>\n",
       "      <td>Automobile, Station Wagon</td>\n",
       "      <td>Going Ahead</td>\n",
       "      <td>Other</td>\n",
       "      <td>Ability Impaired, Alcohol</td>\n",
       "      <td>NaN</td>\n",
       "      <td>NaN</td>\n",
       "      <td>NaN</td>\n",
       "      <td>NaN</td>\n",
       "      <td>NaN</td>\n",
       "      <td>NaN</td>\n",
       "      <td>Yes</td>\n",
       "      <td>NaN</td>\n",
       "      <td>Yes</td>\n",
       "      <td>NaN</td>\n",
       "      <td>NaN</td>\n",
       "      <td>NaN</td>\n",
       "      <td>NaN</td>\n",
       "      <td>NaN</td>\n",
       "      <td>NaN</td>\n",
       "      <td>NaN</td>\n",
       "      <td>NaN</td>\n",
       "      <td>Yes</td>\n",
       "      <td>NaN</td>\n",
       "      <td>D41</td>\n",
       "      <td>138</td>\n",
       "      <td>Eglinton East (138)</td>\n",
       "      <td>5</td>\n",
       "      <td>Fatal</td>\n",
       "    </tr>\n",
       "  </tbody>\n",
       "</table>\n",
       "</div>"
      ],
      "text/plain": [
       "   ACCNUM  YEAR                    DATE  TIME  HOUR          STREET1  \\\n",
       "0  892658  2006  2006/03/11 05:00:00+00   852     8       BLOOR ST W   \n",
       "1  892658  2006  2006/03/11 05:00:00+00   852     8       BLOOR ST W   \n",
       "2  892810  2006  2006/03/11 05:00:00+00   915     9  MORNINGSIDE AVE   \n",
       "3  892810  2006  2006/03/11 05:00:00+00   915     9  MORNINGSIDE AVE   \n",
       "4  892682  2006  2006/03/12 05:00:00+00   240     2   EGLINTON AVE E   \n",
       "\n",
       "            STREET2 OFFSET      ROAD_CLASS               DISTRICT WARDNUM  \\\n",
       "0       DUNDAS ST W    NaN  Major Arterial  Toronto and East York       4   \n",
       "1       DUNDAS ST W    NaN  Major Arterial  Toronto and East York       4   \n",
       "2    SHEPPARD AVE E    NaN  Major Arterial            Scarborough      25   \n",
       "3    SHEPPARD AVE E    NaN  Major Arterial            Scarborough      25   \n",
       "4  COMMONWEALTH AVE    NaN  Major Arterial            Scarborough   21,20   \n",
       "\n",
       "  DIVISION   LATITUDE  LONGITUDE      LOCCOORD           ACCLOC  \\\n",
       "0       11  43.656345 -79.452490  Intersection  At Intersection   \n",
       "1       11  43.656345 -79.452490  Intersection  At Intersection   \n",
       "2       42  43.801943 -79.199786  Intersection  At Intersection   \n",
       "3       42  43.801943 -79.199786  Intersection  At Intersection   \n",
       "4       41  43.734945 -79.256190     Mid-Block              NaN   \n",
       "\n",
       "         TRAFFCTL VISIBILITY     LIGHT RDSFCOND              IMPACTYPE  \\\n",
       "0  Traffic Signal      Clear  Daylight      Dry  Pedestrian Collisions   \n",
       "1  Traffic Signal      Clear  Daylight      Dry  Pedestrian Collisions   \n",
       "2  Traffic Signal      Clear  Daylight      Dry       Turning Movement   \n",
       "3  Traffic Signal      Clear  Daylight      Dry       Turning Movement   \n",
       "4      No Control      Clear      Dark      Dry  Pedestrian Collisions   \n",
       "\n",
       "             INVTYPE    INVAGE INJURY FATAL_NO INITDIR  \\\n",
       "0             Driver   unknown   None      NaN   South   \n",
       "1         Pedestrian  65 to 69  Fatal      NaN   North   \n",
       "2  Motorcycle Driver  45 to 49  Fatal      NaN    East   \n",
       "3             Driver   unknown   None      NaN   South   \n",
       "4             Driver  25 to 29   None      NaN    West   \n",
       "\n",
       "                     VEHTYPE      MANOEUVER                       DRIVACT  \\\n",
       "0  Automobile, Station Wagon   Turning Left  Failed to Yield Right of Way   \n",
       "1                      Other            NaN                           NaN   \n",
       "2                 Motorcycle  Turning Right     Disobeyed Traffic Control   \n",
       "3  Automobile, Station Wagon    Going Ahead              Driving Properly   \n",
       "4  Automobile, Station Wagon    Going Ahead                         Other   \n",
       "\n",
       "                    DRIVCOND  \\\n",
       "0                    Unknown   \n",
       "1                        NaN   \n",
       "2                    Unknown   \n",
       "3                    Unknown   \n",
       "4  Ability Impaired, Alcohol   \n",
       "\n",
       "                                             PEDTYPE  \\\n",
       "0                                                NaN   \n",
       "1  Vehicle turns left while ped crosses with ROW ...   \n",
       "2                                                NaN   \n",
       "3                                                NaN   \n",
       "4                                                NaN   \n",
       "\n",
       "                       PEDACT  PEDCOND CYCLISTYPE CYCACT CYCCOND PEDESTRIAN  \\\n",
       "0                         NaN      NaN        NaN    NaN     NaN        Yes   \n",
       "1  Crossing with right of way  Unknown        NaN    NaN     NaN        Yes   \n",
       "2                         NaN      NaN        NaN    NaN     NaN        NaN   \n",
       "3                         NaN      NaN        NaN    NaN     NaN        NaN   \n",
       "4                         NaN      NaN        NaN    NaN     NaN        Yes   \n",
       "\n",
       "  CYCLIST AUTOMOBILE MOTORCYCLE TRUCK TRSN_CITY_VEH EMERG_VEH PASSENGER  \\\n",
       "0     NaN        Yes        NaN   NaN           NaN       NaN       NaN   \n",
       "1     NaN        Yes        NaN   NaN           NaN       NaN       NaN   \n",
       "2     NaN        Yes        Yes   NaN           NaN       NaN       NaN   \n",
       "3     NaN        Yes        Yes   NaN           NaN       NaN       NaN   \n",
       "4     NaN        Yes        NaN   NaN           NaN       NaN       NaN   \n",
       "\n",
       "  SPEEDING AG_DRIV REDLIGHT ALCOHOL DISABILITY POLICE_DIVISION  HOOD_ID  \\\n",
       "0      NaN     Yes      NaN     NaN        NaN             D11       88   \n",
       "1      NaN     Yes      NaN     NaN        NaN             D11       88   \n",
       "2      NaN     Yes      Yes     NaN        NaN             D42      131   \n",
       "3      NaN     Yes      Yes     NaN        NaN             D42      131   \n",
       "4      NaN     NaN      NaN     Yes        NaN             D41      138   \n",
       "\n",
       "          NEIGHBOURHOOD  ObjectId ACCLASS  \n",
       "0  High Park North (88)         1   Fatal  \n",
       "1  High Park North (88)         2   Fatal  \n",
       "2           Rouge (131)         3   Fatal  \n",
       "3           Rouge (131)         4   Fatal  \n",
       "4   Eglinton East (138)         5   Fatal  "
      ]
     },
     "execution_count": 21,
     "metadata": {},
     "output_type": "execute_result"
    }
   ],
   "source": [
    "df_ksi.head()"
   ]
  },
  {
   "cell_type": "code",
   "execution_count": 22,
   "metadata": {},
   "outputs": [],
   "source": [
    "df_ksi['DATE'] = pd.to_datetime(df_ksi['DATE'], format = '%Y/%m/%d %H:%M:%S')"
   ]
  },
  {
   "cell_type": "code",
   "execution_count": 23,
   "metadata": {},
   "outputs": [],
   "source": [
    "df_ksi.insert(1, 'MONTH', df_ksi['DATE'].dt.month)"
   ]
  },
  {
   "cell_type": "code",
   "execution_count": 24,
   "metadata": {},
   "outputs": [],
   "source": [
    "df_ksi.insert(2, 'DAY', df_ksi['DATE'].dt.day)"
   ]
  },
  {
   "cell_type": "code",
   "execution_count": 25,
   "metadata": {},
   "outputs": [],
   "source": [
    "df_ksi.drop(['YEAR', 'DATE', 'HOUR'], axis = 1, inplace = True)"
   ]
  },
  {
   "cell_type": "code",
   "execution_count": 26,
   "metadata": {},
   "outputs": [
    {
     "data": {
      "text/plain": [
       "0.837129300118624"
      ]
     },
     "execution_count": 26,
     "metadata": {},
     "output_type": "execute_result"
    }
   ],
   "source": [
    "df_ksi.OFFSET.isna().sum() /len(df_ksi.OFFSET)"
   ]
  },
  {
   "cell_type": "code",
   "execution_count": 27,
   "metadata": {},
   "outputs": [],
   "source": [
    "df_ksi.drop(['ACCNUM','OFFSET'], axis = 1, inplace = True)"
   ]
  },
  {
   "cell_type": "code",
   "execution_count": 28,
   "metadata": {},
   "outputs": [
    {
     "data": {
      "text/html": [
       "<div>\n",
       "<style scoped>\n",
       "    .dataframe tbody tr th:only-of-type {\n",
       "        vertical-align: middle;\n",
       "    }\n",
       "\n",
       "    .dataframe tbody tr th {\n",
       "        vertical-align: top;\n",
       "    }\n",
       "\n",
       "    .dataframe thead th {\n",
       "        text-align: right;\n",
       "    }\n",
       "</style>\n",
       "<table border=\"1\" class=\"dataframe\">\n",
       "  <thead>\n",
       "    <tr style=\"text-align: right;\">\n",
       "      <th></th>\n",
       "      <th>MONTH</th>\n",
       "      <th>DAY</th>\n",
       "      <th>TIME</th>\n",
       "      <th>STREET1</th>\n",
       "      <th>STREET2</th>\n",
       "      <th>ROAD_CLASS</th>\n",
       "      <th>DISTRICT</th>\n",
       "      <th>WARDNUM</th>\n",
       "      <th>DIVISION</th>\n",
       "      <th>LOCCOORD</th>\n",
       "      <th>ACCLOC</th>\n",
       "      <th>TRAFFCTL</th>\n",
       "      <th>VISIBILITY</th>\n",
       "      <th>LIGHT</th>\n",
       "      <th>RDSFCOND</th>\n",
       "      <th>IMPACTYPE</th>\n",
       "      <th>INVTYPE</th>\n",
       "      <th>INVAGE</th>\n",
       "      <th>INJURY</th>\n",
       "      <th>FATAL_NO</th>\n",
       "      <th>INITDIR</th>\n",
       "      <th>VEHTYPE</th>\n",
       "      <th>MANOEUVER</th>\n",
       "      <th>DRIVACT</th>\n",
       "      <th>DRIVCOND</th>\n",
       "      <th>PEDTYPE</th>\n",
       "      <th>PEDACT</th>\n",
       "      <th>PEDCOND</th>\n",
       "      <th>CYCLISTYPE</th>\n",
       "      <th>CYCACT</th>\n",
       "      <th>CYCCOND</th>\n",
       "      <th>PEDESTRIAN</th>\n",
       "      <th>CYCLIST</th>\n",
       "      <th>AUTOMOBILE</th>\n",
       "      <th>MOTORCYCLE</th>\n",
       "      <th>TRUCK</th>\n",
       "      <th>TRSN_CITY_VEH</th>\n",
       "      <th>EMERG_VEH</th>\n",
       "      <th>PASSENGER</th>\n",
       "      <th>SPEEDING</th>\n",
       "      <th>AG_DRIV</th>\n",
       "      <th>REDLIGHT</th>\n",
       "      <th>ALCOHOL</th>\n",
       "      <th>DISABILITY</th>\n",
       "      <th>POLICE_DIVISION</th>\n",
       "      <th>HOOD_ID</th>\n",
       "      <th>NEIGHBOURHOOD</th>\n",
       "      <th>ObjectId</th>\n",
       "      <th>ACCLASS</th>\n",
       "    </tr>\n",
       "  </thead>\n",
       "  <tbody>\n",
       "    <tr>\n",
       "      <th>0</th>\n",
       "      <td>3</td>\n",
       "      <td>11</td>\n",
       "      <td>852</td>\n",
       "      <td>BLOOR ST W</td>\n",
       "      <td>DUNDAS ST W</td>\n",
       "      <td>Major Arterial</td>\n",
       "      <td>Toronto and East York</td>\n",
       "      <td>4</td>\n",
       "      <td>11</td>\n",
       "      <td>Intersection</td>\n",
       "      <td>At Intersection</td>\n",
       "      <td>Traffic Signal</td>\n",
       "      <td>Clear</td>\n",
       "      <td>Daylight</td>\n",
       "      <td>Dry</td>\n",
       "      <td>Pedestrian Collisions</td>\n",
       "      <td>Driver</td>\n",
       "      <td>unknown</td>\n",
       "      <td>None</td>\n",
       "      <td>NaN</td>\n",
       "      <td>South</td>\n",
       "      <td>Automobile, Station Wagon</td>\n",
       "      <td>Turning Left</td>\n",
       "      <td>Failed to Yield Right of Way</td>\n",
       "      <td>Unknown</td>\n",
       "      <td>NaN</td>\n",
       "      <td>NaN</td>\n",
       "      <td>NaN</td>\n",
       "      <td>NaN</td>\n",
       "      <td>NaN</td>\n",
       "      <td>NaN</td>\n",
       "      <td>Yes</td>\n",
       "      <td>NaN</td>\n",
       "      <td>Yes</td>\n",
       "      <td>NaN</td>\n",
       "      <td>NaN</td>\n",
       "      <td>NaN</td>\n",
       "      <td>NaN</td>\n",
       "      <td>NaN</td>\n",
       "      <td>NaN</td>\n",
       "      <td>Yes</td>\n",
       "      <td>NaN</td>\n",
       "      <td>NaN</td>\n",
       "      <td>NaN</td>\n",
       "      <td>D11</td>\n",
       "      <td>88</td>\n",
       "      <td>High Park North (88)</td>\n",
       "      <td>1</td>\n",
       "      <td>Fatal</td>\n",
       "    </tr>\n",
       "    <tr>\n",
       "      <th>1</th>\n",
       "      <td>3</td>\n",
       "      <td>11</td>\n",
       "      <td>852</td>\n",
       "      <td>BLOOR ST W</td>\n",
       "      <td>DUNDAS ST W</td>\n",
       "      <td>Major Arterial</td>\n",
       "      <td>Toronto and East York</td>\n",
       "      <td>4</td>\n",
       "      <td>11</td>\n",
       "      <td>Intersection</td>\n",
       "      <td>At Intersection</td>\n",
       "      <td>Traffic Signal</td>\n",
       "      <td>Clear</td>\n",
       "      <td>Daylight</td>\n",
       "      <td>Dry</td>\n",
       "      <td>Pedestrian Collisions</td>\n",
       "      <td>Pedestrian</td>\n",
       "      <td>65 to 69</td>\n",
       "      <td>Fatal</td>\n",
       "      <td>NaN</td>\n",
       "      <td>North</td>\n",
       "      <td>Other</td>\n",
       "      <td>NaN</td>\n",
       "      <td>NaN</td>\n",
       "      <td>NaN</td>\n",
       "      <td>Vehicle turns left while ped crosses with ROW ...</td>\n",
       "      <td>Crossing with right of way</td>\n",
       "      <td>Unknown</td>\n",
       "      <td>NaN</td>\n",
       "      <td>NaN</td>\n",
       "      <td>NaN</td>\n",
       "      <td>Yes</td>\n",
       "      <td>NaN</td>\n",
       "      <td>Yes</td>\n",
       "      <td>NaN</td>\n",
       "      <td>NaN</td>\n",
       "      <td>NaN</td>\n",
       "      <td>NaN</td>\n",
       "      <td>NaN</td>\n",
       "      <td>NaN</td>\n",
       "      <td>Yes</td>\n",
       "      <td>NaN</td>\n",
       "      <td>NaN</td>\n",
       "      <td>NaN</td>\n",
       "      <td>D11</td>\n",
       "      <td>88</td>\n",
       "      <td>High Park North (88)</td>\n",
       "      <td>2</td>\n",
       "      <td>Fatal</td>\n",
       "    </tr>\n",
       "    <tr>\n",
       "      <th>2</th>\n",
       "      <td>3</td>\n",
       "      <td>11</td>\n",
       "      <td>915</td>\n",
       "      <td>MORNINGSIDE AVE</td>\n",
       "      <td>SHEPPARD AVE E</td>\n",
       "      <td>Major Arterial</td>\n",
       "      <td>Scarborough</td>\n",
       "      <td>25</td>\n",
       "      <td>42</td>\n",
       "      <td>Intersection</td>\n",
       "      <td>At Intersection</td>\n",
       "      <td>Traffic Signal</td>\n",
       "      <td>Clear</td>\n",
       "      <td>Daylight</td>\n",
       "      <td>Dry</td>\n",
       "      <td>Turning Movement</td>\n",
       "      <td>Motorcycle Driver</td>\n",
       "      <td>45 to 49</td>\n",
       "      <td>Fatal</td>\n",
       "      <td>NaN</td>\n",
       "      <td>East</td>\n",
       "      <td>Motorcycle</td>\n",
       "      <td>Turning Right</td>\n",
       "      <td>Disobeyed Traffic Control</td>\n",
       "      <td>Unknown</td>\n",
       "      <td>NaN</td>\n",
       "      <td>NaN</td>\n",
       "      <td>NaN</td>\n",
       "      <td>NaN</td>\n",
       "      <td>NaN</td>\n",
       "      <td>NaN</td>\n",
       "      <td>NaN</td>\n",
       "      <td>NaN</td>\n",
       "      <td>Yes</td>\n",
       "      <td>Yes</td>\n",
       "      <td>NaN</td>\n",
       "      <td>NaN</td>\n",
       "      <td>NaN</td>\n",
       "      <td>NaN</td>\n",
       "      <td>NaN</td>\n",
       "      <td>Yes</td>\n",
       "      <td>Yes</td>\n",
       "      <td>NaN</td>\n",
       "      <td>NaN</td>\n",
       "      <td>D42</td>\n",
       "      <td>131</td>\n",
       "      <td>Rouge (131)</td>\n",
       "      <td>3</td>\n",
       "      <td>Fatal</td>\n",
       "    </tr>\n",
       "    <tr>\n",
       "      <th>3</th>\n",
       "      <td>3</td>\n",
       "      <td>11</td>\n",
       "      <td>915</td>\n",
       "      <td>MORNINGSIDE AVE</td>\n",
       "      <td>SHEPPARD AVE E</td>\n",
       "      <td>Major Arterial</td>\n",
       "      <td>Scarborough</td>\n",
       "      <td>25</td>\n",
       "      <td>42</td>\n",
       "      <td>Intersection</td>\n",
       "      <td>At Intersection</td>\n",
       "      <td>Traffic Signal</td>\n",
       "      <td>Clear</td>\n",
       "      <td>Daylight</td>\n",
       "      <td>Dry</td>\n",
       "      <td>Turning Movement</td>\n",
       "      <td>Driver</td>\n",
       "      <td>unknown</td>\n",
       "      <td>None</td>\n",
       "      <td>NaN</td>\n",
       "      <td>South</td>\n",
       "      <td>Automobile, Station Wagon</td>\n",
       "      <td>Going Ahead</td>\n",
       "      <td>Driving Properly</td>\n",
       "      <td>Unknown</td>\n",
       "      <td>NaN</td>\n",
       "      <td>NaN</td>\n",
       "      <td>NaN</td>\n",
       "      <td>NaN</td>\n",
       "      <td>NaN</td>\n",
       "      <td>NaN</td>\n",
       "      <td>NaN</td>\n",
       "      <td>NaN</td>\n",
       "      <td>Yes</td>\n",
       "      <td>Yes</td>\n",
       "      <td>NaN</td>\n",
       "      <td>NaN</td>\n",
       "      <td>NaN</td>\n",
       "      <td>NaN</td>\n",
       "      <td>NaN</td>\n",
       "      <td>Yes</td>\n",
       "      <td>Yes</td>\n",
       "      <td>NaN</td>\n",
       "      <td>NaN</td>\n",
       "      <td>D42</td>\n",
       "      <td>131</td>\n",
       "      <td>Rouge (131)</td>\n",
       "      <td>4</td>\n",
       "      <td>Fatal</td>\n",
       "    </tr>\n",
       "    <tr>\n",
       "      <th>4</th>\n",
       "      <td>3</td>\n",
       "      <td>12</td>\n",
       "      <td>240</td>\n",
       "      <td>EGLINTON AVE E</td>\n",
       "      <td>COMMONWEALTH AVE</td>\n",
       "      <td>Major Arterial</td>\n",
       "      <td>Scarborough</td>\n",
       "      <td>21,20</td>\n",
       "      <td>41</td>\n",
       "      <td>Mid-Block</td>\n",
       "      <td>NaN</td>\n",
       "      <td>No Control</td>\n",
       "      <td>Clear</td>\n",
       "      <td>Dark</td>\n",
       "      <td>Dry</td>\n",
       "      <td>Pedestrian Collisions</td>\n",
       "      <td>Driver</td>\n",
       "      <td>25 to 29</td>\n",
       "      <td>None</td>\n",
       "      <td>NaN</td>\n",
       "      <td>West</td>\n",
       "      <td>Automobile, Station Wagon</td>\n",
       "      <td>Going Ahead</td>\n",
       "      <td>Other</td>\n",
       "      <td>Ability Impaired, Alcohol</td>\n",
       "      <td>NaN</td>\n",
       "      <td>NaN</td>\n",
       "      <td>NaN</td>\n",
       "      <td>NaN</td>\n",
       "      <td>NaN</td>\n",
       "      <td>NaN</td>\n",
       "      <td>Yes</td>\n",
       "      <td>NaN</td>\n",
       "      <td>Yes</td>\n",
       "      <td>NaN</td>\n",
       "      <td>NaN</td>\n",
       "      <td>NaN</td>\n",
       "      <td>NaN</td>\n",
       "      <td>NaN</td>\n",
       "      <td>NaN</td>\n",
       "      <td>NaN</td>\n",
       "      <td>NaN</td>\n",
       "      <td>Yes</td>\n",
       "      <td>NaN</td>\n",
       "      <td>D41</td>\n",
       "      <td>138</td>\n",
       "      <td>Eglinton East (138)</td>\n",
       "      <td>5</td>\n",
       "      <td>Fatal</td>\n",
       "    </tr>\n",
       "  </tbody>\n",
       "</table>\n",
       "</div>"
      ],
      "text/plain": [
       "   MONTH  DAY  TIME          STREET1           STREET2      ROAD_CLASS  \\\n",
       "0      3   11   852       BLOOR ST W       DUNDAS ST W  Major Arterial   \n",
       "1      3   11   852       BLOOR ST W       DUNDAS ST W  Major Arterial   \n",
       "2      3   11   915  MORNINGSIDE AVE    SHEPPARD AVE E  Major Arterial   \n",
       "3      3   11   915  MORNINGSIDE AVE    SHEPPARD AVE E  Major Arterial   \n",
       "4      3   12   240   EGLINTON AVE E  COMMONWEALTH AVE  Major Arterial   \n",
       "\n",
       "                DISTRICT WARDNUM DIVISION      LOCCOORD           ACCLOC  \\\n",
       "0  Toronto and East York       4       11  Intersection  At Intersection   \n",
       "1  Toronto and East York       4       11  Intersection  At Intersection   \n",
       "2            Scarborough      25       42  Intersection  At Intersection   \n",
       "3            Scarborough      25       42  Intersection  At Intersection   \n",
       "4            Scarborough   21,20       41     Mid-Block              NaN   \n",
       "\n",
       "         TRAFFCTL VISIBILITY     LIGHT RDSFCOND              IMPACTYPE  \\\n",
       "0  Traffic Signal      Clear  Daylight      Dry  Pedestrian Collisions   \n",
       "1  Traffic Signal      Clear  Daylight      Dry  Pedestrian Collisions   \n",
       "2  Traffic Signal      Clear  Daylight      Dry       Turning Movement   \n",
       "3  Traffic Signal      Clear  Daylight      Dry       Turning Movement   \n",
       "4      No Control      Clear      Dark      Dry  Pedestrian Collisions   \n",
       "\n",
       "             INVTYPE    INVAGE INJURY FATAL_NO INITDIR  \\\n",
       "0             Driver   unknown   None      NaN   South   \n",
       "1         Pedestrian  65 to 69  Fatal      NaN   North   \n",
       "2  Motorcycle Driver  45 to 49  Fatal      NaN    East   \n",
       "3             Driver   unknown   None      NaN   South   \n",
       "4             Driver  25 to 29   None      NaN    West   \n",
       "\n",
       "                     VEHTYPE      MANOEUVER                       DRIVACT  \\\n",
       "0  Automobile, Station Wagon   Turning Left  Failed to Yield Right of Way   \n",
       "1                      Other            NaN                           NaN   \n",
       "2                 Motorcycle  Turning Right     Disobeyed Traffic Control   \n",
       "3  Automobile, Station Wagon    Going Ahead              Driving Properly   \n",
       "4  Automobile, Station Wagon    Going Ahead                         Other   \n",
       "\n",
       "                    DRIVCOND  \\\n",
       "0                    Unknown   \n",
       "1                        NaN   \n",
       "2                    Unknown   \n",
       "3                    Unknown   \n",
       "4  Ability Impaired, Alcohol   \n",
       "\n",
       "                                             PEDTYPE  \\\n",
       "0                                                NaN   \n",
       "1  Vehicle turns left while ped crosses with ROW ...   \n",
       "2                                                NaN   \n",
       "3                                                NaN   \n",
       "4                                                NaN   \n",
       "\n",
       "                       PEDACT  PEDCOND CYCLISTYPE CYCACT CYCCOND PEDESTRIAN  \\\n",
       "0                         NaN      NaN        NaN    NaN     NaN        Yes   \n",
       "1  Crossing with right of way  Unknown        NaN    NaN     NaN        Yes   \n",
       "2                         NaN      NaN        NaN    NaN     NaN        NaN   \n",
       "3                         NaN      NaN        NaN    NaN     NaN        NaN   \n",
       "4                         NaN      NaN        NaN    NaN     NaN        Yes   \n",
       "\n",
       "  CYCLIST AUTOMOBILE MOTORCYCLE TRUCK TRSN_CITY_VEH EMERG_VEH PASSENGER  \\\n",
       "0     NaN        Yes        NaN   NaN           NaN       NaN       NaN   \n",
       "1     NaN        Yes        NaN   NaN           NaN       NaN       NaN   \n",
       "2     NaN        Yes        Yes   NaN           NaN       NaN       NaN   \n",
       "3     NaN        Yes        Yes   NaN           NaN       NaN       NaN   \n",
       "4     NaN        Yes        NaN   NaN           NaN       NaN       NaN   \n",
       "\n",
       "  SPEEDING AG_DRIV REDLIGHT ALCOHOL DISABILITY POLICE_DIVISION  HOOD_ID  \\\n",
       "0      NaN     Yes      NaN     NaN        NaN             D11       88   \n",
       "1      NaN     Yes      NaN     NaN        NaN             D11       88   \n",
       "2      NaN     Yes      Yes     NaN        NaN             D42      131   \n",
       "3      NaN     Yes      Yes     NaN        NaN             D42      131   \n",
       "4      NaN     NaN      NaN     Yes        NaN             D41      138   \n",
       "\n",
       "          NEIGHBOURHOOD  ObjectId ACCLASS  \n",
       "0  High Park North (88)         1   Fatal  \n",
       "1  High Park North (88)         2   Fatal  \n",
       "2           Rouge (131)         3   Fatal  \n",
       "3           Rouge (131)         4   Fatal  \n",
       "4   Eglinton East (138)         5   Fatal  "
      ]
     },
     "execution_count": 28,
     "metadata": {},
     "output_type": "execute_result"
    }
   ],
   "source": [
    "df_ksi.head()"
   ]
  },
  {
   "cell_type": "code",
   "execution_count": 29,
   "metadata": {},
   "outputs": [],
   "source": [
    "df_ksi.ROAD_CLASS.replace(to_replace = np.nan, value = 'Road Type Unavailable', inplace = True)"
   ]
  },
  {
   "cell_type": "code",
   "execution_count": 30,
   "metadata": {},
   "outputs": [
    {
     "data": {
      "text/plain": [
       "Toronto and East York    5617\n",
       "Etobicoke York           3884\n",
       "Scarborough              3798\n",
       "North York               3343\n",
       "Toronto East York          77\n",
       "Name: DISTRICT, dtype: int64"
      ]
     },
     "execution_count": 30,
     "metadata": {},
     "output_type": "execute_result"
    }
   ],
   "source": [
    "df_ksi.DISTRICT.value_counts()"
   ]
  },
  {
   "cell_type": "markdown",
   "metadata": {},
   "source": [
    "## Should DISTRICT be dropped?"
   ]
  },
  {
   "cell_type": "code",
   "execution_count": 31,
   "metadata": {},
   "outputs": [],
   "source": [
    "df_ksi.DISTRICT.replace(to_replace = 'Toronto East York', value = 'Toronto and East York', inplace = True)"
   ]
  },
  {
   "cell_type": "code",
   "execution_count": 32,
   "metadata": {},
   "outputs": [],
   "source": [
    "df_ksi.DISTRICT.replace(to_replace = np.nan, value = 'District_Not_Informed', inplace = True)"
   ]
  },
  {
   "cell_type": "code",
   "execution_count": 33,
   "metadata": {},
   "outputs": [],
   "source": [
    "# Better analyze what to do with these features. They seem to be overlaping with POLICE_DIVISION and\n",
    "# HOOD_ID\n",
    "df_ksi.drop(['WARDNUM', 'DIVISION'], axis = 1, inplace = True)"
   ]
  },
  {
   "cell_type": "code",
   "execution_count": 34,
   "metadata": {},
   "outputs": [
    {
     "data": {
      "text/plain": [
       "array(['D11', 'D42', 'D41', 'D14', 'D23', 'D51', 'D32', 'D31', 'D43',\n",
       "       'D12', 'D55', 'D13', 'D52', 'D54', 'D33', 'D22', 'D53'],\n",
       "      dtype=object)"
      ]
     },
     "execution_count": 34,
     "metadata": {},
     "output_type": "execute_result"
    }
   ],
   "source": [
    "df_ksi.POLICE_DIVISION.unique()"
   ]
  },
  {
   "cell_type": "code",
   "execution_count": 35,
   "metadata": {},
   "outputs": [
    {
     "data": {
      "image/png": "[encoded data removed]",
      "text/plain": [
       "<Figure size 2016x1080 with 2 Axes>"
      ]
     },
     "metadata": {},
     "output_type": "display_data"
    }
   ],
   "source": [
    "sns.heatmap(df_ksi.corr(method = 'pearson'), annot = True, cmap = 'viridis')\n",
    "plt.show()"
   ]
  },
  {
   "cell_type": "code",
   "execution_count": 36,
   "metadata": {},
   "outputs": [
    {
     "data": {
      "text/plain": [
       "Index(['MONTH', 'DAY', 'TIME', 'STREET1', 'STREET2', 'ROAD_CLASS', 'DISTRICT',\n",
       "       'LOCCOORD', 'ACCLOC', 'TRAFFCTL', 'VISIBILITY', 'LIGHT', 'RDSFCOND',\n",
       "       'IMPACTYPE', 'INVTYPE', 'INVAGE', 'INJURY', 'FATAL_NO', 'INITDIR',\n",
       "       'VEHTYPE', 'MANOEUVER', 'DRIVACT', 'DRIVCOND', 'PEDTYPE', 'PEDACT',\n",
       "       'PEDCOND', 'CYCLISTYPE', 'CYCACT', 'CYCCOND', 'PEDESTRIAN', 'CYCLIST',\n",
       "       'AUTOMOBILE', 'MOTORCYCLE', 'TRUCK', 'TRSN_CITY_VEH', 'EMERG_VEH',\n",
       "       'PASSENGER', 'SPEEDING', 'AG_DRIV', 'REDLIGHT', 'ALCOHOL', 'DISABILITY',\n",
       "       'POLICE_DIVISION', 'HOOD_ID', 'NEIGHBOURHOOD', 'ObjectId', 'ACCLASS'],\n",
       "      dtype='object')"
      ]
     },
     "execution_count": 36,
     "metadata": {},
     "output_type": "execute_result"
    }
   ],
   "source": [
    "df_ksi.columns"
   ]
  },
  {
   "cell_type": "code",
   "execution_count": 37,
   "metadata": {},
   "outputs": [
    {
     "data": {
      "text/html": [
       "<div>\n",
       "<style scoped>\n",
       "    .dataframe tbody tr th:only-of-type {\n",
       "        vertical-align: middle;\n",
       "    }\n",
       "\n",
       "    .dataframe tbody tr th {\n",
       "        vertical-align: top;\n",
       "    }\n",
       "\n",
       "    .dataframe thead th {\n",
       "        text-align: right;\n",
       "    }\n",
       "</style>\n",
       "<table border=\"1\" class=\"dataframe\">\n",
       "  <thead>\n",
       "    <tr style=\"text-align: right;\">\n",
       "      <th></th>\n",
       "      <th>ACCLOC</th>\n",
       "      <th>LOCCOORD</th>\n",
       "    </tr>\n",
       "  </thead>\n",
       "  <tbody>\n",
       "    <tr>\n",
       "      <th>0</th>\n",
       "      <td>At Intersection</td>\n",
       "      <td>Intersection</td>\n",
       "    </tr>\n",
       "    <tr>\n",
       "      <th>1</th>\n",
       "      <td>At Intersection</td>\n",
       "      <td>Intersection</td>\n",
       "    </tr>\n",
       "    <tr>\n",
       "      <th>2</th>\n",
       "      <td>At Intersection</td>\n",
       "      <td>Intersection</td>\n",
       "    </tr>\n",
       "    <tr>\n",
       "      <th>3</th>\n",
       "      <td>At Intersection</td>\n",
       "      <td>Intersection</td>\n",
       "    </tr>\n",
       "    <tr>\n",
       "      <th>4</th>\n",
       "      <td>NaN</td>\n",
       "      <td>Mid-Block</td>\n",
       "    </tr>\n",
       "    <tr>\n",
       "      <th>...</th>\n",
       "      <td>...</td>\n",
       "      <td>...</td>\n",
       "    </tr>\n",
       "    <tr>\n",
       "      <th>16855</th>\n",
       "      <td>Non Intersection</td>\n",
       "      <td>Mid-Block</td>\n",
       "    </tr>\n",
       "    <tr>\n",
       "      <th>16856</th>\n",
       "      <td>At Intersection</td>\n",
       "      <td>Intersection</td>\n",
       "    </tr>\n",
       "    <tr>\n",
       "      <th>16857</th>\n",
       "      <td>At Intersection</td>\n",
       "      <td>Intersection</td>\n",
       "    </tr>\n",
       "    <tr>\n",
       "      <th>16858</th>\n",
       "      <td>At Intersection</td>\n",
       "      <td>Intersection</td>\n",
       "    </tr>\n",
       "    <tr>\n",
       "      <th>16859</th>\n",
       "      <td>Non Intersection</td>\n",
       "      <td>Mid-Block</td>\n",
       "    </tr>\n",
       "  </tbody>\n",
       "</table>\n",
       "<p>16860 rows × 2 columns</p>\n",
       "</div>"
      ],
      "text/plain": [
       "                 ACCLOC      LOCCOORD\n",
       "0       At Intersection  Intersection\n",
       "1       At Intersection  Intersection\n",
       "2       At Intersection  Intersection\n",
       "3       At Intersection  Intersection\n",
       "4                   NaN     Mid-Block\n",
       "...                 ...           ...\n",
       "16855  Non Intersection     Mid-Block\n",
       "16856   At Intersection  Intersection\n",
       "16857   At Intersection  Intersection\n",
       "16858   At Intersection  Intersection\n",
       "16859  Non Intersection     Mid-Block\n",
       "\n",
       "[16860 rows x 2 columns]"
      ]
     },
     "execution_count": 37,
     "metadata": {},
     "output_type": "execute_result"
    }
   ],
   "source": [
    "df_ksi[['ACCLOC', 'LOCCOORD']]"
   ]
  },
  {
   "cell_type": "code",
   "execution_count": 38,
   "metadata": {},
   "outputs": [
    {
     "data": {
      "text/plain": [
       "ACCLOC      5450\n",
       "LOCCOORD     105\n",
       "dtype: int64"
      ]
     },
     "execution_count": 38,
     "metadata": {},
     "output_type": "execute_result"
    }
   ],
   "source": [
    "df_ksi[['ACCLOC', 'LOCCOORD']].isna().sum()"
   ]
  },
  {
   "cell_type": "markdown",
   "metadata": {},
   "source": [
    "## Experiment"
   ]
  },
  {
   "cell_type": "code",
   "execution_count": 39,
   "metadata": {},
   "outputs": [],
   "source": [
    "#Fill NaN values in LOCCOORD with correspondent values in ACCLOC\n",
    "df_ksi['LOCCOORD'].fillna(df_ksi.ACCLOC[df_ksi['LOCCOORD'].isna()], inplace=True)"
   ]
  },
  {
   "cell_type": "code",
   "execution_count": 40,
   "metadata": {},
   "outputs": [
    {
     "data": {
      "text/plain": [
       "89"
      ]
     },
     "execution_count": 40,
     "metadata": {},
     "output_type": "execute_result"
    }
   ],
   "source": [
    "# 16 LOCCORD's NaN values filled with values from ACCLOC\n",
    "df_ksi.LOCCOORD.isna().sum()"
   ]
  },
  {
   "cell_type": "code",
   "execution_count": 41,
   "metadata": {},
   "outputs": [
    {
     "data": {
      "text/plain": [
       "Intersection                           11141\n",
       "Mid-Block                               5598\n",
       "At/Near Private Drive                     14\n",
       "Exit Ramp Westbound                        5\n",
       "Mid-Block (Abnormal)                       4\n",
       "Exit Ramp Southbound                       3\n",
       "Entrance Ramp Westbound                    2\n",
       "Park, Private Property, Public Lane        2\n",
       "Overpass or Bridge                         2\n",
       "Name: LOCCOORD, dtype: int64"
      ]
     },
     "execution_count": 41,
     "metadata": {},
     "output_type": "execute_result"
    }
   ],
   "source": [
    "df_ksi.LOCCOORD.value_counts()"
   ]
  },
  {
   "cell_type": "code",
   "execution_count": 42,
   "metadata": {},
   "outputs": [],
   "source": [
    "df_ksi.LOCCOORD.replace(to_replace = np.nan, value = 'Loccoord_Not_Informed', inplace = True)"
   ]
  },
  {
   "cell_type": "code",
   "execution_count": 43,
   "metadata": {},
   "outputs": [],
   "source": [
    "df_ksi.drop('ACCLOC', axis = 1, inplace = True)"
   ]
  },
  {
   "cell_type": "code",
   "execution_count": 44,
   "metadata": {},
   "outputs": [
    {
     "data": {
      "text/plain": [
       "29"
      ]
     },
     "execution_count": 44,
     "metadata": {},
     "output_type": "execute_result"
    }
   ],
   "source": [
    "df_ksi.TRAFFCTL.isna().sum()"
   ]
  },
  {
   "cell_type": "code",
   "execution_count": 45,
   "metadata": {},
   "outputs": [
    {
     "data": {
      "text/plain": [
       "No Control              8092\n",
       "Traffic Signal          7104\n",
       "Stop Sign               1295\n",
       "Pedestrian Crossover     195\n",
       "Traffic Controller       104\n",
       "Yield Sign                16\n",
       "Streetcar (Stop for)      16\n",
       "Traffic Gate               5\n",
       "School Guard               2\n",
       "Police Control             2\n",
       "Name: TRAFFCTL, dtype: int64"
      ]
     },
     "execution_count": 45,
     "metadata": {},
     "output_type": "execute_result"
    }
   ],
   "source": [
    "df_ksi.TRAFFCTL.value_counts()"
   ]
  },
  {
   "cell_type": "code",
   "execution_count": 46,
   "metadata": {},
   "outputs": [],
   "source": [
    "df_ksi.TRAFFCTL.replace(to_replace = np.nan, value = 'Traffctl_Not_Informed', inplace = True)"
   ]
  },
  {
   "cell_type": "code",
   "execution_count": 47,
   "metadata": {},
   "outputs": [
    {
     "data": {
      "text/plain": [
       "18"
      ]
     },
     "execution_count": 47,
     "metadata": {},
     "output_type": "execute_result"
    }
   ],
   "source": [
    "df_ksi.VISIBILITY.isna().sum()"
   ]
  },
  {
   "cell_type": "code",
   "execution_count": 48,
   "metadata": {},
   "outputs": [],
   "source": [
    "df_ksi.VISIBILITY.replace(to_replace = ['Other', np.nan], value = 'Other_Visibility', inplace = True)"
   ]
  },
  {
   "cell_type": "code",
   "execution_count": 49,
   "metadata": {},
   "outputs": [
    {
     "data": {
      "text/plain": [
       "Clear                     14476\n",
       "Rain                       1819\n",
       "Snow                        332\n",
       "Other_Visibility            117\n",
       "Fog, Mist, Smoke, Dust       46\n",
       "Freezing Rain                43\n",
       "Drifting Snow                19\n",
       "Strong wind                   8\n",
       "Name: VISIBILITY, dtype: int64"
      ]
     },
     "execution_count": 49,
     "metadata": {},
     "output_type": "execute_result"
    }
   ],
   "source": [
    "df_ksi.VISIBILITY.value_counts()"
   ]
  },
  {
   "cell_type": "code",
   "execution_count": 50,
   "metadata": {},
   "outputs": [
    {
     "data": {
      "text/plain": [
       "Dry                     13435\n",
       "Wet                      2870\n",
       "Loose Snow                166\n",
       "Other                     147\n",
       "Slush                      96\n",
       "Ice                        73\n",
       "Packed Snow                42\n",
       "Loose Sand or Gravel        7\n",
       "Spilled liquid              1\n",
       "Name: RDSFCOND, dtype: int64"
      ]
     },
     "execution_count": 50,
     "metadata": {},
     "output_type": "execute_result"
    }
   ],
   "source": [
    "df_ksi.RDSFCOND.value_counts()"
   ]
  },
  {
   "cell_type": "code",
   "execution_count": 51,
   "metadata": {},
   "outputs": [
    {
     "data": {
      "text/plain": [
       "23"
      ]
     },
     "execution_count": 51,
     "metadata": {},
     "output_type": "execute_result"
    }
   ],
   "source": [
    "df_ksi.RDSFCOND.isna().sum()"
   ]
  },
  {
   "cell_type": "code",
   "execution_count": 52,
   "metadata": {},
   "outputs": [],
   "source": [
    "df_ksi.RDSFCOND.replace(to_replace = ['Other', np.nan], value = 'Other_Road_Conditions', inplace = True)"
   ]
  },
  {
   "cell_type": "code",
   "execution_count": 53,
   "metadata": {},
   "outputs": [],
   "source": [
    "df_ksi.IMPACTYPE.replace(to_replace = ['Other', np.nan], value = 'Other_Impact_Type', inplace = True)"
   ]
  },
  {
   "cell_type": "code",
   "execution_count": 54,
   "metadata": {},
   "outputs": [
    {
     "data": {
      "text/plain": [
       "Driver                  7618\n",
       "Pedestrian              2871\n",
       "Passenger               2543\n",
       "Vehicle Owner           1636\n",
       "Cyclist                  726\n",
       "Motorcycle Driver        607\n",
       "Truck Driver             316\n",
       "Other Property Owner     257\n",
       "Other                    174\n",
       "Motorcycle Passenger      32\n",
       "Moped Driver              27\n",
       "Driver - Not Hit          17\n",
       "Wheelchair                13\n",
       "In-Line Skater             5\n",
       "Trailer Owner              2\n",
       "Cyclist Passenger          2\n",
       "Pedestrian - Not Hit       1\n",
       "Witness                    1\n",
       "Name: INVTYPE, dtype: int64"
      ]
     },
     "execution_count": 54,
     "metadata": {},
     "output_type": "execute_result"
    }
   ],
   "source": [
    "df_ksi.INVTYPE.value_counts()"
   ]
  },
  {
   "cell_type": "code",
   "execution_count": 55,
   "metadata": {},
   "outputs": [],
   "source": [
    "# df_ksi.INVTYPE.replace(to_replace = ['Other', np.nan], value = 'Other_Involvement_Type', inplace = True)"
   ]
  },
  {
   "cell_type": "code",
   "execution_count": 56,
   "metadata": {},
   "outputs": [],
   "source": [
    "df_ksi.drop('INVTYPE', axis = 1, inplace = True)"
   ]
  },
  {
   "cell_type": "code",
   "execution_count": 57,
   "metadata": {},
   "outputs": [
    {
     "data": {
      "text/plain": [
       "None       6406\n",
       "Major      5668\n",
       "Minor      1311\n",
       "Minimal    1042\n",
       "Fatal       821\n",
       "Name: INJURY, dtype: int64"
      ]
     },
     "execution_count": 57,
     "metadata": {},
     "output_type": "execute_result"
    }
   ],
   "source": [
    "df_ksi.INJURY.value_counts()"
   ]
  },
  {
   "cell_type": "code",
   "execution_count": 58,
   "metadata": {},
   "outputs": [
    {
     "data": {
      "text/plain": [
       "1612"
      ]
     },
     "execution_count": 58,
     "metadata": {},
     "output_type": "execute_result"
    }
   ],
   "source": [
    "df_ksi.INJURY.isna().sum()"
   ]
  },
  {
   "cell_type": "code",
   "execution_count": 59,
   "metadata": {},
   "outputs": [],
   "source": [
    "df_ksi.INJURY.replace(to_replace = np.nan, value = 'Injury_Not_Disclosed', inplace = True)"
   ]
  },
  {
   "cell_type": "code",
   "execution_count": 60,
   "metadata": {},
   "outputs": [
    {
     "data": {
      "text/plain": [
       "16147"
      ]
     },
     "execution_count": 60,
     "metadata": {},
     "output_type": "execute_result"
    }
   ],
   "source": [
    "df_ksi.FATAL_NO.isna().sum()"
   ]
  },
  {
   "cell_type": "code",
   "execution_count": 61,
   "metadata": {},
   "outputs": [],
   "source": [
    "df_ksi.drop('FATAL_NO', axis = 1, inplace = True)"
   ]
  },
  {
   "cell_type": "code",
   "execution_count": 62,
   "metadata": {},
   "outputs": [
    {
     "data": {
      "text/plain": [
       "East       3010\n",
       "West       2900\n",
       "North      2813\n",
       "South      2809\n",
       "Unknown     434\n",
       "Name: INITDIR, dtype: int64"
      ]
     },
     "execution_count": 62,
     "metadata": {},
     "output_type": "execute_result"
    }
   ],
   "source": [
    "df_ksi.INITDIR.value_counts()"
   ]
  },
  {
   "cell_type": "code",
   "execution_count": 63,
   "metadata": {},
   "outputs": [
    {
     "data": {
      "text/plain": [
       "4894"
      ]
     },
     "execution_count": 63,
     "metadata": {},
     "output_type": "execute_result"
    }
   ],
   "source": [
    "df_ksi.INITDIR.isna().sum()"
   ]
  },
  {
   "cell_type": "code",
   "execution_count": 64,
   "metadata": {},
   "outputs": [],
   "source": [
    "# df_ksi.INITDIR.replace(to_replace = ['Unkown', np.nan], value = 'Unknown_Initdir', inplace = True)"
   ]
  },
  {
   "cell_type": "code",
   "execution_count": 65,
   "metadata": {},
   "outputs": [],
   "source": [
    "df_ksi.drop('INITDIR', axis = 1, inplace = True)"
   ]
  },
  {
   "cell_type": "code",
   "execution_count": 66,
   "metadata": {},
   "outputs": [
    {
     "data": {
      "text/plain": [
       "Automobile, Station Wagon           6890\n",
       "Other                               4746\n",
       "Bicycle                              722\n",
       "Motorcycle                           608\n",
       "Municipal Transit Bus (TTC)          249\n",
       "Pick Up Truck                        179\n",
       "Truck - Open                         175\n",
       "Passenger Van                        118\n",
       "Delivery Van                          72\n",
       "Truck - Closed (Blazer, etc)          60\n",
       "Street Car                            42\n",
       "Truck - Dump                          34\n",
       "Truck-Tractor                         33\n",
       "Taxi                                  28\n",
       "Moped                                 22\n",
       "Truck (other)                         13\n",
       "Bus (Other) (Go Bus, Gray Coach)      13\n",
       "Truck - Tank                          10\n",
       "Intercity Bus                         10\n",
       "School Bus                             5\n",
       "Police Vehicle                         4\n",
       "Construction Equipment                 4\n",
       "Tow Truck                              4\n",
       "Fire Vehicle                           3\n",
       "Other Emergency Vehicle                1\n",
       "Off Road - 2 Wheels                    1\n",
       "Truck - Car Carrier                    1\n",
       "Name: VEHTYPE, dtype: int64"
      ]
     },
     "execution_count": 66,
     "metadata": {},
     "output_type": "execute_result"
    }
   ],
   "source": [
    "df_ksi.VEHTYPE.value_counts()"
   ]
  },
  {
   "cell_type": "code",
   "execution_count": 67,
   "metadata": {},
   "outputs": [],
   "source": [
    "# df_ksi.VEHTYPE.replace(to_replace = ['Other', np.nan], value = 'Other_Vehtype', inplace = True)"
   ]
  },
  {
   "cell_type": "code",
   "execution_count": 68,
   "metadata": {},
   "outputs": [],
   "source": [
    "df_ksi.drop('VEHTYPE', axis = 1, inplace = True)"
   ]
  },
  {
   "cell_type": "code",
   "execution_count": 69,
   "metadata": {},
   "outputs": [
    {
     "data": {
      "text/plain": [
       "7233"
      ]
     },
     "execution_count": 69,
     "metadata": {},
     "output_type": "execute_result"
    }
   ],
   "source": [
    "df_ksi.MANOEUVER.isna().sum()"
   ]
  },
  {
   "cell_type": "code",
   "execution_count": 70,
   "metadata": {},
   "outputs": [
    {
     "data": {
      "text/plain": [
       "Going Ahead                            5694\n",
       "Turning Left                           1630\n",
       "Stopped                                 576\n",
       "Turning Right                           432\n",
       "Slowing or Stopping                     249\n",
       "Changing Lanes                          203\n",
       "Other                                   176\n",
       "Parked                                  175\n",
       "Unknown                                 120\n",
       "Reversing                               113\n",
       "Making U Turn                            99\n",
       "Overtaking                               87\n",
       "Pulling Away from Shoulder or Curb       38\n",
       "Merging                                  17\n",
       "Pulling Onto Shoulder or towardCurb      14\n",
       "Disabled                                  4\n",
       "Name: MANOEUVER, dtype: int64"
      ]
     },
     "execution_count": 70,
     "metadata": {},
     "output_type": "execute_result"
    }
   ],
   "source": [
    "df_ksi.MANOEUVER.value_counts()"
   ]
  },
  {
   "cell_type": "code",
   "execution_count": 71,
   "metadata": {},
   "outputs": [],
   "source": [
    "# df_ksi.MANOEUVER.replace(to_replace = ['Unkown', np.nan], value = 'Unkown_Manouver', inplace = True)"
   ]
  },
  {
   "cell_type": "code",
   "execution_count": 72,
   "metadata": {},
   "outputs": [],
   "source": [
    "df_ksi.drop('MANOEUVER', axis = 1, inplace = True)"
   ]
  },
  {
   "cell_type": "code",
   "execution_count": 73,
   "metadata": {},
   "outputs": [],
   "source": [
    "df_ksi.DRIVACT.replace(to_replace = ['Other', np.nan], value = 'Other_Driver_Action', inplace = True)"
   ]
  },
  {
   "cell_type": "code",
   "execution_count": 74,
   "metadata": {},
   "outputs": [
    {
     "data": {
      "text/plain": [
       "Normal                                5407\n",
       "Inattentive                           1412\n",
       "Unknown                                988\n",
       "Medical or Physical Disability         166\n",
       "Had Been Drinking                      152\n",
       "Ability Impaired, Alcohol Over .08     120\n",
       "Ability Impaired, Alcohol              111\n",
       "Fatigue                                 48\n",
       "Other                                   43\n",
       "Ability Impaired, Drugs                 17\n",
       "Name: DRIVCOND, dtype: int64"
      ]
     },
     "execution_count": 74,
     "metadata": {},
     "output_type": "execute_result"
    }
   ],
   "source": [
    "df_ksi.DRIVCOND.value_counts()"
   ]
  },
  {
   "cell_type": "code",
   "execution_count": 75,
   "metadata": {},
   "outputs": [
    {
     "data": {
      "text/plain": [
       "8396"
      ]
     },
     "execution_count": 75,
     "metadata": {},
     "output_type": "execute_result"
    }
   ],
   "source": [
    "df_ksi.DRIVCOND.isna().sum()"
   ]
  },
  {
   "cell_type": "code",
   "execution_count": 76,
   "metadata": {},
   "outputs": [],
   "source": [
    "df_ksi.DRIVCOND.replace(to_replace = ['Unknown', 'Other', np.nan], value = 'Driver_Condition_Unkown', inplace = True)"
   ]
  },
  {
   "cell_type": "code",
   "execution_count": 77,
   "metadata": {},
   "outputs": [
    {
     "data": {
      "text/plain": [
       "14074"
      ]
     },
     "execution_count": 77,
     "metadata": {},
     "output_type": "execute_result"
    }
   ],
   "source": [
    "df_ksi.PEDTYPE.isna().sum()"
   ]
  },
  {
   "cell_type": "code",
   "execution_count": 78,
   "metadata": {},
   "outputs": [],
   "source": [
    "df_ksi.drop('PEDTYPE', axis = 1, inplace = True)"
   ]
  },
  {
   "cell_type": "code",
   "execution_count": 79,
   "metadata": {},
   "outputs": [
    {
     "data": {
      "text/plain": [
       "14081"
      ]
     },
     "execution_count": 79,
     "metadata": {},
     "output_type": "execute_result"
    }
   ],
   "source": [
    "df_ksi.PEDACT.isna().sum()"
   ]
  },
  {
   "cell_type": "code",
   "execution_count": 80,
   "metadata": {},
   "outputs": [
    {
     "data": {
      "text/plain": [
       "Crossing with right of way               873\n",
       "Crossing, no Traffic Control             647\n",
       "Crossing without right of way            383\n",
       "On Sidewalk or Shoulder                  233\n",
       "Running onto Roadway                     207\n",
       "Other                                    205\n",
       "Crossing, Pedestrian Crossover            58\n",
       "Person Getting on/off Vehicle             36\n",
       "Coming From Behind Parked Vehicle         33\n",
       "Walking on Roadway with Traffic           31\n",
       "Playing or Working on Highway             24\n",
       "Walking on Roadway Against Traffic        20\n",
       "Crossing marked crosswalk without ROW     15\n",
       "Pushing/Working on Vehicle                12\n",
       "Person Getting on/off School Bus           2\n",
       "Name: PEDACT, dtype: int64"
      ]
     },
     "execution_count": 80,
     "metadata": {},
     "output_type": "execute_result"
    }
   ],
   "source": [
    "df_ksi.PEDACT.value_counts()"
   ]
  },
  {
   "cell_type": "code",
   "execution_count": 81,
   "metadata": {},
   "outputs": [],
   "source": [
    "df_ksi.drop('PEDACT', axis = 1, inplace = True)"
   ]
  },
  {
   "cell_type": "code",
   "execution_count": 82,
   "metadata": {},
   "outputs": [
    {
     "data": {
      "text/plain": [
       "Normal                                1597\n",
       "Inattentive                            496\n",
       "Unknown                                355\n",
       "Had Been Drinking                      205\n",
       "Medical or Physical Disability          66\n",
       "Other                                   56\n",
       "Ability Impaired, Alcohol               38\n",
       "Ability Impaired, Alcohol Over .80      12\n",
       "Ability Impaired, Drugs                  8\n",
       "Fatigue                                  2\n",
       "Name: PEDCOND, dtype: int64"
      ]
     },
     "execution_count": 82,
     "metadata": {},
     "output_type": "execute_result"
    }
   ],
   "source": [
    "df_ksi.PEDCOND.value_counts()"
   ]
  },
  {
   "cell_type": "code",
   "execution_count": 83,
   "metadata": {},
   "outputs": [
    {
     "data": {
      "text/plain": [
       "14025"
      ]
     },
     "execution_count": 83,
     "metadata": {},
     "output_type": "execute_result"
    }
   ],
   "source": [
    "df_ksi.PEDCOND.isna().sum()"
   ]
  },
  {
   "cell_type": "code",
   "execution_count": 84,
   "metadata": {},
   "outputs": [],
   "source": [
    "df_ksi.drop('PEDCOND', axis = 1, inplace = True)"
   ]
  },
  {
   "cell_type": "code",
   "execution_count": 85,
   "metadata": {},
   "outputs": [
    {
     "data": {
      "text/plain": [
       "Motorist turned left across cyclists path.                                                       119\n",
       "Cyclist without ROW rides into path of motorist at inter, lnwy, dwy-Cyclist not turn.            106\n",
       "Cyclist and Driver travelling in same direction. One vehicle sideswipes the other.                96\n",
       "Cyclist and Driver travelling in same direction. One vehicle rear-ended the other.                51\n",
       "Cyclist struck opened vehicle door                                                                50\n",
       "Motorist without ROW drives into path of cyclist at inter, lnwy, dwy-Driver not turn.             50\n",
       "Motorist turns right at non-signal Inter.(stop, yield, no cont.,and dwy) and strikes cyclist.     41\n",
       "Cyclist turned left across motorists path.                                                        38\n",
       "Motorist turning right on green or amber at signalized intersection strikes cyclist.              33\n",
       "Motorist turning right on red at signalized intersection strikes cyclist.                         26\n",
       "Insufficient information (to determine cyclist crash type).                                       21\n",
       "Cyclist strikes pedestrian.                                                                       15\n",
       "Cyclist loses control and strikes object (pole, ttc track)                                        13\n",
       "Motorist makes u-turn in-front of cyclist.                                                         8\n",
       "Cyclist strikes a parked vehicle.                                                                  8\n",
       "Cyclist turns right across motorists path                                                          5\n",
       "Motorist reversing struck cyclist.                                                                 5\n",
       "Cyclist rode off sidewalk into road at midblock.                                                   4\n",
       "Cyclist falls off bike - no contact with motorist.                                                 4\n",
       "Motorist loses control and strikes cyclist.                                                        3\n",
       "Cyclist makes u-turn in-front of driver.                                                           2\n",
       "Cyclist struck at PXO(cyclist either travel in same dir. as veh. or ride across xwalk)             2\n",
       "Name: CYCLISTYPE, dtype: int64"
      ]
     },
     "execution_count": 85,
     "metadata": {},
     "output_type": "execute_result"
    }
   ],
   "source": [
    "df_ksi.CYCLISTYPE.value_counts()"
   ]
  },
  {
   "cell_type": "code",
   "execution_count": 86,
   "metadata": {},
   "outputs": [
    {
     "data": {
      "text/plain": [
       "16160"
      ]
     },
     "execution_count": 86,
     "metadata": {},
     "output_type": "execute_result"
    }
   ],
   "source": [
    "df_ksi.CYCLISTYPE.isna().sum()"
   ]
  },
  {
   "cell_type": "code",
   "execution_count": 87,
   "metadata": {},
   "outputs": [],
   "source": [
    "df_ksi.drop('CYCLISTYPE', axis = 1, inplace = True)"
   ]
  },
  {
   "cell_type": "code",
   "execution_count": 88,
   "metadata": {},
   "outputs": [
    {
     "data": {
      "text/plain": [
       "Driving Properly                385\n",
       "Disobeyed Traffic Control        79\n",
       "Other                            69\n",
       "Failed to Yield Right of Way     59\n",
       "Lost control                     35\n",
       "Improper Turn                    24\n",
       "Improper Lane Change             21\n",
       "Improper Passing                 19\n",
       "Speed too Fast For Condition      8\n",
       "Following too Close               4\n",
       "Wrong Way on One Way Road         4\n",
       "Name: CYCACT, dtype: int64"
      ]
     },
     "execution_count": 88,
     "metadata": {},
     "output_type": "execute_result"
    }
   ],
   "source": [
    "df_ksi.CYCACT.value_counts()"
   ]
  },
  {
   "cell_type": "code",
   "execution_count": 89,
   "metadata": {},
   "outputs": [
    {
     "data": {
      "text/plain": [
       "16153"
      ]
     },
     "execution_count": 89,
     "metadata": {},
     "output_type": "execute_result"
    }
   ],
   "source": [
    "df_ksi.CYCACT.isna().sum()"
   ]
  },
  {
   "cell_type": "code",
   "execution_count": 90,
   "metadata": {},
   "outputs": [],
   "source": [
    "df_ksi.drop('CYCACT', axis = 1, inplace = True)"
   ]
  },
  {
   "cell_type": "code",
   "execution_count": 91,
   "metadata": {},
   "outputs": [
    {
     "data": {
      "text/html": [
       "<div>\n",
       "<style scoped>\n",
       "    .dataframe tbody tr th:only-of-type {\n",
       "        vertical-align: middle;\n",
       "    }\n",
       "\n",
       "    .dataframe tbody tr th {\n",
       "        vertical-align: top;\n",
       "    }\n",
       "\n",
       "    .dataframe thead th {\n",
       "        text-align: right;\n",
       "    }\n",
       "</style>\n",
       "<table border=\"1\" class=\"dataframe\">\n",
       "  <thead>\n",
       "    <tr style=\"text-align: right;\">\n",
       "      <th></th>\n",
       "      <th>MONTH</th>\n",
       "      <th>DAY</th>\n",
       "      <th>TIME</th>\n",
       "      <th>STREET1</th>\n",
       "      <th>STREET2</th>\n",
       "      <th>ROAD_CLASS</th>\n",
       "      <th>DISTRICT</th>\n",
       "      <th>LOCCOORD</th>\n",
       "      <th>TRAFFCTL</th>\n",
       "      <th>VISIBILITY</th>\n",
       "      <th>LIGHT</th>\n",
       "      <th>RDSFCOND</th>\n",
       "      <th>IMPACTYPE</th>\n",
       "      <th>INVAGE</th>\n",
       "      <th>INJURY</th>\n",
       "      <th>DRIVACT</th>\n",
       "      <th>DRIVCOND</th>\n",
       "      <th>CYCCOND</th>\n",
       "      <th>PEDESTRIAN</th>\n",
       "      <th>CYCLIST</th>\n",
       "      <th>AUTOMOBILE</th>\n",
       "      <th>MOTORCYCLE</th>\n",
       "      <th>TRUCK</th>\n",
       "      <th>TRSN_CITY_VEH</th>\n",
       "      <th>EMERG_VEH</th>\n",
       "      <th>PASSENGER</th>\n",
       "      <th>SPEEDING</th>\n",
       "      <th>AG_DRIV</th>\n",
       "      <th>REDLIGHT</th>\n",
       "      <th>ALCOHOL</th>\n",
       "      <th>DISABILITY</th>\n",
       "      <th>POLICE_DIVISION</th>\n",
       "      <th>HOOD_ID</th>\n",
       "      <th>NEIGHBOURHOOD</th>\n",
       "      <th>ObjectId</th>\n",
       "      <th>ACCLASS</th>\n",
       "    </tr>\n",
       "  </thead>\n",
       "  <tbody>\n",
       "    <tr>\n",
       "      <th>0</th>\n",
       "      <td>3</td>\n",
       "      <td>11</td>\n",
       "      <td>852</td>\n",
       "      <td>BLOOR ST W</td>\n",
       "      <td>DUNDAS ST W</td>\n",
       "      <td>Major Arterial</td>\n",
       "      <td>Toronto and East York</td>\n",
       "      <td>Intersection</td>\n",
       "      <td>Traffic Signal</td>\n",
       "      <td>Clear</td>\n",
       "      <td>Daylight</td>\n",
       "      <td>Dry</td>\n",
       "      <td>Pedestrian Collisions</td>\n",
       "      <td>unknown</td>\n",
       "      <td>None</td>\n",
       "      <td>Failed to Yield Right of Way</td>\n",
       "      <td>Driver_Condition_Unkown</td>\n",
       "      <td>NaN</td>\n",
       "      <td>Yes</td>\n",
       "      <td>NaN</td>\n",
       "      <td>Yes</td>\n",
       "      <td>NaN</td>\n",
       "      <td>NaN</td>\n",
       "      <td>NaN</td>\n",
       "      <td>NaN</td>\n",
       "      <td>NaN</td>\n",
       "      <td>NaN</td>\n",
       "      <td>Yes</td>\n",
       "      <td>NaN</td>\n",
       "      <td>NaN</td>\n",
       "      <td>NaN</td>\n",
       "      <td>D11</td>\n",
       "      <td>88</td>\n",
       "      <td>High Park North (88)</td>\n",
       "      <td>1</td>\n",
       "      <td>Fatal</td>\n",
       "    </tr>\n",
       "    <tr>\n",
       "      <th>1</th>\n",
       "      <td>3</td>\n",
       "      <td>11</td>\n",
       "      <td>852</td>\n",
       "      <td>BLOOR ST W</td>\n",
       "      <td>DUNDAS ST W</td>\n",
       "      <td>Major Arterial</td>\n",
       "      <td>Toronto and East York</td>\n",
       "      <td>Intersection</td>\n",
       "      <td>Traffic Signal</td>\n",
       "      <td>Clear</td>\n",
       "      <td>Daylight</td>\n",
       "      <td>Dry</td>\n",
       "      <td>Pedestrian Collisions</td>\n",
       "      <td>65 to 69</td>\n",
       "      <td>Fatal</td>\n",
       "      <td>Other_Driver_Action</td>\n",
       "      <td>Driver_Condition_Unkown</td>\n",
       "      <td>NaN</td>\n",
       "      <td>Yes</td>\n",
       "      <td>NaN</td>\n",
       "      <td>Yes</td>\n",
       "      <td>NaN</td>\n",
       "      <td>NaN</td>\n",
       "      <td>NaN</td>\n",
       "      <td>NaN</td>\n",
       "      <td>NaN</td>\n",
       "      <td>NaN</td>\n",
       "      <td>Yes</td>\n",
       "      <td>NaN</td>\n",
       "      <td>NaN</td>\n",
       "      <td>NaN</td>\n",
       "      <td>D11</td>\n",
       "      <td>88</td>\n",
       "      <td>High Park North (88)</td>\n",
       "      <td>2</td>\n",
       "      <td>Fatal</td>\n",
       "    </tr>\n",
       "    <tr>\n",
       "      <th>2</th>\n",
       "      <td>3</td>\n",
       "      <td>11</td>\n",
       "      <td>915</td>\n",
       "      <td>MORNINGSIDE AVE</td>\n",
       "      <td>SHEPPARD AVE E</td>\n",
       "      <td>Major Arterial</td>\n",
       "      <td>Scarborough</td>\n",
       "      <td>Intersection</td>\n",
       "      <td>Traffic Signal</td>\n",
       "      <td>Clear</td>\n",
       "      <td>Daylight</td>\n",
       "      <td>Dry</td>\n",
       "      <td>Turning Movement</td>\n",
       "      <td>45 to 49</td>\n",
       "      <td>Fatal</td>\n",
       "      <td>Disobeyed Traffic Control</td>\n",
       "      <td>Driver_Condition_Unkown</td>\n",
       "      <td>NaN</td>\n",
       "      <td>NaN</td>\n",
       "      <td>NaN</td>\n",
       "      <td>Yes</td>\n",
       "      <td>Yes</td>\n",
       "      <td>NaN</td>\n",
       "      <td>NaN</td>\n",
       "      <td>NaN</td>\n",
       "      <td>NaN</td>\n",
       "      <td>NaN</td>\n",
       "      <td>Yes</td>\n",
       "      <td>Yes</td>\n",
       "      <td>NaN</td>\n",
       "      <td>NaN</td>\n",
       "      <td>D42</td>\n",
       "      <td>131</td>\n",
       "      <td>Rouge (131)</td>\n",
       "      <td>3</td>\n",
       "      <td>Fatal</td>\n",
       "    </tr>\n",
       "    <tr>\n",
       "      <th>3</th>\n",
       "      <td>3</td>\n",
       "      <td>11</td>\n",
       "      <td>915</td>\n",
       "      <td>MORNINGSIDE AVE</td>\n",
       "      <td>SHEPPARD AVE E</td>\n",
       "      <td>Major Arterial</td>\n",
       "      <td>Scarborough</td>\n",
       "      <td>Intersection</td>\n",
       "      <td>Traffic Signal</td>\n",
       "      <td>Clear</td>\n",
       "      <td>Daylight</td>\n",
       "      <td>Dry</td>\n",
       "      <td>Turning Movement</td>\n",
       "      <td>unknown</td>\n",
       "      <td>None</td>\n",
       "      <td>Driving Properly</td>\n",
       "      <td>Driver_Condition_Unkown</td>\n",
       "      <td>NaN</td>\n",
       "      <td>NaN</td>\n",
       "      <td>NaN</td>\n",
       "      <td>Yes</td>\n",
       "      <td>Yes</td>\n",
       "      <td>NaN</td>\n",
       "      <td>NaN</td>\n",
       "      <td>NaN</td>\n",
       "      <td>NaN</td>\n",
       "      <td>NaN</td>\n",
       "      <td>Yes</td>\n",
       "      <td>Yes</td>\n",
       "      <td>NaN</td>\n",
       "      <td>NaN</td>\n",
       "      <td>D42</td>\n",
       "      <td>131</td>\n",
       "      <td>Rouge (131)</td>\n",
       "      <td>4</td>\n",
       "      <td>Fatal</td>\n",
       "    </tr>\n",
       "    <tr>\n",
       "      <th>4</th>\n",
       "      <td>3</td>\n",
       "      <td>12</td>\n",
       "      <td>240</td>\n",
       "      <td>EGLINTON AVE E</td>\n",
       "      <td>COMMONWEALTH AVE</td>\n",
       "      <td>Major Arterial</td>\n",
       "      <td>Scarborough</td>\n",
       "      <td>Mid-Block</td>\n",
       "      <td>No Control</td>\n",
       "      <td>Clear</td>\n",
       "      <td>Dark</td>\n",
       "      <td>Dry</td>\n",
       "      <td>Pedestrian Collisions</td>\n",
       "      <td>25 to 29</td>\n",
       "      <td>None</td>\n",
       "      <td>Other_Driver_Action</td>\n",
       "      <td>Ability Impaired, Alcohol</td>\n",
       "      <td>NaN</td>\n",
       "      <td>Yes</td>\n",
       "      <td>NaN</td>\n",
       "      <td>Yes</td>\n",
       "      <td>NaN</td>\n",
       "      <td>NaN</td>\n",
       "      <td>NaN</td>\n",
       "      <td>NaN</td>\n",
       "      <td>NaN</td>\n",
       "      <td>NaN</td>\n",
       "      <td>NaN</td>\n",
       "      <td>NaN</td>\n",
       "      <td>Yes</td>\n",
       "      <td>NaN</td>\n",
       "      <td>D41</td>\n",
       "      <td>138</td>\n",
       "      <td>Eglinton East (138)</td>\n",
       "      <td>5</td>\n",
       "      <td>Fatal</td>\n",
       "    </tr>\n",
       "  </tbody>\n",
       "</table>\n",
       "</div>"
      ],
      "text/plain": [
       "   MONTH  DAY  TIME          STREET1           STREET2      ROAD_CLASS  \\\n",
       "0      3   11   852       BLOOR ST W       DUNDAS ST W  Major Arterial   \n",
       "1      3   11   852       BLOOR ST W       DUNDAS ST W  Major Arterial   \n",
       "2      3   11   915  MORNINGSIDE AVE    SHEPPARD AVE E  Major Arterial   \n",
       "3      3   11   915  MORNINGSIDE AVE    SHEPPARD AVE E  Major Arterial   \n",
       "4      3   12   240   EGLINTON AVE E  COMMONWEALTH AVE  Major Arterial   \n",
       "\n",
       "                DISTRICT      LOCCOORD        TRAFFCTL VISIBILITY     LIGHT  \\\n",
       "0  Toronto and East York  Intersection  Traffic Signal      Clear  Daylight   \n",
       "1  Toronto and East York  Intersection  Traffic Signal      Clear  Daylight   \n",
       "2            Scarborough  Intersection  Traffic Signal      Clear  Daylight   \n",
       "3            Scarborough  Intersection  Traffic Signal      Clear  Daylight   \n",
       "4            Scarborough     Mid-Block      No Control      Clear      Dark   \n",
       "\n",
       "  RDSFCOND              IMPACTYPE    INVAGE INJURY  \\\n",
       "0      Dry  Pedestrian Collisions   unknown   None   \n",
       "1      Dry  Pedestrian Collisions  65 to 69  Fatal   \n",
       "2      Dry       Turning Movement  45 to 49  Fatal   \n",
       "3      Dry       Turning Movement   unknown   None   \n",
       "4      Dry  Pedestrian Collisions  25 to 29   None   \n",
       "\n",
       "                        DRIVACT                   DRIVCOND CYCCOND PEDESTRIAN  \\\n",
       "0  Failed to Yield Right of Way    Driver_Condition_Unkown     NaN        Yes   \n",
       "1           Other_Driver_Action    Driver_Condition_Unkown     NaN        Yes   \n",
       "2     Disobeyed Traffic Control    Driver_Condition_Unkown     NaN        NaN   \n",
       "3              Driving Properly    Driver_Condition_Unkown     NaN        NaN   \n",
       "4           Other_Driver_Action  Ability Impaired, Alcohol     NaN        Yes   \n",
       "\n",
       "  CYCLIST AUTOMOBILE MOTORCYCLE TRUCK TRSN_CITY_VEH EMERG_VEH PASSENGER  \\\n",
       "0     NaN        Yes        NaN   NaN           NaN       NaN       NaN   \n",
       "1     NaN        Yes        NaN   NaN           NaN       NaN       NaN   \n",
       "2     NaN        Yes        Yes   NaN           NaN       NaN       NaN   \n",
       "3     NaN        Yes        Yes   NaN           NaN       NaN       NaN   \n",
       "4     NaN        Yes        NaN   NaN           NaN       NaN       NaN   \n",
       "\n",
       "  SPEEDING AG_DRIV REDLIGHT ALCOHOL DISABILITY POLICE_DIVISION  HOOD_ID  \\\n",
       "0      NaN     Yes      NaN     NaN        NaN             D11       88   \n",
       "1      NaN     Yes      NaN     NaN        NaN             D11       88   \n",
       "2      NaN     Yes      Yes     NaN        NaN             D42      131   \n",
       "3      NaN     Yes      Yes     NaN        NaN             D42      131   \n",
       "4      NaN     NaN      NaN     Yes        NaN             D41      138   \n",
       "\n",
       "          NEIGHBOURHOOD  ObjectId ACCLASS  \n",
       "0  High Park North (88)         1   Fatal  \n",
       "1  High Park North (88)         2   Fatal  \n",
       "2           Rouge (131)         3   Fatal  \n",
       "3           Rouge (131)         4   Fatal  \n",
       "4   Eglinton East (138)         5   Fatal  "
      ]
     },
     "execution_count": 91,
     "metadata": {},
     "output_type": "execute_result"
    }
   ],
   "source": [
    "df_ksi.head()"
   ]
  },
  {
   "cell_type": "code",
   "execution_count": 92,
   "metadata": {},
   "outputs": [
    {
     "data": {
      "text/plain": [
       "16154"
      ]
     },
     "execution_count": 92,
     "metadata": {},
     "output_type": "execute_result"
    }
   ],
   "source": [
    "df_ksi.CYCCOND.isna().sum()"
   ]
  },
  {
   "cell_type": "code",
   "execution_count": 93,
   "metadata": {},
   "outputs": [],
   "source": [
    "df_ksi.drop('CYCCOND', axis = 1, inplace = True)"
   ]
  },
  {
   "cell_type": "code",
   "execution_count": 94,
   "metadata": {},
   "outputs": [
    {
     "data": {
      "text/plain": [
       "10033"
      ]
     },
     "execution_count": 94,
     "metadata": {},
     "output_type": "execute_result"
    }
   ],
   "source": [
    "df_ksi.PEDESTRIAN.isna().sum()"
   ]
  },
  {
   "cell_type": "code",
   "execution_count": 95,
   "metadata": {},
   "outputs": [
    {
     "data": {
      "text/plain": [
       "Yes    6827\n",
       "Name: PEDESTRIAN, dtype: int64"
      ]
     },
     "execution_count": 95,
     "metadata": {},
     "output_type": "execute_result"
    }
   ],
   "source": [
    "df_ksi.PEDESTRIAN.value_counts()"
   ]
  },
  {
   "cell_type": "code",
   "execution_count": 96,
   "metadata": {},
   "outputs": [],
   "source": [
    "df_ksi.PEDESTRIAN = df_ksi.PEDESTRIAN.map({'Yes': 1,\n",
    "                                          np.nan: 0})"
   ]
  },
  {
   "cell_type": "code",
   "execution_count": 97,
   "metadata": {},
   "outputs": [
    {
     "data": {
      "text/plain": [
       "15081"
      ]
     },
     "execution_count": 97,
     "metadata": {},
     "output_type": "execute_result"
    }
   ],
   "source": [
    "df_ksi.CYCLIST.isna().sum()"
   ]
  },
  {
   "cell_type": "code",
   "execution_count": 98,
   "metadata": {},
   "outputs": [],
   "source": [
    "df_ksi.CYCLIST = df_ksi.CYCLIST.map({'Yes': 1,\n",
    "                                          np.nan: 0})"
   ]
  },
  {
   "cell_type": "code",
   "execution_count": 99,
   "metadata": {},
   "outputs": [
    {
     "data": {
      "text/plain": [
       "1552"
      ]
     },
     "execution_count": 99,
     "metadata": {},
     "output_type": "execute_result"
    }
   ],
   "source": [
    "df_ksi.AUTOMOBILE.isna().sum()"
   ]
  },
  {
   "cell_type": "code",
   "execution_count": 100,
   "metadata": {},
   "outputs": [
    {
     "data": {
      "text/plain": [
       "Yes    15308\n",
       "Name: AUTOMOBILE, dtype: int64"
      ]
     },
     "execution_count": 100,
     "metadata": {},
     "output_type": "execute_result"
    }
   ],
   "source": [
    "df_ksi.AUTOMOBILE.value_counts()"
   ]
  },
  {
   "cell_type": "code",
   "execution_count": 101,
   "metadata": {},
   "outputs": [],
   "source": [
    "df_ksi.AUTOMOBILE = df_ksi.AUTOMOBILE.map({'Yes': 1,\n",
    "                                          np.nan: 0})"
   ]
  },
  {
   "cell_type": "code",
   "execution_count": 102,
   "metadata": {},
   "outputs": [
    {
     "data": {
      "text/plain": [
       "Yes    1384\n",
       "Name: MOTORCYCLE, dtype: int64"
      ]
     },
     "execution_count": 102,
     "metadata": {},
     "output_type": "execute_result"
    }
   ],
   "source": [
    "df_ksi.MOTORCYCLE.value_counts()"
   ]
  },
  {
   "cell_type": "code",
   "execution_count": 103,
   "metadata": {},
   "outputs": [],
   "source": [
    "df_ksi.MOTORCYCLE = df_ksi.MOTORCYCLE.map({'Yes': 1,\n",
    "                                          np.nan: 0})"
   ]
  },
  {
   "cell_type": "code",
   "execution_count": 104,
   "metadata": {},
   "outputs": [
    {
     "data": {
      "text/plain": [
       "15818"
      ]
     },
     "execution_count": 104,
     "metadata": {},
     "output_type": "execute_result"
    }
   ],
   "source": [
    "df_ksi.TRUCK.isna().sum()"
   ]
  },
  {
   "cell_type": "code",
   "execution_count": 105,
   "metadata": {},
   "outputs": [
    {
     "data": {
      "text/plain": [
       "Yes    1042\n",
       "Name: TRUCK, dtype: int64"
      ]
     },
     "execution_count": 105,
     "metadata": {},
     "output_type": "execute_result"
    }
   ],
   "source": [
    "df_ksi.TRUCK.value_counts()"
   ]
  },
  {
   "cell_type": "code",
   "execution_count": 106,
   "metadata": {},
   "outputs": [],
   "source": [
    "df_ksi.TRUCK = df_ksi.TRUCK.map({'Yes': 1,\n",
    "                                np.nan: 0})"
   ]
  },
  {
   "cell_type": "code",
   "execution_count": 107,
   "metadata": {},
   "outputs": [
    {
     "data": {
      "text/html": [
       "<div>\n",
       "<style scoped>\n",
       "    .dataframe tbody tr th:only-of-type {\n",
       "        vertical-align: middle;\n",
       "    }\n",
       "\n",
       "    .dataframe tbody tr th {\n",
       "        vertical-align: top;\n",
       "    }\n",
       "\n",
       "    .dataframe thead th {\n",
       "        text-align: right;\n",
       "    }\n",
       "</style>\n",
       "<table border=\"1\" class=\"dataframe\">\n",
       "  <thead>\n",
       "    <tr style=\"text-align: right;\">\n",
       "      <th></th>\n",
       "      <th>MONTH</th>\n",
       "      <th>DAY</th>\n",
       "      <th>TIME</th>\n",
       "      <th>STREET1</th>\n",
       "      <th>STREET2</th>\n",
       "      <th>ROAD_CLASS</th>\n",
       "      <th>DISTRICT</th>\n",
       "      <th>LOCCOORD</th>\n",
       "      <th>TRAFFCTL</th>\n",
       "      <th>VISIBILITY</th>\n",
       "      <th>LIGHT</th>\n",
       "      <th>RDSFCOND</th>\n",
       "      <th>IMPACTYPE</th>\n",
       "      <th>INVAGE</th>\n",
       "      <th>INJURY</th>\n",
       "      <th>DRIVACT</th>\n",
       "      <th>DRIVCOND</th>\n",
       "      <th>PEDESTRIAN</th>\n",
       "      <th>CYCLIST</th>\n",
       "      <th>AUTOMOBILE</th>\n",
       "      <th>MOTORCYCLE</th>\n",
       "      <th>TRUCK</th>\n",
       "      <th>TRSN_CITY_VEH</th>\n",
       "      <th>EMERG_VEH</th>\n",
       "      <th>PASSENGER</th>\n",
       "      <th>SPEEDING</th>\n",
       "      <th>AG_DRIV</th>\n",
       "      <th>REDLIGHT</th>\n",
       "      <th>ALCOHOL</th>\n",
       "      <th>DISABILITY</th>\n",
       "      <th>POLICE_DIVISION</th>\n",
       "      <th>HOOD_ID</th>\n",
       "      <th>NEIGHBOURHOOD</th>\n",
       "      <th>ObjectId</th>\n",
       "      <th>ACCLASS</th>\n",
       "    </tr>\n",
       "  </thead>\n",
       "  <tbody>\n",
       "    <tr>\n",
       "      <th>0</th>\n",
       "      <td>3</td>\n",
       "      <td>11</td>\n",
       "      <td>852</td>\n",
       "      <td>BLOOR ST W</td>\n",
       "      <td>DUNDAS ST W</td>\n",
       "      <td>Major Arterial</td>\n",
       "      <td>Toronto and East York</td>\n",
       "      <td>Intersection</td>\n",
       "      <td>Traffic Signal</td>\n",
       "      <td>Clear</td>\n",
       "      <td>Daylight</td>\n",
       "      <td>Dry</td>\n",
       "      <td>Pedestrian Collisions</td>\n",
       "      <td>unknown</td>\n",
       "      <td>None</td>\n",
       "      <td>Failed to Yield Right of Way</td>\n",
       "      <td>Driver_Condition_Unkown</td>\n",
       "      <td>1</td>\n",
       "      <td>0</td>\n",
       "      <td>1</td>\n",
       "      <td>0</td>\n",
       "      <td>0</td>\n",
       "      <td>NaN</td>\n",
       "      <td>NaN</td>\n",
       "      <td>NaN</td>\n",
       "      <td>NaN</td>\n",
       "      <td>Yes</td>\n",
       "      <td>NaN</td>\n",
       "      <td>NaN</td>\n",
       "      <td>NaN</td>\n",
       "      <td>D11</td>\n",
       "      <td>88</td>\n",
       "      <td>High Park North (88)</td>\n",
       "      <td>1</td>\n",
       "      <td>Fatal</td>\n",
       "    </tr>\n",
       "    <tr>\n",
       "      <th>1</th>\n",
       "      <td>3</td>\n",
       "      <td>11</td>\n",
       "      <td>852</td>\n",
       "      <td>BLOOR ST W</td>\n",
       "      <td>DUNDAS ST W</td>\n",
       "      <td>Major Arterial</td>\n",
       "      <td>Toronto and East York</td>\n",
       "      <td>Intersection</td>\n",
       "      <td>Traffic Signal</td>\n",
       "      <td>Clear</td>\n",
       "      <td>Daylight</td>\n",
       "      <td>Dry</td>\n",
       "      <td>Pedestrian Collisions</td>\n",
       "      <td>65 to 69</td>\n",
       "      <td>Fatal</td>\n",
       "      <td>Other_Driver_Action</td>\n",
       "      <td>Driver_Condition_Unkown</td>\n",
       "      <td>1</td>\n",
       "      <td>0</td>\n",
       "      <td>1</td>\n",
       "      <td>0</td>\n",
       "      <td>0</td>\n",
       "      <td>NaN</td>\n",
       "      <td>NaN</td>\n",
       "      <td>NaN</td>\n",
       "      <td>NaN</td>\n",
       "      <td>Yes</td>\n",
       "      <td>NaN</td>\n",
       "      <td>NaN</td>\n",
       "      <td>NaN</td>\n",
       "      <td>D11</td>\n",
       "      <td>88</td>\n",
       "      <td>High Park North (88)</td>\n",
       "      <td>2</td>\n",
       "      <td>Fatal</td>\n",
       "    </tr>\n",
       "    <tr>\n",
       "      <th>2</th>\n",
       "      <td>3</td>\n",
       "      <td>11</td>\n",
       "      <td>915</td>\n",
       "      <td>MORNINGSIDE AVE</td>\n",
       "      <td>SHEPPARD AVE E</td>\n",
       "      <td>Major Arterial</td>\n",
       "      <td>Scarborough</td>\n",
       "      <td>Intersection</td>\n",
       "      <td>Traffic Signal</td>\n",
       "      <td>Clear</td>\n",
       "      <td>Daylight</td>\n",
       "      <td>Dry</td>\n",
       "      <td>Turning Movement</td>\n",
       "      <td>45 to 49</td>\n",
       "      <td>Fatal</td>\n",
       "      <td>Disobeyed Traffic Control</td>\n",
       "      <td>Driver_Condition_Unkown</td>\n",
       "      <td>0</td>\n",
       "      <td>0</td>\n",
       "      <td>1</td>\n",
       "      <td>1</td>\n",
       "      <td>0</td>\n",
       "      <td>NaN</td>\n",
       "      <td>NaN</td>\n",
       "      <td>NaN</td>\n",
       "      <td>NaN</td>\n",
       "      <td>Yes</td>\n",
       "      <td>Yes</td>\n",
       "      <td>NaN</td>\n",
       "      <td>NaN</td>\n",
       "      <td>D42</td>\n",
       "      <td>131</td>\n",
       "      <td>Rouge (131)</td>\n",
       "      <td>3</td>\n",
       "      <td>Fatal</td>\n",
       "    </tr>\n",
       "    <tr>\n",
       "      <th>3</th>\n",
       "      <td>3</td>\n",
       "      <td>11</td>\n",
       "      <td>915</td>\n",
       "      <td>MORNINGSIDE AVE</td>\n",
       "      <td>SHEPPARD AVE E</td>\n",
       "      <td>Major Arterial</td>\n",
       "      <td>Scarborough</td>\n",
       "      <td>Intersection</td>\n",
       "      <td>Traffic Signal</td>\n",
       "      <td>Clear</td>\n",
       "      <td>Daylight</td>\n",
       "      <td>Dry</td>\n",
       "      <td>Turning Movement</td>\n",
       "      <td>unknown</td>\n",
       "      <td>None</td>\n",
       "      <td>Driving Properly</td>\n",
       "      <td>Driver_Condition_Unkown</td>\n",
       "      <td>0</td>\n",
       "      <td>0</td>\n",
       "      <td>1</td>\n",
       "      <td>1</td>\n",
       "      <td>0</td>\n",
       "      <td>NaN</td>\n",
       "      <td>NaN</td>\n",
       "      <td>NaN</td>\n",
       "      <td>NaN</td>\n",
       "      <td>Yes</td>\n",
       "      <td>Yes</td>\n",
       "      <td>NaN</td>\n",
       "      <td>NaN</td>\n",
       "      <td>D42</td>\n",
       "      <td>131</td>\n",
       "      <td>Rouge (131)</td>\n",
       "      <td>4</td>\n",
       "      <td>Fatal</td>\n",
       "    </tr>\n",
       "    <tr>\n",
       "      <th>4</th>\n",
       "      <td>3</td>\n",
       "      <td>12</td>\n",
       "      <td>240</td>\n",
       "      <td>EGLINTON AVE E</td>\n",
       "      <td>COMMONWEALTH AVE</td>\n",
       "      <td>Major Arterial</td>\n",
       "      <td>Scarborough</td>\n",
       "      <td>Mid-Block</td>\n",
       "      <td>No Control</td>\n",
       "      <td>Clear</td>\n",
       "      <td>Dark</td>\n",
       "      <td>Dry</td>\n",
       "      <td>Pedestrian Collisions</td>\n",
       "      <td>25 to 29</td>\n",
       "      <td>None</td>\n",
       "      <td>Other_Driver_Action</td>\n",
       "      <td>Ability Impaired, Alcohol</td>\n",
       "      <td>1</td>\n",
       "      <td>0</td>\n",
       "      <td>1</td>\n",
       "      <td>0</td>\n",
       "      <td>0</td>\n",
       "      <td>NaN</td>\n",
       "      <td>NaN</td>\n",
       "      <td>NaN</td>\n",
       "      <td>NaN</td>\n",
       "      <td>NaN</td>\n",
       "      <td>NaN</td>\n",
       "      <td>Yes</td>\n",
       "      <td>NaN</td>\n",
       "      <td>D41</td>\n",
       "      <td>138</td>\n",
       "      <td>Eglinton East (138)</td>\n",
       "      <td>5</td>\n",
       "      <td>Fatal</td>\n",
       "    </tr>\n",
       "  </tbody>\n",
       "</table>\n",
       "</div>"
      ],
      "text/plain": [
       "   MONTH  DAY  TIME          STREET1           STREET2      ROAD_CLASS  \\\n",
       "0      3   11   852       BLOOR ST W       DUNDAS ST W  Major Arterial   \n",
       "1      3   11   852       BLOOR ST W       DUNDAS ST W  Major Arterial   \n",
       "2      3   11   915  MORNINGSIDE AVE    SHEPPARD AVE E  Major Arterial   \n",
       "3      3   11   915  MORNINGSIDE AVE    SHEPPARD AVE E  Major Arterial   \n",
       "4      3   12   240   EGLINTON AVE E  COMMONWEALTH AVE  Major Arterial   \n",
       "\n",
       "                DISTRICT      LOCCOORD        TRAFFCTL VISIBILITY     LIGHT  \\\n",
       "0  Toronto and East York  Intersection  Traffic Signal      Clear  Daylight   \n",
       "1  Toronto and East York  Intersection  Traffic Signal      Clear  Daylight   \n",
       "2            Scarborough  Intersection  Traffic Signal      Clear  Daylight   \n",
       "3            Scarborough  Intersection  Traffic Signal      Clear  Daylight   \n",
       "4            Scarborough     Mid-Block      No Control      Clear      Dark   \n",
       "\n",
       "  RDSFCOND              IMPACTYPE    INVAGE INJURY  \\\n",
       "0      Dry  Pedestrian Collisions   unknown   None   \n",
       "1      Dry  Pedestrian Collisions  65 to 69  Fatal   \n",
       "2      Dry       Turning Movement  45 to 49  Fatal   \n",
       "3      Dry       Turning Movement   unknown   None   \n",
       "4      Dry  Pedestrian Collisions  25 to 29   None   \n",
       "\n",
       "                        DRIVACT                   DRIVCOND  PEDESTRIAN  \\\n",
       "0  Failed to Yield Right of Way    Driver_Condition_Unkown           1   \n",
       "1           Other_Driver_Action    Driver_Condition_Unkown           1   \n",
       "2     Disobeyed Traffic Control    Driver_Condition_Unkown           0   \n",
       "3              Driving Properly    Driver_Condition_Unkown           0   \n",
       "4           Other_Driver_Action  Ability Impaired, Alcohol           1   \n",
       "\n",
       "   CYCLIST  AUTOMOBILE  MOTORCYCLE  TRUCK TRSN_CITY_VEH EMERG_VEH PASSENGER  \\\n",
       "0        0           1           0      0           NaN       NaN       NaN   \n",
       "1        0           1           0      0           NaN       NaN       NaN   \n",
       "2        0           1           1      0           NaN       NaN       NaN   \n",
       "3        0           1           1      0           NaN       NaN       NaN   \n",
       "4        0           1           0      0           NaN       NaN       NaN   \n",
       "\n",
       "  SPEEDING AG_DRIV REDLIGHT ALCOHOL DISABILITY POLICE_DIVISION  HOOD_ID  \\\n",
       "0      NaN     Yes      NaN     NaN        NaN             D11       88   \n",
       "1      NaN     Yes      NaN     NaN        NaN             D11       88   \n",
       "2      NaN     Yes      Yes     NaN        NaN             D42      131   \n",
       "3      NaN     Yes      Yes     NaN        NaN             D42      131   \n",
       "4      NaN     NaN      NaN     Yes        NaN             D41      138   \n",
       "\n",
       "          NEIGHBOURHOOD  ObjectId ACCLASS  \n",
       "0  High Park North (88)         1   Fatal  \n",
       "1  High Park North (88)         2   Fatal  \n",
       "2           Rouge (131)         3   Fatal  \n",
       "3           Rouge (131)         4   Fatal  \n",
       "4   Eglinton East (138)         5   Fatal  "
      ]
     },
     "execution_count": 107,
     "metadata": {},
     "output_type": "execute_result"
    }
   ],
   "source": [
    "df_ksi.head()"
   ]
  },
  {
   "cell_type": "code",
   "execution_count": 108,
   "metadata": {},
   "outputs": [
    {
     "data": {
      "text/plain": [
       "15849"
      ]
     },
     "execution_count": 108,
     "metadata": {},
     "output_type": "execute_result"
    }
   ],
   "source": [
    "df_ksi.TRSN_CITY_VEH.isna().sum()"
   ]
  },
  {
   "cell_type": "code",
   "execution_count": 109,
   "metadata": {},
   "outputs": [
    {
     "data": {
      "text/plain": [
       "Yes    1011\n",
       "Name: TRSN_CITY_VEH, dtype: int64"
      ]
     },
     "execution_count": 109,
     "metadata": {},
     "output_type": "execute_result"
    }
   ],
   "source": [
    "df_ksi.TRSN_CITY_VEH.value_counts()"
   ]
  },
  {
   "cell_type": "code",
   "execution_count": 110,
   "metadata": {},
   "outputs": [],
   "source": [
    "df_ksi.TRSN_CITY_VEH = df_ksi.TRSN_CITY_VEH.map({'Yes': 1,\n",
    "                                                np.nan: 0})"
   ]
  },
  {
   "cell_type": "code",
   "execution_count": 111,
   "metadata": {},
   "outputs": [
    {
     "data": {
      "text/plain": [
       "16829"
      ]
     },
     "execution_count": 111,
     "metadata": {},
     "output_type": "execute_result"
    }
   ],
   "source": [
    "df_ksi.EMERG_VEH.isna().sum()"
   ]
  },
  {
   "cell_type": "code",
   "execution_count": 112,
   "metadata": {},
   "outputs": [
    {
     "data": {
      "text/plain": [
       "Yes    31\n",
       "Name: EMERG_VEH, dtype: int64"
      ]
     },
     "execution_count": 112,
     "metadata": {},
     "output_type": "execute_result"
    }
   ],
   "source": [
    "df_ksi.EMERG_VEH.value_counts()"
   ]
  },
  {
   "cell_type": "code",
   "execution_count": 113,
   "metadata": {},
   "outputs": [],
   "source": [
    "df_ksi.EMERG_VEH = df_ksi.EMERG_VEH.map({'Yes': 1,\n",
    "                                        np.nan: 0})"
   ]
  },
  {
   "cell_type": "code",
   "execution_count": 114,
   "metadata": {},
   "outputs": [
    {
     "data": {
      "text/plain": [
       "Yes    6362\n",
       "Name: PASSENGER, dtype: int64"
      ]
     },
     "execution_count": 114,
     "metadata": {},
     "output_type": "execute_result"
    }
   ],
   "source": [
    "df_ksi.PASSENGER.value_counts()"
   ]
  },
  {
   "cell_type": "code",
   "execution_count": 115,
   "metadata": {},
   "outputs": [
    {
     "data": {
      "text/plain": [
       "10498"
      ]
     },
     "execution_count": 115,
     "metadata": {},
     "output_type": "execute_result"
    }
   ],
   "source": [
    "df_ksi.PASSENGER.isna().sum()"
   ]
  },
  {
   "cell_type": "code",
   "execution_count": 116,
   "metadata": {},
   "outputs": [],
   "source": [
    "df_ksi.PASSENGER = df_ksi.PASSENGER.map({'Yes': 1,\n",
    "                                        np.nan: 0})"
   ]
  },
  {
   "cell_type": "code",
   "execution_count": 117,
   "metadata": {},
   "outputs": [
    {
     "data": {
      "text/plain": [
       "0    10498\n",
       "1     6362\n",
       "Name: PASSENGER, dtype: int64"
      ]
     },
     "execution_count": 117,
     "metadata": {},
     "output_type": "execute_result"
    }
   ],
   "source": [
    "df_ksi.PASSENGER.value_counts()"
   ]
  },
  {
   "cell_type": "code",
   "execution_count": 118,
   "metadata": {},
   "outputs": [
    {
     "data": {
      "text/plain": [
       "Yes    2285\n",
       "Name: SPEEDING, dtype: int64"
      ]
     },
     "execution_count": 118,
     "metadata": {},
     "output_type": "execute_result"
    }
   ],
   "source": [
    "df_ksi.SPEEDING.value_counts()"
   ]
  },
  {
   "cell_type": "code",
   "execution_count": 119,
   "metadata": {},
   "outputs": [],
   "source": [
    "df_ksi.SPEEDING = df_ksi.SPEEDING.map({'Yes': 1,\n",
    "                                        np.nan: 0})"
   ]
  },
  {
   "cell_type": "code",
   "execution_count": 120,
   "metadata": {},
   "outputs": [
    {
     "data": {
      "text/plain": [
       "Yes    8703\n",
       "Name: AG_DRIV, dtype: int64"
      ]
     },
     "execution_count": 120,
     "metadata": {},
     "output_type": "execute_result"
    }
   ],
   "source": [
    "df_ksi.AG_DRIV.value_counts()"
   ]
  },
  {
   "cell_type": "code",
   "execution_count": 121,
   "metadata": {},
   "outputs": [],
   "source": [
    "df_ksi.AG_DRIV = df_ksi.AG_DRIV.map({'Yes': 1,\n",
    "                                    np.nan: 0})"
   ]
  },
  {
   "cell_type": "code",
   "execution_count": 122,
   "metadata": {},
   "outputs": [
    {
     "data": {
      "text/plain": [
       "1    8703\n",
       "0    8157\n",
       "Name: AG_DRIV, dtype: int64"
      ]
     },
     "execution_count": 122,
     "metadata": {},
     "output_type": "execute_result"
    }
   ],
   "source": [
    "df_ksi.AG_DRIV.value_counts()"
   ]
  },
  {
   "cell_type": "code",
   "execution_count": 123,
   "metadata": {},
   "outputs": [
    {
     "data": {
      "text/plain": [
       "Yes    1409\n",
       "Name: REDLIGHT, dtype: int64"
      ]
     },
     "execution_count": 123,
     "metadata": {},
     "output_type": "execute_result"
    }
   ],
   "source": [
    "df_ksi.REDLIGHT.value_counts()"
   ]
  },
  {
   "cell_type": "code",
   "execution_count": 124,
   "metadata": {},
   "outputs": [],
   "source": [
    "df_ksi.REDLIGHT = df_ksi.REDLIGHT.map({'Yes': 1,\n",
    "                                        np.nan: 0})"
   ]
  },
  {
   "cell_type": "code",
   "execution_count": 125,
   "metadata": {},
   "outputs": [
    {
     "data": {
      "text/plain": [
       "Yes    739\n",
       "Name: ALCOHOL, dtype: int64"
      ]
     },
     "execution_count": 125,
     "metadata": {},
     "output_type": "execute_result"
    }
   ],
   "source": [
    "df_ksi.ALCOHOL.value_counts()"
   ]
  },
  {
   "cell_type": "code",
   "execution_count": 126,
   "metadata": {},
   "outputs": [],
   "source": [
    "df_ksi.ALCOHOL = df_ksi.ALCOHOL.map({'Yes': 1,\n",
    "                                    np.nan: 0})"
   ]
  },
  {
   "cell_type": "code",
   "execution_count": 127,
   "metadata": {},
   "outputs": [
    {
     "data": {
      "text/plain": [
       "Yes    468\n",
       "Name: DISABILITY, dtype: int64"
      ]
     },
     "execution_count": 127,
     "metadata": {},
     "output_type": "execute_result"
    }
   ],
   "source": [
    "df_ksi.DISABILITY.value_counts()"
   ]
  },
  {
   "cell_type": "code",
   "execution_count": 128,
   "metadata": {},
   "outputs": [],
   "source": [
    "df_ksi.DISABILITY = df_ksi.DISABILITY.map({'Yes': 1,\n",
    "                                           np.nan: 0})"
   ]
  },
  {
   "cell_type": "code",
   "execution_count": 129,
   "metadata": {},
   "outputs": [
    {
     "data": {
      "text/plain": [
       "D42    1664\n",
       "D41    1297\n",
       "D22    1202\n",
       "D32    1193\n",
       "D23    1164\n",
       "D14    1163\n",
       "D43    1024\n",
       "D52     947\n",
       "D51     883\n",
       "D31     878\n",
       "D53     877\n",
       "D33     851\n",
       "D55     816\n",
       "D11     809\n",
       "D13     794\n",
       "D12     737\n",
       "D54     561\n",
       "Name: POLICE_DIVISION, dtype: int64"
      ]
     },
     "execution_count": 129,
     "metadata": {},
     "output_type": "execute_result"
    }
   ],
   "source": [
    "df_ksi.POLICE_DIVISION.value_counts()"
   ]
  },
  {
   "cell_type": "code",
   "execution_count": 130,
   "metadata": {},
   "outputs": [
    {
     "data": {
      "text/plain": [
       "77     646\n",
       "1      515\n",
       "76     394\n",
       "131    378\n",
       "137    369\n",
       "      ... \n",
       "67      25\n",
       "105     24\n",
       "140     21\n",
       "29      20\n",
       "114     13\n",
       "Name: HOOD_ID, Length: 140, dtype: int64"
      ]
     },
     "execution_count": 130,
     "metadata": {},
     "output_type": "execute_result"
    }
   ],
   "source": [
    "df_ksi.HOOD_ID.value_counts()"
   ]
  },
  {
   "cell_type": "code",
   "execution_count": 131,
   "metadata": {},
   "outputs": [
    {
     "data": {
      "text/plain": [
       "Waterfront Communities-The Island (77)    646\n",
       "West Humber-Clairville (1)                515\n",
       "Bay Street Corridor (76)                  394\n",
       "Rouge (131)                               378\n",
       "Woburn (137)                              369\n",
       "                                         ... \n",
       "Playter Estates-Danforth (67)              25\n",
       "Lawrence Park North (105)                  24\n",
       "Guildwood (140)                            21\n",
       "Maple Leaf (29)                            20\n",
       "Lambton Baby Point (114)                   13\n",
       "Name: NEIGHBOURHOOD, Length: 140, dtype: int64"
      ]
     },
     "execution_count": 131,
     "metadata": {},
     "output_type": "execute_result"
    }
   ],
   "source": [
    "df_ksi.NEIGHBOURHOOD.value_counts()"
   ]
  },
  {
   "cell_type": "code",
   "execution_count": 132,
   "metadata": {},
   "outputs": [],
   "source": [
    "df_ksi.drop(['HOOD_ID','ObjectId', 'POLICE_DIVISION', 'NEIGHBOURHOOD'], axis = 1, inplace = True)"
   ]
  },
  {
   "cell_type": "code",
   "execution_count": 133,
   "metadata": {},
   "outputs": [
    {
     "name": "stdout",
     "output_type": "stream",
     "text": [
      "<class 'pandas.core.frame.DataFrame'>\n",
      "RangeIndex: 16860 entries, 0 to 16859\n",
      "Data columns (total 31 columns):\n",
      " #   Column         Non-Null Count  Dtype \n",
      "---  ------         --------------  ----- \n",
      " 0   MONTH          16860 non-null  int64 \n",
      " 1   DAY            16860 non-null  int64 \n",
      " 2   TIME           16860 non-null  int64 \n",
      " 3   STREET1        16860 non-null  object\n",
      " 4   STREET2        15350 non-null  object\n",
      " 5   ROAD_CLASS     16860 non-null  object\n",
      " 6   DISTRICT       16860 non-null  object\n",
      " 7   LOCCOORD       16860 non-null  object\n",
      " 8   TRAFFCTL       16860 non-null  object\n",
      " 9   VISIBILITY     16860 non-null  object\n",
      " 10  LIGHT          16860 non-null  object\n",
      " 11  RDSFCOND       16860 non-null  object\n",
      " 12  IMPACTYPE      16860 non-null  object\n",
      " 13  INVAGE         16860 non-null  object\n",
      " 14  INJURY         16860 non-null  object\n",
      " 15  DRIVACT        16860 non-null  object\n",
      " 16  DRIVCOND       16860 non-null  object\n",
      " 17  PEDESTRIAN     16860 non-null  int64 \n",
      " 18  CYCLIST        16860 non-null  int64 \n",
      " 19  AUTOMOBILE     16860 non-null  int64 \n",
      " 20  MOTORCYCLE     16860 non-null  int64 \n",
      " 21  TRUCK          16860 non-null  int64 \n",
      " 22  TRSN_CITY_VEH  16860 non-null  int64 \n",
      " 23  EMERG_VEH      16860 non-null  int64 \n",
      " 24  PASSENGER      16860 non-null  int64 \n",
      " 25  SPEEDING       16860 non-null  int64 \n",
      " 26  AG_DRIV        16860 non-null  int64 \n",
      " 27  REDLIGHT       16860 non-null  int64 \n",
      " 28  ALCOHOL        16860 non-null  int64 \n",
      " 29  DISABILITY     16860 non-null  int64 \n",
      " 30  ACCLASS        16860 non-null  object\n",
      "dtypes: int64(16), object(15)\n",
      "memory usage: 4.0+ MB\n"
     ]
    }
   ],
   "source": [
    "df_ksi.info()"
   ]
  },
  {
   "cell_type": "code",
   "execution_count": 134,
   "metadata": {},
   "outputs": [],
   "source": [
    "df_pipeline = df_ksi.copy()"
   ]
  },
  {
   "cell_type": "code",
   "execution_count": 135,
   "metadata": {},
   "outputs": [
    {
     "data": {
      "text/html": [
       "<div>\n",
       "<style scoped>\n",
       "    .dataframe tbody tr th:only-of-type {\n",
       "        vertical-align: middle;\n",
       "    }\n",
       "\n",
       "    .dataframe tbody tr th {\n",
       "        vertical-align: top;\n",
       "    }\n",
       "\n",
       "    .dataframe thead th {\n",
       "        text-align: right;\n",
       "    }\n",
       "</style>\n",
       "<table border=\"1\" class=\"dataframe\">\n",
       "  <thead>\n",
       "    <tr style=\"text-align: right;\">\n",
       "      <th></th>\n",
       "      <th>MONTH</th>\n",
       "      <th>DAY</th>\n",
       "      <th>TIME</th>\n",
       "      <th>STREET1</th>\n",
       "      <th>STREET2</th>\n",
       "      <th>ROAD_CLASS</th>\n",
       "      <th>DISTRICT</th>\n",
       "      <th>LOCCOORD</th>\n",
       "      <th>TRAFFCTL</th>\n",
       "      <th>VISIBILITY</th>\n",
       "      <th>LIGHT</th>\n",
       "      <th>RDSFCOND</th>\n",
       "      <th>IMPACTYPE</th>\n",
       "      <th>INVAGE</th>\n",
       "      <th>INJURY</th>\n",
       "      <th>DRIVACT</th>\n",
       "      <th>DRIVCOND</th>\n",
       "      <th>PEDESTRIAN</th>\n",
       "      <th>CYCLIST</th>\n",
       "      <th>AUTOMOBILE</th>\n",
       "      <th>MOTORCYCLE</th>\n",
       "      <th>TRUCK</th>\n",
       "      <th>TRSN_CITY_VEH</th>\n",
       "      <th>EMERG_VEH</th>\n",
       "      <th>PASSENGER</th>\n",
       "      <th>SPEEDING</th>\n",
       "      <th>AG_DRIV</th>\n",
       "      <th>REDLIGHT</th>\n",
       "      <th>ALCOHOL</th>\n",
       "      <th>DISABILITY</th>\n",
       "      <th>ACCLASS</th>\n",
       "    </tr>\n",
       "  </thead>\n",
       "  <tbody>\n",
       "    <tr>\n",
       "      <th>0</th>\n",
       "      <td>3</td>\n",
       "      <td>11</td>\n",
       "      <td>852</td>\n",
       "      <td>BLOOR ST W</td>\n",
       "      <td>DUNDAS ST W</td>\n",
       "      <td>Major Arterial</td>\n",
       "      <td>Toronto and East York</td>\n",
       "      <td>Intersection</td>\n",
       "      <td>Traffic Signal</td>\n",
       "      <td>Clear</td>\n",
       "      <td>Daylight</td>\n",
       "      <td>Dry</td>\n",
       "      <td>Pedestrian Collisions</td>\n",
       "      <td>unknown</td>\n",
       "      <td>None</td>\n",
       "      <td>Failed to Yield Right of Way</td>\n",
       "      <td>Driver_Condition_Unkown</td>\n",
       "      <td>1</td>\n",
       "      <td>0</td>\n",
       "      <td>1</td>\n",
       "      <td>0</td>\n",
       "      <td>0</td>\n",
       "      <td>0</td>\n",
       "      <td>0</td>\n",
       "      <td>0</td>\n",
       "      <td>0</td>\n",
       "      <td>1</td>\n",
       "      <td>0</td>\n",
       "      <td>0</td>\n",
       "      <td>0</td>\n",
       "      <td>Fatal</td>\n",
       "    </tr>\n",
       "    <tr>\n",
       "      <th>1</th>\n",
       "      <td>3</td>\n",
       "      <td>11</td>\n",
       "      <td>852</td>\n",
       "      <td>BLOOR ST W</td>\n",
       "      <td>DUNDAS ST W</td>\n",
       "      <td>Major Arterial</td>\n",
       "      <td>Toronto and East York</td>\n",
       "      <td>Intersection</td>\n",
       "      <td>Traffic Signal</td>\n",
       "      <td>Clear</td>\n",
       "      <td>Daylight</td>\n",
       "      <td>Dry</td>\n",
       "      <td>Pedestrian Collisions</td>\n",
       "      <td>65 to 69</td>\n",
       "      <td>Fatal</td>\n",
       "      <td>Other_Driver_Action</td>\n",
       "      <td>Driver_Condition_Unkown</td>\n",
       "      <td>1</td>\n",
       "      <td>0</td>\n",
       "      <td>1</td>\n",
       "      <td>0</td>\n",
       "      <td>0</td>\n",
       "      <td>0</td>\n",
       "      <td>0</td>\n",
       "      <td>0</td>\n",
       "      <td>0</td>\n",
       "      <td>1</td>\n",
       "      <td>0</td>\n",
       "      <td>0</td>\n",
       "      <td>0</td>\n",
       "      <td>Fatal</td>\n",
       "    </tr>\n",
       "    <tr>\n",
       "      <th>2</th>\n",
       "      <td>3</td>\n",
       "      <td>11</td>\n",
       "      <td>915</td>\n",
       "      <td>MORNINGSIDE AVE</td>\n",
       "      <td>SHEPPARD AVE E</td>\n",
       "      <td>Major Arterial</td>\n",
       "      <td>Scarborough</td>\n",
       "      <td>Intersection</td>\n",
       "      <td>Traffic Signal</td>\n",
       "      <td>Clear</td>\n",
       "      <td>Daylight</td>\n",
       "      <td>Dry</td>\n",
       "      <td>Turning Movement</td>\n",
       "      <td>45 to 49</td>\n",
       "      <td>Fatal</td>\n",
       "      <td>Disobeyed Traffic Control</td>\n",
       "      <td>Driver_Condition_Unkown</td>\n",
       "      <td>0</td>\n",
       "      <td>0</td>\n",
       "      <td>1</td>\n",
       "      <td>1</td>\n",
       "      <td>0</td>\n",
       "      <td>0</td>\n",
       "      <td>0</td>\n",
       "      <td>0</td>\n",
       "      <td>0</td>\n",
       "      <td>1</td>\n",
       "      <td>1</td>\n",
       "      <td>0</td>\n",
       "      <td>0</td>\n",
       "      <td>Fatal</td>\n",
       "    </tr>\n",
       "    <tr>\n",
       "      <th>3</th>\n",
       "      <td>3</td>\n",
       "      <td>11</td>\n",
       "      <td>915</td>\n",
       "      <td>MORNINGSIDE AVE</td>\n",
       "      <td>SHEPPARD AVE E</td>\n",
       "      <td>Major Arterial</td>\n",
       "      <td>Scarborough</td>\n",
       "      <td>Intersection</td>\n",
       "      <td>Traffic Signal</td>\n",
       "      <td>Clear</td>\n",
       "      <td>Daylight</td>\n",
       "      <td>Dry</td>\n",
       "      <td>Turning Movement</td>\n",
       "      <td>unknown</td>\n",
       "      <td>None</td>\n",
       "      <td>Driving Properly</td>\n",
       "      <td>Driver_Condition_Unkown</td>\n",
       "      <td>0</td>\n",
       "      <td>0</td>\n",
       "      <td>1</td>\n",
       "      <td>1</td>\n",
       "      <td>0</td>\n",
       "      <td>0</td>\n",
       "      <td>0</td>\n",
       "      <td>0</td>\n",
       "      <td>0</td>\n",
       "      <td>1</td>\n",
       "      <td>1</td>\n",
       "      <td>0</td>\n",
       "      <td>0</td>\n",
       "      <td>Fatal</td>\n",
       "    </tr>\n",
       "    <tr>\n",
       "      <th>4</th>\n",
       "      <td>3</td>\n",
       "      <td>12</td>\n",
       "      <td>240</td>\n",
       "      <td>EGLINTON AVE E</td>\n",
       "      <td>COMMONWEALTH AVE</td>\n",
       "      <td>Major Arterial</td>\n",
       "      <td>Scarborough</td>\n",
       "      <td>Mid-Block</td>\n",
       "      <td>No Control</td>\n",
       "      <td>Clear</td>\n",
       "      <td>Dark</td>\n",
       "      <td>Dry</td>\n",
       "      <td>Pedestrian Collisions</td>\n",
       "      <td>25 to 29</td>\n",
       "      <td>None</td>\n",
       "      <td>Other_Driver_Action</td>\n",
       "      <td>Ability Impaired, Alcohol</td>\n",
       "      <td>1</td>\n",
       "      <td>0</td>\n",
       "      <td>1</td>\n",
       "      <td>0</td>\n",
       "      <td>0</td>\n",
       "      <td>0</td>\n",
       "      <td>0</td>\n",
       "      <td>0</td>\n",
       "      <td>0</td>\n",
       "      <td>0</td>\n",
       "      <td>0</td>\n",
       "      <td>1</td>\n",
       "      <td>0</td>\n",
       "      <td>Fatal</td>\n",
       "    </tr>\n",
       "  </tbody>\n",
       "</table>\n",
       "</div>"
      ],
      "text/plain": [
       "   MONTH  DAY  TIME          STREET1           STREET2      ROAD_CLASS  \\\n",
       "0      3   11   852       BLOOR ST W       DUNDAS ST W  Major Arterial   \n",
       "1      3   11   852       BLOOR ST W       DUNDAS ST W  Major Arterial   \n",
       "2      3   11   915  MORNINGSIDE AVE    SHEPPARD AVE E  Major Arterial   \n",
       "3      3   11   915  MORNINGSIDE AVE    SHEPPARD AVE E  Major Arterial   \n",
       "4      3   12   240   EGLINTON AVE E  COMMONWEALTH AVE  Major Arterial   \n",
       "\n",
       "                DISTRICT      LOCCOORD        TRAFFCTL VISIBILITY     LIGHT  \\\n",
       "0  Toronto and East York  Intersection  Traffic Signal      Clear  Daylight   \n",
       "1  Toronto and East York  Intersection  Traffic Signal      Clear  Daylight   \n",
       "2            Scarborough  Intersection  Traffic Signal      Clear  Daylight   \n",
       "3            Scarborough  Intersection  Traffic Signal      Clear  Daylight   \n",
       "4            Scarborough     Mid-Block      No Control      Clear      Dark   \n",
       "\n",
       "  RDSFCOND              IMPACTYPE    INVAGE INJURY  \\\n",
       "0      Dry  Pedestrian Collisions   unknown   None   \n",
       "1      Dry  Pedestrian Collisions  65 to 69  Fatal   \n",
       "2      Dry       Turning Movement  45 to 49  Fatal   \n",
       "3      Dry       Turning Movement   unknown   None   \n",
       "4      Dry  Pedestrian Collisions  25 to 29   None   \n",
       "\n",
       "                        DRIVACT                   DRIVCOND  PEDESTRIAN  \\\n",
       "0  Failed to Yield Right of Way    Driver_Condition_Unkown           1   \n",
       "1           Other_Driver_Action    Driver_Condition_Unkown           1   \n",
       "2     Disobeyed Traffic Control    Driver_Condition_Unkown           0   \n",
       "3              Driving Properly    Driver_Condition_Unkown           0   \n",
       "4           Other_Driver_Action  Ability Impaired, Alcohol           1   \n",
       "\n",
       "   CYCLIST  AUTOMOBILE  MOTORCYCLE  TRUCK  TRSN_CITY_VEH  EMERG_VEH  \\\n",
       "0        0           1           0      0              0          0   \n",
       "1        0           1           0      0              0          0   \n",
       "2        0           1           1      0              0          0   \n",
       "3        0           1           1      0              0          0   \n",
       "4        0           1           0      0              0          0   \n",
       "\n",
       "   PASSENGER  SPEEDING  AG_DRIV  REDLIGHT  ALCOHOL  DISABILITY ACCLASS  \n",
       "0          0         0        1         0        0           0   Fatal  \n",
       "1          0         0        1         0        0           0   Fatal  \n",
       "2          0         0        1         1        0           0   Fatal  \n",
       "3          0         0        1         1        0           0   Fatal  \n",
       "4          0         0        0         0        1           0   Fatal  "
      ]
     },
     "execution_count": 135,
     "metadata": {},
     "output_type": "execute_result"
    }
   ],
   "source": [
    "df_pipeline.head()"
   ]
  },
  {
   "cell_type": "code",
   "execution_count": 136,
   "metadata": {},
   "outputs": [],
   "source": [
    "df_categorical = df_pipeline.select_dtypes(include = ['object']).drop('ACCLASS', axis = 1)"
   ]
  },
  {
   "cell_type": "code",
   "execution_count": 138,
   "metadata": {},
   "outputs": [],
   "source": [
    "df_numeric = df_pipeline[['MONTH', 'DAY', 'TIME', 'LATITUDE', 'LONGITUDE']]"
   ]
  },
  {
   "cell_type": "code",
   "execution_count": 139,
   "metadata": {},
   "outputs": [
    {
     "data": {
      "text/html": [
       "<div>\n",
       "<style scoped>\n",
       "    .dataframe tbody tr th:only-of-type {\n",
       "        vertical-align: middle;\n",
       "    }\n",
       "\n",
       "    .dataframe tbody tr th {\n",
       "        vertical-align: top;\n",
       "    }\n",
       "\n",
       "    .dataframe thead th {\n",
       "        text-align: right;\n",
       "    }\n",
       "</style>\n",
       "<table border=\"1\" class=\"dataframe\">\n",
       "  <thead>\n",
       "    <tr style=\"text-align: right;\">\n",
       "      <th></th>\n",
       "      <th>STREET1</th>\n",
       "      <th>STREET2</th>\n",
       "      <th>ROAD_CLASS</th>\n",
       "      <th>DISTRICT</th>\n",
       "      <th>LOCCOORD</th>\n",
       "      <th>TRAFFCTL</th>\n",
       "      <th>VISIBILITY</th>\n",
       "      <th>LIGHT</th>\n",
       "      <th>RDSFCOND</th>\n",
       "      <th>IMPACTYPE</th>\n",
       "      <th>INVAGE</th>\n",
       "      <th>INJURY</th>\n",
       "      <th>DRIVACT</th>\n",
       "      <th>DRIVCOND</th>\n",
       "    </tr>\n",
       "  </thead>\n",
       "  <tbody>\n",
       "    <tr>\n",
       "      <th>0</th>\n",
       "      <td>BLOOR ST W</td>\n",
       "      <td>DUNDAS ST W</td>\n",
       "      <td>Major Arterial</td>\n",
       "      <td>Toronto and East York</td>\n",
       "      <td>Intersection</td>\n",
       "      <td>Traffic Signal</td>\n",
       "      <td>Clear</td>\n",
       "      <td>Daylight</td>\n",
       "      <td>Dry</td>\n",
       "      <td>Pedestrian Collisions</td>\n",
       "      <td>unknown</td>\n",
       "      <td>None</td>\n",
       "      <td>Failed to Yield Right of Way</td>\n",
       "      <td>Driver_Condition_Unkown</td>\n",
       "    </tr>\n",
       "    <tr>\n",
       "      <th>1</th>\n",
       "      <td>BLOOR ST W</td>\n",
       "      <td>DUNDAS ST W</td>\n",
       "      <td>Major Arterial</td>\n",
       "      <td>Toronto and East York</td>\n",
       "      <td>Intersection</td>\n",
       "      <td>Traffic Signal</td>\n",
       "      <td>Clear</td>\n",
       "      <td>Daylight</td>\n",
       "      <td>Dry</td>\n",
       "      <td>Pedestrian Collisions</td>\n",
       "      <td>65 to 69</td>\n",
       "      <td>Fatal</td>\n",
       "      <td>Other_Driver_Action</td>\n",
       "      <td>Driver_Condition_Unkown</td>\n",
       "    </tr>\n",
       "    <tr>\n",
       "      <th>2</th>\n",
       "      <td>MORNINGSIDE AVE</td>\n",
       "      <td>SHEPPARD AVE E</td>\n",
       "      <td>Major Arterial</td>\n",
       "      <td>Scarborough</td>\n",
       "      <td>Intersection</td>\n",
       "      <td>Traffic Signal</td>\n",
       "      <td>Clear</td>\n",
       "      <td>Daylight</td>\n",
       "      <td>Dry</td>\n",
       "      <td>Turning Movement</td>\n",
       "      <td>45 to 49</td>\n",
       "      <td>Fatal</td>\n",
       "      <td>Disobeyed Traffic Control</td>\n",
       "      <td>Driver_Condition_Unkown</td>\n",
       "    </tr>\n",
       "    <tr>\n",
       "      <th>3</th>\n",
       "      <td>MORNINGSIDE AVE</td>\n",
       "      <td>SHEPPARD AVE E</td>\n",
       "      <td>Major Arterial</td>\n",
       "      <td>Scarborough</td>\n",
       "      <td>Intersection</td>\n",
       "      <td>Traffic Signal</td>\n",
       "      <td>Clear</td>\n",
       "      <td>Daylight</td>\n",
       "      <td>Dry</td>\n",
       "      <td>Turning Movement</td>\n",
       "      <td>unknown</td>\n",
       "      <td>None</td>\n",
       "      <td>Driving Properly</td>\n",
       "      <td>Driver_Condition_Unkown</td>\n",
       "    </tr>\n",
       "    <tr>\n",
       "      <th>4</th>\n",
       "      <td>EGLINTON AVE E</td>\n",
       "      <td>COMMONWEALTH AVE</td>\n",
       "      <td>Major Arterial</td>\n",
       "      <td>Scarborough</td>\n",
       "      <td>Mid-Block</td>\n",
       "      <td>No Control</td>\n",
       "      <td>Clear</td>\n",
       "      <td>Dark</td>\n",
       "      <td>Dry</td>\n",
       "      <td>Pedestrian Collisions</td>\n",
       "      <td>25 to 29</td>\n",
       "      <td>None</td>\n",
       "      <td>Other_Driver_Action</td>\n",
       "      <td>Ability Impaired, Alcohol</td>\n",
       "    </tr>\n",
       "  </tbody>\n",
       "</table>\n",
       "</div>"
      ],
      "text/plain": [
       "           STREET1           STREET2      ROAD_CLASS               DISTRICT  \\\n",
       "0       BLOOR ST W       DUNDAS ST W  Major Arterial  Toronto and East York   \n",
       "1       BLOOR ST W       DUNDAS ST W  Major Arterial  Toronto and East York   \n",
       "2  MORNINGSIDE AVE    SHEPPARD AVE E  Major Arterial            Scarborough   \n",
       "3  MORNINGSIDE AVE    SHEPPARD AVE E  Major Arterial            Scarborough   \n",
       "4   EGLINTON AVE E  COMMONWEALTH AVE  Major Arterial            Scarborough   \n",
       "\n",
       "       LOCCOORD        TRAFFCTL VISIBILITY     LIGHT RDSFCOND  \\\n",
       "0  Intersection  Traffic Signal      Clear  Daylight      Dry   \n",
       "1  Intersection  Traffic Signal      Clear  Daylight      Dry   \n",
       "2  Intersection  Traffic Signal      Clear  Daylight      Dry   \n",
       "3  Intersection  Traffic Signal      Clear  Daylight      Dry   \n",
       "4     Mid-Block      No Control      Clear      Dark      Dry   \n",
       "\n",
       "               IMPACTYPE    INVAGE INJURY                       DRIVACT  \\\n",
       "0  Pedestrian Collisions   unknown   None  Failed to Yield Right of Way   \n",
       "1  Pedestrian Collisions  65 to 69  Fatal           Other_Driver_Action   \n",
       "2       Turning Movement  45 to 49  Fatal     Disobeyed Traffic Control   \n",
       "3       Turning Movement   unknown   None              Driving Properly   \n",
       "4  Pedestrian Collisions  25 to 29   None           Other_Driver_Action   \n",
       "\n",
       "                    DRIVCOND  \n",
       "0    Driver_Condition_Unkown  \n",
       "1    Driver_Condition_Unkown  \n",
       "2    Driver_Condition_Unkown  \n",
       "3    Driver_Condition_Unkown  \n",
       "4  Ability Impaired, Alcohol  "
      ]
     },
     "execution_count": 139,
     "metadata": {},
     "output_type": "execute_result"
    }
   ],
   "source": [
    "df_categorical.head()"
   ]
  },
  {
   "cell_type": "code",
   "execution_count": 140,
   "metadata": {},
   "outputs": [
    {
     "data": {
      "text/html": [
       "<div>\n",
       "<style scoped>\n",
       "    .dataframe tbody tr th:only-of-type {\n",
       "        vertical-align: middle;\n",
       "    }\n",
       "\n",
       "    .dataframe tbody tr th {\n",
       "        vertical-align: top;\n",
       "    }\n",
       "\n",
       "    .dataframe thead th {\n",
       "        text-align: right;\n",
       "    }\n",
       "</style>\n",
       "<table border=\"1\" class=\"dataframe\">\n",
       "  <thead>\n",
       "    <tr style=\"text-align: right;\">\n",
       "      <th></th>\n",
       "      <th>MONTH</th>\n",
       "      <th>DAY</th>\n",
       "      <th>TIME</th>\n",
       "    </tr>\n",
       "  </thead>\n",
       "  <tbody>\n",
       "    <tr>\n",
       "      <th>0</th>\n",
       "      <td>3</td>\n",
       "      <td>11</td>\n",
       "      <td>852</td>\n",
       "    </tr>\n",
       "    <tr>\n",
       "      <th>1</th>\n",
       "      <td>3</td>\n",
       "      <td>11</td>\n",
       "      <td>852</td>\n",
       "    </tr>\n",
       "    <tr>\n",
       "      <th>2</th>\n",
       "      <td>3</td>\n",
       "      <td>11</td>\n",
       "      <td>915</td>\n",
       "    </tr>\n",
       "    <tr>\n",
       "      <th>3</th>\n",
       "      <td>3</td>\n",
       "      <td>11</td>\n",
       "      <td>915</td>\n",
       "    </tr>\n",
       "    <tr>\n",
       "      <th>4</th>\n",
       "      <td>3</td>\n",
       "      <td>12</td>\n",
       "      <td>240</td>\n",
       "    </tr>\n",
       "  </tbody>\n",
       "</table>\n",
       "</div>"
      ],
      "text/plain": [
       "   MONTH  DAY  TIME\n",
       "0      3   11   852\n",
       "1      3   11   852\n",
       "2      3   11   915\n",
       "3      3   11   915\n",
       "4      3   12   240"
      ]
     },
     "execution_count": 140,
     "metadata": {},
     "output_type": "execute_result"
    }
   ],
   "source": [
    "df_numeric.head()"
   ]
  },
  {
   "cell_type": "code",
   "execution_count": 141,
   "metadata": {},
   "outputs": [],
   "source": [
    "df_pipeline.ACCLASS.replace(to_replace = ['Property Damage Only', 'Non-Fatal Injury'], value = 'Non-Fatal', inplace = True)"
   ]
  },
  {
   "cell_type": "code",
   "execution_count": 142,
   "metadata": {},
   "outputs": [
    {
     "data": {
      "text/plain": [
       "Non-Fatal    14563\n",
       "Fatal         2297\n",
       "Name: ACCLASS, dtype: int64"
      ]
     },
     "execution_count": 142,
     "metadata": {},
     "output_type": "execute_result"
    }
   ],
   "source": [
    "df_pipeline.ACCLASS.value_counts()"
   ]
  },
  {
   "cell_type": "code",
   "execution_count": 143,
   "metadata": {},
   "outputs": [],
   "source": [
    "classification = pd.get_dummies(df_pipeline['ACCLASS'])\n",
    "df_pipeline = pd.concat([df_pipeline, classification], axis = 1)\n",
    "df_pipeline.drop('ACCLASS', axis = 1, inplace = True)"
   ]
  },
  {
   "cell_type": "code",
   "execution_count": 144,
   "metadata": {},
   "outputs": [],
   "source": [
    "df_pipeline.drop('Non-Fatal', axis = 1, inplace = True)"
   ]
  },
  {
   "cell_type": "code",
   "execution_count": 145,
   "metadata": {},
   "outputs": [
    {
     "data": {
      "image/png": "[encoded data removed]",
      "text/plain": [
       "<Figure size 2016x1080 with 2 Axes>"
      ]
     },
     "metadata": {},
     "output_type": "display_data"
    }
   ],
   "source": [
    "sns.heatmap(df_ksi.corr(method = 'pearson'), annot = True, cmap = 'viridis')\n",
    "plt.xticks(rotation = 45)\n",
    "plt.show()"
   ]
  },
  {
   "cell_type": "code",
   "execution_count": 146,
   "metadata": {},
   "outputs": [],
   "source": [
    "encoder = OneHotEncoder(drop = 'first', handle_unknown='ignore')"
   ]
  },
  {
   "cell_type": "code",
   "execution_count": 147,
   "metadata": {},
   "outputs": [
    {
     "data": {
      "text/plain": [
       "OneHotEncoder(drop='first', handle_unknown='ignore')"
      ]
     },
     "execution_count": 147,
     "metadata": {},
     "output_type": "execute_result"
    }
   ],
   "source": [
    "encoder.fit(df_categorical)"
   ]
  },
  {
   "cell_type": "code",
   "execution_count": 148,
   "metadata": {},
   "outputs": [
    {
     "data": {
      "text/plain": [
       "[array(['1 MASSEY Sq', '1 MURRAY GLEN DR', '1 YORK GATE BLVD', ...,\n",
       "        'YORKLAND Blvd', 'YORKSHIRE RD', 'YORKVILLE AVE'], dtype=object),\n",
       " array(['1 AUTUMN AVE', '1208 AVENUE RD', '27 S 427 C S RAMP', ...,\n",
       "        'bastion  st', 'hambly AVE', nan], dtype=object),\n",
       " array(['Collector', 'Expressway', 'Expressway Ramp', 'Laneway', 'Local',\n",
       "        'Major Arterial', 'Major Arterial Ramp', 'Minor Arterial', 'Other',\n",
       "        'Pending', 'Road Type Unavailable'], dtype=object),\n",
       " array(['District_Not_Informed', 'Etobicoke York', 'North York',\n",
       "        'Scarborough', 'Toronto and East York'], dtype=object),\n",
       " array(['At/Near Private Drive', 'Entrance Ramp Westbound',\n",
       "        'Exit Ramp Southbound', 'Exit Ramp Westbound', 'Intersection',\n",
       "        'Loccoord_Not_Informed', 'Mid-Block', 'Mid-Block (Abnormal)',\n",
       "        'Overpass or Bridge', 'Park, Private Property, Public Lane'],\n",
       "       dtype=object),\n",
       " array(['No Control', 'Pedestrian Crossover', 'Police Control',\n",
       "        'School Guard', 'Stop Sign', 'Streetcar (Stop for)',\n",
       "        'Traffctl_Not_Informed', 'Traffic Controller', 'Traffic Gate',\n",
       "        'Traffic Signal', 'Yield Sign'], dtype=object),\n",
       " array(['Clear', 'Drifting Snow', 'Fog, Mist, Smoke, Dust',\n",
       "        'Freezing Rain', 'Other_Visibility', 'Rain', 'Snow', 'Strong wind'],\n",
       "       dtype=object),\n",
       " array(['Dark', 'Dark, artificial', 'Dawn', 'Dawn, artificial', 'Daylight',\n",
       "        'Daylight, artificial', 'Dusk', 'Dusk, artificial', 'Other'],\n",
       "       dtype=object),\n",
       " array(['Dry', 'Ice', 'Loose Sand or Gravel', 'Loose Snow',\n",
       "        'Other_Road_Conditions', 'Packed Snow', 'Slush', 'Spilled liquid',\n",
       "        'Wet'], dtype=object),\n",
       " array(['Angle', 'Approaching', 'Cyclist Collisions', 'Other_Impact_Type',\n",
       "        'Pedestrian Collisions', 'Rear End', 'SMV Other',\n",
       "        'SMV Unattended Vehicle', 'Sideswipe', 'Turning Movement'],\n",
       "       dtype=object),\n",
       " array(['0 to 4', '10 to 14', '15 to 19', '20 to 24', '25 to 29',\n",
       "        '30 to 34', '35 to 39', '40 to 44', '45 to 49', '5 to 9',\n",
       "        '50 to 54', '55 to 59', '60 to 64', '65 to 69', '70 to 74',\n",
       "        '75 to 79', '80 to 84', '85 to 89', '90 to 94', 'Over 95',\n",
       "        'unknown'], dtype=object),\n",
       " array(['Fatal', 'Injury_Not_Disclosed', 'Major', 'Minimal', 'Minor',\n",
       "        'None'], dtype=object),\n",
       " array(['Disobeyed Traffic Control', 'Driving Properly',\n",
       "        'Exceeding Speed Limit', 'Failed to Yield Right of Way',\n",
       "        'Following too Close', 'Improper Lane Change', 'Improper Passing',\n",
       "        'Improper Turn', 'Lost control', 'Other_Driver_Action',\n",
       "        'Speed too Fast For Condition', 'Speed too Slow',\n",
       "        'Wrong Way on One Way Road'], dtype=object),\n",
       " array(['Ability Impaired, Alcohol', 'Ability Impaired, Alcohol Over .08',\n",
       "        'Ability Impaired, Drugs', 'Driver_Condition_Unkown', 'Fatigue',\n",
       "        'Had Been Drinking', 'Inattentive',\n",
       "        'Medical or Physical Disability', 'Normal'], dtype=object)]"
      ]
     },
     "execution_count": 148,
     "metadata": {},
     "output_type": "execute_result"
    }
   ],
   "source": [
    "encoder.categories_"
   ]
  },
  {
   "cell_type": "code",
   "execution_count": null,
   "metadata": {},
   "outputs": [],
   "source": []
  },
  {
   "cell_type": "code",
   "execution_count": null,
   "metadata": {},
   "outputs": [],
   "source": []
  },
  {
   "cell_type": "code",
   "execution_count": null,
   "metadata": {},
   "outputs": [],
   "source": []
  },
  {
   "cell_type": "code",
   "execution_count": null,
   "metadata": {},
   "outputs": [],
   "source": []
  },
  {
   "cell_type": "code",
   "execution_count": null,
   "metadata": {},
   "outputs": [],
   "source": []
  },
  {
   "cell_type": "code",
   "execution_count": null,
   "metadata": {},
   "outputs": [],
   "source": []
  },
  {
   "cell_type": "code",
   "execution_count": 149,
   "metadata": {},
   "outputs": [],
   "source": [
    "num_attributes = df_numeric.columns\n",
    "cat_attributes = df_categorical.columns\n",
    "transformer = ColumnTransformer([\n",
    "    ('encoder', OneHotEncoder(drop = 'first', handle_unknown='ignore'), cat_attributes),\n",
    "    ('standardizer', StandardScaler(), num_attributes)],\n",
    "    remainder='passthrough',\n",
    "    verbose_feature_names_out=False)"
   ]
  },
  {
   "cell_type": "code",
   "execution_count": 150,
   "metadata": {},
   "outputs": [
    {
     "data": {
      "text/plain": [
       "[('encoder',\n",
       "  OneHotEncoder(drop='first', handle_unknown='ignore'),\n",
       "  Index(['STREET1', 'STREET2', 'ROAD_CLASS', 'DISTRICT', 'LOCCOORD', 'TRAFFCTL',\n",
       "         'VISIBILITY', 'LIGHT', 'RDSFCOND', 'IMPACTYPE', 'INVAGE', 'INJURY',\n",
       "         'DRIVACT', 'DRIVCOND'],\n",
       "        dtype='object')),\n",
       " ('standardizer',\n",
       "  StandardScaler(),\n",
       "  Index(['MONTH', 'DAY', 'TIME'], dtype='object'))]"
      ]
     },
     "execution_count": 150,
     "metadata": {},
     "output_type": "execute_result"
    }
   ],
   "source": [
    "transformer.transformers"
   ]
  },
  {
   "cell_type": "code",
   "execution_count": 151,
   "metadata": {},
   "outputs": [],
   "source": [
    "features = df_pipeline.drop('Fatal', axis = 1)\n",
    "target = df_pipeline.Fatal"
   ]
  },
  {
   "cell_type": "code",
   "execution_count": 152,
   "metadata": {},
   "outputs": [],
   "source": [
    "X_train, X_test, y_train, y_test = train_test_split(features, target, test_size=0.20, random_state = 98)"
   ]
  },
  {
   "cell_type": "code",
   "execution_count": 153,
   "metadata": {},
   "outputs": [],
   "source": [
    "svc = SVC()"
   ]
  },
  {
   "cell_type": "code",
   "execution_count": 154,
   "metadata": {},
   "outputs": [],
   "source": [
    "pipeline_svc = Pipeline([\n",
    "    ('col_transformer', transformer),\n",
    "    ('svc', svc)\n",
    "    ])"
   ]
  },
  {
   "cell_type": "code",
   "execution_count": 155,
   "metadata": {},
   "outputs": [
    {
     "data": {
      "text/plain": [
       "Pipeline(steps=[('col_transformer',\n",
       "                 ColumnTransformer(remainder='passthrough',\n",
       "                                   transformers=[('encoder',\n",
       "                                                  OneHotEncoder(drop='first',\n",
       "                                                                handle_unknown='ignore'),\n",
       "                                                  Index(['STREET1', 'STREET2', 'ROAD_CLASS', 'DISTRICT', 'LOCCOORD', 'TRAFFCTL',\n",
       "       'VISIBILITY', 'LIGHT', 'RDSFCOND', 'IMPACTYPE', 'INVAGE', 'INJURY',\n",
       "       'DRIVACT', 'DRIVCOND'],\n",
       "      dtype='object')),\n",
       "                                                 ('standardizer',\n",
       "                                                  StandardScaler(),\n",
       "                                                  Index(['MONTH', 'DAY', 'TIME'], dtype='object'))],\n",
       "                                   verbose_feature_names_out=False)),\n",
       "                ('svc', SVC())])"
      ]
     },
     "execution_count": 155,
     "metadata": {},
     "output_type": "execute_result"
    }
   ],
   "source": [
    "pipeline_svc.fit(X_train, y_train)"
   ]
  },
  {
   "cell_type": "code",
   "execution_count": 156,
   "metadata": {},
   "outputs": [
    {
     "name": "stderr",
     "output_type": "stream",
     "text": [
      "[Parallel(n_jobs=-1)]: Using backend LokyBackend with 12 concurrent workers.\n",
      "/Users/brunomorgado/Dropbox/Bruno_Morgado/Education/Mac_Education/Centennial_College/Fourth_Semester/Supervised_learning/Team_Project/Traffic_collision_Group_2_Section_1_COMP247Project/conda-env/lib/python3.9/site-packages/sklearn/preprocessing/_encoders.py:170: UserWarning: Found unknown categories in columns [0, 1] during transform. These unknown categories will be encoded as all zeros\n",
      "  warnings.warn(\n",
      "/Users/brunomorgado/Dropbox/Bruno_Morgado/Education/Mac_Education/Centennial_College/Fourth_Semester/Supervised_learning/Team_Project/Traffic_collision_Group_2_Section_1_COMP247Project/conda-env/lib/python3.9/site-packages/sklearn/preprocessing/_encoders.py:170: UserWarning: Found unknown categories in columns [0, 1, 8] during transform. These unknown categories will be encoded as all zeros\n",
      "  warnings.warn(\n",
      "/Users/brunomorgado/Dropbox/Bruno_Morgado/Education/Mac_Education/Centennial_College/Fourth_Semester/Supervised_learning/Team_Project/Traffic_collision_Group_2_Section_1_COMP247Project/conda-env/lib/python3.9/site-packages/sklearn/preprocessing/_encoders.py:170: UserWarning: Found unknown categories in columns [0, 1] during transform. These unknown categories will be encoded as all zeros\n",
      "  warnings.warn(\n",
      "/Users/brunomorgado/Dropbox/Bruno_Morgado/Education/Mac_Education/Centennial_College/Fourth_Semester/Supervised_learning/Team_Project/Traffic_collision_Group_2_Section_1_COMP247Project/conda-env/lib/python3.9/site-packages/sklearn/preprocessing/_encoders.py:170: UserWarning: Found unknown categories in columns [0, 1] during transform. These unknown categories will be encoded as all zeros\n",
      "  warnings.warn(\n",
      "/Users/brunomorgado/Dropbox/Bruno_Morgado/Education/Mac_Education/Centennial_College/Fourth_Semester/Supervised_learning/Team_Project/Traffic_collision_Group_2_Section_1_COMP247Project/conda-env/lib/python3.9/site-packages/sklearn/preprocessing/_encoders.py:170: UserWarning: Found unknown categories in columns [0, 1, 2] during transform. These unknown categories will be encoded as all zeros\n",
      "  warnings.warn(\n",
      "/Users/brunomorgado/Dropbox/Bruno_Morgado/Education/Mac_Education/Centennial_College/Fourth_Semester/Supervised_learning/Team_Project/Traffic_collision_Group_2_Section_1_COMP247Project/conda-env/lib/python3.9/site-packages/sklearn/preprocessing/_encoders.py:170: UserWarning: Found unknown categories in columns [0, 1] during transform. These unknown categories will be encoded as all zeros\n",
      "  warnings.warn(\n",
      "/Users/brunomorgado/Dropbox/Bruno_Morgado/Education/Mac_Education/Centennial_College/Fourth_Semester/Supervised_learning/Team_Project/Traffic_collision_Group_2_Section_1_COMP247Project/conda-env/lib/python3.9/site-packages/sklearn/preprocessing/_encoders.py:170: UserWarning: Found unknown categories in columns [0, 1, 5] during transform. These unknown categories will be encoded as all zeros\n",
      "  warnings.warn(\n",
      "/Users/brunomorgado/Dropbox/Bruno_Morgado/Education/Mac_Education/Centennial_College/Fourth_Semester/Supervised_learning/Team_Project/Traffic_collision_Group_2_Section_1_COMP247Project/conda-env/lib/python3.9/site-packages/sklearn/preprocessing/_encoders.py:170: UserWarning: Found unknown categories in columns [0, 1] during transform. These unknown categories will be encoded as all zeros\n",
      "  warnings.warn(\n",
      "/Users/brunomorgado/Dropbox/Bruno_Morgado/Education/Mac_Education/Centennial_College/Fourth_Semester/Supervised_learning/Team_Project/Traffic_collision_Group_2_Section_1_COMP247Project/conda-env/lib/python3.9/site-packages/sklearn/preprocessing/_encoders.py:170: UserWarning: Found unknown categories in columns [0, 1] during transform. These unknown categories will be encoded as all zeros\n",
      "  warnings.warn(\n",
      "/Users/brunomorgado/Dropbox/Bruno_Morgado/Education/Mac_Education/Centennial_College/Fourth_Semester/Supervised_learning/Team_Project/Traffic_collision_Group_2_Section_1_COMP247Project/conda-env/lib/python3.9/site-packages/sklearn/preprocessing/_encoders.py:170: UserWarning: Found unknown categories in columns [0, 1, 5] during transform. These unknown categories will be encoded as all zeros\n",
      "  warnings.warn(\n",
      "[Parallel(n_jobs=-1)]: Done  10 out of  10 | elapsed:   24.1s finished\n"
     ]
    }
   ],
   "source": [
    "scores = cross_val_score(pipeline_svc,\n",
    "                        X_train,\n",
    "                        y_train,\n",
    "                        cv=10,\n",
    "                        n_jobs=-1,\n",
    "                        verbose=1)"
   ]
  },
  {
   "cell_type": "code",
   "execution_count": 157,
   "metadata": {},
   "outputs": [
    {
     "name": "stdout",
     "output_type": "stream",
     "text": [
      "[0.91697554 0.91475167 0.91771683 0.91845812 0.91845812 0.92957746\n",
      " 0.92883617 0.92068199 0.92062315 0.91691395]\n"
     ]
    }
   ],
   "source": [
    "print(scores)"
   ]
  },
  {
   "cell_type": "code",
   "execution_count": 158,
   "metadata": {},
   "outputs": [
    {
     "name": "stdout",
     "output_type": "stream",
     "text": [
      "0.9202992985242393\n"
     ]
    }
   ],
   "source": [
    "print(scores.mean())"
   ]
  },
  {
   "cell_type": "code",
   "execution_count": 159,
   "metadata": {},
   "outputs": [],
   "source": [
    "# df_pipeline[(df_pipeline.values.ravel() == \"School Guard\").reshape(df_pipeline.shape).any(1)]"
   ]
  },
  {
   "cell_type": "code",
   "execution_count": 160,
   "metadata": {},
   "outputs": [],
   "source": [
    "# df_pipeline.TRAFFCTL.value_counts()"
   ]
  },
  {
   "cell_type": "code",
   "execution_count": 161,
   "metadata": {},
   "outputs": [
    {
     "name": "stderr",
     "output_type": "stream",
     "text": [
      "/Users/brunomorgado/Dropbox/Bruno_Morgado/Education/Mac_Education/Centennial_College/Fourth_Semester/Supervised_learning/Team_Project/Traffic_collision_Group_2_Section_1_COMP247Project/conda-env/lib/python3.9/site-packages/sklearn/preprocessing/_encoders.py:170: UserWarning: Found unknown categories in columns [0, 1] during transform. These unknown categories will be encoded as all zeros\n",
      "  warnings.warn(\n"
     ]
    }
   ],
   "source": [
    "y_pred_svc = pipeline_svc.predict(X_test)"
   ]
  },
  {
   "cell_type": "code",
   "execution_count": 162,
   "metadata": {},
   "outputs": [],
   "source": [
    "cm = confusion_matrix(y_test, y_pred_svc)"
   ]
  },
  {
   "cell_type": "code",
   "execution_count": 163,
   "metadata": {},
   "outputs": [
    {
     "data": {
      "image/png": "[encoded data removed]",
      "text/plain": [
       "<Figure size 720x432 with 2 Axes>"
      ]
     },
     "metadata": {},
     "output_type": "display_data"
    }
   ],
   "source": [
    "plot_confusion_matrix(cm, [0,2], 'SVC - rbf', 'PuBu')"
   ]
  },
  {
   "cell_type": "code",
   "execution_count": 164,
   "metadata": {},
   "outputs": [
    {
     "name": "stdout",
     "output_type": "stream",
     "text": [
      "              precision    recall  f1-score   support\n",
      "\n",
      "           0       0.92      1.00      0.96      2910\n",
      "           1       1.00      0.46      0.63       462\n",
      "\n",
      "    accuracy                           0.93      3372\n",
      "   macro avg       0.96      0.73      0.79      3372\n",
      "weighted avg       0.93      0.93      0.91      3372\n",
      "\n"
     ]
    }
   ],
   "source": [
    "print(classification_report(y_test, y_pred_svc))"
   ]
  },
  {
   "cell_type": "markdown",
   "metadata": {},
   "source": [
    "precision means what percentage of the positive predictions made were actually correct.\n",
    "\n",
    "`TP/(TP+FP)`\n",
    "\n",
    "Recall in simple terms means, what percentage of actual positive predictions were correctly classified by the classifier.\n",
    "\n",
    "`TP/(TP+FN)`\n",
    "\n",
    "F1 score can also be described as the harmonic mean or weighted average of precision and recall.\n",
    "\n",
    "`2x((precision x recall) / (precision + recall))`"
   ]
  },
  {
   "cell_type": "code",
   "execution_count": 165,
   "metadata": {},
   "outputs": [],
   "source": [
    "# Dictionary with parameters names (str) as keys and lists of parameter settings to try as values.\n",
    "param_grid = {'svc__kernel': ['linear', 'rbf', 'poly'],\n",
    "              'svc__C': [0.01, 0.1, 1, 10, 100],\n",
    "              'svc__gamma': [0.01, 0.03, 0.1, 0.3, 1.0, 3.0],\n",
    "              'svc__degree': [2, 3]}"
   ]
  },
  {
   "cell_type": "code",
   "execution_count": 166,
   "metadata": {},
   "outputs": [],
   "source": [
    "# Create a GridSearchCV object\n",
    "grid_search_svc = GridSearchCV(estimator = pipeline_svc,\n",
    "                                 param_grid = param_grid,\n",
    "                                 scoring = 'accuracy',\n",
    "                                 refit = True,\n",
    "                                 n_jobs = -1,\n",
    "                                 verbose = 3)"
   ]
  },
  {
   "cell_type": "code",
   "execution_count": 167,
   "metadata": {},
   "outputs": [],
   "source": [
    "# Get the start time\n",
    "# start = time.perf_counter()"
   ]
  },
  {
   "cell_type": "code",
   "execution_count": 168,
   "metadata": {},
   "outputs": [],
   "source": [
    "# grid_search_svc.fit(X_train, y_train)"
   ]
  },
  {
   "cell_type": "code",
   "execution_count": 169,
   "metadata": {},
   "outputs": [],
   "source": [
    "# The the final time of processing\n",
    "# end = time.perf_counter()"
   ]
  },
  {
   "cell_type": "code",
   "execution_count": 170,
   "metadata": {},
   "outputs": [],
   "source": [
    "# Total time to run GridSearchCV\n",
    "# print(f'GridSearchCV processing time: {round((end-start), 2)} s')"
   ]
  },
  {
   "cell_type": "code",
   "execution_count": 171,
   "metadata": {},
   "outputs": [],
   "source": [
    "logmodel = LogisticRegression(max_iter=1000)\n",
    "pipeline_log = Pipeline([\n",
    "    ('col_transformer', transformer),\n",
    "    ('log', logmodel)\n",
    "    ])"
   ]
  },
  {
   "cell_type": "code",
   "execution_count": 172,
   "metadata": {},
   "outputs": [
    {
     "data": {
      "text/plain": [
       "Pipeline(steps=[('col_transformer',\n",
       "                 ColumnTransformer(remainder='passthrough',\n",
       "                                   transformers=[('encoder',\n",
       "                                                  OneHotEncoder(drop='first',\n",
       "                                                                handle_unknown='ignore'),\n",
       "                                                  Index(['STREET1', 'STREET2', 'ROAD_CLASS', 'DISTRICT', 'LOCCOORD', 'TRAFFCTL',\n",
       "       'VISIBILITY', 'LIGHT', 'RDSFCOND', 'IMPACTYPE', 'INVAGE', 'INJURY',\n",
       "       'DRIVACT', 'DRIVCOND'],\n",
       "      dtype='object')),\n",
       "                                                 ('standardizer',\n",
       "                                                  StandardScaler(),\n",
       "                                                  Index(['MONTH', 'DAY', 'TIME'], dtype='object'))],\n",
       "                                   verbose_feature_names_out=False)),\n",
       "                ('log', LogisticRegression(max_iter=1000))])"
      ]
     },
     "execution_count": 172,
     "metadata": {},
     "output_type": "execute_result"
    }
   ],
   "source": [
    "pipeline_log.fit(X_train, y_train)"
   ]
  },
  {
   "cell_type": "code",
   "execution_count": 173,
   "metadata": {},
   "outputs": [
    {
     "name": "stderr",
     "output_type": "stream",
     "text": [
      "[Parallel(n_jobs=-1)]: Using backend LokyBackend with 12 concurrent workers.\n",
      "/Users/brunomorgado/Dropbox/Bruno_Morgado/Education/Mac_Education/Centennial_College/Fourth_Semester/Supervised_learning/Team_Project/Traffic_collision_Group_2_Section_1_COMP247Project/conda-env/lib/python3.9/site-packages/sklearn/preprocessing/_encoders.py:170: UserWarning: Found unknown categories in columns [0, 1] during transform. These unknown categories will be encoded as all zeros\n",
      "  warnings.warn(\n",
      "/Users/brunomorgado/Dropbox/Bruno_Morgado/Education/Mac_Education/Centennial_College/Fourth_Semester/Supervised_learning/Team_Project/Traffic_collision_Group_2_Section_1_COMP247Project/conda-env/lib/python3.9/site-packages/sklearn/preprocessing/_encoders.py:170: UserWarning: Found unknown categories in columns [0, 1] during transform. These unknown categories will be encoded as all zeros\n",
      "  warnings.warn(\n",
      "/Users/brunomorgado/Dropbox/Bruno_Morgado/Education/Mac_Education/Centennial_College/Fourth_Semester/Supervised_learning/Team_Project/Traffic_collision_Group_2_Section_1_COMP247Project/conda-env/lib/python3.9/site-packages/sklearn/preprocessing/_encoders.py:170: UserWarning: Found unknown categories in columns [0, 1, 2] during transform. These unknown categories will be encoded as all zeros\n",
      "  warnings.warn(\n",
      "/Users/brunomorgado/Dropbox/Bruno_Morgado/Education/Mac_Education/Centennial_College/Fourth_Semester/Supervised_learning/Team_Project/Traffic_collision_Group_2_Section_1_COMP247Project/conda-env/lib/python3.9/site-packages/sklearn/preprocessing/_encoders.py:170: UserWarning: Found unknown categories in columns [0, 1, 8] during transform. These unknown categories will be encoded as all zeros\n",
      "  warnings.warn(\n",
      "/Users/brunomorgado/Dropbox/Bruno_Morgado/Education/Mac_Education/Centennial_College/Fourth_Semester/Supervised_learning/Team_Project/Traffic_collision_Group_2_Section_1_COMP247Project/conda-env/lib/python3.9/site-packages/sklearn/preprocessing/_encoders.py:170: UserWarning: Found unknown categories in columns [0, 1] during transform. These unknown categories will be encoded as all zeros\n",
      "  warnings.warn(\n",
      "/Users/brunomorgado/Dropbox/Bruno_Morgado/Education/Mac_Education/Centennial_College/Fourth_Semester/Supervised_learning/Team_Project/Traffic_collision_Group_2_Section_1_COMP247Project/conda-env/lib/python3.9/site-packages/sklearn/preprocessing/_encoders.py:170: UserWarning: Found unknown categories in columns [0, 1, 5] during transform. These unknown categories will be encoded as all zeros\n",
      "  warnings.warn(\n",
      "/Users/brunomorgado/Dropbox/Bruno_Morgado/Education/Mac_Education/Centennial_College/Fourth_Semester/Supervised_learning/Team_Project/Traffic_collision_Group_2_Section_1_COMP247Project/conda-env/lib/python3.9/site-packages/sklearn/preprocessing/_encoders.py:170: UserWarning: Found unknown categories in columns [0, 1] during transform. These unknown categories will be encoded as all zeros\n",
      "  warnings.warn(\n",
      "/Users/brunomorgado/Dropbox/Bruno_Morgado/Education/Mac_Education/Centennial_College/Fourth_Semester/Supervised_learning/Team_Project/Traffic_collision_Group_2_Section_1_COMP247Project/conda-env/lib/python3.9/site-packages/sklearn/preprocessing/_encoders.py:170: UserWarning: Found unknown categories in columns [0, 1, 5] during transform. These unknown categories will be encoded as all zeros\n",
      "  warnings.warn(\n",
      "/Users/brunomorgado/Dropbox/Bruno_Morgado/Education/Mac_Education/Centennial_College/Fourth_Semester/Supervised_learning/Team_Project/Traffic_collision_Group_2_Section_1_COMP247Project/conda-env/lib/python3.9/site-packages/sklearn/preprocessing/_encoders.py:170: UserWarning: Found unknown categories in columns [0, 1] during transform. These unknown categories will be encoded as all zeros\n",
      "  warnings.warn(\n",
      "/Users/brunomorgado/Dropbox/Bruno_Morgado/Education/Mac_Education/Centennial_College/Fourth_Semester/Supervised_learning/Team_Project/Traffic_collision_Group_2_Section_1_COMP247Project/conda-env/lib/python3.9/site-packages/sklearn/preprocessing/_encoders.py:170: UserWarning: Found unknown categories in columns [0, 1] during transform. These unknown categories will be encoded as all zeros\n",
      "  warnings.warn(\n",
      "[Parallel(n_jobs=-1)]: Done  10 out of  10 | elapsed:    1.9s finished\n"
     ]
    }
   ],
   "source": [
    "scores_log = cross_val_score(pipeline_log,\n",
    "                        X_train,\n",
    "                        y_train,\n",
    "                        cv=10,\n",
    "                        n_jobs=-1,\n",
    "                        verbose=1)"
   ]
  },
  {
   "cell_type": "code",
   "execution_count": 174,
   "metadata": {},
   "outputs": [
    {
     "name": "stdout",
     "output_type": "stream",
     "text": [
      "[0.92512973 0.91475167 0.92364715 0.92364715 0.92587102 0.93476649\n",
      " 0.93624907 0.92512973 0.92062315 0.92284866]\n"
     ]
    }
   ],
   "source": [
    "print(scores_log)"
   ]
  },
  {
   "cell_type": "code",
   "execution_count": 175,
   "metadata": {},
   "outputs": [
    {
     "name": "stdout",
     "output_type": "stream",
     "text": [
      "0.9252663804158703\n"
     ]
    }
   ],
   "source": [
    "print(scores_log.mean())"
   ]
  },
  {
   "cell_type": "code",
   "execution_count": 176,
   "metadata": {},
   "outputs": [],
   "source": [
    "rf = RandomForestClassifier()\n",
    "pipeline_rf = Pipeline([\n",
    "    ('col_transformer', transformer),\n",
    "    ('rf', rf)\n",
    "    ])"
   ]
  },
  {
   "cell_type": "code",
   "execution_count": 177,
   "metadata": {},
   "outputs": [
    {
     "data": {
      "text/plain": [
       "Pipeline(steps=[('col_transformer',\n",
       "                 ColumnTransformer(remainder='passthrough',\n",
       "                                   transformers=[('encoder',\n",
       "                                                  OneHotEncoder(drop='first',\n",
       "                                                                handle_unknown='ignore'),\n",
       "                                                  Index(['STREET1', 'STREET2', 'ROAD_CLASS', 'DISTRICT', 'LOCCOORD', 'TRAFFCTL',\n",
       "       'VISIBILITY', 'LIGHT', 'RDSFCOND', 'IMPACTYPE', 'INVAGE', 'INJURY',\n",
       "       'DRIVACT', 'DRIVCOND'],\n",
       "      dtype='object')),\n",
       "                                                 ('standardizer',\n",
       "                                                  StandardScaler(),\n",
       "                                                  Index(['MONTH', 'DAY', 'TIME'], dtype='object'))],\n",
       "                                   verbose_feature_names_out=False)),\n",
       "                ('rf', RandomForestClassifier())])"
      ]
     },
     "execution_count": 177,
     "metadata": {},
     "output_type": "execute_result"
    }
   ],
   "source": [
    "pipeline_rf.fit(X_train, y_train)"
   ]
  },
  {
   "cell_type": "code",
   "execution_count": 178,
   "metadata": {},
   "outputs": [
    {
     "name": "stderr",
     "output_type": "stream",
     "text": [
      "[Parallel(n_jobs=-1)]: Using backend LokyBackend with 12 concurrent workers.\n",
      "/Users/brunomorgado/Dropbox/Bruno_Morgado/Education/Mac_Education/Centennial_College/Fourth_Semester/Supervised_learning/Team_Project/Traffic_collision_Group_2_Section_1_COMP247Project/conda-env/lib/python3.9/site-packages/sklearn/preprocessing/_encoders.py:170: UserWarning: Found unknown categories in columns [0, 1, 8] during transform. These unknown categories will be encoded as all zeros\n",
      "  warnings.warn(\n",
      "/Users/brunomorgado/Dropbox/Bruno_Morgado/Education/Mac_Education/Centennial_College/Fourth_Semester/Supervised_learning/Team_Project/Traffic_collision_Group_2_Section_1_COMP247Project/conda-env/lib/python3.9/site-packages/sklearn/preprocessing/_encoders.py:170: UserWarning: Found unknown categories in columns [0, 1] during transform. These unknown categories will be encoded as all zeros\n",
      "  warnings.warn(\n",
      "/Users/brunomorgado/Dropbox/Bruno_Morgado/Education/Mac_Education/Centennial_College/Fourth_Semester/Supervised_learning/Team_Project/Traffic_collision_Group_2_Section_1_COMP247Project/conda-env/lib/python3.9/site-packages/sklearn/preprocessing/_encoders.py:170: UserWarning: Found unknown categories in columns [0, 1] during transform. These unknown categories will be encoded as all zeros\n",
      "  warnings.warn(\n",
      "/Users/brunomorgado/Dropbox/Bruno_Morgado/Education/Mac_Education/Centennial_College/Fourth_Semester/Supervised_learning/Team_Project/Traffic_collision_Group_2_Section_1_COMP247Project/conda-env/lib/python3.9/site-packages/sklearn/preprocessing/_encoders.py:170: UserWarning: Found unknown categories in columns [0, 1, 2] during transform. These unknown categories will be encoded as all zeros\n",
      "  warnings.warn(\n",
      "/Users/brunomorgado/Dropbox/Bruno_Morgado/Education/Mac_Education/Centennial_College/Fourth_Semester/Supervised_learning/Team_Project/Traffic_collision_Group_2_Section_1_COMP247Project/conda-env/lib/python3.9/site-packages/sklearn/preprocessing/_encoders.py:170: UserWarning: Found unknown categories in columns [0, 1] during transform. These unknown categories will be encoded as all zeros\n",
      "  warnings.warn(\n",
      "/Users/brunomorgado/Dropbox/Bruno_Morgado/Education/Mac_Education/Centennial_College/Fourth_Semester/Supervised_learning/Team_Project/Traffic_collision_Group_2_Section_1_COMP247Project/conda-env/lib/python3.9/site-packages/sklearn/preprocessing/_encoders.py:170: UserWarning: Found unknown categories in columns [0, 1] during transform. These unknown categories will be encoded as all zeros\n",
      "  warnings.warn(\n",
      "/Users/brunomorgado/Dropbox/Bruno_Morgado/Education/Mac_Education/Centennial_College/Fourth_Semester/Supervised_learning/Team_Project/Traffic_collision_Group_2_Section_1_COMP247Project/conda-env/lib/python3.9/site-packages/sklearn/preprocessing/_encoders.py:170: UserWarning: Found unknown categories in columns [0, 1] during transform. These unknown categories will be encoded as all zeros\n",
      "  warnings.warn(\n",
      "/Users/brunomorgado/Dropbox/Bruno_Morgado/Education/Mac_Education/Centennial_College/Fourth_Semester/Supervised_learning/Team_Project/Traffic_collision_Group_2_Section_1_COMP247Project/conda-env/lib/python3.9/site-packages/sklearn/preprocessing/_encoders.py:170: UserWarning: Found unknown categories in columns [0, 1, 5] during transform. These unknown categories will be encoded as all zeros\n",
      "  warnings.warn(\n",
      "/Users/brunomorgado/Dropbox/Bruno_Morgado/Education/Mac_Education/Centennial_College/Fourth_Semester/Supervised_learning/Team_Project/Traffic_collision_Group_2_Section_1_COMP247Project/conda-env/lib/python3.9/site-packages/sklearn/preprocessing/_encoders.py:170: UserWarning: Found unknown categories in columns [0, 1, 5] during transform. These unknown categories will be encoded as all zeros\n",
      "  warnings.warn(\n",
      "/Users/brunomorgado/Dropbox/Bruno_Morgado/Education/Mac_Education/Centennial_College/Fourth_Semester/Supervised_learning/Team_Project/Traffic_collision_Group_2_Section_1_COMP247Project/conda-env/lib/python3.9/site-packages/sklearn/preprocessing/_encoders.py:170: UserWarning: Found unknown categories in columns [0, 1] during transform. These unknown categories will be encoded as all zeros\n",
      "  warnings.warn(\n",
      "[Parallel(n_jobs=-1)]: Done  10 out of  10 | elapsed:    9.1s finished\n"
     ]
    }
   ],
   "source": [
    "scores_rf = cross_val_score(pipeline_rf,\n",
    "                        X_train,\n",
    "                        y_train,\n",
    "                        cv=10,\n",
    "                        n_jobs=-1,\n",
    "                        verbose=1)"
   ]
  },
  {
   "cell_type": "code",
   "execution_count": 179,
   "metadata": {},
   "outputs": [
    {
     "name": "stdout",
     "output_type": "stream",
     "text": [
      "[0.92142328 0.92068199 0.92068199 0.92068199 0.92364715 0.91475167\n",
      " 0.9273536  0.92290586 0.91913947 0.92136499]\n"
     ]
    }
   ],
   "source": [
    "print(scores_rf)"
   ]
  },
  {
   "cell_type": "code",
   "execution_count": 180,
   "metadata": {},
   "outputs": [
    {
     "name": "stdout",
     "output_type": "stream",
     "text": [
      "0.9212631952891801\n"
     ]
    }
   ],
   "source": [
    "print(scores_rf.mean())"
   ]
  },
  {
   "cell_type": "code",
   "execution_count": null,
   "metadata": {},
   "outputs": [],
   "source": []
  },
  {
   "cell_type": "code",
   "execution_count": null,
   "metadata": {},
   "outputs": [],
   "source": []
  },
  {
   "cell_type": "code",
   "execution_count": null,
   "metadata": {},
   "outputs": [],
   "source": []
  }
 ],
 "metadata": {
  "kernelspec": {
   "display_name": "Python 3 (ipykernel)",
   "language": "python",
   "name": "python3"
  },
  "language_info": {
   "codemirror_mode": {
    "name": "ipython",
    "version": 3
   },
   "file_extension": ".py",
   "mimetype": "text/x-python",
   "name": "python",
   "nbconvert_exporter": "python",
   "pygments_lexer": "ipython3",
   "version": "3.9.12"
  },
  "vscode": {
   "interpreter": {
    "hash": "cd78fef2128015050713e82ca51c6520b11aee7c9ee8df750520bbbc7384cbaa"
   }
  }
 },
 "nbformat": 4,
 "nbformat_minor": 2
}
